{
  "nbformat": 4,
  "nbformat_minor": 0,
  "metadata": {
    "colab": {
      "provenance": [],
      "authorship_tag": "ABX9TyNaNF34T+KPVUxv5IKr3Ym5",
      "include_colab_link": true
    },
    "kernelspec": {
      "name": "python3",
      "display_name": "Python 3"
    },
    "language_info": {
      "name": "python"
    }
  },
  "cells": [
    {
      "cell_type": "markdown",
      "metadata": {
        "id": "view-in-github",
        "colab_type": "text"
      },
      "source": [
        "<a href=\"https://colab.research.google.com/github/aheiX/Teaching/blob/main/Aggregierte_Produktionsplanung.ipynb\" target=\"_parent\"><img src=\"https://colab.research.google.com/assets/colab-badge.svg\" alt=\"Open In Colab\"/></a>"
      ]
    },
    {
      "cell_type": "markdown",
      "source": [
        "# Aggregierte Produktionsplanung"
      ],
      "metadata": {
        "id": "VybFMEsK1CS4"
      }
    },
    {
      "cell_type": "markdown",
      "source": [
        "## Aufgabenstellung"
      ],
      "metadata": {
        "id": "3hCgIh3cE1ve"
      }
    },
    {
      "cell_type": "markdown",
      "source": [
        "**Entscheidungsvariablen**<br>\n",
        "$\n",
        "\\begin{array}{ll}\n",
        "H_t & \\text{Anzahl der Einstellungen am Anfang von Periode } t\\\\\n",
        "F_t & \\text{Anzahl der Entlassungen am Anfang von Periode } t\\\\\n",
        "W_t & \\text{Mitarbeiterkapazität: Anzahl der Mitarbeiter am Anfang von Periode } t\\\\\n",
        "I_t & \\text{Lagerbestand am Anfang von Periode } t\\\\\n",
        "X_t & \\text{Produktionsmenge in Periode } t\\\\\n",
        "S_t & \\text{Fremdvergabe in Stück in Periode } t\\\\\n",
        "O_t & \\text{Überstunden Mitarbeiter-Äquivalente in Periode } t\\\\\n",
        "\\end{array}\n",
        "$\n",
        "<br><br>\n",
        "**Parameter**<br>\n",
        "$\n",
        "\\begin{array}{ll}\n",
        "c_H & \\text{Einstellungskostensatz 10.000 Euro pro Mitarbeiter}\\\\\n",
        "c_F & \\text{Entlassungskostensatz 5.000 Euro pro Mitarbeiter}\\\\\n",
        "c_W & \\text{Personalkostensatz 6.000 Euro pro Mitarbeiter}\\\\\n",
        "c_I & \\text{Lagerhaltungskostensatz 40 Euro pro Stück}\\\\\n",
        "c_S & \\text{Fremdvergabekostensatz 790 Euro pro Stück}\\\\\n",
        "c_O & \\text{Überstundenkosten 10000 Euro pro Mitarbeiter}\\\\\n",
        "Y_t & \\text{Nachfrage in Periode } t \\text{ (2.500, 2.000, 3.160, 1.500)}\\\\\n",
        "PK & \\text{Produktionskoeffizient 0,069444 Mitarbeiter pro Stück}\\\\\n",
        "T & \\text{Planungshorizont 4 Monate}\\\\\n",
        "\\end{array}\n",
        "$"
      ],
      "metadata": {
        "id": "0AuoxcHh1EqW"
      }
    },
    {
      "cell_type": "markdown",
      "source": [
        "## Mathematisches Modell"
      ],
      "metadata": {
        "id": "YXRu7s98NgHe"
      }
    },
    {
      "cell_type": "markdown",
      "source": [
        "**Zielfunktion**<br><br>\n",
        "$\\min \\sum\\limits_{t=1}^{T} c_H \\cdot H_t + c_F \\cdot F_t + c_w \\cdot W_t + c_I \\cdot I_{t+1}$\n",
        "<br><br>\n",
        "\n",
        "**Nebenbedingungen**<br>\n",
        "$\n",
        "\\begin{array}{rclll}\n",
        "W_t & = & W_{t-1} + H_t -F_t &, \\forall t=1,...,T& \\hspace{1.5cm}(1)\\\\\n",
        "X_t & \\le & \\frac{1}{PK} \\cdot W_{t} &, \\forall t=1,...,T& \\hspace{1.5cm}(2)\\\\\n",
        "I_{t+1} & = & I_t + X_t - Y_t &, \\forall t=1,...,T& \\hspace{1.5cm}(3)\\\\\n",
        "I_1 & = & 0 & & \\hspace{1.5cm}(4)\\\\\n",
        "W_0 & = & 0 & & \\hspace{1.5cm}(5)\\\\\n",
        "H_t, F_t, W_t, X_t, I_{t+1} & \\ge & 0 &, \\forall t=1,...,T& \\hspace{1.5cm}(6)\\\\\n",
        "\\end{array}\n",
        "$\n",
        "\n"
      ],
      "metadata": {
        "id": "FIYbRFEvN930"
      }
    },
    {
      "cell_type": "markdown",
      "source": [
        "## Implementierung"
      ],
      "metadata": {
        "id": "wWtwxGEcEzi8"
      }
    },
    {
      "cell_type": "markdown",
      "source": [
        "### Daten aufbereiten"
      ],
      "metadata": {
        "id": "Jfrkw4X0X3gu"
      }
    },
    {
      "cell_type": "code",
      "source": [
        "# Daten als Dictionary\n",
        "c_H = 10000\n",
        "c_F = 5000\n",
        "c_W = 6000\n",
        "c_I = 40\n",
        "c_S = 790   # Fremdvergabe\n",
        "c_O = 10000 # Überstunden\n",
        "Y = {1: 2500, 2: 2000, 3: 3160, 4: 1500}\n",
        "PK = 0.069444\n",
        "T = [1, 2, 3, 4]"
      ],
      "metadata": {
        "id": "KyDPkjigNvS9"
      },
      "execution_count": 7,
      "outputs": []
    },
    {
      "cell_type": "markdown",
      "source": [
        "### PuLP Model"
      ],
      "metadata": {
        "id": "HcV8q746X8V-"
      }
    },
    {
      "cell_type": "code",
      "source": [
        "# PuLP installieren\n",
        "!pip install pulp\n",
        "import pulp"
      ],
      "metadata": {
        "colab": {
          "base_uri": "https://localhost:8080/"
        },
        "id": "fckEVla1yg8U",
        "outputId": "ec83bb95-6694-45b4-d527-8a2d0c222d62"
      },
      "execution_count": 3,
      "outputs": [
        {
          "output_type": "stream",
          "name": "stdout",
          "text": [
            "Looking in indexes: https://pypi.org/simple, https://us-python.pkg.dev/colab-wheels/public/simple/\n",
            "Collecting pulp\n",
            "  Downloading PuLP-2.7.0-py3-none-any.whl (14.3 MB)\n",
            "\u001b[2K     \u001b[90m━━━━━━━━━━━━━━━━━━━━━━━━━━━━━━━━━━━━━━━━\u001b[0m \u001b[32m14.3/14.3 MB\u001b[0m \u001b[31m77.5 MB/s\u001b[0m eta \u001b[36m0:00:00\u001b[0m\n",
            "\u001b[?25hInstalling collected packages: pulp\n",
            "Successfully installed pulp-2.7.0\n"
          ]
        }
      ]
    },
    {
      "cell_type": "code",
      "execution_count": 14,
      "metadata": {
        "colab": {
          "base_uri": "https://localhost:8080/"
        },
        "id": "SedRzsCc02Q2",
        "outputId": "b5f137b0-c205-4d61-f0d0-0b716dd346d3"
      },
      "outputs": [
        {
          "output_type": "stream",
          "name": "stdout",
          "text": [
            "Status: Optimal\n",
            "Zielwert: 4981917.44012\n",
            "F_4 = 73.14768\n",
            "H_1 = 77.31368\n",
            "I_2 = 53.333333\n",
            "I_3 = 606.66667\n",
            "W_0 = 100.0\n",
            "W_1 = 177.31368\n",
            "W_2 = 177.31368\n",
            "W_3 = 177.31368\n",
            "W_4 = 104.166\n",
            "X_1 = 2553.3333\n",
            "X_2 = 2553.3333\n",
            "X_3 = 2553.3333\n",
            "X_4 = 1500.0\n"
          ]
        }
      ],
      "source": [
        "# Modell erstellen\n",
        "model = pulp.LpProblem(name='Aggregierte_Produktionsplanung', sense=pulp.constants.LpMinimize)\n",
        "\n",
        "# Entscheidungsvariablen\n",
        "H = pulp.LpVariable.dicts(name='H', indices=T, lowBound=0)\n",
        "F = pulp.LpVariable.dicts(name='F', indices=T, lowBound=0)\n",
        "W = pulp.LpVariable.dicts(name='W', indices=[0] + T, lowBound=0)\n",
        "I = pulp.LpVariable.dicts(name='I', indices=T + [5], lowBound=0)\n",
        "X = pulp.LpVariable.dicts(name='X', indices=T, lowBound=0)\n",
        "S = pulp.LpVariable.dicts(name='S', indices=T, lowBound=0) # Fremdvergabe\n",
        "O = pulp.LpVariable.dicts(name='O', indices=T, lowBound=0) # Überstunden\n",
        "\n",
        "# Zielfunktion\n",
        "model += sum(c_H * H[t] + c_F * F[t] + c_W * W[t] + c_I * I[t+1]\n",
        "            #  + c_S * S[t] # Fremdvergabe\n",
        "            #  + c_O + O[t] # Überstunden\n",
        "             for t in T)\n",
        "\n",
        "# Arbeitskräfte\n",
        "for t in T:\n",
        "  model += W[t] == W[t-1] + H[t] - F[t]\n",
        "\n",
        "# Kapazität\n",
        "for t in T:\n",
        "  model += X[t] <= (1/PK) * W[t]\n",
        "  # model += X[t] <= (1/PK) * (W[t] + O[t]) # Überstunden\n",
        "  # model += O[t] <= 20                     # Überstunden\n",
        "\n",
        "# Lagerbestand\n",
        "for t in T:\n",
        "  model += I[t+1] == I[t] + X[t] - Y[t]\n",
        "  # model += I[t+1] == I[t] + X[t] + S[t] - Y[t] # Fremdvergabe\n",
        "\n",
        "# Anfangsbedingungen\n",
        "model += I[1] == 0\n",
        "model += W[0] == 100\n",
        "\n",
        "# Bedarfsverfolgung\n",
        "# for t in T:\n",
        "#   model += W[t] == PK * Y[t]\n",
        "\n",
        "# Kapazitätsfixierung\n",
        "# for t in T[1:]:\n",
        "#   model += W[t] == W[t-1]\n",
        "\n",
        "# print(model)\n",
        "\n",
        "# Modell lösen\n",
        "model.solve()\n",
        "\n",
        "# Statistik\n",
        "print('Status:', pulp.LpStatus[model.status])\n",
        "print('Zielwert:', pulp.value(model.objective))\n",
        "for v in model.variables():\n",
        "  if v.varValue > 0:\n",
        "    print(v.name, '=', v.varValue)"
      ]
    }
  ]
}