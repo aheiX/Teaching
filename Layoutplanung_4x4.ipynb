{
  "nbformat": 4,
  "nbformat_minor": 0,
  "metadata": {
    "colab": {
      "provenance": [],
      "authorship_tag": "ABX9TyMcGd8FzIuNlIhptEbri/bF",
      "include_colab_link": true
    },
    "kernelspec": {
      "name": "python3",
      "display_name": "Python 3"
    },
    "language_info": {
      "name": "python"
    }
  },
  "cells": [
    {
      "cell_type": "markdown",
      "metadata": {
        "id": "view-in-github",
        "colab_type": "text"
      },
      "source": [
        "<a href=\"https://colab.research.google.com/github/aheiX/Teaching/blob/main/Layoutplanung_4x4.ipynb\" target=\"_parent\"><img src=\"https://colab.research.google.com/assets/colab-badge.svg\" alt=\"Open In Colab\"/></a>"
      ]
    },
    {
      "cell_type": "markdown",
      "source": [
        "# Layoutplanung 4x4"
      ],
      "metadata": {
        "id": "VybFMEsK1CS4"
      }
    },
    {
      "cell_type": "markdown",
      "source": [
        "## Aufgabenstellung"
      ],
      "metadata": {
        "id": "3hCgIh3cE1ve"
      }
    },
    {
      "cell_type": "markdown",
      "source": [
        "Es soll für jede Stationen $T=[1,2,3,4]$ ein optimaler Standort $D=[A,B,C,D]$ gefunden werden. Die folgenden Informationen zur Distanz zwischen den Standorten und dem Materialfluss zwischen den Stationen ist gegeben:\n",
        "\n",
        "<br>\n",
        "$\n",
        "\\begin{array}{lrrrrrrr}\n",
        "    \\hline\n",
        "    \\text{Gramm pro Teilchen} & \\text{Mehl} & \\text{Zucker} & \\text{Butter} & \\text{Mandeln} & \\text{Kakao} & \\text{Eier} & \\text{Verkaufspreis}  \\\\ \\hline\n",
        "     \\text{Mandelschnitten} & 100 & 40 & 40 & 120 & - & 0,5 & 2,00 \\\\ \n",
        "     \\text{Marmorschnecken} & 140 & 32 & 40 & - & 16 & 0,5 & 1,50 \\\\ \n",
        "     \\text{Sandtörtchen} & 160 & 40 & 60 & - & - & 0,5 & 1,20 \\\\ \n",
        "     \\text{Linzertaler} & 160 & 60 & - & 100 & 10 & 1,5 & 6,00 \\\\ \\hline\n",
        "     \\text{Verfügbare Mengen} & 4.000 & 2.000 & 2.400 & 2.000 & 400 & 50 &  \\\\ \n",
        "     \\hline\n",
        "\\end{array}\n",
        "$\n",
        "<br><br>\n",
        "\n",
        "Die Kosten berechnen sich aus einem Einheitskostesatz $c=5$ pro Mengeneinheit und pro Distanzeinheit. Ziel ist es die Kosten zu minimieren.\n",
        "\n",
        "Das Problem kann als klassisches Quadratisches Zuordnungproblem formuliert werden. Die Multiplikation der Entscheidungsvariablen wird durch das Einführung von Hilfsvariablen linearisiert (siehe Übungsaufgabe). \n"
      ],
      "metadata": {
        "id": "0AuoxcHh1EqW"
      }
    },
    {
      "cell_type": "markdown",
      "source": [
        "## Mathematisches Modell"
      ],
      "metadata": {
        "id": "YXRu7s98NgHe"
      }
    },
    {
      "cell_type": "markdown",
      "source": [
        "**Notation und Entscheidungsvariablen**<br>\n",
        "\n",
        "\\begin{array}{ll}\n",
        "T & \\text{Set an Stationen}\\\\\t\n",
        "D  & \\text{Set an potentiellen Standorten}\\\\\n",
        "m_{ij} & \\text{Materialfluss zwischen zwei Stationen $i,j \\in T$} \\\\\n",
        "d_{ij}& \\text{Distanz zwischen zwei Standorten $i,j \\in D$}\\\\\n",
        "c & \\text{Einheitskostensatz}\\\\\n",
        "x_{ij} & \\text{=1, falls Station $i\\in T$ am Standort $j \\in D$ errichtet wird; =0, sonst}\\\\\n",
        "z_{ijkl} & \\text{Hilfsvariable für Linearisierung: =1, falls $x_{ik} \\cdot x_{jl} = 1$, =0, sonst}\\\\\n",
        "\\end{array}\n",
        "<br>\n",
        "\n",
        "**Zielfunktion**<br><br>\n",
        "\\begin{array}{l}\n",
        "\\min c \\cdot \n",
        "\\sum\\limits_{i \\in T}\n",
        "\\sum\\limits_{j \\in T}\n",
        "\\sum\\limits_{k \\in D}\n",
        "\\sum\\limits_{l \\in D} m_{ij}\n",
        "\\cdot d_{kl} \\cdot z_{ijkl}\n",
        "\\end{array}\n",
        "<br><br>\n",
        "\n",
        "**Nebenbedingungen**<br>\n",
        "\n",
        "\\begin{array}{rclll}\n",
        "\\sum\\limits_{j \\in D} x_{ij} & = & 1 &, \\forall i \\in T & \\hspace{1.5cm}(1)\\\\\n",
        "\\sum\\limits_{i \\in D} x_{ij} & = & 1 &, \\forall j \\in T & \\hspace{1.5cm}(2)\\\\\n",
        "z_{ijkl} & \\le & x_{ik} &, \\forall i,j \\in T \\text{ und } k,l \\in D & \\hspace{1.5cm}(3) \\text{ Linearisierungs NB 1}\\\\\n",
        "z_{ijkl} & \\ge & x_{ik} + x_{jl} - 1 &, \\forall i,j \\in T \\text{ und } k,l \\in D & \\hspace{1.5cm}(4) \\text{ Linearisierungs NB 2}\\\\\n",
        "x_{ij}\t\t\t   & \\in & \\mathbb{B} & , \\forall i \\in T, j \\in D  & \\\\\n",
        "z_{ijkl} & \\in & \\mathbb{B} &, \\forall i,j \\in T \\text{ und } k,l \\in D & \\\\\n",
        "\\end{array}\n"
      ],
      "metadata": {
        "id": "FIYbRFEvN930"
      }
    },
    {
      "cell_type": "markdown",
      "source": [
        "## Implementierung"
      ],
      "metadata": {
        "id": "wWtwxGEcEzi8"
      }
    },
    {
      "cell_type": "code",
      "source": [
        "# Daten als Dictionary\n",
        "Standorte = ['A', 'B', 'C', 'D']\n",
        "dist = dict()\n",
        "dist['A'] = dict(A=0, B=60, C=80, D=20)\n",
        "dist['B'] = dict(A=60, B=0, C=60, D=60)\n",
        "dist['C'] = dict(A=80, B=60, C=0, D=100)\n",
        "dist['D'] = dict(A=20, B=60, C=100, D=0)\n",
        "# print(dist)\n",
        "\n",
        "Stationen = ['S1', 'S2', 'S3', 'S4']\n",
        "volume = dict()\n",
        "volume['S1'] = dict(S1=0, S2=85, S3=20, S4=18)\n",
        "volume['S2'] = dict(S1=30, S2=0, S3=3, S4=1)\n",
        "volume['S3'] = dict(S1=32, S2=0, S3=0, S4=0)\n",
        "volume['S4'] = dict(S1=27, S2=33, S3=8, S4=0)\n",
        "# print(volume)"
      ],
      "metadata": {
        "id": "KyDPkjigNvS9",
        "outputId": "81a5351b-a0e0-45ad-e651-60b3c8361dda",
        "colab": {
          "base_uri": "https://localhost:8080/"
        }
      },
      "execution_count": 4,
      "outputs": [
        {
          "output_type": "stream",
          "name": "stdout",
          "text": [
            "{'S1': {'S1': 0, 'S2': 85, 'S3': 20, 'S4': 18}, 'S2': {'S1': 30, 'S2': 0, 'S3': 3, 'S4': 1}, 'S3': {'S1': 32, 'S2': 0, 'S3': 0, 'S4': 0}, 'S4': {'S1': 27, 'S2': 33, 'S3': 8, 'S4': 0}}\n"
          ]
        }
      ]
    },
    {
      "cell_type": "code",
      "execution_count": 15,
      "metadata": {
        "colab": {
          "base_uri": "https://localhost:8080/"
        },
        "id": "SedRzsCc02Q2",
        "outputId": "0ed82f00-e1f5-4b0c-913e-39efb7c31c17"
      },
      "outputs": [
        {
          "output_type": "stream",
          "name": "stdout",
          "text": [
            "Status: Optimal\n",
            "Zielwert: 59900.0\n",
            "x_S1_A = 1.0\n",
            "x_S2_D = 1.0\n",
            "x_S3_C = 1.0\n",
            "x_S4_B = 1.0\n",
            "z_S1_S1_A_A = 1.0\n",
            "z_S1_S2_A_D = 1.0\n",
            "z_S1_S3_A_C = 1.0\n",
            "z_S1_S4_A_B = 1.0\n",
            "z_S2_S1_D_A = 1.0\n",
            "z_S2_S2_D_D = 1.0\n",
            "z_S2_S3_D_C = 1.0\n",
            "z_S2_S4_D_B = 1.0\n",
            "z_S3_S1_C_A = 1.0\n",
            "z_S3_S2_C_D = 1.0\n",
            "z_S3_S3_C_C = 1.0\n",
            "z_S3_S4_C_B = 1.0\n",
            "z_S3_S4_C_D = 1.0\n",
            "z_S4_S1_B_A = 1.0\n",
            "z_S4_S2_B_D = 1.0\n",
            "z_S4_S3_B_C = 1.0\n",
            "z_S4_S4_B_B = 1.0\n"
          ]
        }
      ],
      "source": [
        "# PuLP installieren\n",
        "# !pip install pulp\n",
        "# import pulp\n",
        "\n",
        "# Modell erstellen\n",
        "model = pulp.LpProblem(name='Layoutplanung_4x4', sense=pulp.constants.LpMinimize)\n",
        "\n",
        "# Entscheidungsvariablen\n",
        "x = pulp.LpVariable.dicts(name='x', indices=(Stationen, Standorte), cat='Binary')\n",
        "z = pulp.LpVariable.dicts(name='z', \n",
        "                          indices=(Stationen, Stationen, Standorte, Standorte), \n",
        "                          cat='Binary')\n",
        "\n",
        "# Zielfunktion\n",
        "model += 5 * sum(volume[i][j]*dist[k][l]*z[i][j][k][l]\n",
        "                 for i in Stationen \n",
        "                 for j in Stationen \n",
        "                 for k in Standorte \n",
        "                 for l in Standorte)\n",
        "\n",
        "# Nebenbedingung 1\n",
        "for i in Stationen:\n",
        "  model += sum(x[i][j] for j in Standorte) == 1\n",
        "\n",
        "# Nebenbedingung 2\n",
        "for j in Standorte:\n",
        "  model += sum(x[i][j] for i in Stationen) == 1\n",
        "\n",
        "# Linearisierungs NB 1\n",
        "for i in Stationen:\n",
        "  for j in Stationen:\n",
        "    for k in Standorte:\n",
        "      for l in Standorte:\n",
        "        model += z[i][j][k][l] <= x[i][k]\n",
        "\n",
        "# Linearisierungs NB 2\n",
        "for i in Stationen:\n",
        "  for j in Stationen:\n",
        "    for k in Standorte:\n",
        "      for l in Standorte:\n",
        "        model += z[i][j][k][l] >= x[i][k] + x[j][l] - 1\n",
        "\n",
        "\n",
        "# Modell lösen\n",
        "model.solve()\n",
        "\n",
        "# Statistik\n",
        "print('Status:', pulp.LpStatus[model.status])\n",
        "print('Zielwert:', pulp.value(model.objective))\n",
        "for v in model.variables():\n",
        "  if v.varValue > 0:\n",
        "    print(v.name, '=', v.varValue)"
      ]
    }
  ]
}