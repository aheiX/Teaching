{
  "nbformat": 4,
  "nbformat_minor": 0,
  "metadata": {
    "colab": {
      "provenance": [],
      "authorship_tag": "ABX9TyO0UalTQwySYWXJE6Ue+vjg",
      "include_colab_link": true
    },
    "kernelspec": {
      "name": "python3",
      "display_name": "Python 3"
    },
    "language_info": {
      "name": "python"
    }
  },
  "cells": [
    {
      "cell_type": "markdown",
      "metadata": {
        "id": "view-in-github",
        "colab_type": "text"
      },
      "source": [
        "<a href=\"https://colab.research.google.com/github/aheiX/Teaching/blob/main/Orienteering%20Problem.ipynb\" target=\"_parent\"><img src=\"https://colab.research.google.com/assets/colab-badge.svg\" alt=\"Open In Colab\"/></a>"
      ]
    },
    {
      "cell_type": "markdown",
      "source": [
        "# The Orienteering Problem"
      ],
      "metadata": {
        "id": "GbgpSw586Kk1"
      }
    },
    {
      "cell_type": "markdown",
      "source": [
        "## Mathematical Model"
      ],
      "metadata": {
        "id": "GMXKGXV36Pmk"
      }
    },
    {
      "cell_type": "markdown",
      "source": [
        "<br><br>\n",
        "$\n",
        "\\begin{align}\n",
        "  \\begin{array}{lll}\n",
        "    &\\textbf{Objective} & \\\\\n",
        "    & \\max \\sum\\limits_{i=2}^{N-1} \\sum\\limits_{j=2}^{N} S_{i} \\cdot x_{ij} &~~~ (0) \\\\\n",
        "    &&\\\\\n",
        "    &\\textbf{Constraints} & \\\\\n",
        "    & \\sum\\limits_{j=2}^{N} x_{1j} = 1  &~~~ (1a) \\\\\n",
        "    & \\sum\\limits_{i=1}^{N-1} x_{iN} = 1  &~~~ (1b) \\\\\n",
        "    & \\sum\\limits_{i=1}^{N-1} x_{ik} \\le 1,~ \\forall~ k = 2,\\dots,N-1  &~~~ (2a) \\\\\n",
        "    & \\sum\\limits_{i=1}^{N-1} x_{ik} = \\sum\\limits_{j=2}^{N} x_{kj},~ \\forall~ k = 2,\\dots,N-1  &~~~ (2b) \\\\\n",
        "    & \\sum\\limits_{i=1}^{N-1} \\sum\\limits_{j=2}^{N} t_{ij} \\cdot x_{ij} \\le T_{max} &~~~ (3) \\\\\n",
        "    & u_{i} \\in \\{2, 3, ... N \\},~ \\forall~ i = 2,\\dots,N   &~~~ (4) \\\\\n",
        "    & u_{i} - u_{j} + 1 \\le (N -1) \\cdot (1-x_{ij}),~ \\forall~ i,j = 2,\\dots,N  &~~~ (5) \\\\\n",
        "    & x_{ij} \\in \\{0,1\\},~ \\forall~ i,j = 1,\\dots,N  &~~~ (6) \\\\\n",
        "  \\end{array}\n",
        "\\end{align}\n",
        "$\n",
        "<br><br>"
      ],
      "metadata": {
        "id": "q10x0kvV6U7o"
      }
    },
    {
      "cell_type": "code",
      "execution_count": null,
      "metadata": {
        "id": "qcT6vTmI6D16"
      },
      "outputs": [],
      "source": []
    }
  ]
}