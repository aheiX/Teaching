{
  "nbformat": 4,
  "nbformat_minor": 0,
  "metadata": {
    "colab": {
      "provenance": [],
      "authorship_tag": "ABX9TyOPzyS1X6mvFw+cI9sc3a+l",
      "include_colab_link": true
    },
    "kernelspec": {
      "name": "python3",
      "display_name": "Python 3"
    },
    "language_info": {
      "name": "python"
    }
  },
  "cells": [
    {
      "cell_type": "markdown",
      "metadata": {
        "id": "view-in-github",
        "colab_type": "text"
      },
      "source": [
        "<a href=\"https://colab.research.google.com/github/aheiX/Teaching/blob/main/Orienteering%20Problem.ipynb\" target=\"_parent\"><img src=\"https://colab.research.google.com/assets/colab-badge.svg\" alt=\"Open In Colab\"/></a>"
      ]
    },
    {
      "cell_type": "markdown",
      "source": [
        "# The Orienteering Problem"
      ],
      "metadata": {
        "id": "GbgpSw586Kk1"
      }
    },
    {
      "cell_type": "markdown",
      "source": [
        "## Mathematical Model"
      ],
      "metadata": {
        "id": "GMXKGXV36Pmk"
      }
    },
    {
      "cell_type": "code",
      "execution_count": 30,
      "metadata": {
        "id": "qcT6vTmI6D16",
        "outputId": "b2d03d1d-eb6c-4ebf-dcfb-a55c6e969c6c",
        "colab": {
          "base_uri": "https://localhost:8080/"
        }
      },
      "outputs": [
        {
          "output_type": "stream",
          "name": "stdout",
          "text": [
            "Looking in indexes: https://pypi.org/simple, https://us-python.pkg.dev/colab-wheels/public/simple/\n",
            "Requirement already satisfied: pulp in /usr/local/lib/python3.10/dist-packages (2.7.0)\n"
          ]
        }
      ],
      "source": [
        "!pip install pulp"
      ]
    },
    {
      "cell_type": "code",
      "source": [
        "import numpy as np\n",
        "\n",
        "# create random data\n",
        "seed = 1\n",
        "number_of_nodes = 6\n",
        "T_max = int(50 * number_of_nodes)\n",
        "\n",
        "np.random.seed(seed)\n",
        "\n",
        "nodes = ['node ' + str(i) for i in range(number_of_nodes)]\n",
        "S = {node: np.random.randint(1,100) for node in nodes}\n",
        "t = {n1: {n2: np.random.randint(1,100) for n2 in nodes} \n",
        "     for n1 in nodes}\n",
        "\n",
        "print(S)\n",
        "print(t)\n",
        "print(T_max)"
      ],
      "metadata": {
        "id": "W15eoB798twU",
        "outputId": "e5a6dc78-f5e6-4b31-8432-01dd611d5c73",
        "colab": {
          "base_uri": "https://localhost:8080/"
        }
      },
      "execution_count": 52,
      "outputs": [
        {
          "output_type": "stream",
          "name": "stdout",
          "text": [
            "{'node 0': 38, 'node 1': 13, 'node 2': 73, 'node 3': 10, 'node 4': 76, 'node 5': 6}\n",
            "{'node 0': {'node 0': 80, 'node 1': 65, 'node 2': 17, 'node 3': 2, 'node 4': 77, 'node 5': 72}, 'node 1': {'node 0': 7, 'node 1': 26, 'node 2': 51, 'node 3': 21, 'node 4': 19, 'node 5': 85}, 'node 2': {'node 0': 12, 'node 1': 29, 'node 2': 30, 'node 3': 15, 'node 4': 51, 'node 5': 69}, 'node 3': {'node 0': 88, 'node 1': 88, 'node 2': 95, 'node 3': 97, 'node 4': 87, 'node 5': 14}, 'node 4': {'node 0': 10, 'node 1': 8, 'node 2': 64, 'node 3': 62, 'node 4': 23, 'node 5': 58}, 'node 5': {'node 0': 2, 'node 1': 1, 'node 2': 61, 'node 3': 82, 'node 4': 9, 'node 5': 89}}\n",
            "300\n"
          ]
        }
      ]
    },
    {
      "cell_type": "markdown",
      "source": [
        "<br><br>\n",
        "$\n",
        "\\begin{align}\n",
        "  \\begin{array}{lll}\n",
        "    &\\textbf{Objective} & \\\\\n",
        "    & \\max \\sum\\limits_{i=2}^{N-1} \\sum\\limits_{j=2}^{N} S_{i} \\cdot x_{ij} &~~~ (0) \\\\\n",
        "    &&\\\\\n",
        "    &\\textbf{Constraints} & \\\\\n",
        "    & \\sum\\limits_{j=2}^{N} x_{1j} = 1  &~~~ (1a) \\\\\n",
        "    & \\sum\\limits_{i=1}^{N-1} x_{iN} = 1  &~~~ (1b) \\\\\n",
        "    & \\sum\\limits_{i=1}^{N-1} x_{ik} \\le 1,~ \\forall~ k = 2,\\dots,N-1  &~~~ (2a) \\\\\n",
        "    & \\sum\\limits_{i=1}^{N-1} x_{ik} = \\sum\\limits_{j=2}^{N} x_{kj},~ \\forall~ k = 2,\\dots,N-1  &~~~ (2b) \\\\\n",
        "    & \\sum\\limits_{i=1}^{N-1} \\sum\\limits_{j=2}^{N} t_{ij} \\cdot x_{ij} \\le T_{max} &~~~ (3) \\\\\n",
        "    & u_{i} \\in \\{2, 3, ... N \\},~ \\forall~ i = 2,\\dots,N   &~~~ (4) \\\\\n",
        "    & u_{i} - u_{j} + 1 \\le (N -1) \\cdot (1-x_{ij}),~ \\forall~ i,j = 2,\\dots,N  &~~~ (5) \\\\\n",
        "    & x_{ij} \\in \\{0,1\\},~ \\forall~ i,j = 1,\\dots,N  &~~~ (6) \\\\\n",
        "  \\end{array}\n",
        "\\end{align}\n",
        "$\n",
        "<br><br>"
      ],
      "metadata": {
        "id": "q10x0kvV6U7o"
      }
    },
    {
      "cell_type": "code",
      "source": [
        "print(nodes)\n",
        "print(nodes[1:])\n",
        "print(nodes[:-1])\n",
        "print(nodes[1:-1])"
      ],
      "metadata": {
        "id": "H9l1asBpAFz8",
        "outputId": "d3d84b35-9577-4e14-f57d-28165e7da5b3",
        "colab": {
          "base_uri": "https://localhost:8080/"
        }
      },
      "execution_count": 32,
      "outputs": [
        {
          "output_type": "stream",
          "name": "stdout",
          "text": [
            "['node 0', 'node 1', 'node 2', 'node 3', 'node 4', 'node 5']\n",
            "['node 1', 'node 2', 'node 3', 'node 4', 'node 5']\n",
            "['node 0', 'node 1', 'node 2', 'node 3', 'node 4']\n",
            "['node 1', 'node 2', 'node 3', 'node 4']\n"
          ]
        }
      ]
    },
    {
      "cell_type": "code",
      "source": [
        "import pulp\n",
        "\n",
        "# model\n",
        "model = pulp.LpProblem(name='Orienteering Problem', sense=pulp.constants.LpMaximize)\n",
        "\n",
        "# decision variables\n",
        "x = pulp.LpVariable.dicts(name='x', indices=(nodes, nodes), cat='Binary')\n",
        "u = pulp.LpVariable.dicts(name='u', indices=nodes[1:], \n",
        "                          lowBound=2, upBound=len(nodes), \n",
        "                          cat='Integer')\n",
        "\n",
        "# objective\n",
        "model += pulp.lpSum(S[i]*x[i][j] for i in nodes[1:-1] for j in nodes[1:]), '(0)'\n",
        "\n",
        "# (1a)\n",
        "model += pulp.lpSum(x[nodes[0]][j] for j in nodes[1:]) == 1, '(1a)'\n",
        "\n",
        "# (1b)\n",
        "model += pulp.lpSum(x[i][nodes[-1]] for i in nodes[:-1]) == 1, '(1b)'\n",
        "\n",
        "for k in nodes[1:-1]:\n",
        "  # (2a)\n",
        "  model += pulp.lpSum(x[i][k] for i in nodes[:-1]) <= 1, '(2a):' + k\n",
        "  # (2b)\n",
        "  model += pulp.lpSum(x[i][k] for i in nodes[:-1]) <= pulp.lpSum(x[k][j] for j in nodes[1:]), '(2b):' + k\n",
        "\n",
        "# (3)\n",
        "model += pulp.lpSum(t[i][j] * x[i][j] for i in nodes[:-1] for j in nodes[1:]) <= T_max, '(3)'\n",
        "\n",
        "# (4) -> see initialization of decision variable u\n",
        "\n",
        "# (5)\n",
        "for i in nodes[1:]:\n",
        "  for j in nodes[1:]:\n",
        "    model += u[i] - u[j] + 1 <= (len(nodes) - 1) * (1 - x[i][j]), '(5):' + i + j\n",
        "\n",
        "# (6) -> see initialization of decision variable x\n",
        "\n"
      ],
      "metadata": {
        "id": "69h6c8KS-8Sm"
      },
      "execution_count": 53,
      "outputs": []
    },
    {
      "cell_type": "code",
      "source": [
        "# solve problem\n",
        "model.solve()\n",
        "\n",
        "# get status\n",
        "print(\"Status:\", pulp.LpStatus[model.status])\n",
        "\n",
        "# get objective value\n",
        "print('Objective value:', round(pulp.value(model.objective), 2))\n",
        "\n",
        "# get value of decision variables\n",
        "for i in nodes[1:]:\n",
        "  print(str(u[i]) + ': ' + str(u[i].varValue))\n",
        "\n",
        "for i in nodes:\n",
        "  for j in nodes:\n",
        "    try:\n",
        "      if x[i][j].varValue > 0:\n",
        "        print(str(x[i][j]) + ': ' + str(x[i][j].varValue))\n",
        "    except:\n",
        "      pass"
      ],
      "metadata": {
        "id": "lioJiRmnC4s7",
        "outputId": "aec80d92-37e6-487f-f204-5c4a81734f70",
        "colab": {
          "base_uri": "https://localhost:8080/"
        }
      },
      "execution_count": 50,
      "outputs": [
        {
          "output_type": "stream",
          "name": "stdout",
          "text": [
            "Status: Optimal\n",
            "Objective value: 172.0\n",
            "u_node_1: 4.0\n",
            "u_node_2: 2.0\n",
            "u_node_3: 5.0\n",
            "u_node_4: 3.0\n",
            "u_node_5: 6.0\n",
            "x_node_0_node_2: 1.0\n",
            "x_node_1_node_3: 1.0\n",
            "x_node_2_node_4: 1.0\n",
            "x_node_3_node_5: 1.0\n",
            "x_node_4_node_1: 1.0\n"
          ]
        }
      ]
    }
  ]
}