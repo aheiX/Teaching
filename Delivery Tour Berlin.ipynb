{
  "nbformat": 4,
  "nbformat_minor": 0,
  "metadata": {
    "colab": {
      "provenance": [],
      "authorship_tag": "ABX9TyMGWbER7oK6epBab7+3nT8o",
      "include_colab_link": true
    },
    "kernelspec": {
      "name": "python3",
      "display_name": "Python 3"
    },
    "language_info": {
      "name": "python"
    }
  },
  "cells": [
    {
      "cell_type": "markdown",
      "metadata": {
        "id": "view-in-github",
        "colab_type": "text"
      },
      "source": [
        "<a href=\"https://colab.research.google.com/github/aheiX/Teaching/blob/main/Delivery%20Tour%20Berlin.ipynb\" target=\"_parent\"><img src=\"https://colab.research.google.com/assets/colab-badge.svg\" alt=\"Open In Colab\"/></a>"
      ]
    },
    {
      "cell_type": "markdown",
      "source": [
        "# TSP - Nächster Nachbar Heuristik"
      ],
      "metadata": {
        "id": "GbgpSw586Kk1"
      }
    },
    {
      "cell_type": "markdown",
      "source": [
        "## Daten"
      ],
      "metadata": {
        "id": "GMXKGXV36Pmk"
      }
    },
    {
      "cell_type": "code",
      "source": [
        "!pip install haversine\n",
        "import haversine"
      ],
      "metadata": {
        "id": "kKWTaeNKOQhH",
        "outputId": "0f5f286b-969e-47bb-efb5-5d7b9e2686c7",
        "colab": {
          "base_uri": "https://localhost:8080/"
        }
      },
      "execution_count": null,
      "outputs": [
        {
          "output_type": "stream",
          "name": "stdout",
          "text": [
            "Looking in indexes: https://pypi.org/simple, https://us-python.pkg.dev/colab-wheels/public/simple/\n",
            "Collecting haversine\n",
            "  Downloading haversine-2.8.0-py2.py3-none-any.whl (7.7 kB)\n",
            "Installing collected packages: haversine\n",
            "Successfully installed haversine-2.8.0\n"
          ]
        }
      ]
    },
    {
      "cell_type": "code",
      "source": [
        "data = dict()\n",
        "data[\"Halle (Saale)\"]=dict(lon=11.9672201241301, lat=51.4970124613279)\n",
        "data[\"Magdeburg\"]=dict(lon=11.6363317198121, lat=52.1229002894915)\n",
        "data[\"Dessau-Roßlau\"]=dict(lon=12.2331141970666, lat=51.8442730013004)\n",
        "data[\"Lutherstadt Wittenberg\"]=dict(lon=12.6357720180488, lat=51.8737704942318)\n",
        "data[\"Weißenfels\"]=dict(lon=11.9683230903702, lat=51.1983573259)\n",
        "data[\"Halberstadt\"]=dict(lon=11.0495250643003, lat=51.8912329116255)\n",
        "data[\"Stendal\"]=dict(lon=11.8508504963119, lat=52.602278283988)\n",
        "\n",
        "# Direktdistanz berechnen\n",
        "dist = {i: {j: haversine.haversine((data[i]['lat'], data[i]['lon']), (data[j]['lat'], data[j]['lon']))\n",
        "            for j in data}\n",
        "        for i in data}\n",
        "\n",
        "print(dist)"
      ],
      "metadata": {
        "id": "U1tbtV1iM7p1",
        "outputId": "a902f6fd-f604-4335-eadf-109879aabde6",
        "colab": {
          "base_uri": "https://localhost:8080/"
        }
      },
      "execution_count": null,
      "outputs": [
        {
          "output_type": "stream",
          "name": "stdout",
          "text": [
            "{'Halle (Saale)': {'lon': 11.9672201241301, 'lat': 51.4970124613279}, 'Magdeburg': {'lon': 11.6363317198121, 'lat': 52.1229002894915}, 'Dessau-Roßlau': {'lon': 12.2331141970666, 'lat': 51.8442730013004}, 'Lutherstadt Wittenberg': {'lon': 12.6357720180488, 'lat': 51.8737704942318}, 'Weißenfels': {'lon': 11.9683230903702, 'lat': 51.1983573259}, 'Halberstadt': {'lon': 11.0495250643003, 'lat': 51.8912329116255}, 'Stendal': {'lon': 11.8508504963119, 'lat': 52.602278283988}}\n",
            "{'Halle (Saale)': {'Halle (Saale)': 0.0, 'Magdeburg': 73.21886807930814, 'Dessau-Roßlau': 42.74611270360542, 'Lutherstadt Wittenberg': 62.283370366529105, 'Weißenfels': 33.2090700943156, 'Halberstadt': 76.95626197830808, 'Stendal': 123.15742997802015}, 'Magdeburg': {'Halle (Saale)': 73.21886807930814, 'Magdeburg': 0.0, 'Dessau-Roßlau': 51.285449187848485, 'Lutherstadt Wittenberg': 73.81705287547693, 'Weißenfels': 105.32385322531576, 'Halberstadt': 47.71628122394498, 'Stendal': 55.25883804513558}, 'Dessau-Roßlau': {'Halle (Saale)': 42.74611270360542, 'Magdeburg': 51.285449187848485, 'Dessau-Roßlau': 0.0, 'Lutherstadt Wittenberg': 27.84590291973773, 'Weißenfels': 74.1222587432994, 'Halberstadt': 81.43261070945789, 'Stendal': 88.216488719177}, 'Lutherstadt Wittenberg': {'Halle (Saale)': 62.283370366529105, 'Magdeburg': 73.81705287547693, 'Dessau-Roßlau': 27.84590291973773, 'Lutherstadt Wittenberg': 0.0, 'Weißenfels': 88.15565453317238, 'Halberstadt': 108.89209498125663, 'Stendal': 97.04906691397257}, 'Weißenfels': {'Halle (Saale)': 33.2090700943156, 'Magdeburg': 105.32385322531576, 'Dessau-Roßlau': 74.1222587432994, 'Lutherstadt Wittenberg': 88.15565453317238, 'Weißenfels': 0.0, 'Halberstadt': 99.86225919510822, 'Stendal': 156.316969739472}, 'Halberstadt': {'Halle (Saale)': 76.95626197830808, 'Magdeburg': 47.71628122394498, 'Dessau-Roßlau': 81.43261070945789, 'Lutherstadt Wittenberg': 108.89209498125663, 'Weißenfels': 99.86225919510822, 'Halberstadt': 0.0, 'Stendal': 96.05823962449627}, 'Stendal': {'Halle (Saale)': 123.15742997802015, 'Magdeburg': 55.25883804513558, 'Dessau-Roßlau': 88.216488719177, 'Lutherstadt Wittenberg': 97.04906691397257, 'Weißenfels': 156.316969739472, 'Halberstadt': 96.05823962449627, 'Stendal': 0.0}}\n"
          ]
        }
      ]
    },
    {
      "cell_type": "markdown",
      "source": [
        "## Implementierung"
      ],
      "metadata": {
        "id": "hRO_cR8W6-0R"
      }
    },
    {
      "cell_type": "markdown",
      "source": [
        "### Daten"
      ],
      "metadata": {
        "id": "h-8gkj38cnzD"
      }
    },
    {
      "cell_type": "code",
      "source": [
        "# Angebotsknoten\n",
        "A = ['Sunnyvale', 'Dublin', 'Bankok']\n",
        "\n",
        "# Angebotsmenge\n",
        "a = {'Sunnyvale': 45, 'Dublin': 120, 'Bankok': 95}\n",
        "\n",
        "# Nachfrageknoten\n",
        "N = ['Amarillo', 'Teaneck', 'Chicago', 'Falls']\n",
        "\n",
        "# Nachfragemenge\n",
        "b = {'Amarillo': 80, 'Teaneck': 78, 'Chicago': 47, 'Falls': 55}\n",
        "\n",
        "# Kosten\n",
        "c = {\n",
        "    'Sunnyvale': {'Amarillo': 250, 'Teaneck': 420, 'Chicago': 380, 'Falls': 280},\n",
        "    'Dublin': {'Amarillo': 1280, 'Teaneck': 990, 'Chicago': 1440, 'Falls': 1520},\n",
        "    'Bankok': {'Amarillo': 550, 'Teaneck': 1420, 'Chicago': 1660, 'Falls': 1730},\n",
        "}"
      ],
      "metadata": {
        "id": "W15eoB798twU"
      },
      "execution_count": null,
      "outputs": []
    },
    {
      "cell_type": "markdown",
      "source": [
        "### Modell"
      ],
      "metadata": {
        "id": "DLTrVOr-63Wo"
      }
    },
    {
      "cell_type": "code",
      "source": [
        "!pip install pulp\n",
        "import pulp"
      ],
      "metadata": {
        "id": "yNo_6sfG601B",
        "outputId": "9a499ef1-b3b5-4f8d-c388-6ceb315b496d",
        "colab": {
          "base_uri": "https://localhost:8080/"
        }
      },
      "execution_count": null,
      "outputs": [
        {
          "output_type": "stream",
          "name": "stdout",
          "text": [
            "Looking in indexes: https://pypi.org/simple, https://us-python.pkg.dev/colab-wheels/public/simple/\n",
            "Collecting pulp\n",
            "  Downloading PuLP-2.7.0-py3-none-any.whl (14.3 MB)\n",
            "\u001b[2K     \u001b[90m━━━━━━━━━━━━━━━━━━━━━━━━━━━━━━━━━━━━━━━━\u001b[0m \u001b[32m14.3/14.3 MB\u001b[0m \u001b[31m54.6 MB/s\u001b[0m eta \u001b[36m0:00:00\u001b[0m\n",
            "\u001b[?25hInstalling collected packages: pulp\n",
            "Successfully installed pulp-2.7.0\n"
          ]
        }
      ]
    },
    {
      "cell_type": "code",
      "source": [
        "# Model\n",
        "model = pulp.LpProblem(name='Transportproblem',\n",
        "                       sense=pulp.constants.LpMinimize)\n",
        "\n",
        "# Decision variables\n",
        "x = pulp.LpVariable.dicts(name='x', indices=(A, N), lowBound=0, cat='Integer')\n",
        "\n",
        "# (1) Objective\n",
        "model += pulp.lpSum(c[i][j] * x[i][j] for i in A for j in N), '(1)'\n",
        "\n",
        "# (2)\n",
        "for i in A:\n",
        "  model += a[i] == pulp.lpSum(x[i][j] for j in N), '(2)_' + str(i)\n",
        "\n",
        "# (2)\n",
        "for j in N:\n",
        "  model += b[j] == pulp.lpSum(x[i][j] for i in A), '(3)_' + str(j)\n",
        "\n",
        "# print(model)"
      ],
      "metadata": {
        "id": "5sx3GUW-OSoI"
      },
      "execution_count": null,
      "outputs": []
    },
    {
      "cell_type": "markdown",
      "source": [
        "### Solution"
      ],
      "metadata": {
        "id": "ZBP9o2G267xA"
      }
    },
    {
      "cell_type": "code",
      "source": [
        "# solve problem\n",
        "model.solve()\n",
        "\n",
        "# get status\n",
        "print(\"Status:\", pulp.LpStatus[model.status])\n",
        "\n",
        "# get objective value\n",
        "print('Objective value:', round(pulp.value(model.objective), 2))\n",
        "\n",
        "# get value of decision variable u (position in tour of the nodes that are part of the tour)\n",
        "for i in A:\n",
        "  for j in N:\n",
        "    if x[i][j].varValue > 0:\n",
        "      print('Von ' + str(i) + ' nach ' + str(j) + ': ' + str(x[i][j].varValue) + ' ME')"
      ],
      "metadata": {
        "colab": {
          "base_uri": "https://localhost:8080/"
        },
        "id": "Qw7Os3H4BelC",
        "outputId": "ff006f98-8b22-439e-fed9-cb3cee04e1c5"
      },
      "execution_count": null,
      "outputs": [
        {
          "output_type": "stream",
          "name": "stdout",
          "text": [
            "Status: Optimal\n",
            "Objective value: 219900.0\n",
            "Von Sunnyvale nach Falls: 45.0 ME\n",
            "Von Dublin nach Teaneck: 78.0 ME\n",
            "Von Dublin nach Chicago: 42.0 ME\n",
            "Von Bankok nach Amarillo: 80.0 ME\n",
            "Von Bankok nach Chicago: 5.0 ME\n",
            "Von Bankok nach Falls: 10.0 ME\n"
          ]
        }
      ]
    },
    {
      "cell_type": "code",
      "source": [],
      "metadata": {
        "id": "2SiP-N-EdZE7"
      },
      "execution_count": null,
      "outputs": []
    }
  ]
}