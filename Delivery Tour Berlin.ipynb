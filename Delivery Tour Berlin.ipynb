{
  "nbformat": 4,
  "nbformat_minor": 0,
  "metadata": {
    "colab": {
      "provenance": [],
      "authorship_tag": "ABX9TyPhqsg5SX/nfChzXKzB/+c6",
      "include_colab_link": true
    },
    "kernelspec": {
      "name": "python3",
      "display_name": "Python 3"
    },
    "language_info": {
      "name": "python"
    }
  },
  "cells": [
    {
      "cell_type": "markdown",
      "metadata": {
        "id": "view-in-github",
        "colab_type": "text"
      },
      "source": [
        "<a href=\"https://colab.research.google.com/github/aheiX/Teaching/blob/main/Delivery%20Tour%20Berlin.ipynb\" target=\"_parent\"><img src=\"https://colab.research.google.com/assets/colab-badge.svg\" alt=\"Open In Colab\"/></a>"
      ]
    },
    {
      "cell_type": "markdown",
      "source": [
        "# Delivery Tour Berlin"
      ],
      "metadata": {
        "id": "GbgpSw586Kk1"
      }
    },
    {
      "cell_type": "markdown",
      "source": [
        "## Input data"
      ],
      "metadata": {
        "id": "GMXKGXV36Pmk"
      }
    },
    {
      "cell_type": "code",
      "source": [
        "!pip install haversine\n",
        "import haversine"
      ],
      "metadata": {
        "id": "kKWTaeNKOQhH",
        "outputId": "56d2833f-b3a9-434c-9e91-1a15c174ef52",
        "colab": {
          "base_uri": "https://localhost:8080/"
        }
      },
      "execution_count": 2,
      "outputs": [
        {
          "output_type": "stream",
          "name": "stdout",
          "text": [
            "Collecting haversine\n",
            "  Downloading haversine-2.8.0-py2.py3-none-any.whl (7.7 kB)\n",
            "Installing collected packages: haversine\n",
            "Successfully installed haversine-2.8.0\n"
          ]
        }
      ]
    },
    {
      "cell_type": "code",
      "source": [
        "boroughs = [\"Charlottenburg-Wilmersdorf\",\"Friedrichshain-Kreuzberg\",\"Lichtenberg\",\"Marzahn-Hellersdorf\",\"Mitte\",\"Neukölln\",\"Pankow\",\"Reinickendorf\",\"Spandau\",\"Steglitz-Zehlendorf\",\"Tempelhof-Schöneberg\",\"Treptow-Köpenick\"]\n",
        "data = dict()\n",
        "data[\"Charlottenburg-Wilmersdorf\"]=dict(lon=13.3115058893898, lat=52.4946052865977)\n",
        "data[\"Friedrichshain-Kreuzberg\"]=dict(lon=13.4302212056212, lat=52.499106738908)\n",
        "data[\"Lichtenberg\"]=dict(lon=13.5004388370168, lat=52.5229028163866)\n",
        "data[\"Marzahn-Hellersdorf\"]=dict(lon=13.5821641357395, lat=52.5116143017873)\n",
        "data[\"Mitte\"]=dict(lon=13.3954541717134, lat=52.5277451411386)\n",
        "data[\"Neukölln\"]=dict(lon=13.4687419304476, lat=52.4504423036901)\n",
        "data[\"Pankow\"]=dict(lon=13.4345589995814, lat=52.5725246427861)\n",
        "data[\"Reinickendorf\"]=dict(lon=13.3193949591781, lat=52.5782722394241)\n",
        "data[\"Spandau\"]=dict(lon=13.1991508836134, lat=52.5349554075963)\n",
        "data[\"Steglitz-Zehlendorf\"]=dict(lon=13.2732930106099, lat=52.4513904537317)\n",
        "data[\"Tempelhof-Schöneberg\"]=dict(lon=13.4068070579865, lat=52.4609859254929)\n",
        "data[\"Treptow-Köpenick\"]=dict(lon=13.6263928845337, lat=52.4476440790675)\n",
        "\n",
        "\n",
        "# Direct distance\n",
        "dist = {i: {j: int(haversine.haversine((data[i]['lat'], data[i]['lon']), (data[j]['lat'], data[j]['lon'])))\n",
        "            for j in data}\n",
        "        for i in data}\n",
        "\n",
        "# print(dist)\n",
        "\n",
        "# LaTeX-Table\n",
        "print('LaTeX-Table')\n",
        "for idx, i in enumerate(boroughs):\n",
        "  print(\" & \" + str(idx+1), end='')\n",
        "print(\" \\\\\\\\\")\n",
        "for idx, i in enumerate(boroughs):\n",
        "  print(str(idx+1) + ' ' + i, end='')\n",
        "  for j in boroughs:\n",
        "    if i == j:\n",
        "      print(\" & \\cellcolor[rgb]{ .851,  .851,  .851}\" + str(dist[i][j]), end='')\n",
        "\n",
        "    else:\n",
        "      print(\" & \" + str(dist[i][j]), end='')\n",
        "  print(\" \\\\\\\\\")\n",
        "\n",
        "# CSV-Table\n",
        "print('CSV-Table (,-separated)')\n",
        "for idx, i in enumerate(boroughs):\n",
        "  print(\", \" + str(idx+1), end='')\n",
        "print()\n",
        "for idx, i in enumerate(boroughs):\n",
        "  print(str(idx+1) + ' ' + i, end='')\n",
        "  for j in boroughs:\n",
        "    print(\", \" + str(dist[i][j]), end='')\n",
        "  print()\n"
      ],
      "metadata": {
        "id": "U1tbtV1iM7p1",
        "outputId": "f3f2ca57-e070-440b-e6bc-4834481128d2",
        "colab": {
          "base_uri": "https://localhost:8080/"
        }
      },
      "execution_count": 18,
      "outputs": [
        {
          "output_type": "stream",
          "name": "stdout",
          "text": [
            "LaTeX-Table\n",
            " & 1 & 2 & 3 & 4 & 5 & 6 & 7 & 8 & 9 & 10 & 11 & 12 \\\\\n",
            "1 Charlottenburg-Wilmersdorf & \\cellcolor[rgb]{ .851,  .851,  .851}0 & 8 & 13 & 18 & 6 & 11 & 12 & 9 & 8 & 5 & 7 & 21 \\\\\n",
            "2 Friedrichshain-Kreuzberg & 8 & \\cellcolor[rgb]{ .851,  .851,  .851}0 & 5 & 10 & 3 & 6 & 8 & 11 & 16 & 11 & 4 & 14 \\\\\n",
            "3 Lichtenberg & 13 & 5 & \\cellcolor[rgb]{ .851,  .851,  .851}0 & 5 & 7 & 8 & 7 & 13 & 20 & 17 & 9 & 11 \\\\\n",
            "4 Marzahn-Hellersdorf & 18 & 10 & 5 & \\cellcolor[rgb]{ .851,  .851,  .851}0 & 12 & 10 & 12 & 19 & 26 & 21 & 13 & 7 \\\\\n",
            "5 Mitte & 6 & 3 & 7 & 12 & \\cellcolor[rgb]{ .851,  .851,  .851}0 & 9 & 5 & 7 & 13 & 11 & 7 & 17 \\\\\n",
            "6 Neukölln & 11 & 6 & 8 & 10 & 9 & \\cellcolor[rgb]{ .851,  .851,  .851}0 & 13 & 17 & 20 & 13 & 4 & 10 \\\\\n",
            "7 Pankow & 12 & 8 & 7 & 12 & 5 & 13 & \\cellcolor[rgb]{ .851,  .851,  .851}0 & 7 & 16 & 17 & 12 & 19 \\\\\n",
            "8 Reinickendorf & 9 & 11 & 13 & 19 & 7 & 17 & 7 & \\cellcolor[rgb]{ .851,  .851,  .851}0 & 9 & 14 & 14 & 25 \\\\\n",
            "9 Spandau & 8 & 16 & 20 & 26 & 13 & 20 & 16 & 9 & \\cellcolor[rgb]{ .851,  .851,  .851}0 & 10 & 16 & 30 \\\\\n",
            "10 Steglitz-Zehlendorf & 5 & 11 & 17 & 21 & 11 & 13 & 17 & 14 & 10 & \\cellcolor[rgb]{ .851,  .851,  .851}0 & 9 & 23 \\\\\n",
            "11 Tempelhof-Schöneberg & 7 & 4 & 9 & 13 & 7 & 4 & 12 & 14 & 16 & 9 & \\cellcolor[rgb]{ .851,  .851,  .851}0 & 14 \\\\\n",
            "12 Treptow-Köpenick & 21 & 14 & 11 & 7 & 17 & 10 & 19 & 25 & 30 & 23 & 14 & \\cellcolor[rgb]{ .851,  .851,  .851}0 \\\\\n",
            "CSV-Table (,-separated)\n",
            ", 1, 2, 3, 4, 5, 6, 7, 8, 9, 10, 11, 12\n",
            "1 Charlottenburg-Wilmersdorf, 0, 8, 13, 18, 6, 11, 12, 9, 8, 5, 7, 21\n",
            "2 Friedrichshain-Kreuzberg, 8, 0, 5, 10, 3, 6, 8, 11, 16, 11, 4, 14\n",
            "3 Lichtenberg, 13, 5, 0, 5, 7, 8, 7, 13, 20, 17, 9, 11\n",
            "4 Marzahn-Hellersdorf, 18, 10, 5, 0, 12, 10, 12, 19, 26, 21, 13, 7\n",
            "5 Mitte, 6, 3, 7, 12, 0, 9, 5, 7, 13, 11, 7, 17\n",
            "6 Neukölln, 11, 6, 8, 10, 9, 0, 13, 17, 20, 13, 4, 10\n",
            "7 Pankow, 12, 8, 7, 12, 5, 13, 0, 7, 16, 17, 12, 19\n",
            "8 Reinickendorf, 9, 11, 13, 19, 7, 17, 7, 0, 9, 14, 14, 25\n",
            "9 Spandau, 8, 16, 20, 26, 13, 20, 16, 9, 0, 10, 16, 30\n",
            "10 Steglitz-Zehlendorf, 5, 11, 17, 21, 11, 13, 17, 14, 10, 0, 9, 23\n",
            "11 Tempelhof-Schöneberg, 7, 4, 9, 13, 7, 4, 12, 14, 16, 9, 0, 14\n",
            "12 Treptow-Köpenick, 21, 14, 11, 7, 17, 10, 19, 25, 30, 23, 14, 0\n"
          ]
        }
      ]
    },
    {
      "cell_type": "markdown",
      "source": [
        "## Implementierung"
      ],
      "metadata": {
        "id": "hRO_cR8W6-0R"
      }
    },
    {
      "cell_type": "markdown",
      "source": [
        "### Daten"
      ],
      "metadata": {
        "id": "h-8gkj38cnzD"
      }
    },
    {
      "cell_type": "code",
      "source": [
        "# Angebotsknoten\n",
        "A = ['Sunnyvale', 'Dublin', 'Bankok']\n",
        "\n",
        "# Angebotsmenge\n",
        "a = {'Sunnyvale': 45, 'Dublin': 120, 'Bankok': 95}\n",
        "\n",
        "# Nachfrageknoten\n",
        "N = ['Amarillo', 'Teaneck', 'Chicago', 'Falls']\n",
        "\n",
        "# Nachfragemenge\n",
        "b = {'Amarillo': 80, 'Teaneck': 78, 'Chicago': 47, 'Falls': 55}\n",
        "\n",
        "# Kosten\n",
        "c = {\n",
        "    'Sunnyvale': {'Amarillo': 250, 'Teaneck': 420, 'Chicago': 380, 'Falls': 280},\n",
        "    'Dublin': {'Amarillo': 1280, 'Teaneck': 990, 'Chicago': 1440, 'Falls': 1520},\n",
        "    'Bankok': {'Amarillo': 550, 'Teaneck': 1420, 'Chicago': 1660, 'Falls': 1730},\n",
        "}"
      ],
      "metadata": {
        "id": "W15eoB798twU"
      },
      "execution_count": null,
      "outputs": []
    },
    {
      "cell_type": "markdown",
      "source": [
        "### Modell"
      ],
      "metadata": {
        "id": "DLTrVOr-63Wo"
      }
    },
    {
      "cell_type": "code",
      "source": [
        "!pip install pulp\n",
        "import pulp"
      ],
      "metadata": {
        "id": "yNo_6sfG601B",
        "outputId": "9a499ef1-b3b5-4f8d-c388-6ceb315b496d",
        "colab": {
          "base_uri": "https://localhost:8080/"
        }
      },
      "execution_count": null,
      "outputs": [
        {
          "output_type": "stream",
          "name": "stdout",
          "text": [
            "Looking in indexes: https://pypi.org/simple, https://us-python.pkg.dev/colab-wheels/public/simple/\n",
            "Collecting pulp\n",
            "  Downloading PuLP-2.7.0-py3-none-any.whl (14.3 MB)\n",
            "\u001b[2K     \u001b[90m━━━━━━━━━━━━━━━━━━━━━━━━━━━━━━━━━━━━━━━━\u001b[0m \u001b[32m14.3/14.3 MB\u001b[0m \u001b[31m54.6 MB/s\u001b[0m eta \u001b[36m0:00:00\u001b[0m\n",
            "\u001b[?25hInstalling collected packages: pulp\n",
            "Successfully installed pulp-2.7.0\n"
          ]
        }
      ]
    },
    {
      "cell_type": "code",
      "source": [
        "# Model\n",
        "model = pulp.LpProblem(name='Transportproblem',\n",
        "                       sense=pulp.constants.LpMinimize)\n",
        "\n",
        "# Decision variables\n",
        "x = pulp.LpVariable.dicts(name='x', indices=(A, N), lowBound=0, cat='Integer')\n",
        "\n",
        "# (1) Objective\n",
        "model += pulp.lpSum(c[i][j] * x[i][j] for i in A for j in N), '(1)'\n",
        "\n",
        "# (2)\n",
        "for i in A:\n",
        "  model += a[i] == pulp.lpSum(x[i][j] for j in N), '(2)_' + str(i)\n",
        "\n",
        "# (2)\n",
        "for j in N:\n",
        "  model += b[j] == pulp.lpSum(x[i][j] for i in A), '(3)_' + str(j)\n",
        "\n",
        "# print(model)"
      ],
      "metadata": {
        "id": "5sx3GUW-OSoI"
      },
      "execution_count": null,
      "outputs": []
    },
    {
      "cell_type": "markdown",
      "source": [
        "### Solution"
      ],
      "metadata": {
        "id": "ZBP9o2G267xA"
      }
    },
    {
      "cell_type": "code",
      "source": [
        "# solve problem\n",
        "model.solve()\n",
        "\n",
        "# get status\n",
        "print(\"Status:\", pulp.LpStatus[model.status])\n",
        "\n",
        "# get objective value\n",
        "print('Objective value:', round(pulp.value(model.objective), 2))\n",
        "\n",
        "# get value of decision variable u (position in tour of the nodes that are part of the tour)\n",
        "for i in A:\n",
        "  for j in N:\n",
        "    if x[i][j].varValue > 0:\n",
        "      print('Von ' + str(i) + ' nach ' + str(j) + ': ' + str(x[i][j].varValue) + ' ME')"
      ],
      "metadata": {
        "colab": {
          "base_uri": "https://localhost:8080/"
        },
        "id": "Qw7Os3H4BelC",
        "outputId": "ff006f98-8b22-439e-fed9-cb3cee04e1c5"
      },
      "execution_count": null,
      "outputs": [
        {
          "output_type": "stream",
          "name": "stdout",
          "text": [
            "Status: Optimal\n",
            "Objective value: 219900.0\n",
            "Von Sunnyvale nach Falls: 45.0 ME\n",
            "Von Dublin nach Teaneck: 78.0 ME\n",
            "Von Dublin nach Chicago: 42.0 ME\n",
            "Von Bankok nach Amarillo: 80.0 ME\n",
            "Von Bankok nach Chicago: 5.0 ME\n",
            "Von Bankok nach Falls: 10.0 ME\n"
          ]
        }
      ]
    },
    {
      "cell_type": "code",
      "source": [],
      "metadata": {
        "id": "2SiP-N-EdZE7"
      },
      "execution_count": null,
      "outputs": []
    }
  ]
}