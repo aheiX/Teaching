{
  "nbformat": 4,
  "nbformat_minor": 0,
  "metadata": {
    "colab": {
      "provenance": [],
      "authorship_tag": "ABX9TyPCNJcdzwQPFhS/oRhfvBD/",
      "include_colab_link": true
    },
    "kernelspec": {
      "name": "python3",
      "display_name": "Python 3"
    },
    "language_info": {
      "name": "python"
    }
  },
  "cells": [
    {
      "cell_type": "markdown",
      "metadata": {
        "id": "view-in-github",
        "colab_type": "text"
      },
      "source": [
        "<a href=\"https://colab.research.google.com/github/aheiX/Teaching/blob/main/TSP_Heuristiken.ipynb\" target=\"_parent\"><img src=\"https://colab.research.google.com/assets/colab-badge.svg\" alt=\"Open In Colab\"/></a>"
      ]
    },
    {
      "cell_type": "markdown",
      "source": [
        "# TSP - Nächster Nachbar Heuristik"
      ],
      "metadata": {
        "id": "GbgpSw586Kk1"
      }
    },
    {
      "cell_type": "markdown",
      "source": [
        "## Daten"
      ],
      "metadata": {
        "id": "GMXKGXV36Pmk"
      }
    },
    {
      "cell_type": "code",
      "source": [
        "!pip install haversine\n",
        "import haversine"
      ],
      "metadata": {
        "id": "kKWTaeNKOQhH",
        "outputId": "6429e2c4-d9a3-4644-f29d-d4ead38cc41d",
        "colab": {
          "base_uri": "https://localhost:8080/"
        }
      },
      "execution_count": 1,
      "outputs": [
        {
          "output_type": "stream",
          "name": "stdout",
          "text": [
            "Looking in indexes: https://pypi.org/simple, https://us-python.pkg.dev/colab-wheels/public/simple/\n",
            "Collecting haversine\n",
            "  Downloading haversine-2.8.0-py2.py3-none-any.whl (7.7 kB)\n",
            "Installing collected packages: haversine\n",
            "Successfully installed haversine-2.8.0\n"
          ]
        }
      ]
    },
    {
      "cell_type": "code",
      "source": [
        "data = dict()\n",
        "data[\"Halle (Saale)\"]=dict(lon=11.9672201241301, lat=51.4970124613279)\n",
        "data[\"Magdeburg\"]=dict(lon=11.6363317198121, lat=52.1229002894915)\n",
        "data[\"Dessau-Roßlau\"]=dict(lon=12.2331141970666, lat=51.8442730013004)\n",
        "data[\"Lutherstadt Wittenberg\"]=dict(lon=12.6357720180488, lat=51.8737704942318)\n",
        "data[\"Weißenfels\"]=dict(lon=11.9683230903702, lat=51.1983573259)\n",
        "data[\"Halberstadt\"]=dict(lon=11.0495250643003, lat=51.8912329116255)\n",
        "data[\"Stendal\"]=dict(lon=11.8508504963119, lat=52.602278283988)\n",
        "\n",
        "# Direktdistanz berechnen\n",
        "dist = {i: {j: int(haversine.haversine((data[i]['lat'], data[i]['lon']), (data[j]['lat'], data[j]['lon'])))\n",
        "            for j in data}\n",
        "        for i in data}\n",
        "\n",
        "print(dist)\n",
        "\n",
        "# print as LaTex-Table\n",
        "print(r\"\\begin{tabular}{l lllllll}\")\n",
        "print(r\"\\toprule\")\n",
        "\n",
        "# top\n",
        "s = \" & \"\n",
        "for name in dist:\n",
        "  s +=  \" & \" + name\n",
        "s += r\" \\\\\"\n",
        "print(s)\n",
        "print(r\"\\midrule\")\n",
        "\n",
        "# body\n",
        "for name in dist:\n",
        "  s =  name\n",
        "  for key, value in dist[name].items():\n",
        "    s +=  \" & \" + str(value)\n",
        "  s += r\" \\\\\"\n",
        "  print(s)\n",
        "\n",
        "# bottom\n",
        "print(r\"\\bottomrule\")\n",
        "print(r\"\\end{tabular}\")"
      ],
      "metadata": {
        "id": "U1tbtV1iM7p1",
        "outputId": "dc4ce514-5401-4362-e247-628a8c834cf3",
        "colab": {
          "base_uri": "https://localhost:8080/"
        }
      },
      "execution_count": 18,
      "outputs": [
        {
          "output_type": "stream",
          "name": "stdout",
          "text": [
            "{'Halle (Saale)': {'Halle (Saale)': 0, 'Magdeburg': 73, 'Dessau-Roßlau': 42, 'Lutherstadt Wittenberg': 62, 'Weißenfels': 33, 'Halberstadt': 76, 'Stendal': 123}, 'Magdeburg': {'Halle (Saale)': 73, 'Magdeburg': 0, 'Dessau-Roßlau': 51, 'Lutherstadt Wittenberg': 73, 'Weißenfels': 105, 'Halberstadt': 47, 'Stendal': 55}, 'Dessau-Roßlau': {'Halle (Saale)': 42, 'Magdeburg': 51, 'Dessau-Roßlau': 0, 'Lutherstadt Wittenberg': 27, 'Weißenfels': 74, 'Halberstadt': 81, 'Stendal': 88}, 'Lutherstadt Wittenberg': {'Halle (Saale)': 62, 'Magdeburg': 73, 'Dessau-Roßlau': 27, 'Lutherstadt Wittenberg': 0, 'Weißenfels': 88, 'Halberstadt': 108, 'Stendal': 97}, 'Weißenfels': {'Halle (Saale)': 33, 'Magdeburg': 105, 'Dessau-Roßlau': 74, 'Lutherstadt Wittenberg': 88, 'Weißenfels': 0, 'Halberstadt': 99, 'Stendal': 156}, 'Halberstadt': {'Halle (Saale)': 76, 'Magdeburg': 47, 'Dessau-Roßlau': 81, 'Lutherstadt Wittenberg': 108, 'Weißenfels': 99, 'Halberstadt': 0, 'Stendal': 96}, 'Stendal': {'Halle (Saale)': 123, 'Magdeburg': 55, 'Dessau-Roßlau': 88, 'Lutherstadt Wittenberg': 97, 'Weißenfels': 156, 'Halberstadt': 96, 'Stendal': 0}}\n",
            "\\begin{tabular}{l lllllll}\n",
            "\\toprule\n",
            " &  & Halle (Saale) & Magdeburg & Dessau-Roßlau & Lutherstadt Wittenberg & Weißenfels & Halberstadt & Stendal \\\\\n",
            "\\midrule\n",
            "Halle (Saale) & 0 & 73 & 42 & 62 & 33 & 76 & 123 \\\\\n",
            "Magdeburg & 73 & 0 & 51 & 73 & 105 & 47 & 55 \\\\\n",
            "Dessau-Roßlau & 42 & 51 & 0 & 27 & 74 & 81 & 88 \\\\\n",
            "Lutherstadt Wittenberg & 62 & 73 & 27 & 0 & 88 & 108 & 97 \\\\\n",
            "Weißenfels & 33 & 105 & 74 & 88 & 0 & 99 & 156 \\\\\n",
            "Halberstadt & 76 & 47 & 81 & 108 & 99 & 0 & 96 \\\\\n",
            "Stendal & 123 & 55 & 88 & 97 & 156 & 96 & 0 \\\\\n",
            "\\bottomrule\n",
            "\\end{tabular}\n"
          ]
        }
      ]
    },
    {
      "cell_type": "markdown",
      "source": [
        "## Implementierung"
      ],
      "metadata": {
        "id": "hRO_cR8W6-0R"
      }
    },
    {
      "cell_type": "code",
      "source": [],
      "metadata": {
        "id": "hmmUeB6pllKQ"
      },
      "execution_count": null,
      "outputs": []
    }
  ]
}