{
  "nbformat": 4,
  "nbformat_minor": 0,
  "metadata": {
    "colab": {
      "provenance": [],
      "authorship_tag": "ABX9TyPn7UCh1Uiu4wAZndWEOeb/",
      "include_colab_link": true
    },
    "kernelspec": {
      "name": "python3",
      "display_name": "Python 3"
    },
    "language_info": {
      "name": "python"
    }
  },
  "cells": [
    {
      "cell_type": "markdown",
      "metadata": {
        "id": "view-in-github",
        "colab_type": "text"
      },
      "source": [
        "<a href=\"https://colab.research.google.com/github/aheiX/Teaching/blob/main/TSP_Heuristiken.ipynb\" target=\"_parent\"><img src=\"https://colab.research.google.com/assets/colab-badge.svg\" alt=\"Open In Colab\"/></a>"
      ]
    },
    {
      "cell_type": "markdown",
      "source": [
        "# TSP - Nächster Nachbar Heuristik"
      ],
      "metadata": {
        "id": "GbgpSw586Kk1"
      }
    },
    {
      "cell_type": "markdown",
      "source": [
        "## Daten"
      ],
      "metadata": {
        "id": "GMXKGXV36Pmk"
      }
    },
    {
      "cell_type": "code",
      "source": [
        "!pip install haversine\n",
        "!pip install pandas\n",
        "\n",
        "import haversine\n",
        "import pandas as pd"
      ],
      "metadata": {
        "id": "kKWTaeNKOQhH",
        "outputId": "5114bd74-4ccb-483b-e4cd-e40e18b39595",
        "colab": {
          "base_uri": "https://localhost:8080/"
        }
      },
      "execution_count": 1,
      "outputs": [
        {
          "output_type": "stream",
          "name": "stdout",
          "text": [
            "Looking in indexes: https://pypi.org/simple, https://us-python.pkg.dev/colab-wheels/public/simple/\n",
            "Collecting haversine\n",
            "  Downloading haversine-2.8.0-py2.py3-none-any.whl (7.7 kB)\n",
            "Installing collected packages: haversine\n",
            "Successfully installed haversine-2.8.0\n",
            "Looking in indexes: https://pypi.org/simple, https://us-python.pkg.dev/colab-wheels/public/simple/\n",
            "Requirement already satisfied: pandas in /usr/local/lib/python3.10/dist-packages (1.5.3)\n",
            "Requirement already satisfied: python-dateutil>=2.8.1 in /usr/local/lib/python3.10/dist-packages (from pandas) (2.8.2)\n",
            "Requirement already satisfied: pytz>=2020.1 in /usr/local/lib/python3.10/dist-packages (from pandas) (2022.7.1)\n",
            "Requirement already satisfied: numpy>=1.21.0 in /usr/local/lib/python3.10/dist-packages (from pandas) (1.22.4)\n",
            "Requirement already satisfied: six>=1.5 in /usr/local/lib/python3.10/dist-packages (from python-dateutil>=2.8.1->pandas) (1.16.0)\n"
          ]
        }
      ]
    },
    {
      "cell_type": "code",
      "source": [
        "# Daten erstellen\n",
        "input_data = dict()\n",
        "input_data[\"Halle (Saale)\"]=dict(lon=11.9672201241301, lat=51.4970124613279, pop=238.061)\n",
        "input_data[\"Magdeburg\"]=dict(lon=11.6363317198121, lat=52.1229002894915, pop=236.188)\n",
        "input_data[\"Dessau-Roßlau\"]=dict(lon=12.2331141970666, lat=51.8442730013004, pop=78.731)\n",
        "input_data[\"Lutherstadt Wittenberg\"]=dict(lon=12.6357720180488, lat=51.8737704942318, pop=44.984)\n",
        "input_data[\"Weißenfels\"]=dict(lon=11.9683230903702, lat=51.1983573259, pop=39.745)\n",
        "input_data[\"Halberstadt\"]=dict(lon=11.0495250643003, lat=51.8912329116255, pop=38.682)\n",
        "input_data[\"Stendal\"]=dict(lon=11.8508504963119, lat=52.602278283988, pop=38.359)\n",
        "\n",
        "# Daten als Dataframe\n",
        "df_input = {col_name: [input_data[name][col_name] for name in input_data] for col_name in ['lon', 'lat', 'pop']}\n",
        "df_input['name'] = input_data.keys()\n",
        "df_input = pd.DataFrame(data=df_input, columns=['name', 'pop', 'lon', 'lat'])\n",
        "\n",
        "# print(df)\n",
        "print(df_input.to_latex(index=False))\n",
        "\n",
        "\n",
        "# Distanzen berechnen\n",
        "dist = {i: {j: int(haversine.haversine((input_data[i]['lat'], input_data[i]['lon']), (input_data[j]['lat'], input_data[j]['lon'])))\n",
        "            for j in input_data}\n",
        "        for i in input_data}\n",
        "\n",
        "# Distanzen als Dataframe\n",
        "dist_df = {destin: [dist[origin][destin] for origin in input_data.keys()] for destin in input_data.keys()}\n",
        "dist_df['origin'] = input_data.keys()\n",
        "dist_df = pd.DataFrame(data=dist_df, columns=['origin'] + list(input_data.keys()))\n",
        "\n",
        "# print(dist_df)\n",
        "print(dist_df.to_latex(index=False))\n"
      ],
      "metadata": {
        "id": "U1tbtV1iM7p1",
        "outputId": "7a828abc-c09d-4713-b788-6cb098bc3604",
        "colab": {
          "base_uri": "https://localhost:8080/"
        }
      },
      "execution_count": 13,
      "outputs": [
        {
          "output_type": "stream",
          "name": "stdout",
          "text": [
            "\\begin{tabular}{lrrr}\n",
            "\\toprule\n",
            "                  name &     pop &       lon &       lat \\\\\n",
            "\\midrule\n",
            "         Halle (Saale) & 238.061 & 11.967220 & 51.497012 \\\\\n",
            "             Magdeburg & 236.188 & 11.636332 & 52.122900 \\\\\n",
            "         Dessau-Roßlau &  78.731 & 12.233114 & 51.844273 \\\\\n",
            "Lutherstadt Wittenberg &  44.984 & 12.635772 & 51.873770 \\\\\n",
            "            Weißenfels &  39.745 & 11.968323 & 51.198357 \\\\\n",
            "           Halberstadt &  38.682 & 11.049525 & 51.891233 \\\\\n",
            "               Stendal &  38.359 & 11.850850 & 52.602278 \\\\\n",
            "\\bottomrule\n",
            "\\end{tabular}\n",
            "\n",
            "\\begin{tabular}{lrrrrrrr}\n",
            "\\toprule\n",
            "                origin &  Halle (Saale) &  Magdeburg &  Dessau-Roßlau &  Lutherstadt Wittenberg &  Weißenfels &  Halberstadt &  Stendal \\\\\n",
            "\\midrule\n",
            "         Halle (Saale) &              0 &         73 &             42 &                      62 &          33 &           76 &      123 \\\\\n",
            "             Magdeburg &             73 &          0 &             51 &                      73 &         105 &           47 &       55 \\\\\n",
            "         Dessau-Roßlau &             42 &         51 &              0 &                      27 &          74 &           81 &       88 \\\\\n",
            "Lutherstadt Wittenberg &             62 &         73 &             27 &                       0 &          88 &          108 &       97 \\\\\n",
            "            Weißenfels &             33 &        105 &             74 &                      88 &           0 &           99 &      156 \\\\\n",
            "           Halberstadt &             76 &         47 &             81 &                     108 &          99 &            0 &       96 \\\\\n",
            "               Stendal &            123 &         55 &             88 &                      97 &         156 &           96 &        0 \\\\\n",
            "\\bottomrule\n",
            "\\end{tabular}\n",
            "\n"
          ]
        },
        {
          "output_type": "stream",
          "name": "stderr",
          "text": [
            "<ipython-input-13-9091a9fa7b52>:17: FutureWarning: In future versions `DataFrame.to_latex` is expected to utilise the base implementation of `Styler.to_latex` for formatting and rendering. The arguments signature may therefore change. It is recommended instead to use `DataFrame.style.to_latex` which also contains additional functionality.\n",
            "  print(df_input.to_latex(index=False))\n",
            "<ipython-input-13-9091a9fa7b52>:31: FutureWarning: In future versions `DataFrame.to_latex` is expected to utilise the base implementation of `Styler.to_latex` for formatting and rendering. The arguments signature may therefore change. It is recommended instead to use `DataFrame.style.to_latex` which also contains additional functionality.\n",
            "  print(dist_df.to_latex(index=False))\n"
          ]
        }
      ]
    },
    {
      "cell_type": "code",
      "source": [
        "import plotly.express as px\n",
        "\n",
        "data_map = {'name': [], 'lon': [], 'lat': [], 'depot': []}\n",
        "\n",
        "for depot in ['A', 'B']:\n",
        "  for origin in input_data.keys():\n",
        "    for destin in input_data.keys():\n",
        "      data_map['name'].append(origin)\n",
        "      data_map['lon'].append(input_data[origin]['lon'])\n",
        "      data_map['lat'].append(input_data[origin]['lat'])\n",
        "      data_map['depot'].append(depot)\n",
        "\n",
        "      data_map['name'].append(destin)\n",
        "      data_map['lon'].append(input_data[destin]['lon'])\n",
        "      data_map['lat'].append(input_data[destin]['lat'])\n",
        "      data_map['depot'].append(depot)\n",
        "\n",
        "      data_map['name'].append('')\n",
        "      data_map['lon'].append('')\n",
        "      data_map['lat'].append('')\n",
        "      data_map['depot'].append(depot)\n",
        "\n",
        "df_map = pd.DataFrame(data=data_map)\n",
        "\n",
        "fig = px.line_geo(df_map, lon='lon', lat='lat', text='name',\n",
        "                  fitbounds='locations',\n",
        "                  hover_name='name',\n",
        "                  facet_col='depot',\n",
        "                  facet_col_wrap=4\n",
        "                  )\n",
        "\n",
        "# fig.update_layout(\n",
        "#     title_text = 'TSP Sachsen-Anhalt)',\n",
        "#     geo = dict(\n",
        "#         # scope = 'north america',\n",
        "#         projection_type = 'azimuthal equal area',\n",
        "#         showland = True,\n",
        "#         landcolor = 'rgb(243, 243, 243)',\n",
        "#         countrycolor = 'rgb(204, 204, 204)',\n",
        "#     ),\n",
        "# )\n",
        "\n",
        "# fig.update_traces(\n",
        "#     marker=dict(size=20)\n",
        "# )\n",
        "\n",
        "\n",
        "fig.show()"
      ],
      "metadata": {
        "id": "v2VNeiu8DZvc",
        "outputId": "f2fbacf4-6048-4e01-fe3a-b28442739931",
        "colab": {
          "base_uri": "https://localhost:8080/",
          "height": 542
        }
      },
      "execution_count": 30,
      "outputs": [
        {
          "output_type": "display_data",
          "data": {
            "text/html": [
              "<html>\n",
              "<head><meta charset=\"utf-8\" /></head>\n",
              "<body>\n",
              "    <div>            <script src=\"https://cdnjs.cloudflare.com/ajax/libs/mathjax/2.7.5/MathJax.js?config=TeX-AMS-MML_SVG\"></script><script type=\"text/javascript\">if (window.MathJax && window.MathJax.Hub && window.MathJax.Hub.Config) {window.MathJax.Hub.Config({SVG: {font: \"STIX-Web\"}});}</script>                <script type=\"text/javascript\">window.PlotlyConfig = {MathJaxConfig: 'local'};</script>\n",
              "        <script src=\"https://cdn.plot.ly/plotly-2.18.2.min.js\"></script>                <div id=\"fb9459a1-5b5f-4170-8b2e-3cee178307cc\" class=\"plotly-graph-div\" style=\"height:525px; width:100%;\"></div>            <script type=\"text/javascript\">                                    window.PLOTLYENV=window.PLOTLYENV || {};                                    if (document.getElementById(\"fb9459a1-5b5f-4170-8b2e-3cee178307cc\")) {                    Plotly.newPlot(                        \"fb9459a1-5b5f-4170-8b2e-3cee178307cc\",                        [{\"geo\":\"geo\",\"hovertemplate\":\"<b>%{hovertext}</b><br><br>depot=A<br>name=%{text}<br>lat=%{lat}<br>lon=%{lon}<extra></extra>\",\"hovertext\":[\"Halle (Saale)\",\"Halle (Saale)\",\"\",\"Halle (Saale)\",\"Magdeburg\",\"\",\"Halle (Saale)\",\"Dessau-Ro\\u00dflau\",\"\",\"Halle (Saale)\",\"Lutherstadt Wittenberg\",\"\",\"Halle (Saale)\",\"Wei\\u00dfenfels\",\"\",\"Halle (Saale)\",\"Halberstadt\",\"\",\"Halle (Saale)\",\"Stendal\",\"\",\"Magdeburg\",\"Halle (Saale)\",\"\",\"Magdeburg\",\"Magdeburg\",\"\",\"Magdeburg\",\"Dessau-Ro\\u00dflau\",\"\",\"Magdeburg\",\"Lutherstadt Wittenberg\",\"\",\"Magdeburg\",\"Wei\\u00dfenfels\",\"\",\"Magdeburg\",\"Halberstadt\",\"\",\"Magdeburg\",\"Stendal\",\"\",\"Dessau-Ro\\u00dflau\",\"Halle (Saale)\",\"\",\"Dessau-Ro\\u00dflau\",\"Magdeburg\",\"\",\"Dessau-Ro\\u00dflau\",\"Dessau-Ro\\u00dflau\",\"\",\"Dessau-Ro\\u00dflau\",\"Lutherstadt Wittenberg\",\"\",\"Dessau-Ro\\u00dflau\",\"Wei\\u00dfenfels\",\"\",\"Dessau-Ro\\u00dflau\",\"Halberstadt\",\"\",\"Dessau-Ro\\u00dflau\",\"Stendal\",\"\",\"Lutherstadt Wittenberg\",\"Halle (Saale)\",\"\",\"Lutherstadt Wittenberg\",\"Magdeburg\",\"\",\"Lutherstadt Wittenberg\",\"Dessau-Ro\\u00dflau\",\"\",\"Lutherstadt Wittenberg\",\"Lutherstadt Wittenberg\",\"\",\"Lutherstadt Wittenberg\",\"Wei\\u00dfenfels\",\"\",\"Lutherstadt Wittenberg\",\"Halberstadt\",\"\",\"Lutherstadt Wittenberg\",\"Stendal\",\"\",\"Wei\\u00dfenfels\",\"Halle (Saale)\",\"\",\"Wei\\u00dfenfels\",\"Magdeburg\",\"\",\"Wei\\u00dfenfels\",\"Dessau-Ro\\u00dflau\",\"\",\"Wei\\u00dfenfels\",\"Lutherstadt Wittenberg\",\"\",\"Wei\\u00dfenfels\",\"Wei\\u00dfenfels\",\"\",\"Wei\\u00dfenfels\",\"Halberstadt\",\"\",\"Wei\\u00dfenfels\",\"Stendal\",\"\",\"Halberstadt\",\"Halle (Saale)\",\"\",\"Halberstadt\",\"Magdeburg\",\"\",\"Halberstadt\",\"Dessau-Ro\\u00dflau\",\"\",\"Halberstadt\",\"Lutherstadt Wittenberg\",\"\",\"Halberstadt\",\"Wei\\u00dfenfels\",\"\",\"Halberstadt\",\"Halberstadt\",\"\",\"Halberstadt\",\"Stendal\",\"\",\"Stendal\",\"Halle (Saale)\",\"\",\"Stendal\",\"Magdeburg\",\"\",\"Stendal\",\"Dessau-Ro\\u00dflau\",\"\",\"Stendal\",\"Lutherstadt Wittenberg\",\"\",\"Stendal\",\"Wei\\u00dfenfels\",\"\",\"Stendal\",\"Halberstadt\",\"\",\"Stendal\",\"Stendal\",\"\"],\"lat\":[51.4970124613279,51.4970124613279,\"\",51.4970124613279,52.1229002894915,\"\",51.4970124613279,51.8442730013004,\"\",51.4970124613279,51.8737704942318,\"\",51.4970124613279,51.1983573259,\"\",51.4970124613279,51.8912329116255,\"\",51.4970124613279,52.602278283988,\"\",52.1229002894915,51.4970124613279,\"\",52.1229002894915,52.1229002894915,\"\",52.1229002894915,51.8442730013004,\"\",52.1229002894915,51.8737704942318,\"\",52.1229002894915,51.1983573259,\"\",52.1229002894915,51.8912329116255,\"\",52.1229002894915,52.602278283988,\"\",51.8442730013004,51.4970124613279,\"\",51.8442730013004,52.1229002894915,\"\",51.8442730013004,51.8442730013004,\"\",51.8442730013004,51.8737704942318,\"\",51.8442730013004,51.1983573259,\"\",51.8442730013004,51.8912329116255,\"\",51.8442730013004,52.602278283988,\"\",51.8737704942318,51.4970124613279,\"\",51.8737704942318,52.1229002894915,\"\",51.8737704942318,51.8442730013004,\"\",51.8737704942318,51.8737704942318,\"\",51.8737704942318,51.1983573259,\"\",51.8737704942318,51.8912329116255,\"\",51.8737704942318,52.602278283988,\"\",51.1983573259,51.4970124613279,\"\",51.1983573259,52.1229002894915,\"\",51.1983573259,51.8442730013004,\"\",51.1983573259,51.8737704942318,\"\",51.1983573259,51.1983573259,\"\",51.1983573259,51.8912329116255,\"\",51.1983573259,52.602278283988,\"\",51.8912329116255,51.4970124613279,\"\",51.8912329116255,52.1229002894915,\"\",51.8912329116255,51.8442730013004,\"\",51.8912329116255,51.8737704942318,\"\",51.8912329116255,51.1983573259,\"\",51.8912329116255,51.8912329116255,\"\",51.8912329116255,52.602278283988,\"\",52.602278283988,51.4970124613279,\"\",52.602278283988,52.1229002894915,\"\",52.602278283988,51.8442730013004,\"\",52.602278283988,51.8737704942318,\"\",52.602278283988,51.1983573259,\"\",52.602278283988,51.8912329116255,\"\",52.602278283988,52.602278283988,\"\"],\"legendgroup\":\"\",\"line\":{\"color\":\"#636efa\",\"dash\":\"solid\"},\"lon\":[11.9672201241301,11.9672201241301,\"\",11.9672201241301,11.6363317198121,\"\",11.9672201241301,12.2331141970666,\"\",11.9672201241301,12.6357720180488,\"\",11.9672201241301,11.9683230903702,\"\",11.9672201241301,11.0495250643003,\"\",11.9672201241301,11.8508504963119,\"\",11.6363317198121,11.9672201241301,\"\",11.6363317198121,11.6363317198121,\"\",11.6363317198121,12.2331141970666,\"\",11.6363317198121,12.6357720180488,\"\",11.6363317198121,11.9683230903702,\"\",11.6363317198121,11.0495250643003,\"\",11.6363317198121,11.8508504963119,\"\",12.2331141970666,11.9672201241301,\"\",12.2331141970666,11.6363317198121,\"\",12.2331141970666,12.2331141970666,\"\",12.2331141970666,12.6357720180488,\"\",12.2331141970666,11.9683230903702,\"\",12.2331141970666,11.0495250643003,\"\",12.2331141970666,11.8508504963119,\"\",12.6357720180488,11.9672201241301,\"\",12.6357720180488,11.6363317198121,\"\",12.6357720180488,12.2331141970666,\"\",12.6357720180488,12.6357720180488,\"\",12.6357720180488,11.9683230903702,\"\",12.6357720180488,11.0495250643003,\"\",12.6357720180488,11.8508504963119,\"\",11.9683230903702,11.9672201241301,\"\",11.9683230903702,11.6363317198121,\"\",11.9683230903702,12.2331141970666,\"\",11.9683230903702,12.6357720180488,\"\",11.9683230903702,11.9683230903702,\"\",11.9683230903702,11.0495250643003,\"\",11.9683230903702,11.8508504963119,\"\",11.0495250643003,11.9672201241301,\"\",11.0495250643003,11.6363317198121,\"\",11.0495250643003,12.2331141970666,\"\",11.0495250643003,12.6357720180488,\"\",11.0495250643003,11.9683230903702,\"\",11.0495250643003,11.0495250643003,\"\",11.0495250643003,11.8508504963119,\"\",11.8508504963119,11.9672201241301,\"\",11.8508504963119,11.6363317198121,\"\",11.8508504963119,12.2331141970666,\"\",11.8508504963119,12.6357720180488,\"\",11.8508504963119,11.9683230903702,\"\",11.8508504963119,11.0495250643003,\"\",11.8508504963119,11.8508504963119,\"\"],\"marker\":{\"symbol\":\"circle\"},\"mode\":\"markers+text+lines\",\"name\":\"\",\"showlegend\":false,\"text\":[\"Halle (Saale)\",\"Halle (Saale)\",\"\",\"Halle (Saale)\",\"Magdeburg\",\"\",\"Halle (Saale)\",\"Dessau-Ro\\u00dflau\",\"\",\"Halle (Saale)\",\"Lutherstadt Wittenberg\",\"\",\"Halle (Saale)\",\"Wei\\u00dfenfels\",\"\",\"Halle (Saale)\",\"Halberstadt\",\"\",\"Halle (Saale)\",\"Stendal\",\"\",\"Magdeburg\",\"Halle (Saale)\",\"\",\"Magdeburg\",\"Magdeburg\",\"\",\"Magdeburg\",\"Dessau-Ro\\u00dflau\",\"\",\"Magdeburg\",\"Lutherstadt Wittenberg\",\"\",\"Magdeburg\",\"Wei\\u00dfenfels\",\"\",\"Magdeburg\",\"Halberstadt\",\"\",\"Magdeburg\",\"Stendal\",\"\",\"Dessau-Ro\\u00dflau\",\"Halle (Saale)\",\"\",\"Dessau-Ro\\u00dflau\",\"Magdeburg\",\"\",\"Dessau-Ro\\u00dflau\",\"Dessau-Ro\\u00dflau\",\"\",\"Dessau-Ro\\u00dflau\",\"Lutherstadt Wittenberg\",\"\",\"Dessau-Ro\\u00dflau\",\"Wei\\u00dfenfels\",\"\",\"Dessau-Ro\\u00dflau\",\"Halberstadt\",\"\",\"Dessau-Ro\\u00dflau\",\"Stendal\",\"\",\"Lutherstadt Wittenberg\",\"Halle (Saale)\",\"\",\"Lutherstadt Wittenberg\",\"Magdeburg\",\"\",\"Lutherstadt Wittenberg\",\"Dessau-Ro\\u00dflau\",\"\",\"Lutherstadt Wittenberg\",\"Lutherstadt Wittenberg\",\"\",\"Lutherstadt Wittenberg\",\"Wei\\u00dfenfels\",\"\",\"Lutherstadt Wittenberg\",\"Halberstadt\",\"\",\"Lutherstadt Wittenberg\",\"Stendal\",\"\",\"Wei\\u00dfenfels\",\"Halle (Saale)\",\"\",\"Wei\\u00dfenfels\",\"Magdeburg\",\"\",\"Wei\\u00dfenfels\",\"Dessau-Ro\\u00dflau\",\"\",\"Wei\\u00dfenfels\",\"Lutherstadt Wittenberg\",\"\",\"Wei\\u00dfenfels\",\"Wei\\u00dfenfels\",\"\",\"Wei\\u00dfenfels\",\"Halberstadt\",\"\",\"Wei\\u00dfenfels\",\"Stendal\",\"\",\"Halberstadt\",\"Halle (Saale)\",\"\",\"Halberstadt\",\"Magdeburg\",\"\",\"Halberstadt\",\"Dessau-Ro\\u00dflau\",\"\",\"Halberstadt\",\"Lutherstadt Wittenberg\",\"\",\"Halberstadt\",\"Wei\\u00dfenfels\",\"\",\"Halberstadt\",\"Halberstadt\",\"\",\"Halberstadt\",\"Stendal\",\"\",\"Stendal\",\"Halle (Saale)\",\"\",\"Stendal\",\"Magdeburg\",\"\",\"Stendal\",\"Dessau-Ro\\u00dflau\",\"\",\"Stendal\",\"Lutherstadt Wittenberg\",\"\",\"Stendal\",\"Wei\\u00dfenfels\",\"\",\"Stendal\",\"Halberstadt\",\"\",\"Stendal\",\"Stendal\",\"\"],\"type\":\"scattergeo\"},{\"geo\":\"geo2\",\"hovertemplate\":\"<b>%{hovertext}</b><br><br>depot=B<br>name=%{text}<br>lat=%{lat}<br>lon=%{lon}<extra></extra>\",\"hovertext\":[\"Halle (Saale)\",\"Halle (Saale)\",\"\",\"Halle (Saale)\",\"Magdeburg\",\"\",\"Halle (Saale)\",\"Dessau-Ro\\u00dflau\",\"\",\"Halle (Saale)\",\"Lutherstadt Wittenberg\",\"\",\"Halle (Saale)\",\"Wei\\u00dfenfels\",\"\",\"Halle (Saale)\",\"Halberstadt\",\"\",\"Halle (Saale)\",\"Stendal\",\"\",\"Magdeburg\",\"Halle (Saale)\",\"\",\"Magdeburg\",\"Magdeburg\",\"\",\"Magdeburg\",\"Dessau-Ro\\u00dflau\",\"\",\"Magdeburg\",\"Lutherstadt Wittenberg\",\"\",\"Magdeburg\",\"Wei\\u00dfenfels\",\"\",\"Magdeburg\",\"Halberstadt\",\"\",\"Magdeburg\",\"Stendal\",\"\",\"Dessau-Ro\\u00dflau\",\"Halle (Saale)\",\"\",\"Dessau-Ro\\u00dflau\",\"Magdeburg\",\"\",\"Dessau-Ro\\u00dflau\",\"Dessau-Ro\\u00dflau\",\"\",\"Dessau-Ro\\u00dflau\",\"Lutherstadt Wittenberg\",\"\",\"Dessau-Ro\\u00dflau\",\"Wei\\u00dfenfels\",\"\",\"Dessau-Ro\\u00dflau\",\"Halberstadt\",\"\",\"Dessau-Ro\\u00dflau\",\"Stendal\",\"\",\"Lutherstadt Wittenberg\",\"Halle (Saale)\",\"\",\"Lutherstadt Wittenberg\",\"Magdeburg\",\"\",\"Lutherstadt Wittenberg\",\"Dessau-Ro\\u00dflau\",\"\",\"Lutherstadt Wittenberg\",\"Lutherstadt Wittenberg\",\"\",\"Lutherstadt Wittenberg\",\"Wei\\u00dfenfels\",\"\",\"Lutherstadt Wittenberg\",\"Halberstadt\",\"\",\"Lutherstadt Wittenberg\",\"Stendal\",\"\",\"Wei\\u00dfenfels\",\"Halle (Saale)\",\"\",\"Wei\\u00dfenfels\",\"Magdeburg\",\"\",\"Wei\\u00dfenfels\",\"Dessau-Ro\\u00dflau\",\"\",\"Wei\\u00dfenfels\",\"Lutherstadt Wittenberg\",\"\",\"Wei\\u00dfenfels\",\"Wei\\u00dfenfels\",\"\",\"Wei\\u00dfenfels\",\"Halberstadt\",\"\",\"Wei\\u00dfenfels\",\"Stendal\",\"\",\"Halberstadt\",\"Halle (Saale)\",\"\",\"Halberstadt\",\"Magdeburg\",\"\",\"Halberstadt\",\"Dessau-Ro\\u00dflau\",\"\",\"Halberstadt\",\"Lutherstadt Wittenberg\",\"\",\"Halberstadt\",\"Wei\\u00dfenfels\",\"\",\"Halberstadt\",\"Halberstadt\",\"\",\"Halberstadt\",\"Stendal\",\"\",\"Stendal\",\"Halle (Saale)\",\"\",\"Stendal\",\"Magdeburg\",\"\",\"Stendal\",\"Dessau-Ro\\u00dflau\",\"\",\"Stendal\",\"Lutherstadt Wittenberg\",\"\",\"Stendal\",\"Wei\\u00dfenfels\",\"\",\"Stendal\",\"Halberstadt\",\"\",\"Stendal\",\"Stendal\",\"\"],\"lat\":[51.4970124613279,51.4970124613279,\"\",51.4970124613279,52.1229002894915,\"\",51.4970124613279,51.8442730013004,\"\",51.4970124613279,51.8737704942318,\"\",51.4970124613279,51.1983573259,\"\",51.4970124613279,51.8912329116255,\"\",51.4970124613279,52.602278283988,\"\",52.1229002894915,51.4970124613279,\"\",52.1229002894915,52.1229002894915,\"\",52.1229002894915,51.8442730013004,\"\",52.1229002894915,51.8737704942318,\"\",52.1229002894915,51.1983573259,\"\",52.1229002894915,51.8912329116255,\"\",52.1229002894915,52.602278283988,\"\",51.8442730013004,51.4970124613279,\"\",51.8442730013004,52.1229002894915,\"\",51.8442730013004,51.8442730013004,\"\",51.8442730013004,51.8737704942318,\"\",51.8442730013004,51.1983573259,\"\",51.8442730013004,51.8912329116255,\"\",51.8442730013004,52.602278283988,\"\",51.8737704942318,51.4970124613279,\"\",51.8737704942318,52.1229002894915,\"\",51.8737704942318,51.8442730013004,\"\",51.8737704942318,51.8737704942318,\"\",51.8737704942318,51.1983573259,\"\",51.8737704942318,51.8912329116255,\"\",51.8737704942318,52.602278283988,\"\",51.1983573259,51.4970124613279,\"\",51.1983573259,52.1229002894915,\"\",51.1983573259,51.8442730013004,\"\",51.1983573259,51.8737704942318,\"\",51.1983573259,51.1983573259,\"\",51.1983573259,51.8912329116255,\"\",51.1983573259,52.602278283988,\"\",51.8912329116255,51.4970124613279,\"\",51.8912329116255,52.1229002894915,\"\",51.8912329116255,51.8442730013004,\"\",51.8912329116255,51.8737704942318,\"\",51.8912329116255,51.1983573259,\"\",51.8912329116255,51.8912329116255,\"\",51.8912329116255,52.602278283988,\"\",52.602278283988,51.4970124613279,\"\",52.602278283988,52.1229002894915,\"\",52.602278283988,51.8442730013004,\"\",52.602278283988,51.8737704942318,\"\",52.602278283988,51.1983573259,\"\",52.602278283988,51.8912329116255,\"\",52.602278283988,52.602278283988,\"\"],\"legendgroup\":\"\",\"line\":{\"color\":\"#636efa\",\"dash\":\"solid\"},\"lon\":[11.9672201241301,11.9672201241301,\"\",11.9672201241301,11.6363317198121,\"\",11.9672201241301,12.2331141970666,\"\",11.9672201241301,12.6357720180488,\"\",11.9672201241301,11.9683230903702,\"\",11.9672201241301,11.0495250643003,\"\",11.9672201241301,11.8508504963119,\"\",11.6363317198121,11.9672201241301,\"\",11.6363317198121,11.6363317198121,\"\",11.6363317198121,12.2331141970666,\"\",11.6363317198121,12.6357720180488,\"\",11.6363317198121,11.9683230903702,\"\",11.6363317198121,11.0495250643003,\"\",11.6363317198121,11.8508504963119,\"\",12.2331141970666,11.9672201241301,\"\",12.2331141970666,11.6363317198121,\"\",12.2331141970666,12.2331141970666,\"\",12.2331141970666,12.6357720180488,\"\",12.2331141970666,11.9683230903702,\"\",12.2331141970666,11.0495250643003,\"\",12.2331141970666,11.8508504963119,\"\",12.6357720180488,11.9672201241301,\"\",12.6357720180488,11.6363317198121,\"\",12.6357720180488,12.2331141970666,\"\",12.6357720180488,12.6357720180488,\"\",12.6357720180488,11.9683230903702,\"\",12.6357720180488,11.0495250643003,\"\",12.6357720180488,11.8508504963119,\"\",11.9683230903702,11.9672201241301,\"\",11.9683230903702,11.6363317198121,\"\",11.9683230903702,12.2331141970666,\"\",11.9683230903702,12.6357720180488,\"\",11.9683230903702,11.9683230903702,\"\",11.9683230903702,11.0495250643003,\"\",11.9683230903702,11.8508504963119,\"\",11.0495250643003,11.9672201241301,\"\",11.0495250643003,11.6363317198121,\"\",11.0495250643003,12.2331141970666,\"\",11.0495250643003,12.6357720180488,\"\",11.0495250643003,11.9683230903702,\"\",11.0495250643003,11.0495250643003,\"\",11.0495250643003,11.8508504963119,\"\",11.8508504963119,11.9672201241301,\"\",11.8508504963119,11.6363317198121,\"\",11.8508504963119,12.2331141970666,\"\",11.8508504963119,12.6357720180488,\"\",11.8508504963119,11.9683230903702,\"\",11.8508504963119,11.0495250643003,\"\",11.8508504963119,11.8508504963119,\"\"],\"marker\":{\"symbol\":\"circle\"},\"mode\":\"markers+text+lines\",\"name\":\"\",\"showlegend\":false,\"text\":[\"Halle (Saale)\",\"Halle (Saale)\",\"\",\"Halle (Saale)\",\"Magdeburg\",\"\",\"Halle (Saale)\",\"Dessau-Ro\\u00dflau\",\"\",\"Halle (Saale)\",\"Lutherstadt Wittenberg\",\"\",\"Halle (Saale)\",\"Wei\\u00dfenfels\",\"\",\"Halle (Saale)\",\"Halberstadt\",\"\",\"Halle (Saale)\",\"Stendal\",\"\",\"Magdeburg\",\"Halle (Saale)\",\"\",\"Magdeburg\",\"Magdeburg\",\"\",\"Magdeburg\",\"Dessau-Ro\\u00dflau\",\"\",\"Magdeburg\",\"Lutherstadt Wittenberg\",\"\",\"Magdeburg\",\"Wei\\u00dfenfels\",\"\",\"Magdeburg\",\"Halberstadt\",\"\",\"Magdeburg\",\"Stendal\",\"\",\"Dessau-Ro\\u00dflau\",\"Halle (Saale)\",\"\",\"Dessau-Ro\\u00dflau\",\"Magdeburg\",\"\",\"Dessau-Ro\\u00dflau\",\"Dessau-Ro\\u00dflau\",\"\",\"Dessau-Ro\\u00dflau\",\"Lutherstadt Wittenberg\",\"\",\"Dessau-Ro\\u00dflau\",\"Wei\\u00dfenfels\",\"\",\"Dessau-Ro\\u00dflau\",\"Halberstadt\",\"\",\"Dessau-Ro\\u00dflau\",\"Stendal\",\"\",\"Lutherstadt Wittenberg\",\"Halle (Saale)\",\"\",\"Lutherstadt Wittenberg\",\"Magdeburg\",\"\",\"Lutherstadt Wittenberg\",\"Dessau-Ro\\u00dflau\",\"\",\"Lutherstadt Wittenberg\",\"Lutherstadt Wittenberg\",\"\",\"Lutherstadt Wittenberg\",\"Wei\\u00dfenfels\",\"\",\"Lutherstadt Wittenberg\",\"Halberstadt\",\"\",\"Lutherstadt Wittenberg\",\"Stendal\",\"\",\"Wei\\u00dfenfels\",\"Halle (Saale)\",\"\",\"Wei\\u00dfenfels\",\"Magdeburg\",\"\",\"Wei\\u00dfenfels\",\"Dessau-Ro\\u00dflau\",\"\",\"Wei\\u00dfenfels\",\"Lutherstadt Wittenberg\",\"\",\"Wei\\u00dfenfels\",\"Wei\\u00dfenfels\",\"\",\"Wei\\u00dfenfels\",\"Halberstadt\",\"\",\"Wei\\u00dfenfels\",\"Stendal\",\"\",\"Halberstadt\",\"Halle (Saale)\",\"\",\"Halberstadt\",\"Magdeburg\",\"\",\"Halberstadt\",\"Dessau-Ro\\u00dflau\",\"\",\"Halberstadt\",\"Lutherstadt Wittenberg\",\"\",\"Halberstadt\",\"Wei\\u00dfenfels\",\"\",\"Halberstadt\",\"Halberstadt\",\"\",\"Halberstadt\",\"Stendal\",\"\",\"Stendal\",\"Halle (Saale)\",\"\",\"Stendal\",\"Magdeburg\",\"\",\"Stendal\",\"Dessau-Ro\\u00dflau\",\"\",\"Stendal\",\"Lutherstadt Wittenberg\",\"\",\"Stendal\",\"Wei\\u00dfenfels\",\"\",\"Stendal\",\"Halberstadt\",\"\",\"Stendal\",\"Stendal\",\"\"],\"type\":\"scattergeo\"}],                        {\"template\":{\"data\":{\"histogram2dcontour\":[{\"type\":\"histogram2dcontour\",\"colorbar\":{\"outlinewidth\":0,\"ticks\":\"\"},\"colorscale\":[[0.0,\"#0d0887\"],[0.1111111111111111,\"#46039f\"],[0.2222222222222222,\"#7201a8\"],[0.3333333333333333,\"#9c179e\"],[0.4444444444444444,\"#bd3786\"],[0.5555555555555556,\"#d8576b\"],[0.6666666666666666,\"#ed7953\"],[0.7777777777777778,\"#fb9f3a\"],[0.8888888888888888,\"#fdca26\"],[1.0,\"#f0f921\"]]}],\"choropleth\":[{\"type\":\"choropleth\",\"colorbar\":{\"outlinewidth\":0,\"ticks\":\"\"}}],\"histogram2d\":[{\"type\":\"histogram2d\",\"colorbar\":{\"outlinewidth\":0,\"ticks\":\"\"},\"colorscale\":[[0.0,\"#0d0887\"],[0.1111111111111111,\"#46039f\"],[0.2222222222222222,\"#7201a8\"],[0.3333333333333333,\"#9c179e\"],[0.4444444444444444,\"#bd3786\"],[0.5555555555555556,\"#d8576b\"],[0.6666666666666666,\"#ed7953\"],[0.7777777777777778,\"#fb9f3a\"],[0.8888888888888888,\"#fdca26\"],[1.0,\"#f0f921\"]]}],\"heatmap\":[{\"type\":\"heatmap\",\"colorbar\":{\"outlinewidth\":0,\"ticks\":\"\"},\"colorscale\":[[0.0,\"#0d0887\"],[0.1111111111111111,\"#46039f\"],[0.2222222222222222,\"#7201a8\"],[0.3333333333333333,\"#9c179e\"],[0.4444444444444444,\"#bd3786\"],[0.5555555555555556,\"#d8576b\"],[0.6666666666666666,\"#ed7953\"],[0.7777777777777778,\"#fb9f3a\"],[0.8888888888888888,\"#fdca26\"],[1.0,\"#f0f921\"]]}],\"heatmapgl\":[{\"type\":\"heatmapgl\",\"colorbar\":{\"outlinewidth\":0,\"ticks\":\"\"},\"colorscale\":[[0.0,\"#0d0887\"],[0.1111111111111111,\"#46039f\"],[0.2222222222222222,\"#7201a8\"],[0.3333333333333333,\"#9c179e\"],[0.4444444444444444,\"#bd3786\"],[0.5555555555555556,\"#d8576b\"],[0.6666666666666666,\"#ed7953\"],[0.7777777777777778,\"#fb9f3a\"],[0.8888888888888888,\"#fdca26\"],[1.0,\"#f0f921\"]]}],\"contourcarpet\":[{\"type\":\"contourcarpet\",\"colorbar\":{\"outlinewidth\":0,\"ticks\":\"\"}}],\"contour\":[{\"type\":\"contour\",\"colorbar\":{\"outlinewidth\":0,\"ticks\":\"\"},\"colorscale\":[[0.0,\"#0d0887\"],[0.1111111111111111,\"#46039f\"],[0.2222222222222222,\"#7201a8\"],[0.3333333333333333,\"#9c179e\"],[0.4444444444444444,\"#bd3786\"],[0.5555555555555556,\"#d8576b\"],[0.6666666666666666,\"#ed7953\"],[0.7777777777777778,\"#fb9f3a\"],[0.8888888888888888,\"#fdca26\"],[1.0,\"#f0f921\"]]}],\"surface\":[{\"type\":\"surface\",\"colorbar\":{\"outlinewidth\":0,\"ticks\":\"\"},\"colorscale\":[[0.0,\"#0d0887\"],[0.1111111111111111,\"#46039f\"],[0.2222222222222222,\"#7201a8\"],[0.3333333333333333,\"#9c179e\"],[0.4444444444444444,\"#bd3786\"],[0.5555555555555556,\"#d8576b\"],[0.6666666666666666,\"#ed7953\"],[0.7777777777777778,\"#fb9f3a\"],[0.8888888888888888,\"#fdca26\"],[1.0,\"#f0f921\"]]}],\"mesh3d\":[{\"type\":\"mesh3d\",\"colorbar\":{\"outlinewidth\":0,\"ticks\":\"\"}}],\"scatter\":[{\"fillpattern\":{\"fillmode\":\"overlay\",\"size\":10,\"solidity\":0.2},\"type\":\"scatter\"}],\"parcoords\":[{\"type\":\"parcoords\",\"line\":{\"colorbar\":{\"outlinewidth\":0,\"ticks\":\"\"}}}],\"scatterpolargl\":[{\"type\":\"scatterpolargl\",\"marker\":{\"colorbar\":{\"outlinewidth\":0,\"ticks\":\"\"}}}],\"bar\":[{\"error_x\":{\"color\":\"#2a3f5f\"},\"error_y\":{\"color\":\"#2a3f5f\"},\"marker\":{\"line\":{\"color\":\"#E5ECF6\",\"width\":0.5},\"pattern\":{\"fillmode\":\"overlay\",\"size\":10,\"solidity\":0.2}},\"type\":\"bar\"}],\"scattergeo\":[{\"type\":\"scattergeo\",\"marker\":{\"colorbar\":{\"outlinewidth\":0,\"ticks\":\"\"}}}],\"scatterpolar\":[{\"type\":\"scatterpolar\",\"marker\":{\"colorbar\":{\"outlinewidth\":0,\"ticks\":\"\"}}}],\"histogram\":[{\"marker\":{\"pattern\":{\"fillmode\":\"overlay\",\"size\":10,\"solidity\":0.2}},\"type\":\"histogram\"}],\"scattergl\":[{\"type\":\"scattergl\",\"marker\":{\"colorbar\":{\"outlinewidth\":0,\"ticks\":\"\"}}}],\"scatter3d\":[{\"type\":\"scatter3d\",\"line\":{\"colorbar\":{\"outlinewidth\":0,\"ticks\":\"\"}},\"marker\":{\"colorbar\":{\"outlinewidth\":0,\"ticks\":\"\"}}}],\"scattermapbox\":[{\"type\":\"scattermapbox\",\"marker\":{\"colorbar\":{\"outlinewidth\":0,\"ticks\":\"\"}}}],\"scatterternary\":[{\"type\":\"scatterternary\",\"marker\":{\"colorbar\":{\"outlinewidth\":0,\"ticks\":\"\"}}}],\"scattercarpet\":[{\"type\":\"scattercarpet\",\"marker\":{\"colorbar\":{\"outlinewidth\":0,\"ticks\":\"\"}}}],\"carpet\":[{\"aaxis\":{\"endlinecolor\":\"#2a3f5f\",\"gridcolor\":\"white\",\"linecolor\":\"white\",\"minorgridcolor\":\"white\",\"startlinecolor\":\"#2a3f5f\"},\"baxis\":{\"endlinecolor\":\"#2a3f5f\",\"gridcolor\":\"white\",\"linecolor\":\"white\",\"minorgridcolor\":\"white\",\"startlinecolor\":\"#2a3f5f\"},\"type\":\"carpet\"}],\"table\":[{\"cells\":{\"fill\":{\"color\":\"#EBF0F8\"},\"line\":{\"color\":\"white\"}},\"header\":{\"fill\":{\"color\":\"#C8D4E3\"},\"line\":{\"color\":\"white\"}},\"type\":\"table\"}],\"barpolar\":[{\"marker\":{\"line\":{\"color\":\"#E5ECF6\",\"width\":0.5},\"pattern\":{\"fillmode\":\"overlay\",\"size\":10,\"solidity\":0.2}},\"type\":\"barpolar\"}],\"pie\":[{\"automargin\":true,\"type\":\"pie\"}]},\"layout\":{\"autotypenumbers\":\"strict\",\"colorway\":[\"#636efa\",\"#EF553B\",\"#00cc96\",\"#ab63fa\",\"#FFA15A\",\"#19d3f3\",\"#FF6692\",\"#B6E880\",\"#FF97FF\",\"#FECB52\"],\"font\":{\"color\":\"#2a3f5f\"},\"hovermode\":\"closest\",\"hoverlabel\":{\"align\":\"left\"},\"paper_bgcolor\":\"white\",\"plot_bgcolor\":\"#E5ECF6\",\"polar\":{\"bgcolor\":\"#E5ECF6\",\"angularaxis\":{\"gridcolor\":\"white\",\"linecolor\":\"white\",\"ticks\":\"\"},\"radialaxis\":{\"gridcolor\":\"white\",\"linecolor\":\"white\",\"ticks\":\"\"}},\"ternary\":{\"bgcolor\":\"#E5ECF6\",\"aaxis\":{\"gridcolor\":\"white\",\"linecolor\":\"white\",\"ticks\":\"\"},\"baxis\":{\"gridcolor\":\"white\",\"linecolor\":\"white\",\"ticks\":\"\"},\"caxis\":{\"gridcolor\":\"white\",\"linecolor\":\"white\",\"ticks\":\"\"}},\"coloraxis\":{\"colorbar\":{\"outlinewidth\":0,\"ticks\":\"\"}},\"colorscale\":{\"sequential\":[[0.0,\"#0d0887\"],[0.1111111111111111,\"#46039f\"],[0.2222222222222222,\"#7201a8\"],[0.3333333333333333,\"#9c179e\"],[0.4444444444444444,\"#bd3786\"],[0.5555555555555556,\"#d8576b\"],[0.6666666666666666,\"#ed7953\"],[0.7777777777777778,\"#fb9f3a\"],[0.8888888888888888,\"#fdca26\"],[1.0,\"#f0f921\"]],\"sequentialminus\":[[0.0,\"#0d0887\"],[0.1111111111111111,\"#46039f\"],[0.2222222222222222,\"#7201a8\"],[0.3333333333333333,\"#9c179e\"],[0.4444444444444444,\"#bd3786\"],[0.5555555555555556,\"#d8576b\"],[0.6666666666666666,\"#ed7953\"],[0.7777777777777778,\"#fb9f3a\"],[0.8888888888888888,\"#fdca26\"],[1.0,\"#f0f921\"]],\"diverging\":[[0,\"#8e0152\"],[0.1,\"#c51b7d\"],[0.2,\"#de77ae\"],[0.3,\"#f1b6da\"],[0.4,\"#fde0ef\"],[0.5,\"#f7f7f7\"],[0.6,\"#e6f5d0\"],[0.7,\"#b8e186\"],[0.8,\"#7fbc41\"],[0.9,\"#4d9221\"],[1,\"#276419\"]]},\"xaxis\":{\"gridcolor\":\"white\",\"linecolor\":\"white\",\"ticks\":\"\",\"title\":{\"standoff\":15},\"zerolinecolor\":\"white\",\"automargin\":true,\"zerolinewidth\":2},\"yaxis\":{\"gridcolor\":\"white\",\"linecolor\":\"white\",\"ticks\":\"\",\"title\":{\"standoff\":15},\"zerolinecolor\":\"white\",\"automargin\":true,\"zerolinewidth\":2},\"scene\":{\"xaxis\":{\"backgroundcolor\":\"#E5ECF6\",\"gridcolor\":\"white\",\"linecolor\":\"white\",\"showbackground\":true,\"ticks\":\"\",\"zerolinecolor\":\"white\",\"gridwidth\":2},\"yaxis\":{\"backgroundcolor\":\"#E5ECF6\",\"gridcolor\":\"white\",\"linecolor\":\"white\",\"showbackground\":true,\"ticks\":\"\",\"zerolinecolor\":\"white\",\"gridwidth\":2},\"zaxis\":{\"backgroundcolor\":\"#E5ECF6\",\"gridcolor\":\"white\",\"linecolor\":\"white\",\"showbackground\":true,\"ticks\":\"\",\"zerolinecolor\":\"white\",\"gridwidth\":2}},\"shapedefaults\":{\"line\":{\"color\":\"#2a3f5f\"}},\"annotationdefaults\":{\"arrowcolor\":\"#2a3f5f\",\"arrowhead\":0,\"arrowwidth\":1},\"geo\":{\"bgcolor\":\"white\",\"landcolor\":\"#E5ECF6\",\"subunitcolor\":\"white\",\"showland\":true,\"showlakes\":true,\"lakecolor\":\"white\"},\"title\":{\"x\":0.05},\"mapbox\":{\"style\":\"light\"}}},\"geo\":{\"domain\":{\"x\":[0.0,0.49],\"y\":[0.0,1.0]},\"center\":{},\"fitbounds\":\"locations\"},\"geo2\":{\"domain\":{\"x\":[0.51,1.0],\"y\":[0.0,1.0]},\"center\":{},\"fitbounds\":\"locations\"},\"annotations\":[{\"font\":{},\"showarrow\":false,\"text\":\"depot=A\",\"x\":0.245,\"xanchor\":\"center\",\"xref\":\"paper\",\"y\":1.0,\"yanchor\":\"bottom\",\"yref\":\"paper\"},{\"font\":{},\"showarrow\":false,\"text\":\"depot=B\",\"x\":0.755,\"xanchor\":\"center\",\"xref\":\"paper\",\"y\":1.0,\"yanchor\":\"bottom\",\"yref\":\"paper\"}],\"legend\":{\"tracegroupgap\":0},\"margin\":{\"t\":60}},                        {\"responsive\": true}                    ).then(function(){\n",
              "                            \n",
              "var gd = document.getElementById('fb9459a1-5b5f-4170-8b2e-3cee178307cc');\n",
              "var x = new MutationObserver(function (mutations, observer) {{\n",
              "        var display = window.getComputedStyle(gd).display;\n",
              "        if (!display || display === 'none') {{\n",
              "            console.log([gd, 'removed!']);\n",
              "            Plotly.purge(gd);\n",
              "            observer.disconnect();\n",
              "        }}\n",
              "}});\n",
              "\n",
              "// Listen for the removal of the full notebook cells\n",
              "var notebookContainer = gd.closest('#notebook-container');\n",
              "if (notebookContainer) {{\n",
              "    x.observe(notebookContainer, {childList: true});\n",
              "}}\n",
              "\n",
              "// Listen for the clearing of the current output cell\n",
              "var outputEl = gd.closest('.output');\n",
              "if (outputEl) {{\n",
              "    x.observe(outputEl, {childList: true});\n",
              "}}\n",
              "\n",
              "                        })                };                            </script>        </div>\n",
              "</body>\n",
              "</html>"
            ]
          },
          "metadata": {}
        }
      ]
    },
    {
      "cell_type": "markdown",
      "source": [
        "## Implementierung"
      ],
      "metadata": {
        "id": "hRO_cR8W6-0R"
      }
    },
    {
      "cell_type": "code",
      "source": [],
      "metadata": {
        "id": "hmmUeB6pllKQ"
      },
      "execution_count": null,
      "outputs": []
    }
  ]
}