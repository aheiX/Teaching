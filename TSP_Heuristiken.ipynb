{
  "nbformat": 4,
  "nbformat_minor": 0,
  "metadata": {
    "colab": {
      "provenance": [],
      "authorship_tag": "ABX9TyO3SK7RpZarIk2DT3tpGkVT",
      "include_colab_link": true
    },
    "kernelspec": {
      "name": "python3",
      "display_name": "Python 3"
    },
    "language_info": {
      "name": "python"
    }
  },
  "cells": [
    {
      "cell_type": "markdown",
      "metadata": {
        "id": "view-in-github",
        "colab_type": "text"
      },
      "source": [
        "<a href=\"https://colab.research.google.com/github/aheiX/Teaching/blob/main/TSP_Heuristiken.ipynb\" target=\"_parent\"><img src=\"https://colab.research.google.com/assets/colab-badge.svg\" alt=\"Open In Colab\"/></a>"
      ]
    },
    {
      "cell_type": "markdown",
      "source": [
        "# TSP - Heuristiken"
      ],
      "metadata": {
        "id": "GbgpSw586Kk1"
      }
    },
    {
      "cell_type": "markdown",
      "source": [
        "## Daten"
      ],
      "metadata": {
        "id": "GMXKGXV36Pmk"
      }
    },
    {
      "cell_type": "code",
      "source": [
        "!pip install haversine\n",
        "!pip install pandas\n",
        "!pip install plotly.express\n",
        "\n",
        "import haversine\n",
        "import pandas as pd\n",
        "import plotly.express as px"
      ],
      "metadata": {
        "id": "kKWTaeNKOQhH",
        "outputId": "fec2fb35-f723-4054-8872-895657da69ee",
        "colab": {
          "base_uri": "https://localhost:8080/"
        }
      },
      "execution_count": 5,
      "outputs": [
        {
          "output_type": "stream",
          "name": "stdout",
          "text": [
            "Looking in indexes: https://pypi.org/simple, https://us-python.pkg.dev/colab-wheels/public/simple/\n",
            "Requirement already satisfied: haversine in /usr/local/lib/python3.10/dist-packages (2.8.0)\n",
            "Looking in indexes: https://pypi.org/simple, https://us-python.pkg.dev/colab-wheels/public/simple/\n",
            "Requirement already satisfied: pandas in /usr/local/lib/python3.10/dist-packages (1.5.3)\n",
            "Requirement already satisfied: python-dateutil>=2.8.1 in /usr/local/lib/python3.10/dist-packages (from pandas) (2.8.2)\n",
            "Requirement already satisfied: pytz>=2020.1 in /usr/local/lib/python3.10/dist-packages (from pandas) (2022.7.1)\n",
            "Requirement already satisfied: numpy>=1.21.0 in /usr/local/lib/python3.10/dist-packages (from pandas) (1.22.4)\n",
            "Requirement already satisfied: six>=1.5 in /usr/local/lib/python3.10/dist-packages (from python-dateutil>=2.8.1->pandas) (1.16.0)\n",
            "Looking in indexes: https://pypi.org/simple, https://us-python.pkg.dev/colab-wheels/public/simple/\n",
            "Collecting plotly.express\n",
            "  Downloading plotly_express-0.4.1-py2.py3-none-any.whl (2.9 kB)\n",
            "Requirement already satisfied: pandas>=0.20.0 in /usr/local/lib/python3.10/dist-packages (from plotly.express) (1.5.3)\n",
            "Requirement already satisfied: plotly>=4.1.0 in /usr/local/lib/python3.10/dist-packages (from plotly.express) (5.13.1)\n",
            "Requirement already satisfied: statsmodels>=0.9.0 in /usr/local/lib/python3.10/dist-packages (from plotly.express) (0.13.5)\n",
            "Requirement already satisfied: scipy>=0.18 in /usr/local/lib/python3.10/dist-packages (from plotly.express) (1.10.1)\n",
            "Requirement already satisfied: patsy>=0.5 in /usr/local/lib/python3.10/dist-packages (from plotly.express) (0.5.3)\n",
            "Requirement already satisfied: numpy>=1.11 in /usr/local/lib/python3.10/dist-packages (from plotly.express) (1.22.4)\n",
            "Requirement already satisfied: python-dateutil>=2.8.1 in /usr/local/lib/python3.10/dist-packages (from pandas>=0.20.0->plotly.express) (2.8.2)\n",
            "Requirement already satisfied: pytz>=2020.1 in /usr/local/lib/python3.10/dist-packages (from pandas>=0.20.0->plotly.express) (2022.7.1)\n",
            "Requirement already satisfied: six in /usr/local/lib/python3.10/dist-packages (from patsy>=0.5->plotly.express) (1.16.0)\n",
            "Requirement already satisfied: tenacity>=6.2.0 in /usr/local/lib/python3.10/dist-packages (from plotly>=4.1.0->plotly.express) (8.2.2)\n",
            "Requirement already satisfied: packaging>=21.3 in /usr/local/lib/python3.10/dist-packages (from statsmodels>=0.9.0->plotly.express) (23.1)\n",
            "Installing collected packages: plotly.express\n",
            "Successfully installed plotly.express-0.4.1\n"
          ]
        }
      ]
    },
    {
      "cell_type": "code",
      "source": [
        "# Daten erstellen\n",
        "input_data = dict()\n",
        "input_data[\"Halle (Saale)\"]=dict(id=1, lon=11.9672201241301, lat=51.4970124613279, pop=238.061)\n",
        "input_data[\"Magdeburg\"]=dict(id=2, lon=11.6363317198121, lat=52.1229002894915, pop=236.188)\n",
        "input_data[\"Dessau-Roßlau\"]=dict(id=3, lon=12.2331141970666, lat=51.8442730013004, pop=78.731)\n",
        "input_data[\"Lutherstadt Wittenberg\"]=dict(id=4, lon=12.6357720180488, lat=51.8737704942318, pop=44.984)\n",
        "input_data[\"Weißenfels\"]=dict(id=5, lon=11.9683230903702, lat=51.1983573259, pop=39.745)\n",
        "input_data[\"Halberstadt\"]=dict(id=6, lon=11.0495250643003, lat=51.8912329116255, pop=38.682)\n",
        "input_data[\"Stendal\"]=dict(id=7, lon=11.8508504963119, lat=52.602278283988, pop=38.359)\n",
        "\n",
        "# Daten als Dataframe\n",
        "df_input = {col_name: [input_data[name][col_name] for name in input_data] for col_name in ['id', 'lon', 'lat', 'pop']}\n",
        "df_input['name'] = input_data.keys()\n",
        "df_input = pd.DataFrame(data=df_input, columns=['name', 'id', 'pop', 'lon', 'lat'])\n",
        "\n",
        "# print(df)\n",
        "print(df_input.to_latex(index=False))\n",
        "\n",
        "# Distanzen berechnen\n",
        "dist = {i: {j: int(haversine.haversine((input_data[i]['lat'], input_data[i]['lon']), (input_data[j]['lat'], input_data[j]['lon'])))\n",
        "            for j in input_data}\n",
        "        for i in input_data}\n",
        "\n",
        "# Distanzen als Dataframe\n",
        "dist_df = {input_data[destin]['id']: [dist[origin][destin] for origin in input_data.keys()] for destin in input_data.keys()}\n",
        "dist_df['origin'] = input_data.keys()\n",
        "dist_df = pd.DataFrame(data=dist_df,\n",
        "                       columns=['origin'] + [i+1 for i in range(len(input_data.keys()))]\n",
        "                       )\n",
        "\n",
        "# print(dist_df)\n",
        "print(dist_df.to_latex(index=False))\n"
      ],
      "metadata": {
        "id": "U1tbtV1iM7p1",
        "outputId": "256b164d-8cc6-4733-ea3d-fb3be7bba4e9",
        "colab": {
          "base_uri": "https://localhost:8080/"
        }
      },
      "execution_count": 3,
      "outputs": [
        {
          "output_type": "stream",
          "name": "stderr",
          "text": [
            "<ipython-input-3-3a88e59294be>:17: FutureWarning: In future versions `DataFrame.to_latex` is expected to utilise the base implementation of `Styler.to_latex` for formatting and rendering. The arguments signature may therefore change. It is recommended instead to use `DataFrame.style.to_latex` which also contains additional functionality.\n",
            "  print(df_input.to_latex(index=False))\n"
          ]
        },
        {
          "output_type": "stream",
          "name": "stdout",
          "text": [
            "\\begin{tabular}{lrrrr}\n",
            "\\toprule\n",
            "                  name &  id &     pop &       lon &       lat \\\\\n",
            "\\midrule\n",
            "         Halle (Saale) &   1 & 238.061 & 11.967220 & 51.497012 \\\\\n",
            "             Magdeburg &   2 & 236.188 & 11.636332 & 52.122900 \\\\\n",
            "         Dessau-Roßlau &   3 &  78.731 & 12.233114 & 51.844273 \\\\\n",
            "Lutherstadt Wittenberg &   4 &  44.984 & 12.635772 & 51.873770 \\\\\n",
            "            Weißenfels &   5 &  39.745 & 11.968323 & 51.198357 \\\\\n",
            "           Halberstadt &   6 &  38.682 & 11.049525 & 51.891233 \\\\\n",
            "               Stendal &   7 &  38.359 & 11.850850 & 52.602278 \\\\\n",
            "\\bottomrule\n",
            "\\end{tabular}\n",
            "\n",
            "\\begin{tabular}{lrrrrrrr}\n",
            "\\toprule\n",
            "                origin &   1 &   2 &  3 &   4 &   5 &   6 &   7 \\\\\n",
            "\\midrule\n",
            "         Halle (Saale) &   0 &  73 & 42 &  62 &  33 &  76 & 123 \\\\\n",
            "             Magdeburg &  73 &   0 & 51 &  73 & 105 &  47 &  55 \\\\\n",
            "         Dessau-Roßlau &  42 &  51 &  0 &  27 &  74 &  81 &  88 \\\\\n",
            "Lutherstadt Wittenberg &  62 &  73 & 27 &   0 &  88 & 108 &  97 \\\\\n",
            "            Weißenfels &  33 & 105 & 74 &  88 &   0 &  99 & 156 \\\\\n",
            "           Halberstadt &  76 &  47 & 81 & 108 &  99 &   0 &  96 \\\\\n",
            "               Stendal & 123 &  55 & 88 &  97 & 156 &  96 &   0 \\\\\n",
            "\\bottomrule\n",
            "\\end{tabular}\n",
            "\n"
          ]
        },
        {
          "output_type": "stream",
          "name": "stderr",
          "text": [
            "<ipython-input-3-3a88e59294be>:32: FutureWarning: In future versions `DataFrame.to_latex` is expected to utilise the base implementation of `Styler.to_latex` for formatting and rendering. The arguments signature may therefore change. It is recommended instead to use `DataFrame.style.to_latex` which also contains additional functionality.\n",
            "  print(dist_df.to_latex(index=False))\n"
          ]
        }
      ]
    },
    {
      "cell_type": "markdown",
      "source": [
        "## Nächster Nachbar Heuristik"
      ],
      "metadata": {
        "id": "EOC0B5o2m3-p"
      }
    },
    {
      "cell_type": "code",
      "source": [
        "heuristik = 'Nächster Nachbar'\n",
        "heuristik = 'Cheapest Insertion'\n",
        "\n",
        "tour_info = {'start': [], 'distance': []}\n",
        "\n",
        "data_map = {'name': [], 'id': [], 'lon': [], 'lat': [], 'start': []}\n",
        "\n",
        "for depot in input_data.keys():\n",
        "  tour = [depot]\n",
        "  total_distance = 0\n",
        "\n",
        "  if heuristik == 'Nächster Nachbar':\n",
        "    while len(tour) < len(input_data.keys()):\n",
        "      next_node = None\n",
        "      for destin in input_data.keys():\n",
        "        if destin not in tour:\n",
        "          if next_node is None or dist[tour[-1]][next_node] > dist[tour[-1]][destin]:\n",
        "            next_node = destin\n",
        "\n",
        "      total_distance += dist[tour[-1]][next_node]\n",
        "      tour.append(next_node)\n",
        "\n",
        "    total_distance += dist[tour[-1]][depot]\n",
        "    tour.append(depot)\n",
        "\n",
        "  elif heuristik == 'Cheapest Insertion':\n",
        "    min_dist = None\n",
        "    for origin in input_data.keys():\n",
        "      for destin in input_data.keys():\n",
        "        if origin != destin:\n",
        "          if min_dist is None or dist[origin][destin] < min_dist:\n",
        "            tour = [origin, destin]\n",
        "\n",
        "    print(tour)\n",
        "    while len(tour) < len(input_data.keys()):\n",
        "      next_tour = None\n",
        "      min_detour = None\n",
        "\n",
        "      for node in input_data.keys():\n",
        "        if node not in tour:\n",
        "          # print(node)\n",
        "          for pos in range(len(tour)-1):\n",
        "            # print(pos)\n",
        "            detour = dist[tour[pos]][node] + dist[node][tour[pos+1]] - dist[tour[pos]][tour[pos-1]]\n",
        "\n",
        "            if next_tour is None or min_detour > detour:\n",
        "              next_tour = tour[:pos+1] + [node] + tour[pos+1:]\n",
        "              min_detour = detour\n",
        "              # print(next_tour)\n",
        "\n",
        "    tour = next_tour\n",
        "    total_distance = sum(dist[tour[pos]][tour[pos+1]] for pos in range(len(tour)-1))\n",
        "\n",
        "    # total_distance += dist[tour[-1]][depot]\n",
        "    # tour.append(depot)\n",
        "\n",
        "\n",
        "\n",
        "  # Info für Tabelle hinzufügen\n",
        "  tour_info['start'].append(depot)\n",
        "  tour_info['distance'].append(total_distance)\n",
        "  # print('Start: ' + depot + r'\\\\')\n",
        "  # print('Tour: ' + str(tour) + r'\\\\')\n",
        "  # print('Distanz (in km): ' + str(total_distance) + r'\\\\')\n",
        "  # print('')\n",
        "\n",
        "  # Dataframe für Plot hinzufügen\n",
        "  for n in tour:\n",
        "    data_map['name'].append(n)\n",
        "    data_map['id'].append(input_data[n]['id'])\n",
        "    data_map['lon'].append(input_data[n]['lon'])\n",
        "    data_map['lat'].append(input_data[n]['lat'])\n",
        "    data_map['start'].append('[' + str(input_data[depot]['id']) + '] ' + str(depot) + ', dist: ' + str(total_distance) + ' km')\n",
        "\n",
        "\n",
        "# Tabelle\n",
        "df_tab = pd.DataFrame(data=tour_info)\n",
        "print(df_tab.to_latex(index=False))\n",
        "\n",
        "# Plot\n",
        "df_map = pd.DataFrame(data=data_map)\n",
        "fig = px.line_geo(df_map, lon='lon', lat='lat', text='id',\n",
        "                  fitbounds='locations',\n",
        "                  hover_name='name',\n",
        "                  facet_col='start',\n",
        "                  facet_col_wrap=2,\n",
        "                  height=4*200,\n",
        "                  width=2*400\n",
        "                  )\n",
        "fig.update_traces(\n",
        "    marker=dict(size=10),\n",
        "    textposition='bottom center' # ['top left', 'top center', 'top right', 'middle left', 'middle center', 'middle right', 'bottom left', 'bottom center', 'bottom right']\n",
        ")\n",
        "fig.show()"
      ],
      "metadata": {
        "colab": {
          "base_uri": "https://localhost:8080/",
          "height": 252
        },
        "id": "3n6pfVuzgJis",
        "outputId": "690a1c6e-43f1-46fa-d133-11267532fa57"
      },
      "execution_count": 22,
      "outputs": [
        {
          "output_type": "stream",
          "name": "stdout",
          "text": [
            "['Stendal', 'Halberstadt']\n"
          ]
        },
        {
          "output_type": "error",
          "ename": "KeyboardInterrupt",
          "evalue": "ignored",
          "traceback": [
            "\u001b[0;31m---------------------------------------------------------------------------\u001b[0m",
            "\u001b[0;31mKeyboardInterrupt\u001b[0m                         Traceback (most recent call last)",
            "\u001b[0;32m<ipython-input-22-9d1a2233cde0>\u001b[0m in \u001b[0;36m<cell line: 8>\u001b[0;34m()\u001b[0m\n\u001b[1;32m     44\u001b[0m             \u001b[0mdetour\u001b[0m \u001b[0;34m=\u001b[0m \u001b[0mdist\u001b[0m\u001b[0;34m[\u001b[0m\u001b[0mtour\u001b[0m\u001b[0;34m[\u001b[0m\u001b[0mpos\u001b[0m\u001b[0;34m]\u001b[0m\u001b[0;34m]\u001b[0m\u001b[0;34m[\u001b[0m\u001b[0mnode\u001b[0m\u001b[0;34m]\u001b[0m \u001b[0;34m+\u001b[0m \u001b[0mdist\u001b[0m\u001b[0;34m[\u001b[0m\u001b[0mnode\u001b[0m\u001b[0;34m]\u001b[0m\u001b[0;34m[\u001b[0m\u001b[0mtour\u001b[0m\u001b[0;34m[\u001b[0m\u001b[0mpos\u001b[0m\u001b[0;34m+\u001b[0m\u001b[0;36m1\u001b[0m\u001b[0;34m]\u001b[0m\u001b[0;34m]\u001b[0m \u001b[0;34m-\u001b[0m \u001b[0mdist\u001b[0m\u001b[0;34m[\u001b[0m\u001b[0mtour\u001b[0m\u001b[0;34m[\u001b[0m\u001b[0mpos\u001b[0m\u001b[0;34m]\u001b[0m\u001b[0;34m]\u001b[0m\u001b[0;34m[\u001b[0m\u001b[0mtour\u001b[0m\u001b[0;34m[\u001b[0m\u001b[0mpos\u001b[0m\u001b[0;34m-\u001b[0m\u001b[0;36m1\u001b[0m\u001b[0;34m]\u001b[0m\u001b[0;34m]\u001b[0m\u001b[0;34m\u001b[0m\u001b[0;34m\u001b[0m\u001b[0m\n\u001b[1;32m     45\u001b[0m \u001b[0;34m\u001b[0m\u001b[0m\n\u001b[0;32m---> 46\u001b[0;31m             \u001b[0;32mif\u001b[0m \u001b[0mnext_tour\u001b[0m \u001b[0;32mis\u001b[0m \u001b[0;32mNone\u001b[0m \u001b[0;32mor\u001b[0m \u001b[0mmin_detour\u001b[0m \u001b[0;34m>\u001b[0m \u001b[0mdetour\u001b[0m\u001b[0;34m:\u001b[0m\u001b[0;34m\u001b[0m\u001b[0;34m\u001b[0m\u001b[0m\n\u001b[0m\u001b[1;32m     47\u001b[0m               \u001b[0mnext_tour\u001b[0m \u001b[0;34m=\u001b[0m \u001b[0mtour\u001b[0m\u001b[0;34m[\u001b[0m\u001b[0;34m:\u001b[0m\u001b[0mpos\u001b[0m\u001b[0;34m+\u001b[0m\u001b[0;36m1\u001b[0m\u001b[0;34m]\u001b[0m \u001b[0;34m+\u001b[0m \u001b[0;34m[\u001b[0m\u001b[0mnode\u001b[0m\u001b[0;34m]\u001b[0m \u001b[0;34m+\u001b[0m \u001b[0mtour\u001b[0m\u001b[0;34m[\u001b[0m\u001b[0mpos\u001b[0m\u001b[0;34m+\u001b[0m\u001b[0;36m1\u001b[0m\u001b[0;34m:\u001b[0m\u001b[0;34m]\u001b[0m\u001b[0;34m\u001b[0m\u001b[0;34m\u001b[0m\u001b[0m\n\u001b[1;32m     48\u001b[0m               \u001b[0mmin_detour\u001b[0m \u001b[0;34m=\u001b[0m \u001b[0mdetour\u001b[0m\u001b[0;34m\u001b[0m\u001b[0;34m\u001b[0m\u001b[0m\n",
            "\u001b[0;31mKeyboardInterrupt\u001b[0m: "
          ]
        }
      ]
    }
  ]
}