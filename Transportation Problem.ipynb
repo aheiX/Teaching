{
  "nbformat": 4,
  "nbformat_minor": 0,
  "metadata": {
    "colab": {
      "provenance": [],
      "authorship_tag": "ABX9TyOBTlE8ArgKTvz9A2EWfe43",
      "include_colab_link": true
    },
    "kernelspec": {
      "name": "python3",
      "display_name": "Python 3"
    },
    "language_info": {
      "name": "python"
    }
  },
  "cells": [
    {
      "cell_type": "markdown",
      "metadata": {
        "id": "view-in-github",
        "colab_type": "text"
      },
      "source": [
        "<a href=\"https://colab.research.google.com/github/aheiX/Teaching/blob/main/Transportation%20Problem.ipynb\" target=\"_parent\"><img src=\"https://colab.research.google.com/assets/colab-badge.svg\" alt=\"Open In Colab\"/></a>"
      ]
    },
    {
      "cell_type": "markdown",
      "source": [
        "# (Classical) Transportation Problem"
      ],
      "metadata": {
        "id": "GbgpSw586Kk1"
      }
    },
    {
      "cell_type": "markdown",
      "source": [
        "## Mathematical Model"
      ],
      "metadata": {
        "id": "GMXKGXV36Pmk"
      }
    },
    {
      "cell_type": "markdown",
      "source": [
        "**Notation:**\n",
        "\\begin{array}{ll}\n",
        "S & \\text{Set of supply nodes}\\\\\n",
        "s_i & \\text{Supply at nodes $i \\in S$}\\\\\n",
        "D & \\text{Set of demand nodes}\\\\\n",
        "d_i & \\text{Demand at nodes $j \\in D$}\\\\\n",
        "c_{ij}  & \\text{Transport costs between supply node $i \\in S$ and demand node $j \\in D$}\\\\\n",
        "\\end{array}\n",
        "<br>\n",
        "\n",
        "**Decision variable:**\n",
        "\\begin{array}{ll}\n",
        "x_{ij} & \\text{Transport quantity between supply node $i \\in A$ and demand node $j \\in N$}\\\\\n",
        "\\end{array}\n",
        "<br>\n",
        "\n",
        "**Objective:** <br>\n",
        "$\n",
        "\\begin{align}\n",
        "  \\begin{array}{llll}\n",
        "    & \\min \\sum\\limits_{i \\in S} \\sum\\limits_{j \\in D} c_{ij} \\cdot x_{ij} & &~~~  (1) \\\\\n",
        "  \\end{array}\n",
        "\\end{align}\n",
        "$\n",
        "<br>\n",
        "\n",
        "**Nebenbedingungen:**<br>\n",
        "$\n",
        "\\begin{align}\n",
        "  \\begin{array}{llll}\n",
        "    & s_i \\ge \\sum\\limits_{j \\in N} x_{ij} &,~ \\forall~ i \\in S &~~~ (2) \\\\\n",
        "    & d_j = \\sum\\limits_{i \\in A} x_{ij} &,~ \\forall~ j \\in D &~~~ (3) \\\\\n",
        "    & x_{ij} \\ge 0 &,~ \\forall~ i \\in S, j \\in D &~~~ (4) \\\\\n",
        "  \\end{array}\n",
        "\\end{align}\n",
        "$"
      ],
      "metadata": {
        "id": "q10x0kvV6U7o"
      }
    },
    {
      "cell_type": "markdown",
      "source": [
        "## Data"
      ],
      "metadata": {
        "id": "NShFNbKcTMNp"
      }
    },
    {
      "cell_type": "code",
      "source": [
        "# Supply node\n",
        "S = ['Hamburg', 'Berlin', 'Munich']\n",
        "\n",
        "# Supply\n",
        "s = {'Hamburg': 100, 'Berlin': 200, 'Munich': 70}\n",
        "\n",
        "# Demand nodes\n",
        "D = ['Bremen', 'Cologne', 'Dresden']\n",
        "\n",
        "# Demand\n",
        "d = {'Bremen': 80, 'Cologne': 40, 'Dresden': 90}\n",
        "\n",
        "# Transport costs\n",
        "c = {\n",
        "    'Hamburg': {'Bremen': 4, 'Cologne': 3, 'Dresden': 8},\n",
        "    'Berlin': {'Bremen': 6, 'Cologne': 8, 'Dresden': 9},\n",
        "    'Munich': {'Bremen': 7, 'Cologne': 6, 'Dresden': 5}\n",
        "}\n"
      ],
      "metadata": {
        "id": "wmI6iWrGBj2x"
      },
      "execution_count": 6,
      "outputs": []
    },
    {
      "cell_type": "markdown",
      "source": [
        "### PuLP Model"
      ],
      "metadata": {
        "id": "DLTrVOr-63Wo"
      }
    },
    {
      "cell_type": "code",
      "source": [
        "# Load required pyhton packages\n",
        "!pip install pulp\n",
        "import pulp"
      ],
      "metadata": {
        "id": "yNo_6sfG601B",
        "outputId": "be336a9c-7bb1-4f03-907c-db15884cb895",
        "colab": {
          "base_uri": "https://localhost:8080/"
        }
      },
      "execution_count": 2,
      "outputs": [
        {
          "output_type": "stream",
          "name": "stdout",
          "text": [
            "Collecting pulp\n",
            "  Downloading PuLP-2.7.0-py3-none-any.whl (14.3 MB)\n",
            "\u001b[2K     \u001b[90m━━━━━━━━━━━━━━━━━━━━━━━━━━━━━━━━━━━━━━━━\u001b[0m \u001b[32m14.3/14.3 MB\u001b[0m \u001b[31m54.8 MB/s\u001b[0m eta \u001b[36m0:00:00\u001b[0m\n",
            "\u001b[?25hInstalling collected packages: pulp\n",
            "Successfully installed pulp-2.7.0\n"
          ]
        }
      ]
    },
    {
      "cell_type": "code",
      "source": [
        "# Model\n",
        "model = pulp.LpProblem(name='Transport_Problem_Min_Costs',\n",
        "                      sense=pulp.constants.LpMinimize)\n",
        "\n",
        "# Decision variables\n",
        "x = pulp.LpVariable.dicts(name='x', indices=(S, D), lowBound=0, cat='Integer')\n",
        "\n",
        "# (1) Objective\n",
        "model += pulp.lpSum(c[i][j] * x[i][j] for i in S for j in D), '(1)'\n",
        "\n",
        "# (2)\n",
        "for i in S:\n",
        "  model += s[i] >= pulp.lpSum(x[i][j] for j in D), '(2)_' + str(i)\n",
        "\n",
        "# (2)\n",
        "for j in D:\n",
        "  model += d[j] == pulp.lpSum(x[i][j] for i in S), '(3)_' + str(j)\n",
        "\n",
        "# print(model)"
      ],
      "metadata": {
        "id": "5sx3GUW-OSoI"
      },
      "execution_count": 19,
      "outputs": []
    },
    {
      "cell_type": "code",
      "source": [
        "model.solve()\n",
        "\n",
        "# get status\n",
        "print(\"Status:\", pulp.LpStatus[model.status])\n",
        "\n",
        "# get objective value\n",
        "print('Objective value:', round(pulp.value(model.objective), 2))\n",
        "\n",
        "print(\"All variables:\")\n",
        "for v in model.variables():\n",
        "  if v.varValue > 0:\n",
        "    print(v.name, \"=\", v.varValue)"
      ],
      "metadata": {
        "id": "Qw7Os3H4BelC",
        "outputId": "a28c181a-890a-42d9-a9aa-21fc75cf05b9",
        "colab": {
          "base_uri": "https://localhost:8080/"
        }
      },
      "execution_count": 20,
      "outputs": [
        {
          "output_type": "stream",
          "name": "stdout",
          "text": [
            "Status: Optimal\n",
            "Objective value: 1010.0\n",
            "All variables:\n",
            "x_Berlin_Bremen = 20.0\n",
            "x_Berlin_Dresden = 20.0\n",
            "x_Hamburg_Bremen = 60.0\n",
            "x_Hamburg_Cologne = 40.0\n",
            "x_Munich_Dresden = 70.0\n"
          ]
        }
      ]
    }
  ]
}