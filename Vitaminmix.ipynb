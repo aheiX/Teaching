{
  "nbformat": 4,
  "nbformat_minor": 0,
  "metadata": {
    "colab": {
      "provenance": [],
      "authorship_tag": "ABX9TyO2q4O098mGgApyhKqMopDp",
      "include_colab_link": true
    },
    "kernelspec": {
      "name": "python3",
      "display_name": "Python 3"
    },
    "language_info": {
      "name": "python"
    }
  },
  "cells": [
    {
      "cell_type": "markdown",
      "metadata": {
        "id": "view-in-github",
        "colab_type": "text"
      },
      "source": [
        "<a href=\"https://colab.research.google.com/github/aheiX/Teaching/blob/main/Vitaminmix.ipynb\" target=\"_parent\"><img src=\"https://colab.research.google.com/assets/colab-badge.svg\" alt=\"Open In Colab\"/></a>"
      ]
    },
    {
      "cell_type": "markdown",
      "source": [
        "# Vitaminmix"
      ],
      "metadata": {
        "id": "VybFMEsK1CS4"
      }
    },
    {
      "cell_type": "markdown",
      "source": [
        "## Aufgabenstellung"
      ],
      "metadata": {
        "id": "3hCgIh3cE1ve"
      }
    },
    {
      "cell_type": "markdown",
      "source": [
        "Für eine Sportmannschaft soll ein Vitaminmpräparat zur Ernährungsergänzung hergestellt werden. Es soll die Vitamine A, B, C und D enthalten und aus den Multivitaminpulvern M1 und M2 hergestellt werden. Ein Gramm M1 besteht aus 2 Einheiten Vitamin A, 1 Einheit Vitamin B, 2 Einheiten Vitamin C und 2 Einheiten Vitamin D. Ein Gramm M2 besteht aus 1 Einheit Vitamin A, 3 Einheiten Vitamin C und 5 Einheiten Vitamin D. Die Kosten für 1 Gramm M1 betragen 2 Euro und für 1 Gramm M2 1,60 Euro. Das Vitaminpräparat soll mindestens aus 16 Einheiten Vitamin A, 2 Einheiten Vitamin B, 32 Einheiten Vitamin C und 40 Einheiten Vitamin D bestheen. Das Vitaminpräparat soll durch Mischen der Multivitaminpulver so hergestellt werden, dass die Gesamtkosten der Herstellung minimiert werden und die Mindestvitaminmengen in dem Präparat enthalten sind. "
      ],
      "metadata": {
        "id": "0AuoxcHh1EqW"
      }
    },
    {
      "cell_type": "markdown",
      "source": [
        "## Mathematisches Modell"
      ],
      "metadata": {
        "id": "YXRu7s98NgHe"
      }
    },
    {
      "cell_type": "markdown",
      "source": [
        "**Entscheidungsvariablen**<br>\n",
        "$\n",
        "\\begin{array}{ll}\n",
        "x_1 & \\text{Gramm des Multivitaminpulvers M1} \\\\\n",
        "x_2 & \\text{Gramm des Multivitaminpulvers M2} \\\\\n",
        "\\end{array}\n",
        "$\n",
        "<br><br>\n",
        "\n",
        "**Zielfunktion**<br>\n",
        "$\\max 2 x_1 + 1,6 x_2$\n",
        "<br><br>\n",
        "\n",
        "**Nebenbedingungen**<br>\n",
        "$\n",
        "\\begin{array}{llcrcrcll}\n",
        "\\text{Vitamin A} & 2x_1 + 1x_2 & \\ge & 16 &  &  & &\\hspace{1.5cm}(1)\\\\\n",
        "\\text{Vitamin B} & 1x_1 + 0x_2 & \\ge & 2 &  &  & &\\hspace{1.5cm}(2)\\\\\n",
        "\\text{Vitamin C} & 2x_1 + 3x_2 & \\ge & 32 &  &  & &\\hspace{1.5cm}(3)\\\\\n",
        "\\text{Vitamin D} & 2x_1 + 5x_2 & \\ge & 40 &  &  & &\\hspace{1.5cm}(4)\\\\\n",
        "\\text{Nichtnegativität} & x_1, x_2 & \\ge & 0 &  &  & &\\hspace{1.5cm}(5)\\\\\n",
        "\\end{array}\n",
        "$"
      ],
      "metadata": {
        "id": "FIYbRFEvN930"
      }
    },
    {
      "cell_type": "markdown",
      "source": [
        "## Implementierung"
      ],
      "metadata": {
        "id": "wWtwxGEcEzi8"
      }
    },
    {
      "cell_type": "code",
      "execution_count": 2,
      "metadata": {
        "colab": {
          "base_uri": "https://localhost:8080/"
        },
        "id": "SedRzsCc02Q2",
        "outputId": "79f5ad4b-a821-4738-cf6d-767290f154a0"
      },
      "outputs": [
        {
          "output_type": "stream",
          "name": "stdout",
          "text": [
            "Looking in indexes: https://pypi.org/simple, https://us-python.pkg.dev/colab-wheels/public/simple/\n",
            "Requirement already satisfied: pulp in /usr/local/lib/python3.9/dist-packages (2.7.0)\n",
            "Status: Optimal\n",
            "Zielwert: 20.8\n",
            "x1 = 4.0\n",
            "x2 = 8.0\n"
          ]
        }
      ],
      "source": [
        "# PuLP installieren\n",
        "!pip install pulp\n",
        "import pulp\n",
        "\n",
        "# Modell erstellen\n",
        "model = pulp.LpProblem(name='Produktionsprozess', sense=pulp.constants.LpMinimize)\n",
        "\n",
        "# Entscheidungsvariablen\n",
        "x1 = pulp.LpVariable(name='x1', lowBound=0)\n",
        "x2 = pulp.LpVariable(name='x2', lowBound=0)\n",
        "\n",
        "# Zielfunktion\n",
        "model += 2*x1 + 1.6*x2\n",
        "\n",
        "# Nebenbedingung 1\n",
        "model += 2*x1 +1*x2 >= 16\n",
        "\n",
        "# Nebenbedingung 2\n",
        "model += 1*x1 +0*x2 >= 2\n",
        "\n",
        "# Nebenbedingung 3\n",
        "model += 2*x1 +3*x2 >= 32\n",
        "\n",
        "# Nebenbedingung 4\n",
        "model += 2*x1 +5*x2 >= 40\n",
        "\n",
        "# Modell lösen\n",
        "model.solve()\n",
        "\n",
        "# Statistik\n",
        "print('Status:', pulp.LpStatus[model.status])\n",
        "print('Zielwert:', pulp.value(model.objective))\n",
        "for v in model.variables():\n",
        "  print(v.name, '=', v.varValue)"
      ]
    },
    {
      "cell_type": "markdown",
      "source": [
        "## Visualisierung"
      ],
      "metadata": {
        "id": "YgeppJ06EurV"
      }
    },
    {
      "cell_type": "code",
      "source": [
        "!pip install plotly\n",
        "import plotly.graph_objects as go\n",
        "\n",
        "fig = go.Figure()\n",
        "\n",
        "# Bereich der x-Achse\n",
        "x1 = [i for i in range(25)]\n",
        "\n",
        "# Nebenbedingung 1\n",
        "# 2*x1 +1*x2 >= 16\n",
        "fig.add_trace(go.Scatter(x=x1, y=[(1/1)*(16 - 2*x) for x in x1], mode='lines', name='NB3', fill='tozerox'))\n",
        "\n",
        "# Nebenbedingung 2\n",
        "# 1*x1 +0*x2 >= 2\n",
        "fig.add_trace(go.Scatter(x=[2:2]], y=[(1/2)*(2 - 1*x) for x in x1], mode='lines', name='NB3', fill='tozerox'))\n",
        "\n",
        "# Nebenbedingung 3\n",
        "# 2*x1 +3*x2 >= 32\n",
        "fig.add_trace(go.Scatter(x=x1, y=[(1/2)*(18 - 3*x) for x in x1], mode='lines', name='NB3', fill='tozerox'))\n",
        "\n",
        "# Nebenbedingung 4\n",
        "# 2*x1 +5*x2 >= 40\n",
        "fig.add_trace(go.Scatter(x=x1, y=[(1/2)*(18 - 3*x) for x in x1], mode='lines', name='NB3', fill='tozerox'))\n",
        "\n",
        "# Zielfunktion\n",
        "# 2*x1 + 1.6*x2\n",
        "for z in [15, 30, 45]:\n",
        "  fig.add_trace(go.Scatter(x=x1, y=[(1/5)*(z - 3*x) for x in x1], mode='lines', name='Zielfunktion (z=' + str(z) + ')'))\n",
        "\n",
        "# Graphik schick machen\n",
        "fig.update_xaxes(title_text='x1', range=[0,10])\n",
        "fig.update_yaxes(title_text='x2', range=[0,10])\n",
        "fig.update_layout(width=600, template='simple_white')\n",
        "fig.show()\n"
      ],
      "metadata": {
        "id": "uN0iCThY6qDe",
        "outputId": "4b4acea8-db10-4b9e-d6bb-ca20c9c2ee10",
        "colab": {
          "base_uri": "https://localhost:8080/",
          "height": 596
        }
      },
      "execution_count": null,
      "outputs": [
        {
          "output_type": "stream",
          "name": "stdout",
          "text": [
            "Looking in indexes: https://pypi.org/simple, https://us-python.pkg.dev/colab-wheels/public/simple/\n",
            "Requirement already satisfied: plotly in /usr/local/lib/python3.9/dist-packages (5.13.1)\n",
            "Requirement already satisfied: tenacity>=6.2.0 in /usr/local/lib/python3.9/dist-packages (from plotly) (8.2.2)\n"
          ]
        },
        {
          "output_type": "display_data",
          "data": {
            "text/html": [
              "<html>\n",
              "<head><meta charset=\"utf-8\" /></head>\n",
              "<body>\n",
              "    <div>            <script src=\"https://cdnjs.cloudflare.com/ajax/libs/mathjax/2.7.5/MathJax.js?config=TeX-AMS-MML_SVG\"></script><script type=\"text/javascript\">if (window.MathJax && window.MathJax.Hub && window.MathJax.Hub.Config) {window.MathJax.Hub.Config({SVG: {font: \"STIX-Web\"}});}</script>                <script type=\"text/javascript\">window.PlotlyConfig = {MathJaxConfig: 'local'};</script>\n",
              "        <script src=\"https://cdn.plot.ly/plotly-2.18.2.min.js\"></script>                <div id=\"935d332a-e591-4414-bf07-80c0d3f69e5f\" class=\"plotly-graph-div\" style=\"height:525px; width:600px;\"></div>            <script type=\"text/javascript\">                                    window.PLOTLYENV=window.PLOTLYENV || {};                                    if (document.getElementById(\"935d332a-e591-4414-bf07-80c0d3f69e5f\")) {                    Plotly.newPlot(                        \"935d332a-e591-4414-bf07-80c0d3f69e5f\",                        [{\"fill\":\"tozerox\",\"mode\":\"lines\",\"name\":\"NB1\",\"x\":[4,4],\"y\":[0,10],\"type\":\"scatter\"},{\"fill\":\"tozeroy\",\"mode\":\"lines\",\"name\":\"NB2\",\"x\":[0,1,2,3,4,5,6,7,8,9],\"y\":[6,6,6,6,6,6,6,6,6,6],\"type\":\"scatter\"},{\"fill\":\"tozerox\",\"mode\":\"lines\",\"name\":\"NB3\",\"x\":[0,1,2,3,4,5,6,7,8,9],\"y\":[9.0,7.5,6.0,4.5,3.0,1.5,0.0,-1.5,-3.0,-4.5],\"type\":\"scatter\"},{\"mode\":\"lines\",\"name\":\"Zielfunktion (z=15)\",\"x\":[0,1,2,3,4,5,6,7,8,9],\"y\":[3.0,2.4000000000000004,1.8,1.2000000000000002,0.6000000000000001,0.0,-0.6000000000000001,-1.2000000000000002,-1.8,-2.4000000000000004],\"type\":\"scatter\"},{\"mode\":\"lines\",\"name\":\"Zielfunktion (z=30)\",\"x\":[0,1,2,3,4,5,6,7,8,9],\"y\":[6.0,5.4,4.800000000000001,4.2,3.6,3.0,2.4000000000000004,1.8,1.2000000000000002,0.6000000000000001],\"type\":\"scatter\"},{\"mode\":\"lines\",\"name\":\"Zielfunktion (z=45)\",\"x\":[0,1,2,3,4,5,6,7,8,9],\"y\":[9.0,8.4,7.800000000000001,7.2,6.6000000000000005,6.0,5.4,4.800000000000001,4.2,3.6],\"type\":\"scatter\"}],                        {\"template\":{\"data\":{\"barpolar\":[{\"marker\":{\"line\":{\"color\":\"white\",\"width\":0.5},\"pattern\":{\"fillmode\":\"overlay\",\"size\":10,\"solidity\":0.2}},\"type\":\"barpolar\"}],\"bar\":[{\"error_x\":{\"color\":\"rgb(36,36,36)\"},\"error_y\":{\"color\":\"rgb(36,36,36)\"},\"marker\":{\"line\":{\"color\":\"white\",\"width\":0.5},\"pattern\":{\"fillmode\":\"overlay\",\"size\":10,\"solidity\":0.2}},\"type\":\"bar\"}],\"carpet\":[{\"aaxis\":{\"endlinecolor\":\"rgb(36,36,36)\",\"gridcolor\":\"white\",\"linecolor\":\"white\",\"minorgridcolor\":\"white\",\"startlinecolor\":\"rgb(36,36,36)\"},\"baxis\":{\"endlinecolor\":\"rgb(36,36,36)\",\"gridcolor\":\"white\",\"linecolor\":\"white\",\"minorgridcolor\":\"white\",\"startlinecolor\":\"rgb(36,36,36)\"},\"type\":\"carpet\"}],\"choropleth\":[{\"colorbar\":{\"outlinewidth\":1,\"tickcolor\":\"rgb(36,36,36)\",\"ticks\":\"outside\"},\"type\":\"choropleth\"}],\"contourcarpet\":[{\"colorbar\":{\"outlinewidth\":1,\"tickcolor\":\"rgb(36,36,36)\",\"ticks\":\"outside\"},\"type\":\"contourcarpet\"}],\"contour\":[{\"colorbar\":{\"outlinewidth\":1,\"tickcolor\":\"rgb(36,36,36)\",\"ticks\":\"outside\"},\"colorscale\":[[0.0,\"#440154\"],[0.1111111111111111,\"#482878\"],[0.2222222222222222,\"#3e4989\"],[0.3333333333333333,\"#31688e\"],[0.4444444444444444,\"#26828e\"],[0.5555555555555556,\"#1f9e89\"],[0.6666666666666666,\"#35b779\"],[0.7777777777777778,\"#6ece58\"],[0.8888888888888888,\"#b5de2b\"],[1.0,\"#fde725\"]],\"type\":\"contour\"}],\"heatmapgl\":[{\"colorbar\":{\"outlinewidth\":1,\"tickcolor\":\"rgb(36,36,36)\",\"ticks\":\"outside\"},\"colorscale\":[[0.0,\"#440154\"],[0.1111111111111111,\"#482878\"],[0.2222222222222222,\"#3e4989\"],[0.3333333333333333,\"#31688e\"],[0.4444444444444444,\"#26828e\"],[0.5555555555555556,\"#1f9e89\"],[0.6666666666666666,\"#35b779\"],[0.7777777777777778,\"#6ece58\"],[0.8888888888888888,\"#b5de2b\"],[1.0,\"#fde725\"]],\"type\":\"heatmapgl\"}],\"heatmap\":[{\"colorbar\":{\"outlinewidth\":1,\"tickcolor\":\"rgb(36,36,36)\",\"ticks\":\"outside\"},\"colorscale\":[[0.0,\"#440154\"],[0.1111111111111111,\"#482878\"],[0.2222222222222222,\"#3e4989\"],[0.3333333333333333,\"#31688e\"],[0.4444444444444444,\"#26828e\"],[0.5555555555555556,\"#1f9e89\"],[0.6666666666666666,\"#35b779\"],[0.7777777777777778,\"#6ece58\"],[0.8888888888888888,\"#b5de2b\"],[1.0,\"#fde725\"]],\"type\":\"heatmap\"}],\"histogram2dcontour\":[{\"colorbar\":{\"outlinewidth\":1,\"tickcolor\":\"rgb(36,36,36)\",\"ticks\":\"outside\"},\"colorscale\":[[0.0,\"#440154\"],[0.1111111111111111,\"#482878\"],[0.2222222222222222,\"#3e4989\"],[0.3333333333333333,\"#31688e\"],[0.4444444444444444,\"#26828e\"],[0.5555555555555556,\"#1f9e89\"],[0.6666666666666666,\"#35b779\"],[0.7777777777777778,\"#6ece58\"],[0.8888888888888888,\"#b5de2b\"],[1.0,\"#fde725\"]],\"type\":\"histogram2dcontour\"}],\"histogram2d\":[{\"colorbar\":{\"outlinewidth\":1,\"tickcolor\":\"rgb(36,36,36)\",\"ticks\":\"outside\"},\"colorscale\":[[0.0,\"#440154\"],[0.1111111111111111,\"#482878\"],[0.2222222222222222,\"#3e4989\"],[0.3333333333333333,\"#31688e\"],[0.4444444444444444,\"#26828e\"],[0.5555555555555556,\"#1f9e89\"],[0.6666666666666666,\"#35b779\"],[0.7777777777777778,\"#6ece58\"],[0.8888888888888888,\"#b5de2b\"],[1.0,\"#fde725\"]],\"type\":\"histogram2d\"}],\"histogram\":[{\"marker\":{\"line\":{\"color\":\"white\",\"width\":0.6}},\"type\":\"histogram\"}],\"mesh3d\":[{\"colorbar\":{\"outlinewidth\":1,\"tickcolor\":\"rgb(36,36,36)\",\"ticks\":\"outside\"},\"type\":\"mesh3d\"}],\"parcoords\":[{\"line\":{\"colorbar\":{\"outlinewidth\":1,\"tickcolor\":\"rgb(36,36,36)\",\"ticks\":\"outside\"}},\"type\":\"parcoords\"}],\"pie\":[{\"automargin\":true,\"type\":\"pie\"}],\"scatter3d\":[{\"line\":{\"colorbar\":{\"outlinewidth\":1,\"tickcolor\":\"rgb(36,36,36)\",\"ticks\":\"outside\"}},\"marker\":{\"colorbar\":{\"outlinewidth\":1,\"tickcolor\":\"rgb(36,36,36)\",\"ticks\":\"outside\"}},\"type\":\"scatter3d\"}],\"scattercarpet\":[{\"marker\":{\"colorbar\":{\"outlinewidth\":1,\"tickcolor\":\"rgb(36,36,36)\",\"ticks\":\"outside\"}},\"type\":\"scattercarpet\"}],\"scattergeo\":[{\"marker\":{\"colorbar\":{\"outlinewidth\":1,\"tickcolor\":\"rgb(36,36,36)\",\"ticks\":\"outside\"}},\"type\":\"scattergeo\"}],\"scattergl\":[{\"marker\":{\"colorbar\":{\"outlinewidth\":1,\"tickcolor\":\"rgb(36,36,36)\",\"ticks\":\"outside\"}},\"type\":\"scattergl\"}],\"scattermapbox\":[{\"marker\":{\"colorbar\":{\"outlinewidth\":1,\"tickcolor\":\"rgb(36,36,36)\",\"ticks\":\"outside\"}},\"type\":\"scattermapbox\"}],\"scatterpolargl\":[{\"marker\":{\"colorbar\":{\"outlinewidth\":1,\"tickcolor\":\"rgb(36,36,36)\",\"ticks\":\"outside\"}},\"type\":\"scatterpolargl\"}],\"scatterpolar\":[{\"marker\":{\"colorbar\":{\"outlinewidth\":1,\"tickcolor\":\"rgb(36,36,36)\",\"ticks\":\"outside\"}},\"type\":\"scatterpolar\"}],\"scatter\":[{\"fillpattern\":{\"fillmode\":\"overlay\",\"size\":10,\"solidity\":0.2},\"type\":\"scatter\"}],\"scatterternary\":[{\"marker\":{\"colorbar\":{\"outlinewidth\":1,\"tickcolor\":\"rgb(36,36,36)\",\"ticks\":\"outside\"}},\"type\":\"scatterternary\"}],\"surface\":[{\"colorbar\":{\"outlinewidth\":1,\"tickcolor\":\"rgb(36,36,36)\",\"ticks\":\"outside\"},\"colorscale\":[[0.0,\"#440154\"],[0.1111111111111111,\"#482878\"],[0.2222222222222222,\"#3e4989\"],[0.3333333333333333,\"#31688e\"],[0.4444444444444444,\"#26828e\"],[0.5555555555555556,\"#1f9e89\"],[0.6666666666666666,\"#35b779\"],[0.7777777777777778,\"#6ece58\"],[0.8888888888888888,\"#b5de2b\"],[1.0,\"#fde725\"]],\"type\":\"surface\"}],\"table\":[{\"cells\":{\"fill\":{\"color\":\"rgb(237,237,237)\"},\"line\":{\"color\":\"white\"}},\"header\":{\"fill\":{\"color\":\"rgb(217,217,217)\"},\"line\":{\"color\":\"white\"}},\"type\":\"table\"}]},\"layout\":{\"annotationdefaults\":{\"arrowhead\":0,\"arrowwidth\":1},\"autotypenumbers\":\"strict\",\"coloraxis\":{\"colorbar\":{\"outlinewidth\":1,\"tickcolor\":\"rgb(36,36,36)\",\"ticks\":\"outside\"}},\"colorscale\":{\"diverging\":[[0.0,\"rgb(103,0,31)\"],[0.1,\"rgb(178,24,43)\"],[0.2,\"rgb(214,96,77)\"],[0.3,\"rgb(244,165,130)\"],[0.4,\"rgb(253,219,199)\"],[0.5,\"rgb(247,247,247)\"],[0.6,\"rgb(209,229,240)\"],[0.7,\"rgb(146,197,222)\"],[0.8,\"rgb(67,147,195)\"],[0.9,\"rgb(33,102,172)\"],[1.0,\"rgb(5,48,97)\"]],\"sequential\":[[0.0,\"#440154\"],[0.1111111111111111,\"#482878\"],[0.2222222222222222,\"#3e4989\"],[0.3333333333333333,\"#31688e\"],[0.4444444444444444,\"#26828e\"],[0.5555555555555556,\"#1f9e89\"],[0.6666666666666666,\"#35b779\"],[0.7777777777777778,\"#6ece58\"],[0.8888888888888888,\"#b5de2b\"],[1.0,\"#fde725\"]],\"sequentialminus\":[[0.0,\"#440154\"],[0.1111111111111111,\"#482878\"],[0.2222222222222222,\"#3e4989\"],[0.3333333333333333,\"#31688e\"],[0.4444444444444444,\"#26828e\"],[0.5555555555555556,\"#1f9e89\"],[0.6666666666666666,\"#35b779\"],[0.7777777777777778,\"#6ece58\"],[0.8888888888888888,\"#b5de2b\"],[1.0,\"#fde725\"]]},\"colorway\":[\"#1F77B4\",\"#FF7F0E\",\"#2CA02C\",\"#D62728\",\"#9467BD\",\"#8C564B\",\"#E377C2\",\"#7F7F7F\",\"#BCBD22\",\"#17BECF\"],\"font\":{\"color\":\"rgb(36,36,36)\"},\"geo\":{\"bgcolor\":\"white\",\"lakecolor\":\"white\",\"landcolor\":\"white\",\"showlakes\":true,\"showland\":true,\"subunitcolor\":\"white\"},\"hoverlabel\":{\"align\":\"left\"},\"hovermode\":\"closest\",\"mapbox\":{\"style\":\"light\"},\"paper_bgcolor\":\"white\",\"plot_bgcolor\":\"white\",\"polar\":{\"angularaxis\":{\"gridcolor\":\"rgb(232,232,232)\",\"linecolor\":\"rgb(36,36,36)\",\"showgrid\":false,\"showline\":true,\"ticks\":\"outside\"},\"bgcolor\":\"white\",\"radialaxis\":{\"gridcolor\":\"rgb(232,232,232)\",\"linecolor\":\"rgb(36,36,36)\",\"showgrid\":false,\"showline\":true,\"ticks\":\"outside\"}},\"scene\":{\"xaxis\":{\"backgroundcolor\":\"white\",\"gridcolor\":\"rgb(232,232,232)\",\"gridwidth\":2,\"linecolor\":\"rgb(36,36,36)\",\"showbackground\":true,\"showgrid\":false,\"showline\":true,\"ticks\":\"outside\",\"zeroline\":false,\"zerolinecolor\":\"rgb(36,36,36)\"},\"yaxis\":{\"backgroundcolor\":\"white\",\"gridcolor\":\"rgb(232,232,232)\",\"gridwidth\":2,\"linecolor\":\"rgb(36,36,36)\",\"showbackground\":true,\"showgrid\":false,\"showline\":true,\"ticks\":\"outside\",\"zeroline\":false,\"zerolinecolor\":\"rgb(36,36,36)\"},\"zaxis\":{\"backgroundcolor\":\"white\",\"gridcolor\":\"rgb(232,232,232)\",\"gridwidth\":2,\"linecolor\":\"rgb(36,36,36)\",\"showbackground\":true,\"showgrid\":false,\"showline\":true,\"ticks\":\"outside\",\"zeroline\":false,\"zerolinecolor\":\"rgb(36,36,36)\"}},\"shapedefaults\":{\"fillcolor\":\"black\",\"line\":{\"width\":0},\"opacity\":0.3},\"ternary\":{\"aaxis\":{\"gridcolor\":\"rgb(232,232,232)\",\"linecolor\":\"rgb(36,36,36)\",\"showgrid\":false,\"showline\":true,\"ticks\":\"outside\"},\"baxis\":{\"gridcolor\":\"rgb(232,232,232)\",\"linecolor\":\"rgb(36,36,36)\",\"showgrid\":false,\"showline\":true,\"ticks\":\"outside\"},\"bgcolor\":\"white\",\"caxis\":{\"gridcolor\":\"rgb(232,232,232)\",\"linecolor\":\"rgb(36,36,36)\",\"showgrid\":false,\"showline\":true,\"ticks\":\"outside\"}},\"title\":{\"x\":0.05},\"xaxis\":{\"automargin\":true,\"gridcolor\":\"rgb(232,232,232)\",\"linecolor\":\"rgb(36,36,36)\",\"showgrid\":false,\"showline\":true,\"ticks\":\"outside\",\"title\":{\"standoff\":15},\"zeroline\":false,\"zerolinecolor\":\"rgb(36,36,36)\"},\"yaxis\":{\"automargin\":true,\"gridcolor\":\"rgb(232,232,232)\",\"linecolor\":\"rgb(36,36,36)\",\"showgrid\":false,\"showline\":true,\"ticks\":\"outside\",\"title\":{\"standoff\":15},\"zeroline\":false,\"zerolinecolor\":\"rgb(36,36,36)\"}}},\"xaxis\":{\"title\":{\"text\":\"x1\"},\"range\":[0,10]},\"yaxis\":{\"title\":{\"text\":\"x2\"},\"range\":[0,10]},\"width\":600},                        {\"responsive\": true}                    ).then(function(){\n",
              "                            \n",
              "var gd = document.getElementById('935d332a-e591-4414-bf07-80c0d3f69e5f');\n",
              "var x = new MutationObserver(function (mutations, observer) {{\n",
              "        var display = window.getComputedStyle(gd).display;\n",
              "        if (!display || display === 'none') {{\n",
              "            console.log([gd, 'removed!']);\n",
              "            Plotly.purge(gd);\n",
              "            observer.disconnect();\n",
              "        }}\n",
              "}});\n",
              "\n",
              "// Listen for the removal of the full notebook cells\n",
              "var notebookContainer = gd.closest('#notebook-container');\n",
              "if (notebookContainer) {{\n",
              "    x.observe(notebookContainer, {childList: true});\n",
              "}}\n",
              "\n",
              "// Listen for the clearing of the current output cell\n",
              "var outputEl = gd.closest('.output');\n",
              "if (outputEl) {{\n",
              "    x.observe(outputEl, {childList: true});\n",
              "}}\n",
              "\n",
              "                        })                };                            </script>        </div>\n",
              "</body>\n",
              "</html>"
            ]
          },
          "metadata": {}
        }
      ]
    }
  ]
}