{
  "nbformat": 4,
  "nbformat_minor": 0,
  "metadata": {
    "colab": {
      "provenance": [],
      "authorship_tag": "ABX9TyM4+et+1nPIDYl54QuBXpOc",
      "include_colab_link": true
    },
    "kernelspec": {
      "name": "python3",
      "display_name": "Python 3"
    },
    "language_info": {
      "name": "python"
    }
  },
  "cells": [
    {
      "cell_type": "markdown",
      "metadata": {
        "id": "view-in-github",
        "colab_type": "text"
      },
      "source": [
        "<a href=\"https://colab.research.google.com/github/aheiX/Teaching/blob/main/Transportation%20Problem%20(with%20emission%20reduction%20strategies).ipynb\" target=\"_parent\"><img src=\"https://colab.research.google.com/assets/colab-badge.svg\" alt=\"Open In Colab\"/></a>"
      ]
    },
    {
      "cell_type": "markdown",
      "source": [
        "# Das klassische Transportproblem"
      ],
      "metadata": {
        "id": "GbgpSw586Kk1"
      }
    },
    {
      "cell_type": "markdown",
      "source": [
        "## Mathematisches Programm"
      ],
      "metadata": {
        "id": "GMXKGXV36Pmk"
      }
    },
    {
      "cell_type": "markdown",
      "source": [
        "**Notation:**\n",
        "\\begin{array}{ll}\n",
        "A & \\text{Set an Angebotsknoten}\\\\\n",
        "N & \\text{Set an Nachfrageknoten}\\\\\n",
        "c_{ij}  & \\text{Transportkosten zwischen Angebotsknoten $i \\in A$ und Nachfrageknoten $j \\in N$}\\\\\n",
        "\\end{array}\n",
        "<br>\n",
        "\n",
        "**Entscheidungsvariable:**\n",
        "\\begin{array}{ll}\n",
        "x_{ij} & \\text{Transportmenge zwischen Angebotsknoten $i \\in A$ und Nachfrageknoten $j \\in N$}\\\\\n",
        "\\end{array}\n",
        "<br>\n",
        "\n",
        "**Zielfunktion:** <br>\n",
        "$\n",
        "\\begin{align}\n",
        "  \\begin{array}{llll}\n",
        "    & \\min \\sum\\limits_{i \\in A} \\sum\\limits_{j \\in N} c_{ij} \\cdot x_{ij} & &~~~  (1) \\\\\n",
        "  \\end{array}\n",
        "\\end{align}\n",
        "$\n",
        "<br>\n",
        "\n",
        "**Nebenbedingungen:**<br>\n",
        "$\n",
        "\\begin{align}\n",
        "  \\begin{array}{llll}\n",
        "    & a_i = \\sum\\limits_{j \\in N} x_{ij} &,~ \\forall~ i \\in A &~~~ (2) \\\\\n",
        "    & b_j = \\sum\\limits_{i \\in A} x_{ij} &,~ \\forall~ j \\in N &~~~ (3) \\\\\n",
        "    & x_{ij} \\ge 0 &,~ \\forall~ i \\in A, j \\in N &~~~ (4) \\\\\n",
        "  \\end{array}\n",
        "\\end{align}\n",
        "$"
      ],
      "metadata": {
        "id": "q10x0kvV6U7o"
      }
    },
    {
      "cell_type": "markdown",
      "source": [
        "## Implementierung"
      ],
      "metadata": {
        "id": "hRO_cR8W6-0R"
      }
    },
    {
      "cell_type": "markdown",
      "source": [
        "### Daten"
      ],
      "metadata": {
        "id": "h-8gkj38cnzD"
      }
    },
    {
      "cell_type": "code",
      "source": [
        "# Angebotsknoten\n",
        "A = ['Sunnyvale', 'Dublin', 'Bankok']\n",
        "\n",
        "# Angebotsmenge\n",
        "a = {'Sunnyvale': 45, 'Dublin': 120, 'Bankok': 95}\n",
        "\n",
        "# Nachfrageknoten\n",
        "N = ['Amarillo', 'Teaneck', 'Chicago', 'Falls']\n",
        "\n",
        "# Nachfragemenge\n",
        "b = {'Amarillo': 80, 'Teaneck': 78, 'Chicago': 47, 'Falls': 55}\n",
        "\n",
        "# Kosten\n",
        "c = {\n",
        "    'Sunnyvale': {'Amarillo': 250, 'Teaneck': 420, 'Chicago': 380, 'Falls': 280},\n",
        "    'Dublin': {'Amarillo': 1280, 'Teaneck': 990, 'Chicago': 1440, 'Falls': 1520},\n",
        "    'Bankok': {'Amarillo': 550, 'Teaneck': 1420, 'Chicago': 1660, 'Falls': 1730},\n",
        "}"
      ],
      "metadata": {
        "id": "W15eoB798twU"
      },
      "execution_count": null,
      "outputs": []
    },
    {
      "cell_type": "markdown",
      "source": [
        "### Modell"
      ],
      "metadata": {
        "id": "DLTrVOr-63Wo"
      }
    },
    {
      "cell_type": "code",
      "source": [
        "!pip install pulp\n",
        "import pulp"
      ],
      "metadata": {
        "id": "yNo_6sfG601B",
        "outputId": "9a499ef1-b3b5-4f8d-c388-6ceb315b496d",
        "colab": {
          "base_uri": "https://localhost:8080/"
        }
      },
      "execution_count": null,
      "outputs": [
        {
          "output_type": "stream",
          "name": "stdout",
          "text": [
            "Looking in indexes: https://pypi.org/simple, https://us-python.pkg.dev/colab-wheels/public/simple/\n",
            "Collecting pulp\n",
            "  Downloading PuLP-2.7.0-py3-none-any.whl (14.3 MB)\n",
            "\u001b[2K     \u001b[90m━━━━━━━━━━━━━━━━━━━━━━━━━━━━━━━━━━━━━━━━\u001b[0m \u001b[32m14.3/14.3 MB\u001b[0m \u001b[31m54.6 MB/s\u001b[0m eta \u001b[36m0:00:00\u001b[0m\n",
            "\u001b[?25hInstalling collected packages: pulp\n",
            "Successfully installed pulp-2.7.0\n"
          ]
        }
      ]
    },
    {
      "cell_type": "code",
      "source": [
        "# Model\n",
        "model = pulp.LpProblem(name='Transportproblem',\n",
        "                       sense=pulp.constants.LpMinimize)\n",
        "\n",
        "# Decision variables\n",
        "x = pulp.LpVariable.dicts(name='x', indices=(A, N), lowBound=0, cat='Integer')\n",
        "\n",
        "# (1) Objective\n",
        "model += pulp.lpSum(c[i][j] * x[i][j] for i in A for j in N), '(1)'\n",
        "\n",
        "# (2)\n",
        "for i in A:\n",
        "  model += a[i] == pulp.lpSum(x[i][j] for j in N), '(2)_' + str(i)\n",
        "\n",
        "# (2)\n",
        "for j in N:\n",
        "  model += b[j] == pulp.lpSum(x[i][j] for i in A), '(3)_' + str(j)\n",
        "\n",
        "# print(model)"
      ],
      "metadata": {
        "id": "5sx3GUW-OSoI"
      },
      "execution_count": null,
      "outputs": []
    },
    {
      "cell_type": "markdown",
      "source": [
        "### Solution"
      ],
      "metadata": {
        "id": "ZBP9o2G267xA"
      }
    },
    {
      "cell_type": "code",
      "source": [
        "# solve problem\n",
        "model.solve()\n",
        "\n",
        "# get status\n",
        "print(\"Status:\", pulp.LpStatus[model.status])\n",
        "\n",
        "# get objective value\n",
        "print('Objective value:', round(pulp.value(model.objective), 2))\n",
        "\n",
        "# get value of decision variable u (position in tour of the nodes that are part of the tour)\n",
        "for i in A:\n",
        "  for j in N:\n",
        "    if x[i][j].varValue > 0:\n",
        "      print('Von ' + str(i) + ' nach ' + str(j) + ': ' + str(x[i][j].varValue) + ' ME')"
      ],
      "metadata": {
        "colab": {
          "base_uri": "https://localhost:8080/"
        },
        "id": "Qw7Os3H4BelC",
        "outputId": "ff006f98-8b22-439e-fed9-cb3cee04e1c5"
      },
      "execution_count": null,
      "outputs": [
        {
          "output_type": "stream",
          "name": "stdout",
          "text": [
            "Status: Optimal\n",
            "Objective value: 219900.0\n",
            "Von Sunnyvale nach Falls: 45.0 ME\n",
            "Von Dublin nach Teaneck: 78.0 ME\n",
            "Von Dublin nach Chicago: 42.0 ME\n",
            "Von Bankok nach Amarillo: 80.0 ME\n",
            "Von Bankok nach Chicago: 5.0 ME\n",
            "Von Bankok nach Falls: 10.0 ME\n"
          ]
        }
      ]
    },
    {
      "cell_type": "code",
      "source": [],
      "metadata": {
        "id": "2SiP-N-EdZE7"
      },
      "execution_count": null,
      "outputs": []
    }
  ]
}