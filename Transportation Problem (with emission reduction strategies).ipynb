{
  "nbformat": 4,
  "nbformat_minor": 0,
  "metadata": {
    "colab": {
      "provenance": [],
      "authorship_tag": "ABX9TyNRtt0OSuT7uUhASNcKSXCE",
      "include_colab_link": true
    },
    "kernelspec": {
      "name": "python3",
      "display_name": "Python 3"
    },
    "language_info": {
      "name": "python"
    }
  },
  "cells": [
    {
      "cell_type": "markdown",
      "metadata": {
        "id": "view-in-github",
        "colab_type": "text"
      },
      "source": [
        "<a href=\"https://colab.research.google.com/github/aheiX/Teaching/blob/main/Transportation%20Problem%20(with%20emission%20reduction%20strategies).ipynb\" target=\"_parent\"><img src=\"https://colab.research.google.com/assets/colab-badge.svg\" alt=\"Open In Colab\"/></a>"
      ]
    },
    {
      "cell_type": "markdown",
      "source": [
        "# Transportation Problem with emission reduction strategies"
      ],
      "metadata": {
        "id": "GbgpSw586Kk1"
      }
    },
    {
      "cell_type": "markdown",
      "source": [
        "## Required packages"
      ],
      "metadata": {
        "id": "h-8gkj38cnzD"
      }
    },
    {
      "cell_type": "code",
      "source": [
        "# Load required pyhton packages\n",
        "!pip install pulp\n",
        "import pulp\n",
        "import numpy as np\n",
        "import plotly.graph_objects as go\n",
        "from plotly.subplots import make_subplots"
      ],
      "metadata": {
        "id": "yNo_6sfG601B",
        "outputId": "bebabfb1-9cd1-4629-f33f-2157fe86c1bb",
        "colab": {
          "base_uri": "https://localhost:8080/"
        }
      },
      "execution_count": 74,
      "outputs": [
        {
          "output_type": "stream",
          "name": "stdout",
          "text": [
            "Requirement already satisfied: pulp in /usr/local/lib/python3.10/dist-packages (2.7.0)\n"
          ]
        }
      ]
    },
    {
      "cell_type": "markdown",
      "source": [
        "## Data"
      ],
      "metadata": {
        "id": "LbIlu8VEUYdg"
      }
    },
    {
      "cell_type": "code",
      "source": [
        "# Supply node\n",
        "S = ['Hamburg', 'Berlin', 'Munich']\n",
        "\n",
        "# Supply\n",
        "s = {'Hamburg': 100, 'Berlin': 200, 'Munich': 70}\n",
        "\n",
        "# Demand nodes\n",
        "D = ['Bremen', 'Cologne', 'Dresden']\n",
        "\n",
        "# Demand\n",
        "d = {'Bremen': 80, 'Cologne': 40, 'Dresden': 90}\n",
        "\n",
        "# Transport costs\n",
        "c = {\n",
        "    'Hamburg': {'Bremen': 4, 'Cologne': 3, 'Dresden': 8},\n",
        "    'Berlin': {'Bremen': 6, 'Cologne': 8, 'Dresden': 9},\n",
        "    'Munich': {'Bremen': 7, 'Cologne': 6, 'Dresden': 5}\n",
        "}\n"
      ],
      "metadata": {
        "id": "wmI6iWrGBj2x"
      },
      "execution_count": 75,
      "outputs": []
    },
    {
      "cell_type": "markdown",
      "source": [
        "## PuLP Model"
      ],
      "metadata": {
        "id": "GMXKGXV36Pmk"
      }
    },
    {
      "cell_type": "code",
      "source": [
        "def model_all_inclusive(S, s, D, d, c, e,\n",
        "                        carbon_tax=None,\n",
        "                        carbon_limit=None,\n",
        "                        p_buy=None, p_sell=None, initial_amount=None,\n",
        "                        obj=None):\n",
        "  # Model\n",
        "  model = pulp.LpProblem(name='Transport_Problem_Min_Emissions',\n",
        "                        sense=pulp.constants.LpMinimize)\n",
        "\n",
        "  # Decision variables\n",
        "  x = pulp.LpVariable.dicts(name='x', indices=(S, D), lowBound=0, cat='Integer')\n",
        "\n",
        "  # Dummy decision variables for reporting\n",
        "  costs = pulp.LpVariable('costs', lowBound=0, upBound=None, cat=pulp.LpContinuous)\n",
        "  emissions = pulp.LpVariable('emissions', lowBound=0, upBound=None, cat=pulp.LpContinuous)\n",
        "\n",
        "  # Decision variables fro carbon trading scenario\n",
        "  if initial_amount is not None:\n",
        "    buy = pulp.LpVariable('buy', lowBound=0, upBound=None, cat=pulp.LpContinuous)\n",
        "    sell = pulp.LpVariable('sell', lowBound=0, upBound=None, cat=pulp.LpContinuous)\n",
        "\n",
        "  # (1) Objective\n",
        "  if obj == 'emissions':\n",
        "    model += emissions, '(1) emissions'\n",
        "  else:\n",
        "    if carbon_tax is not None:\n",
        "      model += costs + emissions*carbon_tax, '(1) carbon tax'\n",
        "    elif initial_amount is not None:\n",
        "      model += costs + p_buy * buy - p_sell * sell, '(1) carbon trading'\n",
        "    else:\n",
        "      model += costs, '(1) costs'\n",
        "\n",
        "  # add dummy decision variables to the model\n",
        "  model += costs == pulp.lpSum(c[i][j] * x[i][j] for i in S for j in D)\n",
        "  model += emissions == pulp.lpSum(e[i][j] * x[i][j] for i in S for j in D)\n",
        "\n",
        "  # (2)\n",
        "  for i in S:\n",
        "    model += s[i] >= pulp.lpSum(x[i][j] for j in D), '(2)_' + str(i)\n",
        "\n",
        "  # (2)\n",
        "  for j in D:\n",
        "    model += d[j] == pulp.lpSum(x[i][j] for i in S), '(3)_' + str(j)\n",
        "\n",
        "  # carbon limit\n",
        "  if carbon_limit is not None:\n",
        "    model += carbon_limit >= pulp.lpSum(x[i][j]*e[i][j] for i in S for j in D), 'Carbon_Limit'\n",
        "\n",
        "  # carbon trading\n",
        "  if initial_amount is not None:\n",
        "    model += emissions <= initial_amount + buy - sell, 'Carbon_Trade'\n",
        "\n",
        "  return model"
      ],
      "metadata": {
        "id": "AESWEx0xCWLL"
      },
      "execution_count": 76,
      "outputs": []
    },
    {
      "cell_type": "markdown",
      "source": [
        "## Solving"
      ],
      "metadata": {
        "id": "ZBP9o2G267xA"
      }
    },
    {
      "cell_type": "code",
      "source": [
        "def solve_and_print(model, extended=True):\n",
        "  model.solve()\n",
        "\n",
        "  if extended:\n",
        "    # get status\n",
        "    print(\"Status:\", pulp.LpStatus[model.status])\n",
        "\n",
        "    # get objective value\n",
        "    print('Objective value:', round(pulp.value(model.objective), 2))\n",
        "\n",
        "    print(\"All variables:\")\n",
        "    for v in model.variables():\n",
        "      if v.varValue > 0:\n",
        "        print(v.name, \"=\", v.varValue)\n",
        "  else:\n",
        "    for v in model.variables():\n",
        "      if v.varValue > 0 and v.name in ['costs', 'emissions']:\n",
        "        print(v.name, \"=\", v.varValue)"
      ],
      "metadata": {
        "id": "Qw7Os3H4BelC"
      },
      "execution_count": 77,
      "outputs": []
    },
    {
      "cell_type": "markdown",
      "source": [
        "## Experiments"
      ],
      "metadata": {
        "id": "uvrFojlEUmW3"
      }
    },
    {
      "cell_type": "code",
      "source": [
        "print('min costs')\n",
        "model = model_all_inclusive(S=S, s=s, D=D, d=d, c=c, e=e, obj='costs')\n",
        "solve_and_print(model, extended=False)\n",
        "\n",
        "print('')\n",
        "print('min emissions')\n",
        "model = model_all_inclusive(S=S, s=s, D=D, d=d, c=c, e=e, obj='emissions')\n",
        "solve_and_print(model, extended=False)\n",
        "\n",
        "# for carbon_tax in np.arange(0.1, 1.6, 0.2):\n",
        "#   print('')\n",
        "#   print('min costs with carbon tax ' + str(round(carbon_tax, 1)))\n",
        "#   model = model_all_inclusive(S=S, s=s, D=D, d=d, c=c, e=e, obj='costs',\n",
        "#                               carbon_tax=round(carbon_tax, 1))\n",
        "#   solve_and_print(model, extended=False)\n",
        "\n",
        "\n",
        "# for carbon_limit in np.arange(1000, 1100, 50):\n",
        "#   print('')\n",
        "#   print('min costs with carbon limit ' + str(round(carbon_limit, 1)))\n",
        "#   model = model_all_inclusive(S=S, s=s, D=D, d=d, c=c, e=e, obj='costs',\n",
        "#                               carbon_limit=float(carbon_limit))\n",
        "#   solve_and_print(model, extended=False)\n",
        "\n",
        "print('')\n",
        "print('min costs with carbon trading' )\n",
        "model = model_all_inclusive(S=S, s=s, D=D, d=d, c=c, e=e, obj='costs',\n",
        "                            p_buy=1, p_sell=1, initial_amount=1200)\n",
        "solve_and_print(model, extended=False)\n"
      ],
      "metadata": {
        "id": "W15eoB798twU",
        "colab": {
          "base_uri": "https://localhost:8080/"
        },
        "outputId": "731119e5-468c-4699-9251-0206b23be301"
      },
      "execution_count": 78,
      "outputs": [
        {
          "output_type": "stream",
          "name": "stdout",
          "text": [
            "min costs\n",
            "costs = 1010.0\n",
            "emissions = 1650.0\n",
            "\n",
            "min emissions\n",
            "costs = 1470.0\n",
            "emissions = 1080.0\n",
            "\n",
            "min costs with carbon trading\n",
            "costs = 1450.0\n",
            "emissions = 1100.0\n"
          ]
        }
      ]
    }
  ]
}