{
  "nbformat": 4,
  "nbformat_minor": 0,
  "metadata": {
    "colab": {
      "provenance": [],
      "authorship_tag": "ABX9TyMb/OHSNXaUP+XsNvvoojl2",
      "include_colab_link": true
    },
    "kernelspec": {
      "name": "python3",
      "display_name": "Python 3"
    },
    "language_info": {
      "name": "python"
    }
  },
  "cells": [
    {
      "cell_type": "markdown",
      "metadata": {
        "id": "view-in-github",
        "colab_type": "text"
      },
      "source": [
        "<a href=\"https://colab.research.google.com/github/aheiX/Teaching/blob/main/Classical%20Transportation%20Problem%20(wo%20pulp).ipynb\" target=\"_parent\"><img src=\"https://colab.research.google.com/assets/colab-badge.svg\" alt=\"Open In Colab\"/></a>"
      ]
    },
    {
      "cell_type": "markdown",
      "source": [
        "# Classical Transportation Problem"
      ],
      "metadata": {
        "id": "GbgpSw586Kk1"
      }
    },
    {
      "cell_type": "markdown",
      "source": [
        "## Problem Description"
      ],
      "metadata": {
        "id": "YkMykIDYMaJf"
      }
    },
    {
      "cell_type": "markdown",
      "source": [
        "The classic(al) transportation problem concerns minimizing the cost of transporting a product from sources/supplies to destinations/demands. The three inputs of the model are total units produced at each source, total units needed at each destination, and the cost to transport one unit from each source to each destination. And the objective is to minimize the total cost of transporting all units produced at sources to meet the demands at destinations. (Source: https://gistbok.ucgis.org/bok-topics/classic-transportation-problem)\n",
        "\n",
        "\n",
        "**Example:** <br>\n",
        "Container need to be transported from sources (Kiel, Magdeburg, Dortmund) to destinations (Hamburg, Berlin, Cologne, Munich). The available containers (supply) in Kiel, Magdeburg, and Dortmund are 45, 120, and 9, respectively. The demands in Hamburg, Berlin, Cologne, Munich are 80, 78, 47, and 55, respectively The transportation costs in tsd. Euro per container are shown in the following table:\n",
        "\n",
        "<br>\n",
        "$\n",
        "\\begin{array}{lrrrrrrr}\n",
        "    \\hline\n",
        "    \\text{} & \\text{Hamburg} & \\text{Berlin} & \\text{Cologne} & \\text{Munich} \\\\ \\hline\n",
        "     \\text{Kiel} & 20 & 40 & 50 & 120 \\\\\n",
        "     \\text{Magdeburg} & 30 & 10 & 40 & 60 \\\\\n",
        "     \\text{Dortmund} & 45 & 40 & 10 & 50 \\\\\n",
        "     \\hline\n",
        "\\end{array}\n",
        "$\n",
        "<br><br>\n",
        "\n",
        "How to minimize the total cost of transporting all units produced at sources to meet the demands at destinations?\n",
        "\n"
      ],
      "metadata": {
        "id": "RXKMtRvhMe54"
      }
    },
    {
      "cell_type": "markdown",
      "source": [
        "## Mathematical Program"
      ],
      "metadata": {
        "id": "GMXKGXV36Pmk"
      }
    },
    {
      "cell_type": "markdown",
      "source": [
        "**Notation:**\n",
        "\\begin{array}{ll}\n",
        "S & \\text{Set of source/supply nodes}\\\\\n",
        "D & \\text{Set of destination/demand nodes}\\\\\n",
        "s_i & \\text{Supply at node } i \\in S\\\\\n",
        "d_i & \\text{Demand at node } j \\in D\\\\\n",
        "c_{ij}  & \\text{Transportation costs between supply node $i \\in S$ and demand node $j \\in D$}\\\\\n",
        "\\end{array}\n",
        "<br>\n",
        "\n",
        "**Decision variables:**\n",
        "\\begin{array}{ll}\n",
        "x_{ij} & \\text{Quantity transported between supply node $i \\in S$ and demand node $j \\in D$}\\\\\n",
        "\\end{array}\n",
        "<br>\n",
        "\n",
        "**Objective:** <br>\n",
        "$\n",
        "\\begin{align}\n",
        "  \\begin{array}{llll}\n",
        "    & \\min \\sum\\limits_{i \\in S, j \\in D} c_{ij} \\cdot x_{ij} & &~~~  (1) \\\\\n",
        "  \\end{array}\n",
        "\\end{align}\n",
        "$\n",
        "<br>\n",
        "\n",
        "**Constraints:**<br>\n",
        "$\n",
        "\\begin{align}\n",
        "  \\begin{array}{llll}\n",
        "    & s_i = \\sum\\limits_{j \\in D} x_{ij} &,~ \\forall~ i \\in S &~~~ (2) \\\\\n",
        "    & d_j = \\sum\\limits_{i \\in S} x_{ij} &,~ \\forall~ j \\in D &~~~ (3) \\\\\n",
        "    & x_{ij} \\ge 0 &,~ \\forall~ i \\in S, j \\in D &~~~ (4) \\\\\n",
        "  \\end{array}\n",
        "\\end{align}\n",
        "$"
      ],
      "metadata": {
        "id": "q10x0kvV6U7o"
      }
    }
  ]
}