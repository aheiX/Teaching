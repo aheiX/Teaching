{
  "nbformat": 4,
  "nbformat_minor": 0,
  "metadata": {
    "colab": {
      "provenance": [],
      "authorship_tag": "ABX9TyMuIqkqb9u0/uSUDbKjYX+p",
      "include_colab_link": true
    },
    "kernelspec": {
      "name": "python3",
      "display_name": "Python 3"
    },
    "language_info": {
      "name": "python"
    }
  },
  "cells": [
    {
      "cell_type": "markdown",
      "metadata": {
        "id": "view-in-github",
        "colab_type": "text"
      },
      "source": [
        "<a href=\"https://colab.research.google.com/github/aheiX/Teaching/blob/main/PuLP%20-%20Tutorial/Tutorial%20PuLP.ipynb\" target=\"_parent\"><img src=\"https://colab.research.google.com/assets/colab-badge.svg\" alt=\"Open In Colab\"/></a>"
      ]
    },
    {
      "cell_type": "markdown",
      "source": [
        "# Tutorial PuLP"
      ],
      "metadata": {
        "id": "mUb5Rt1F1Rtr"
      }
    },
    {
      "cell_type": "markdown",
      "source": [
        "This tutorial uses the well-known Traveling-Salesperson-Problem (TSP) to explain how Python's module PuLP can be used to model and solve simple Linear Programs. A Tutorial on the implementaion of the TSP in CPLEX can be found here: [TSP Tutorial on CPLEX](https://www.scm.bwl.uni-kiel.de/de/lehre/tutorial-on-cplex.pdf).\n",
        "\n"
      ],
      "metadata": {
        "id": "XDl9Y-Zq1NtE"
      }
    },
    {
      "cell_type": "markdown",
      "source": [
        "## Problem Description"
      ],
      "metadata": {
        "id": "uhgtLzBU1-ps"
      }
    },
    {
      "cell_type": "markdown",
      "source": [
        "The Traveling Salesperson Problem (TSP) is one of the most famous combinatorial problems in the fields of mathematics, computer science, and operations research. The classical definition of the TSP is as follows: What is the shortest possible route for a traveling salesperson seeking to visit each city on a list exactly once and return to his city of origin? (Cook, William (2012) *In Pursuit of the Travelin Salesman*).\n",
        "\n",
        "While the problem is easy to understand and easy to formulate as a mathematical model, solving it to optimality through complete enumeration of all feasible solutions quickly becomes intractable as the number of potential solutions grows exponentially in the number of cities to visit.\n",
        "\n",
        "To date, there exists no algorithm that solves the TSP to optimality in polynomial time and it is widely believed that there is no such algorithm. However, heuristics are usually capable of finding very good solutions in a short computation time. \n",
        "\n",
        "Let's continue with an artificial small-sized data set that is used throughout this tutorial. The example consist of five cities (1 to 5) in which city 1 is the salesperson's city of origin (also referred to as depot). The following Table shows the distance between the cities. \n",
        "\n",
        "\\begin{array}{l lllll}\n",
        "         destination \\rightarrow \\\\\n",
        "         \\hline\n",
        "         origin \\downarrow & 1 & 2 & 3 & 4 & 5 \\\\\n",
        "         \\hline\n",
        "         1 & - & 7 & 8 & 5 & 3 \\\\\n",
        "         2 & 7 & - & 2 & 8 & 10 \\\\\n",
        "         3 & 8 & 2 & - & 6 & 9 \\\\\n",
        "         4 & 5 & 9 & 6 & - & 4 \\\\\n",
        "         5 & 3 & 10 & 9 & 4 & - \\\\\n",
        "\\end{array}\n"
      ],
      "metadata": {
        "id": "bMLKGyAa7MdW"
      }
    },
    {
      "cell_type": "markdown",
      "source": [
        "## Mathematical Formulation\n"
      ],
      "metadata": {
        "id": "E1dESavD4xa1"
      }
    },
    {
      "cell_type": "markdown",
      "source": [
        "A graph-based formulation is used that is based on the paper from Langevin, André, Francois Soumis, and Jacques Desrosiers (\"Classification of travelling salesman problem formulations\". In: Operations Research Letters. 1990). For the subtour constraints, the popular formulation from Miller, Tucker and Zemlin is used. \n",
        "\n",
        "Let $N$ denote the number of nodes in the network, i.e., the number of cities. The distance for the salesperson to travel between any two nodes $i$ and $j$ is denoted with $c_{ij}$. Decision variable $x_{ij}$ is used to describe if the salesperson traverses from node $i$ to node $j$ ($x_{ij}=1$), or not ($x_{ij}=0$). Using this notation, the mathematical model for the TSP is as follows: \n",
        "\n",
        "**Objective**\n",
        "$\n",
        "\\min \\sum_{i=1,\\dots,N} \\sum_{j=1,\\dots,N} c_{ij} \\cdot x_{ij}\n",
        "\\tag{1}\n",
        "$\n",
        "\n",
        "**Constraints**\n",
        "\n",
        "$\n",
        "\\sum_{i=1,\\dots,N} x_{ij} = 1,~ \\forall~ j = 1,\\dots,N \n",
        "\\tag{2}\n",
        "$\n",
        "\n",
        "$\n",
        "\\sum_{j=1,\\dots,N} x_{ij} = 1,~ \\forall~ i = 1,\\dots,N\n",
        "\\tag{3}\n",
        "$\n",
        "\n",
        "$\n",
        "u_{i} - u_{j} + N \\cdot x_{ij} \\le N -1,~ \\forall~ i,j = 1,\\dots,N: j \\ne 1 ~\\text{and}~ i \\ne j\n",
        "\\tag{4}\n",
        "$\n",
        "\n",
        "$\n",
        "u_{i} \\in \\mathbb{Z}^{+},~ \\forall~ i = 1,\\dots,N\n",
        "\\tag{5}\n",
        "$\n",
        "\n",
        "$\n",
        "x_{ij} \\in \\{0,1\\},~ \\forall~ i,j = 1,\\dots,N\n",
        "\\tag{6}\n",
        "$\n",
        "\n",
        "Equation (1) states the objective (distance minimization) by summing up the distances of the selected arcs. Equations (2) and (3)} ensure that the salesperson enters and exists each node exactly once (i.e., that each node is visited exactly once), respectively. Equations (4) restricts solutions with subtour. Finally, Equations (5) and (6) states the domains of the decision variables."
      ],
      "metadata": {
        "id": "WHmjA9XE7Q_M"
      }
    },
    {
      "cell_type": "markdown",
      "source": [
        "## Python Implementation"
      ],
      "metadata": {
        "id": "hD3gsdas7igF"
      }
    },
    {
      "cell_type": "markdown",
      "source": [
        "### Loading Packages"
      ],
      "metadata": {
        "id": "hn4hUZnD-Bni"
      }
    },
    {
      "cell_type": "code",
      "execution_count": 4,
      "metadata": {
        "id": "HZ3cwRJe0aLp",
        "outputId": "5ed11484-88fc-4dcf-9be4-d2a5cade0eb0",
        "colab": {
          "base_uri": "https://localhost:8080/"
        }
      },
      "outputs": [
        {
          "output_type": "stream",
          "name": "stdout",
          "text": [
            "Looking in indexes: https://pypi.org/simple, https://us-python.pkg.dev/colab-wheels/public/simple/\n",
            "Requirement already satisfied: numpy in /usr/local/lib/python3.9/dist-packages (1.22.4)\n",
            "Looking in indexes: https://pypi.org/simple, https://us-python.pkg.dev/colab-wheels/public/simple/\n",
            "Requirement already satisfied: pandas in /usr/local/lib/python3.9/dist-packages (1.5.3)\n",
            "Requirement already satisfied: python-dateutil>=2.8.1 in /usr/local/lib/python3.9/dist-packages (from pandas) (2.8.2)\n",
            "Requirement already satisfied: pytz>=2020.1 in /usr/local/lib/python3.9/dist-packages (from pandas) (2022.7.1)\n",
            "Requirement already satisfied: numpy>=1.20.3 in /usr/local/lib/python3.9/dist-packages (from pandas) (1.22.4)\n",
            "Requirement already satisfied: six>=1.5 in /usr/local/lib/python3.9/dist-packages (from python-dateutil>=2.8.1->pandas) (1.16.0)\n",
            "Looking in indexes: https://pypi.org/simple, https://us-python.pkg.dev/colab-wheels/public/simple/\n",
            "Requirement already satisfied: pulp in /usr/local/lib/python3.9/dist-packages (2.7.0)\n"
          ]
        }
      ],
      "source": [
        "!pip install numpy\n",
        "!pip install pandas\n",
        "!pip install pulp\n",
        "\n",
        "import numpy as np\n",
        "import pandas as pd\n",
        "import pulp\n"
      ]
    },
    {
      "cell_type": "markdown",
      "source": [
        "### Input Data"
      ],
      "metadata": {
        "id": "4LMKuNIn93H2"
      }
    },
    {
      "cell_type": "code",
      "source": [
        "input_array = np.array(\n",
        "    [[1, 2, 3], \n",
        "     [4, 5, 6], \n",
        "     [7, 8, 9]]\n",
        ")\n",
        "\n",
        "df = pd.DataFrame(input_array, columns=['location', 'longitude', 'latitude'])\n",
        "print(df)"
      ],
      "metadata": {
        "id": "rev1hD8x98kV",
        "outputId": "505d1565-2013-4379-8a98-0c1da8df8570",
        "colab": {
          "base_uri": "https://localhost:8080/"
        }
      },
      "execution_count": 8,
      "outputs": [
        {
          "output_type": "stream",
          "name": "stdout",
          "text": [
            "   a  b  c\n",
            "0  1  2  3\n",
            "1  4  5  6\n",
            "2  7  8  9\n"
          ]
        }
      ]
    }
  ]
}