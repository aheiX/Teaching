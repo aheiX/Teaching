{
  "nbformat": 4,
  "nbformat_minor": 0,
  "metadata": {
    "colab": {
      "provenance": [],
      "authorship_tag": "ABX9TyOWt62nOOxJzS7qvl3XOR7q",
      "include_colab_link": true
    },
    "kernelspec": {
      "name": "python3",
      "display_name": "Python 3"
    },
    "language_info": {
      "name": "python"
    }
  },
  "cells": [
    {
      "cell_type": "markdown",
      "metadata": {
        "id": "view-in-github",
        "colab_type": "text"
      },
      "source": [
        "<a href=\"https://colab.research.google.com/github/aheiX/Teaching/blob/main/PuLP%20-%20Tutorial/Tutorial%20PuLP.ipynb\" target=\"_parent\"><img src=\"https://colab.research.google.com/assets/colab-badge.svg\" alt=\"Open In Colab\"/></a>"
      ]
    },
    {
      "cell_type": "markdown",
      "source": [
        "# Tutorial PuLP"
      ],
      "metadata": {
        "id": "mUb5Rt1F1Rtr"
      }
    },
    {
      "cell_type": "markdown",
      "source": [
        "This tutorial uses the well-known Traveling-Salesperson-Problem (TSP) to explain how Python's module PuLP can be used to model and solve simple Linear Programs. A Tutorial on the implementaion of the TSP in CPLEX can be found here: [TSP Tutorial on CPLEX](https://www.scm.bwl.uni-kiel.de/de/lehre/tutorial-on-cplex.pdf).\n",
        "\n"
      ],
      "metadata": {
        "id": "XDl9Y-Zq1NtE"
      }
    },
    {
      "cell_type": "markdown",
      "source": [
        "## Problem Description"
      ],
      "metadata": {
        "id": "uhgtLzBU1-ps"
      }
    },
    {
      "cell_type": "markdown",
      "source": [
        "The Traveling Salesperson Problem (TSP) is one of the most famous combinatorial problems in the fields of mathematics, computer science, and operations research. The classical definition of the TSP is as follows: What is the shortest possible route for a traveling salesperson seeking to visit each city on a list exactly once and return to his city of origin? (Cook, William (2012) *In Pursuit of the Travelin Salesman*).\n",
        "\n",
        "While the problem is easy to understand and easy to formulate as a mathematical model, solving it to optimality through complete enumeration of all feasible solutions quickly becomes intractable as the number of potential solutions grows exponentially in the number of cities to visit.\n",
        "\n",
        "To date, there exists no algorithm that solves the TSP to optimality in polynomial time and it is widely believed that there is no such algorithm. However, heuristics are usually capable of finding very good solutions in a short computation time. \n",
        "\n",
        "Let's continue with an artificial small-sized data set that is used throughout this tutorial. The example consist of nine locations in which the first location ('Bahnhof')  is the salesperson's city of origin (also referred to as depot). The following table shows the latitude and longitude information of the locations:\n",
        "<br><br>\n",
        "\\begin{array}{lll}\n",
        "         name  & latitude & longitude \\\\\n",
        "         \\hline\n",
        "      Bahnhof & 54.315487 & 10.132285 \\\\\n",
        "Friedrichsort & 54.393713 & 10.184142 \\\\\n",
        "     Holtenau & 54.374804 & 10.148470 \\\\\n",
        "   University & 54.348125 & 10.117918 \\\\\n",
        "        Mitte & 54.324606 & 10.136630 \\\\\n",
        "       Garden & 54.313102 & 10.150910 \\\\\n",
        "  Wellingdorf & 54.328293 & 10.179582 \\\\\n",
        "   Heikendorf & 54.379798 & 10.212037 \\\\\n",
        "        Laboe & 54.409884 & 10.232679 \\\\\n",
        "\\end{array}"
      ],
      "metadata": {
        "id": "bMLKGyAa7MdW"
      }
    },
    {
      "cell_type": "markdown",
      "source": [
        "## Mathematical Formulation\n"
      ],
      "metadata": {
        "id": "E1dESavD4xa1"
      }
    },
    {
      "cell_type": "markdown",
      "source": [
        "A graph-based formulation is used that is based on the paper from Langevin, André, Francois Soumis, and Jacques Desrosiers (\"Classification of travelling salesman problem formulations\". In: Operations Research Letters. 1990). For the subtour constraints, the popular formulation from Miller, Tucker and Zemlin is used. \n",
        "\n",
        "Let $N$ denote the number of nodes in the network, i.e., the number of cities. The distance for the salesperson to travel between any two nodes $i$ and $j$ is denoted with $c_{ij}$. Decision variable $x_{ij}$ is used to describe if the salesperson traverses from node $i$ to node $j$ ($x_{ij}=1$), or not ($x_{ij}=0$). Using this notation, the mathematical model for the TSP is as follows: \n",
        "<br><br>\n",
        "$\n",
        "\\begin{align}\n",
        "  \\begin{array}{lll}\n",
        "    &\\textbf{Objective} & \\\\\n",
        "    & \\min \\sum_{i=1,\\dots,N} \\sum_{j=1,\\dots,N} c_{ij} \\cdot x_{ij} &~~~ (1) \\\\\n",
        "    &&\\\\\n",
        "    &\\textbf{Constraints} & \\\\\n",
        "    & \\sum_{i=1,\\dots,N} x_{ij} = 1,~ \\forall~ j = 1,\\dots,N  &~~~ (2) \\\\\n",
        "    & \\sum_{j=1,\\dots,N} x_{ij} = 1,~ \\forall~ i = 1,\\dots,N  &~~~ (3) \\\\\n",
        "    & x_{ii} = 0,~ \\forall~ i = 1,\\dots,N  &~~~ (4) \\\\\n",
        "    & u_{i} - u_{j} + N \\cdot x_{ij} \\le N -1,~ \\forall~ i,j = 1,\\dots,N: j \\ne 1 ~\\text{and}~ i \\ne j  &~~~ (5) \\\\\n",
        "    & u_{i} \\in \\mathbb{Z}^{+},~ \\forall~ i = 1,\\dots,N  &~~~ (6) \\\\\n",
        "    & x_{ij} \\in \\{0,1\\},~ \\forall~ i,j = 1,\\dots,N  &~~~ (7) \\\\\n",
        "  \\end{array}\n",
        "\\end{align}\n",
        "$\n",
        "<br><br>\n",
        "Equation (1) states the objective (distance minimization) by summing up the distances of the selected arcs. Equations (2) to (4) ensure that the salesperson enters and exists each node exactly once (i.e., that each node is visited exactly once), respectively. Equations (5) restricts solutions with subtour. Finally, Equations (6) and (7) states the domains of the decision variables."
      ],
      "metadata": {
        "id": "WHmjA9XE7Q_M"
      }
    },
    {
      "cell_type": "markdown",
      "source": [
        "## Python Implementation"
      ],
      "metadata": {
        "id": "hD3gsdas7igF"
      }
    },
    {
      "cell_type": "markdown",
      "source": [
        "### Loading Packages"
      ],
      "metadata": {
        "id": "hn4hUZnD-Bni"
      }
    },
    {
      "cell_type": "code",
      "execution_count": 263,
      "metadata": {
        "id": "HZ3cwRJe0aLp",
        "colab": {
          "base_uri": "https://localhost:8080/"
        },
        "outputId": "c3592c3f-7a53-464c-ba94-adbedc619514"
      },
      "outputs": [
        {
          "output_type": "stream",
          "name": "stdout",
          "text": [
            "Looking in indexes: https://pypi.org/simple, https://us-python.pkg.dev/colab-wheels/public/simple/\n",
            "Requirement already satisfied: haversine in /usr/local/lib/python3.9/dist-packages (2.8.0)\n",
            "Looking in indexes: https://pypi.org/simple, https://us-python.pkg.dev/colab-wheels/public/simple/\n",
            "Requirement already satisfied: numpy in /usr/local/lib/python3.9/dist-packages (1.22.4)\n",
            "Looking in indexes: https://pypi.org/simple, https://us-python.pkg.dev/colab-wheels/public/simple/\n",
            "Requirement already satisfied: pandas in /usr/local/lib/python3.9/dist-packages (1.5.3)\n",
            "Requirement already satisfied: python-dateutil>=2.8.1 in /usr/local/lib/python3.9/dist-packages (from pandas) (2.8.2)\n",
            "Requirement already satisfied: pytz>=2020.1 in /usr/local/lib/python3.9/dist-packages (from pandas) (2022.7.1)\n",
            "Requirement already satisfied: numpy>=1.20.3 in /usr/local/lib/python3.9/dist-packages (from pandas) (1.22.4)\n",
            "Requirement already satisfied: six>=1.5 in /usr/local/lib/python3.9/dist-packages (from python-dateutil>=2.8.1->pandas) (1.16.0)\n",
            "Looking in indexes: https://pypi.org/simple, https://us-python.pkg.dev/colab-wheels/public/simple/\n",
            "Requirement already satisfied: pulp in /usr/local/lib/python3.9/dist-packages (2.7.0)\n",
            "Looking in indexes: https://pypi.org/simple, https://us-python.pkg.dev/colab-wheels/public/simple/\n",
            "Requirement already satisfied: plotly.express in /usr/local/lib/python3.9/dist-packages (0.4.1)\n",
            "Requirement already satisfied: statsmodels>=0.9.0 in /usr/local/lib/python3.9/dist-packages (from plotly.express) (0.13.5)\n",
            "Requirement already satisfied: scipy>=0.18 in /usr/local/lib/python3.9/dist-packages (from plotly.express) (1.10.1)\n",
            "Requirement already satisfied: patsy>=0.5 in /usr/local/lib/python3.9/dist-packages (from plotly.express) (0.5.3)\n",
            "Requirement already satisfied: numpy>=1.11 in /usr/local/lib/python3.9/dist-packages (from plotly.express) (1.22.4)\n",
            "Requirement already satisfied: pandas>=0.20.0 in /usr/local/lib/python3.9/dist-packages (from plotly.express) (1.5.3)\n",
            "Requirement already satisfied: plotly>=4.1.0 in /usr/local/lib/python3.9/dist-packages (from plotly.express) (5.13.1)\n",
            "Requirement already satisfied: pytz>=2020.1 in /usr/local/lib/python3.9/dist-packages (from pandas>=0.20.0->plotly.express) (2022.7.1)\n",
            "Requirement already satisfied: python-dateutil>=2.8.1 in /usr/local/lib/python3.9/dist-packages (from pandas>=0.20.0->plotly.express) (2.8.2)\n",
            "Requirement already satisfied: six in /usr/local/lib/python3.9/dist-packages (from patsy>=0.5->plotly.express) (1.16.0)\n",
            "Requirement already satisfied: tenacity>=6.2.0 in /usr/local/lib/python3.9/dist-packages (from plotly>=4.1.0->plotly.express) (8.2.2)\n",
            "Requirement already satisfied: packaging>=21.3 in /usr/local/lib/python3.9/dist-packages (from statsmodels>=0.9.0->plotly.express) (23.0)\n"
          ]
        }
      ],
      "source": [
        "!pip install haversine\n",
        "!pip install numpy\n",
        "!pip install pandas\n",
        "!pip install pulp\n",
        "!pip install plotly.express\n",
        "\n",
        "import haversine\n",
        "import numpy as np\n",
        "import pandas as pd\n",
        "import plotly.express as px\n",
        "import pulp\n"
      ]
    },
    {
      "cell_type": "markdown",
      "source": [
        "### Input Data"
      ],
      "metadata": {
        "id": "4LMKuNIn93H2"
      }
    },
    {
      "cell_type": "code",
      "source": [
        "input_array = np.array(\n",
        "    [\n",
        "     ['Bahnhof', 54.31548738087378, 10.132285213361302],\n",
        "     ['Friedrichsort', 54.39371269762963, 10.184142058855787], \n",
        "     ['Holtenau', 54.37480425366618, 10.148469747635753], \n",
        "     ['University', 54.348125164196105, 10.117918463246932],\n",
        "     ['Mitte', 54.32460566307153, 10.136629552088058],\n",
        "     ['Garden', 54.313101710271425, 10.15091017118389],\n",
        "     ['Wellingdorf', 54.32829259013629, 10.179582183151096],\n",
        "     ['Heikendorf', 54.37979792093858, 10.212036804008633],\n",
        "     ['Laboe', 54.409884128644144, 10.232678775594744]\n",
        "     ]\n",
        ")\n",
        "\n",
        "df = pd.DataFrame(input_array, columns=['name', 'latitude', 'longitude'])\n",
        "df['longitude'] = pd.to_numeric(df['longitude'])\n",
        "df['latitude'] = pd.to_numeric(df['latitude'])\n",
        "\n",
        "print(df)\n",
        "\n",
        "fig = px.scatter_mapbox(df, lat='latitude', lon='longitude', color='name', \n",
        "                        zoom=10, mapbox_style='open-street-map')\n",
        "fig.update_traces(marker={'size': 15})\n",
        "fig.show()\n"
      ],
      "metadata": {
        "colab": {
          "base_uri": "https://localhost:8080/",
          "height": 727
        },
        "id": "rev1hD8x98kV",
        "outputId": "d410a446-405a-428c-b75c-16f06cad653a"
      },
      "execution_count": 264,
      "outputs": [
        {
          "output_type": "stream",
          "name": "stdout",
          "text": [
            "            name   latitude  longitude\n",
            "0        Bahnhof  54.315487  10.132285\n",
            "1  Friedrichsort  54.393713  10.184142\n",
            "2       Holtenau  54.374804  10.148470\n",
            "3     University  54.348125  10.117918\n",
            "4          Mitte  54.324606  10.136630\n",
            "5         Garden  54.313102  10.150910\n",
            "6    Wellingdorf  54.328293  10.179582\n",
            "7     Heikendorf  54.379798  10.212037\n",
            "8          Laboe  54.409884  10.232679\n"
          ]
        },
        {
          "output_type": "display_data",
          "data": {
            "text/html": [
              "<html>\n",
              "<head><meta charset=\"utf-8\" /></head>\n",
              "<body>\n",
              "    <div>            <script src=\"https://cdnjs.cloudflare.com/ajax/libs/mathjax/2.7.5/MathJax.js?config=TeX-AMS-MML_SVG\"></script><script type=\"text/javascript\">if (window.MathJax && window.MathJax.Hub && window.MathJax.Hub.Config) {window.MathJax.Hub.Config({SVG: {font: \"STIX-Web\"}});}</script>                <script type=\"text/javascript\">window.PlotlyConfig = {MathJaxConfig: 'local'};</script>\n",
              "        <script src=\"https://cdn.plot.ly/plotly-2.18.2.min.js\"></script>                <div id=\"8f3314aa-7b5b-428c-a021-aee672563f54\" class=\"plotly-graph-div\" style=\"height:525px; width:100%;\"></div>            <script type=\"text/javascript\">                                    window.PLOTLYENV=window.PLOTLYENV || {};                                    if (document.getElementById(\"8f3314aa-7b5b-428c-a021-aee672563f54\")) {                    Plotly.newPlot(                        \"8f3314aa-7b5b-428c-a021-aee672563f54\",                        [{\"hovertemplate\":\"name=Bahnhof<br>latitude=%{lat}<br>longitude=%{lon}<extra></extra>\",\"lat\":[54.31548738087378],\"legendgroup\":\"Bahnhof\",\"lon\":[10.132285213361302],\"marker\":{\"color\":\"#636efa\",\"size\":15},\"mode\":\"markers\",\"name\":\"Bahnhof\",\"showlegend\":true,\"subplot\":\"mapbox\",\"type\":\"scattermapbox\"},{\"hovertemplate\":\"name=Friedrichsort<br>latitude=%{lat}<br>longitude=%{lon}<extra></extra>\",\"lat\":[54.39371269762963],\"legendgroup\":\"Friedrichsort\",\"lon\":[10.184142058855787],\"marker\":{\"color\":\"#EF553B\",\"size\":15},\"mode\":\"markers\",\"name\":\"Friedrichsort\",\"showlegend\":true,\"subplot\":\"mapbox\",\"type\":\"scattermapbox\"},{\"hovertemplate\":\"name=Holtenau<br>latitude=%{lat}<br>longitude=%{lon}<extra></extra>\",\"lat\":[54.37480425366618],\"legendgroup\":\"Holtenau\",\"lon\":[10.148469747635753],\"marker\":{\"color\":\"#00cc96\",\"size\":15},\"mode\":\"markers\",\"name\":\"Holtenau\",\"showlegend\":true,\"subplot\":\"mapbox\",\"type\":\"scattermapbox\"},{\"hovertemplate\":\"name=University<br>latitude=%{lat}<br>longitude=%{lon}<extra></extra>\",\"lat\":[54.348125164196105],\"legendgroup\":\"University\",\"lon\":[10.117918463246932],\"marker\":{\"color\":\"#ab63fa\",\"size\":15},\"mode\":\"markers\",\"name\":\"University\",\"showlegend\":true,\"subplot\":\"mapbox\",\"type\":\"scattermapbox\"},{\"hovertemplate\":\"name=Mitte<br>latitude=%{lat}<br>longitude=%{lon}<extra></extra>\",\"lat\":[54.32460566307153],\"legendgroup\":\"Mitte\",\"lon\":[10.136629552088058],\"marker\":{\"color\":\"#FFA15A\",\"size\":15},\"mode\":\"markers\",\"name\":\"Mitte\",\"showlegend\":true,\"subplot\":\"mapbox\",\"type\":\"scattermapbox\"},{\"hovertemplate\":\"name=Garden<br>latitude=%{lat}<br>longitude=%{lon}<extra></extra>\",\"lat\":[54.31310171027143],\"legendgroup\":\"Garden\",\"lon\":[10.15091017118389],\"marker\":{\"color\":\"#19d3f3\",\"size\":15},\"mode\":\"markers\",\"name\":\"Garden\",\"showlegend\":true,\"subplot\":\"mapbox\",\"type\":\"scattermapbox\"},{\"hovertemplate\":\"name=Wellingdorf<br>latitude=%{lat}<br>longitude=%{lon}<extra></extra>\",\"lat\":[54.32829259013629],\"legendgroup\":\"Wellingdorf\",\"lon\":[10.179582183151096],\"marker\":{\"color\":\"#FF6692\",\"size\":15},\"mode\":\"markers\",\"name\":\"Wellingdorf\",\"showlegend\":true,\"subplot\":\"mapbox\",\"type\":\"scattermapbox\"},{\"hovertemplate\":\"name=Heikendorf<br>latitude=%{lat}<br>longitude=%{lon}<extra></extra>\",\"lat\":[54.37979792093858],\"legendgroup\":\"Heikendorf\",\"lon\":[10.212036804008632],\"marker\":{\"color\":\"#B6E880\",\"size\":15},\"mode\":\"markers\",\"name\":\"Heikendorf\",\"showlegend\":true,\"subplot\":\"mapbox\",\"type\":\"scattermapbox\"},{\"hovertemplate\":\"name=Laboe<br>latitude=%{lat}<br>longitude=%{lon}<extra></extra>\",\"lat\":[54.409884128644144],\"legendgroup\":\"Laboe\",\"lon\":[10.232678775594744],\"marker\":{\"color\":\"#FF97FF\",\"size\":15},\"mode\":\"markers\",\"name\":\"Laboe\",\"showlegend\":true,\"subplot\":\"mapbox\",\"type\":\"scattermapbox\"}],                        {\"template\":{\"data\":{\"histogram2dcontour\":[{\"type\":\"histogram2dcontour\",\"colorbar\":{\"outlinewidth\":0,\"ticks\":\"\"},\"colorscale\":[[0.0,\"#0d0887\"],[0.1111111111111111,\"#46039f\"],[0.2222222222222222,\"#7201a8\"],[0.3333333333333333,\"#9c179e\"],[0.4444444444444444,\"#bd3786\"],[0.5555555555555556,\"#d8576b\"],[0.6666666666666666,\"#ed7953\"],[0.7777777777777778,\"#fb9f3a\"],[0.8888888888888888,\"#fdca26\"],[1.0,\"#f0f921\"]]}],\"choropleth\":[{\"type\":\"choropleth\",\"colorbar\":{\"outlinewidth\":0,\"ticks\":\"\"}}],\"histogram2d\":[{\"type\":\"histogram2d\",\"colorbar\":{\"outlinewidth\":0,\"ticks\":\"\"},\"colorscale\":[[0.0,\"#0d0887\"],[0.1111111111111111,\"#46039f\"],[0.2222222222222222,\"#7201a8\"],[0.3333333333333333,\"#9c179e\"],[0.4444444444444444,\"#bd3786\"],[0.5555555555555556,\"#d8576b\"],[0.6666666666666666,\"#ed7953\"],[0.7777777777777778,\"#fb9f3a\"],[0.8888888888888888,\"#fdca26\"],[1.0,\"#f0f921\"]]}],\"heatmap\":[{\"type\":\"heatmap\",\"colorbar\":{\"outlinewidth\":0,\"ticks\":\"\"},\"colorscale\":[[0.0,\"#0d0887\"],[0.1111111111111111,\"#46039f\"],[0.2222222222222222,\"#7201a8\"],[0.3333333333333333,\"#9c179e\"],[0.4444444444444444,\"#bd3786\"],[0.5555555555555556,\"#d8576b\"],[0.6666666666666666,\"#ed7953\"],[0.7777777777777778,\"#fb9f3a\"],[0.8888888888888888,\"#fdca26\"],[1.0,\"#f0f921\"]]}],\"heatmapgl\":[{\"type\":\"heatmapgl\",\"colorbar\":{\"outlinewidth\":0,\"ticks\":\"\"},\"colorscale\":[[0.0,\"#0d0887\"],[0.1111111111111111,\"#46039f\"],[0.2222222222222222,\"#7201a8\"],[0.3333333333333333,\"#9c179e\"],[0.4444444444444444,\"#bd3786\"],[0.5555555555555556,\"#d8576b\"],[0.6666666666666666,\"#ed7953\"],[0.7777777777777778,\"#fb9f3a\"],[0.8888888888888888,\"#fdca26\"],[1.0,\"#f0f921\"]]}],\"contourcarpet\":[{\"type\":\"contourcarpet\",\"colorbar\":{\"outlinewidth\":0,\"ticks\":\"\"}}],\"contour\":[{\"type\":\"contour\",\"colorbar\":{\"outlinewidth\":0,\"ticks\":\"\"},\"colorscale\":[[0.0,\"#0d0887\"],[0.1111111111111111,\"#46039f\"],[0.2222222222222222,\"#7201a8\"],[0.3333333333333333,\"#9c179e\"],[0.4444444444444444,\"#bd3786\"],[0.5555555555555556,\"#d8576b\"],[0.6666666666666666,\"#ed7953\"],[0.7777777777777778,\"#fb9f3a\"],[0.8888888888888888,\"#fdca26\"],[1.0,\"#f0f921\"]]}],\"surface\":[{\"type\":\"surface\",\"colorbar\":{\"outlinewidth\":0,\"ticks\":\"\"},\"colorscale\":[[0.0,\"#0d0887\"],[0.1111111111111111,\"#46039f\"],[0.2222222222222222,\"#7201a8\"],[0.3333333333333333,\"#9c179e\"],[0.4444444444444444,\"#bd3786\"],[0.5555555555555556,\"#d8576b\"],[0.6666666666666666,\"#ed7953\"],[0.7777777777777778,\"#fb9f3a\"],[0.8888888888888888,\"#fdca26\"],[1.0,\"#f0f921\"]]}],\"mesh3d\":[{\"type\":\"mesh3d\",\"colorbar\":{\"outlinewidth\":0,\"ticks\":\"\"}}],\"scatter\":[{\"fillpattern\":{\"fillmode\":\"overlay\",\"size\":10,\"solidity\":0.2},\"type\":\"scatter\"}],\"parcoords\":[{\"type\":\"parcoords\",\"line\":{\"colorbar\":{\"outlinewidth\":0,\"ticks\":\"\"}}}],\"scatterpolargl\":[{\"type\":\"scatterpolargl\",\"marker\":{\"colorbar\":{\"outlinewidth\":0,\"ticks\":\"\"}}}],\"bar\":[{\"error_x\":{\"color\":\"#2a3f5f\"},\"error_y\":{\"color\":\"#2a3f5f\"},\"marker\":{\"line\":{\"color\":\"#E5ECF6\",\"width\":0.5},\"pattern\":{\"fillmode\":\"overlay\",\"size\":10,\"solidity\":0.2}},\"type\":\"bar\"}],\"scattergeo\":[{\"type\":\"scattergeo\",\"marker\":{\"colorbar\":{\"outlinewidth\":0,\"ticks\":\"\"}}}],\"scatterpolar\":[{\"type\":\"scatterpolar\",\"marker\":{\"colorbar\":{\"outlinewidth\":0,\"ticks\":\"\"}}}],\"histogram\":[{\"marker\":{\"pattern\":{\"fillmode\":\"overlay\",\"size\":10,\"solidity\":0.2}},\"type\":\"histogram\"}],\"scattergl\":[{\"type\":\"scattergl\",\"marker\":{\"colorbar\":{\"outlinewidth\":0,\"ticks\":\"\"}}}],\"scatter3d\":[{\"type\":\"scatter3d\",\"line\":{\"colorbar\":{\"outlinewidth\":0,\"ticks\":\"\"}},\"marker\":{\"colorbar\":{\"outlinewidth\":0,\"ticks\":\"\"}}}],\"scattermapbox\":[{\"type\":\"scattermapbox\",\"marker\":{\"colorbar\":{\"outlinewidth\":0,\"ticks\":\"\"}}}],\"scatterternary\":[{\"type\":\"scatterternary\",\"marker\":{\"colorbar\":{\"outlinewidth\":0,\"ticks\":\"\"}}}],\"scattercarpet\":[{\"type\":\"scattercarpet\",\"marker\":{\"colorbar\":{\"outlinewidth\":0,\"ticks\":\"\"}}}],\"carpet\":[{\"aaxis\":{\"endlinecolor\":\"#2a3f5f\",\"gridcolor\":\"white\",\"linecolor\":\"white\",\"minorgridcolor\":\"white\",\"startlinecolor\":\"#2a3f5f\"},\"baxis\":{\"endlinecolor\":\"#2a3f5f\",\"gridcolor\":\"white\",\"linecolor\":\"white\",\"minorgridcolor\":\"white\",\"startlinecolor\":\"#2a3f5f\"},\"type\":\"carpet\"}],\"table\":[{\"cells\":{\"fill\":{\"color\":\"#EBF0F8\"},\"line\":{\"color\":\"white\"}},\"header\":{\"fill\":{\"color\":\"#C8D4E3\"},\"line\":{\"color\":\"white\"}},\"type\":\"table\"}],\"barpolar\":[{\"marker\":{\"line\":{\"color\":\"#E5ECF6\",\"width\":0.5},\"pattern\":{\"fillmode\":\"overlay\",\"size\":10,\"solidity\":0.2}},\"type\":\"barpolar\"}],\"pie\":[{\"automargin\":true,\"type\":\"pie\"}]},\"layout\":{\"autotypenumbers\":\"strict\",\"colorway\":[\"#636efa\",\"#EF553B\",\"#00cc96\",\"#ab63fa\",\"#FFA15A\",\"#19d3f3\",\"#FF6692\",\"#B6E880\",\"#FF97FF\",\"#FECB52\"],\"font\":{\"color\":\"#2a3f5f\"},\"hovermode\":\"closest\",\"hoverlabel\":{\"align\":\"left\"},\"paper_bgcolor\":\"white\",\"plot_bgcolor\":\"#E5ECF6\",\"polar\":{\"bgcolor\":\"#E5ECF6\",\"angularaxis\":{\"gridcolor\":\"white\",\"linecolor\":\"white\",\"ticks\":\"\"},\"radialaxis\":{\"gridcolor\":\"white\",\"linecolor\":\"white\",\"ticks\":\"\"}},\"ternary\":{\"bgcolor\":\"#E5ECF6\",\"aaxis\":{\"gridcolor\":\"white\",\"linecolor\":\"white\",\"ticks\":\"\"},\"baxis\":{\"gridcolor\":\"white\",\"linecolor\":\"white\",\"ticks\":\"\"},\"caxis\":{\"gridcolor\":\"white\",\"linecolor\":\"white\",\"ticks\":\"\"}},\"coloraxis\":{\"colorbar\":{\"outlinewidth\":0,\"ticks\":\"\"}},\"colorscale\":{\"sequential\":[[0.0,\"#0d0887\"],[0.1111111111111111,\"#46039f\"],[0.2222222222222222,\"#7201a8\"],[0.3333333333333333,\"#9c179e\"],[0.4444444444444444,\"#bd3786\"],[0.5555555555555556,\"#d8576b\"],[0.6666666666666666,\"#ed7953\"],[0.7777777777777778,\"#fb9f3a\"],[0.8888888888888888,\"#fdca26\"],[1.0,\"#f0f921\"]],\"sequentialminus\":[[0.0,\"#0d0887\"],[0.1111111111111111,\"#46039f\"],[0.2222222222222222,\"#7201a8\"],[0.3333333333333333,\"#9c179e\"],[0.4444444444444444,\"#bd3786\"],[0.5555555555555556,\"#d8576b\"],[0.6666666666666666,\"#ed7953\"],[0.7777777777777778,\"#fb9f3a\"],[0.8888888888888888,\"#fdca26\"],[1.0,\"#f0f921\"]],\"diverging\":[[0,\"#8e0152\"],[0.1,\"#c51b7d\"],[0.2,\"#de77ae\"],[0.3,\"#f1b6da\"],[0.4,\"#fde0ef\"],[0.5,\"#f7f7f7\"],[0.6,\"#e6f5d0\"],[0.7,\"#b8e186\"],[0.8,\"#7fbc41\"],[0.9,\"#4d9221\"],[1,\"#276419\"]]},\"xaxis\":{\"gridcolor\":\"white\",\"linecolor\":\"white\",\"ticks\":\"\",\"title\":{\"standoff\":15},\"zerolinecolor\":\"white\",\"automargin\":true,\"zerolinewidth\":2},\"yaxis\":{\"gridcolor\":\"white\",\"linecolor\":\"white\",\"ticks\":\"\",\"title\":{\"standoff\":15},\"zerolinecolor\":\"white\",\"automargin\":true,\"zerolinewidth\":2},\"scene\":{\"xaxis\":{\"backgroundcolor\":\"#E5ECF6\",\"gridcolor\":\"white\",\"linecolor\":\"white\",\"showbackground\":true,\"ticks\":\"\",\"zerolinecolor\":\"white\",\"gridwidth\":2},\"yaxis\":{\"backgroundcolor\":\"#E5ECF6\",\"gridcolor\":\"white\",\"linecolor\":\"white\",\"showbackground\":true,\"ticks\":\"\",\"zerolinecolor\":\"white\",\"gridwidth\":2},\"zaxis\":{\"backgroundcolor\":\"#E5ECF6\",\"gridcolor\":\"white\",\"linecolor\":\"white\",\"showbackground\":true,\"ticks\":\"\",\"zerolinecolor\":\"white\",\"gridwidth\":2}},\"shapedefaults\":{\"line\":{\"color\":\"#2a3f5f\"}},\"annotationdefaults\":{\"arrowcolor\":\"#2a3f5f\",\"arrowhead\":0,\"arrowwidth\":1},\"geo\":{\"bgcolor\":\"white\",\"landcolor\":\"#E5ECF6\",\"subunitcolor\":\"white\",\"showland\":true,\"showlakes\":true,\"lakecolor\":\"white\"},\"title\":{\"x\":0.05},\"mapbox\":{\"style\":\"light\"}}},\"mapbox\":{\"domain\":{\"x\":[0.0,1.0],\"y\":[0.0,1.0]},\"center\":{\"lat\":54.35420127882529,\"lon\":10.166072552125135},\"zoom\":10,\"style\":\"open-street-map\"},\"legend\":{\"title\":{\"text\":\"name\"},\"tracegroupgap\":0},\"margin\":{\"t\":60}},                        {\"responsive\": true}                    ).then(function(){\n",
              "                            \n",
              "var gd = document.getElementById('8f3314aa-7b5b-428c-a021-aee672563f54');\n",
              "var x = new MutationObserver(function (mutations, observer) {{\n",
              "        var display = window.getComputedStyle(gd).display;\n",
              "        if (!display || display === 'none') {{\n",
              "            console.log([gd, 'removed!']);\n",
              "            Plotly.purge(gd);\n",
              "            observer.disconnect();\n",
              "        }}\n",
              "}});\n",
              "\n",
              "// Listen for the removal of the full notebook cells\n",
              "var notebookContainer = gd.closest('#notebook-container');\n",
              "if (notebookContainer) {{\n",
              "    x.observe(notebookContainer, {childList: true});\n",
              "}}\n",
              "\n",
              "// Listen for the clearing of the current output cell\n",
              "var outputEl = gd.closest('.output');\n",
              "if (outputEl) {{\n",
              "    x.observe(outputEl, {childList: true});\n",
              "}}\n",
              "\n",
              "                        })                };                            </script>        </div>\n",
              "</body>\n",
              "</html>"
            ]
          },
          "metadata": {}
        }
      ]
    },
    {
      "cell_type": "markdown",
      "source": [
        "### Distances"
      ],
      "metadata": {
        "id": "DisqIDZkESoS"
      }
    },
    {
      "cell_type": "code",
      "source": [
        "distances = dict()\n",
        "for index, row in df.iterrows():\n",
        "  distances[row['name']] = dict()\n",
        "  for index, row2 in df.iterrows():\n",
        "    distances[row['name']][row2['name']] = round(haversine.haversine(\n",
        "        (row['latitude'], row['longitude']), \n",
        "        (row2['latitude'], row2['longitude'])), 2)\n",
        "    \n"
      ],
      "metadata": {
        "id": "py-5hsHNEV8X"
      },
      "execution_count": 265,
      "outputs": []
    },
    {
      "cell_type": "markdown",
      "source": [
        "### PuLP-Model"
      ],
      "metadata": {
        "id": "YMO2R-JsHFTh"
      }
    },
    {
      "cell_type": "markdown",
      "source": [
        "#### Initializing"
      ],
      "metadata": {
        "id": "EdumWlAHInPJ"
      }
    },
    {
      "cell_type": "code",
      "source": [
        "from pulp.constants import LpMinimize\n",
        "\n",
        "nodes = df.name\n",
        "edges = [(i,j) for i in nodes for j in nodes]\n",
        "\n",
        "x = pulp.LpVariable.dicts(name='x', indices=(nodes, nodes), \n",
        "                          lowBound=0, upBound=1, cat='Binary')\n",
        "u = pulp.LpVariable.dicts(name='u', indices=nodes, \n",
        "                          lowBound=1, upBound=len(nodes), cat='Integer')\n",
        "\n",
        "# build problem\n",
        "prob = pulp.LpProblem(name='TSP', \n",
        "                      sense=LpMinimize)\n",
        "\n",
        "print('N: ' + str(len(nodes)))"
      ],
      "metadata": {
        "colab": {
          "base_uri": "https://localhost:8080/"
        },
        "id": "HZs8s3GOHZWI",
        "outputId": "2f855c3a-ef0d-423c-a8f5-54d9580f1a04"
      },
      "execution_count": 266,
      "outputs": [
        {
          "output_type": "stream",
          "name": "stdout",
          "text": [
            "N: 9\n"
          ]
        }
      ]
    },
    {
      "cell_type": "markdown",
      "source": [
        "#### Add Model"
      ],
      "metadata": {
        "id": "Wa3zigjGI6mS"
      }
    },
    {
      "cell_type": "markdown",
      "source": [
        "$\n",
        "\\begin{align}\n",
        "  \\begin{array}{lll}\n",
        "    &\\textbf{Objective} & \\\\\n",
        "    & \\min \\sum_{i=1,\\dots,N} \\sum_{j=1,\\dots,N} c_{ij} \\cdot x_{ij} &~~~ (1) \\\\\n",
        "    &&\\\\\n",
        "    &\\textbf{Constraints} & \\\\\n",
        "    & \\sum_{i=1,\\dots,N} x_{ij} = 1,~ \\forall~ j = 1,\\dots,N  &~~~ (2) \\\\\n",
        "    & \\sum_{j=1,\\dots,N} x_{ij} = 1,~ \\forall~ i = 1,\\dots,N  &~~~ (3) \\\\\n",
        "    & x_{ii} = 0,~ \\forall~ i = 1,\\dots,N  &~~~ (4) \\\\\n",
        "    & u_{i} - u_{j} + N \\cdot x_{ij} \\le N -1,~ \\forall~ i,j = 1,\\dots,N: j \\ne 1 ~\\text{and}~ i \\ne j  &~~~ (5) \\\\\n",
        "    & u_{i} \\in \\mathbb{Z}^{+},~ \\forall~ i = 1,\\dots,N  &~~~ (6) \\\\\n",
        "    & x_{ij} \\in \\{0,1\\},~ \\forall~ i,j = 1,\\dots,N  &~~~ (7) \\\\\n",
        "  \\end{array}\n",
        "\\end{align}\n",
        "$"
      ],
      "metadata": {
        "id": "JXWXa4v0jaYV"
      }
    },
    {
      "cell_type": "markdown",
      "source": [
        "#### Objective"
      ],
      "metadata": {
        "id": "0RhxQjKMkeqI"
      }
    },
    {
      "cell_type": "code",
      "source": [
        "prob = pulp.LpProblem(name='TSP', sense=LpMinimize)\n",
        "\n",
        "# Objective (1)\n",
        "prob += sum(distances[i][j] * x[i][j] for i in nodes for j in nodes), \"Objective: total travel distance\"\n",
        "\n",
        "# for j in nodes:\n",
        "#   prob += pulp.lpSum(x[i][j] for i in nodes) == 1, '(2): ' + j\n",
        "#   for i in nodes:\n",
        "#     if j == i:\n",
        "#       prob += x[i][j] >= 1, 'test: ' + x[i][j]\n"
      ],
      "metadata": {
        "id": "_cvlMFNvI9Z0"
      },
      "execution_count": 267,
      "outputs": []
    },
    {
      "cell_type": "markdown",
      "source": [
        "#### Constraints"
      ],
      "metadata": {
        "id": "Ds3gtIhyI9vo"
      }
    },
    {
      "cell_type": "code",
      "source": [
        "prob = pulp.LpProblem(name='TSP', sense=LpMinimize)\n",
        "\n",
        "# Objective (1)\n",
        "prob += sum(distances[i][j] * x[i][j] for i in nodes for j in nodes), \"(1):Objective\"\n",
        "\n",
        "# Constraints (2)\n",
        "for j in nodes:\n",
        "  prob += sum(x[i][j] for i in nodes) == 1, '(2):' + j\n",
        "\n",
        "# Constraints (3)\n",
        "for i in nodes:\n",
        "  prob += sum(x[i][j] for j in nodes) == 1, '(3):' + i\n",
        "\n",
        "# Constraints (4)\n",
        "for i in nodes:\n",
        "  prob += x[i][i] == 0, '(4): ' + i\n",
        "\n",
        "# Constraints (5)\n",
        "for i in nodes:\n",
        "  for j in nodes:\n",
        "    if j != nodes[0] and i != j:\n",
        "      prob += u[i] - u[j] + 9*x[i][j] <= 9 - 1, '(5):' + i + '>' + j"
      ],
      "metadata": {
        "id": "9bUDzLW2JAjQ"
      },
      "execution_count": 268,
      "outputs": []
    },
    {
      "cell_type": "markdown",
      "source": [
        "#### Solve problem"
      ],
      "metadata": {
        "id": "Zn7ku5hEJBCf"
      }
    },
    {
      "cell_type": "code",
      "source": [
        "# print problem\n",
        "# print(prob)\n",
        "\n",
        "# solve problem\n",
        "prob.solve()\n",
        "\n",
        "# results\n",
        "print(\"Status:\", pulp.LpStatus[prob.status])\n",
        "for v in prob.variables():\n",
        "    if v.varValue > 0:\n",
        "      print(v.name, \"=\", v.varValue)"
      ],
      "metadata": {
        "colab": {
          "base_uri": "https://localhost:8080/"
        },
        "id": "0Ngi6FOKJE_n",
        "outputId": "c4dcdf26-ac65-4440-a618-d4187307ed7a"
      },
      "execution_count": 269,
      "outputs": [
        {
          "output_type": "stream",
          "name": "stdout",
          "text": [
            "Status: Optimal\n",
            "u_Bahnhof = 1.0\n",
            "u_Friedrichsort = 5.0\n",
            "u_Garden = 9.0\n",
            "u_Heikendorf = 7.0\n",
            "u_Holtenau = 4.0\n",
            "u_Laboe = 6.0\n",
            "u_Mitte = 2.0\n",
            "u_University = 3.0\n",
            "u_Wellingdorf = 8.0\n",
            "x_Bahnhof_Mitte = 1.0\n",
            "x_Friedrichsort_Laboe = 1.0\n",
            "x_Garden_Bahnhof = 1.0\n",
            "x_Heikendorf_Wellingdorf = 1.0\n",
            "x_Holtenau_Friedrichsort = 1.0\n",
            "x_Laboe_Heikendorf = 1.0\n",
            "x_Mitte_University = 1.0\n",
            "x_University_Holtenau = 1.0\n",
            "x_Wellingdorf_Garden = 1.0\n"
          ]
        }
      ]
    },
    {
      "cell_type": "markdown",
      "source": [
        "# Graphical Visualization"
      ],
      "metadata": {
        "id": "_QHHqha-q_IK"
      }
    },
    {
      "cell_type": "code",
      "source": [
        "import plotly.graph_objects as go\n",
        "\n",
        "fig = go.Figure()\n",
        "\n",
        "tour = [nodes[0]]\n",
        "while len(tour) <= len(nodes):\n",
        "  for j in nodes:\n",
        "    if x[tour[-1]][j].varValue > 0:\n",
        "      # val = df.loc[df.name==j, 'latitude'].values[0]\n",
        "      # print(str(val))\n",
        "      fig.add_trace(go.Scattermapbox(\n",
        "          mode = \"markers+lines\",\n",
        "          lon = [\n",
        "              df.loc[df.name==tour[-1], 'longitude'].values[0],\n",
        "              df.loc[df.name==j, 'longitude'].values[0]\n",
        "          ],\n",
        "          lat = [\n",
        "              df.loc[df.name==tour[-1], 'latitude'].values[0],\n",
        "              df.loc[df.name==j, 'latitude'].values[0]\n",
        "          ],\n",
        "          marker = {'size': 10},\n",
        "          name='Segment ' + str(len(tour))\n",
        "          ))\n",
        "      tour.append(j)\n",
        "      break;\n",
        "\n",
        "fig.update_layout(\n",
        "    mapbox = {\n",
        "        'center': {'lon': df.longitude.mean(), 'lat': df.latitude.mean()},\n",
        "        'style': \"open-street-map\",\n",
        "        'zoom': 10\n",
        "        })\n",
        "\n",
        "print('Optimal tour: ' + str(tour))\n",
        "\n",
        "fig.show()"
      ],
      "metadata": {
        "colab": {
          "base_uri": "https://localhost:8080/",
          "height": 560
        },
        "id": "cBCmEQnXrDVU",
        "outputId": "3d5e8dd8-e036-4ff9-f4be-52179ab8f811"
      },
      "execution_count": 270,
      "outputs": [
        {
          "output_type": "stream",
          "name": "stdout",
          "text": [
            "Optimal tour: ['Bahnhof', 'Mitte', 'University', 'Holtenau', 'Friedrichsort', 'Laboe', 'Heikendorf', 'Wellingdorf', 'Garden', 'Bahnhof']\n"
          ]
        },
        {
          "output_type": "display_data",
          "data": {
            "text/html": [
              "<html>\n",
              "<head><meta charset=\"utf-8\" /></head>\n",
              "<body>\n",
              "    <div>            <script src=\"https://cdnjs.cloudflare.com/ajax/libs/mathjax/2.7.5/MathJax.js?config=TeX-AMS-MML_SVG\"></script><script type=\"text/javascript\">if (window.MathJax && window.MathJax.Hub && window.MathJax.Hub.Config) {window.MathJax.Hub.Config({SVG: {font: \"STIX-Web\"}});}</script>                <script type=\"text/javascript\">window.PlotlyConfig = {MathJaxConfig: 'local'};</script>\n",
              "        <script src=\"https://cdn.plot.ly/plotly-2.18.2.min.js\"></script>                <div id=\"eed734d5-be79-4495-84e6-1a1d26acbce6\" class=\"plotly-graph-div\" style=\"height:525px; width:100%;\"></div>            <script type=\"text/javascript\">                                    window.PLOTLYENV=window.PLOTLYENV || {};                                    if (document.getElementById(\"eed734d5-be79-4495-84e6-1a1d26acbce6\")) {                    Plotly.newPlot(                        \"eed734d5-be79-4495-84e6-1a1d26acbce6\",                        [{\"lat\":[54.31548738087378,54.32460566307153],\"lon\":[10.132285213361302,10.136629552088058],\"marker\":{\"size\":10},\"mode\":\"markers+lines\",\"name\":\"Segment 1\",\"type\":\"scattermapbox\"},{\"lat\":[54.32460566307153,54.348125164196105],\"lon\":[10.136629552088058,10.117918463246932],\"marker\":{\"size\":10},\"mode\":\"markers+lines\",\"name\":\"Segment 2\",\"type\":\"scattermapbox\"},{\"lat\":[54.348125164196105,54.37480425366618],\"lon\":[10.117918463246932,10.148469747635753],\"marker\":{\"size\":10},\"mode\":\"markers+lines\",\"name\":\"Segment 3\",\"type\":\"scattermapbox\"},{\"lat\":[54.37480425366618,54.39371269762963],\"lon\":[10.148469747635753,10.184142058855787],\"marker\":{\"size\":10},\"mode\":\"markers+lines\",\"name\":\"Segment 4\",\"type\":\"scattermapbox\"},{\"lat\":[54.39371269762963,54.409884128644144],\"lon\":[10.184142058855787,10.232678775594744],\"marker\":{\"size\":10},\"mode\":\"markers+lines\",\"name\":\"Segment 5\",\"type\":\"scattermapbox\"},{\"lat\":[54.409884128644144,54.37979792093858],\"lon\":[10.232678775594744,10.212036804008632],\"marker\":{\"size\":10},\"mode\":\"markers+lines\",\"name\":\"Segment 6\",\"type\":\"scattermapbox\"},{\"lat\":[54.37979792093858,54.32829259013629],\"lon\":[10.212036804008632,10.179582183151096],\"marker\":{\"size\":10},\"mode\":\"markers+lines\",\"name\":\"Segment 7\",\"type\":\"scattermapbox\"},{\"lat\":[54.32829259013629,54.31310171027143],\"lon\":[10.179582183151096,10.15091017118389],\"marker\":{\"size\":10},\"mode\":\"markers+lines\",\"name\":\"Segment 8\",\"type\":\"scattermapbox\"},{\"lat\":[54.31310171027143,54.31548738087378],\"lon\":[10.15091017118389,10.132285213361302],\"marker\":{\"size\":10},\"mode\":\"markers+lines\",\"name\":\"Segment 9\",\"type\":\"scattermapbox\"}],                        {\"template\":{\"data\":{\"histogram2dcontour\":[{\"type\":\"histogram2dcontour\",\"colorbar\":{\"outlinewidth\":0,\"ticks\":\"\"},\"colorscale\":[[0.0,\"#0d0887\"],[0.1111111111111111,\"#46039f\"],[0.2222222222222222,\"#7201a8\"],[0.3333333333333333,\"#9c179e\"],[0.4444444444444444,\"#bd3786\"],[0.5555555555555556,\"#d8576b\"],[0.6666666666666666,\"#ed7953\"],[0.7777777777777778,\"#fb9f3a\"],[0.8888888888888888,\"#fdca26\"],[1.0,\"#f0f921\"]]}],\"choropleth\":[{\"type\":\"choropleth\",\"colorbar\":{\"outlinewidth\":0,\"ticks\":\"\"}}],\"histogram2d\":[{\"type\":\"histogram2d\",\"colorbar\":{\"outlinewidth\":0,\"ticks\":\"\"},\"colorscale\":[[0.0,\"#0d0887\"],[0.1111111111111111,\"#46039f\"],[0.2222222222222222,\"#7201a8\"],[0.3333333333333333,\"#9c179e\"],[0.4444444444444444,\"#bd3786\"],[0.5555555555555556,\"#d8576b\"],[0.6666666666666666,\"#ed7953\"],[0.7777777777777778,\"#fb9f3a\"],[0.8888888888888888,\"#fdca26\"],[1.0,\"#f0f921\"]]}],\"heatmap\":[{\"type\":\"heatmap\",\"colorbar\":{\"outlinewidth\":0,\"ticks\":\"\"},\"colorscale\":[[0.0,\"#0d0887\"],[0.1111111111111111,\"#46039f\"],[0.2222222222222222,\"#7201a8\"],[0.3333333333333333,\"#9c179e\"],[0.4444444444444444,\"#bd3786\"],[0.5555555555555556,\"#d8576b\"],[0.6666666666666666,\"#ed7953\"],[0.7777777777777778,\"#fb9f3a\"],[0.8888888888888888,\"#fdca26\"],[1.0,\"#f0f921\"]]}],\"heatmapgl\":[{\"type\":\"heatmapgl\",\"colorbar\":{\"outlinewidth\":0,\"ticks\":\"\"},\"colorscale\":[[0.0,\"#0d0887\"],[0.1111111111111111,\"#46039f\"],[0.2222222222222222,\"#7201a8\"],[0.3333333333333333,\"#9c179e\"],[0.4444444444444444,\"#bd3786\"],[0.5555555555555556,\"#d8576b\"],[0.6666666666666666,\"#ed7953\"],[0.7777777777777778,\"#fb9f3a\"],[0.8888888888888888,\"#fdca26\"],[1.0,\"#f0f921\"]]}],\"contourcarpet\":[{\"type\":\"contourcarpet\",\"colorbar\":{\"outlinewidth\":0,\"ticks\":\"\"}}],\"contour\":[{\"type\":\"contour\",\"colorbar\":{\"outlinewidth\":0,\"ticks\":\"\"},\"colorscale\":[[0.0,\"#0d0887\"],[0.1111111111111111,\"#46039f\"],[0.2222222222222222,\"#7201a8\"],[0.3333333333333333,\"#9c179e\"],[0.4444444444444444,\"#bd3786\"],[0.5555555555555556,\"#d8576b\"],[0.6666666666666666,\"#ed7953\"],[0.7777777777777778,\"#fb9f3a\"],[0.8888888888888888,\"#fdca26\"],[1.0,\"#f0f921\"]]}],\"surface\":[{\"type\":\"surface\",\"colorbar\":{\"outlinewidth\":0,\"ticks\":\"\"},\"colorscale\":[[0.0,\"#0d0887\"],[0.1111111111111111,\"#46039f\"],[0.2222222222222222,\"#7201a8\"],[0.3333333333333333,\"#9c179e\"],[0.4444444444444444,\"#bd3786\"],[0.5555555555555556,\"#d8576b\"],[0.6666666666666666,\"#ed7953\"],[0.7777777777777778,\"#fb9f3a\"],[0.8888888888888888,\"#fdca26\"],[1.0,\"#f0f921\"]]}],\"mesh3d\":[{\"type\":\"mesh3d\",\"colorbar\":{\"outlinewidth\":0,\"ticks\":\"\"}}],\"scatter\":[{\"fillpattern\":{\"fillmode\":\"overlay\",\"size\":10,\"solidity\":0.2},\"type\":\"scatter\"}],\"parcoords\":[{\"type\":\"parcoords\",\"line\":{\"colorbar\":{\"outlinewidth\":0,\"ticks\":\"\"}}}],\"scatterpolargl\":[{\"type\":\"scatterpolargl\",\"marker\":{\"colorbar\":{\"outlinewidth\":0,\"ticks\":\"\"}}}],\"bar\":[{\"error_x\":{\"color\":\"#2a3f5f\"},\"error_y\":{\"color\":\"#2a3f5f\"},\"marker\":{\"line\":{\"color\":\"#E5ECF6\",\"width\":0.5},\"pattern\":{\"fillmode\":\"overlay\",\"size\":10,\"solidity\":0.2}},\"type\":\"bar\"}],\"scattergeo\":[{\"type\":\"scattergeo\",\"marker\":{\"colorbar\":{\"outlinewidth\":0,\"ticks\":\"\"}}}],\"scatterpolar\":[{\"type\":\"scatterpolar\",\"marker\":{\"colorbar\":{\"outlinewidth\":0,\"ticks\":\"\"}}}],\"histogram\":[{\"marker\":{\"pattern\":{\"fillmode\":\"overlay\",\"size\":10,\"solidity\":0.2}},\"type\":\"histogram\"}],\"scattergl\":[{\"type\":\"scattergl\",\"marker\":{\"colorbar\":{\"outlinewidth\":0,\"ticks\":\"\"}}}],\"scatter3d\":[{\"type\":\"scatter3d\",\"line\":{\"colorbar\":{\"outlinewidth\":0,\"ticks\":\"\"}},\"marker\":{\"colorbar\":{\"outlinewidth\":0,\"ticks\":\"\"}}}],\"scattermapbox\":[{\"type\":\"scattermapbox\",\"marker\":{\"colorbar\":{\"outlinewidth\":0,\"ticks\":\"\"}}}],\"scatterternary\":[{\"type\":\"scatterternary\",\"marker\":{\"colorbar\":{\"outlinewidth\":0,\"ticks\":\"\"}}}],\"scattercarpet\":[{\"type\":\"scattercarpet\",\"marker\":{\"colorbar\":{\"outlinewidth\":0,\"ticks\":\"\"}}}],\"carpet\":[{\"aaxis\":{\"endlinecolor\":\"#2a3f5f\",\"gridcolor\":\"white\",\"linecolor\":\"white\",\"minorgridcolor\":\"white\",\"startlinecolor\":\"#2a3f5f\"},\"baxis\":{\"endlinecolor\":\"#2a3f5f\",\"gridcolor\":\"white\",\"linecolor\":\"white\",\"minorgridcolor\":\"white\",\"startlinecolor\":\"#2a3f5f\"},\"type\":\"carpet\"}],\"table\":[{\"cells\":{\"fill\":{\"color\":\"#EBF0F8\"},\"line\":{\"color\":\"white\"}},\"header\":{\"fill\":{\"color\":\"#C8D4E3\"},\"line\":{\"color\":\"white\"}},\"type\":\"table\"}],\"barpolar\":[{\"marker\":{\"line\":{\"color\":\"#E5ECF6\",\"width\":0.5},\"pattern\":{\"fillmode\":\"overlay\",\"size\":10,\"solidity\":0.2}},\"type\":\"barpolar\"}],\"pie\":[{\"automargin\":true,\"type\":\"pie\"}]},\"layout\":{\"autotypenumbers\":\"strict\",\"colorway\":[\"#636efa\",\"#EF553B\",\"#00cc96\",\"#ab63fa\",\"#FFA15A\",\"#19d3f3\",\"#FF6692\",\"#B6E880\",\"#FF97FF\",\"#FECB52\"],\"font\":{\"color\":\"#2a3f5f\"},\"hovermode\":\"closest\",\"hoverlabel\":{\"align\":\"left\"},\"paper_bgcolor\":\"white\",\"plot_bgcolor\":\"#E5ECF6\",\"polar\":{\"bgcolor\":\"#E5ECF6\",\"angularaxis\":{\"gridcolor\":\"white\",\"linecolor\":\"white\",\"ticks\":\"\"},\"radialaxis\":{\"gridcolor\":\"white\",\"linecolor\":\"white\",\"ticks\":\"\"}},\"ternary\":{\"bgcolor\":\"#E5ECF6\",\"aaxis\":{\"gridcolor\":\"white\",\"linecolor\":\"white\",\"ticks\":\"\"},\"baxis\":{\"gridcolor\":\"white\",\"linecolor\":\"white\",\"ticks\":\"\"},\"caxis\":{\"gridcolor\":\"white\",\"linecolor\":\"white\",\"ticks\":\"\"}},\"coloraxis\":{\"colorbar\":{\"outlinewidth\":0,\"ticks\":\"\"}},\"colorscale\":{\"sequential\":[[0.0,\"#0d0887\"],[0.1111111111111111,\"#46039f\"],[0.2222222222222222,\"#7201a8\"],[0.3333333333333333,\"#9c179e\"],[0.4444444444444444,\"#bd3786\"],[0.5555555555555556,\"#d8576b\"],[0.6666666666666666,\"#ed7953\"],[0.7777777777777778,\"#fb9f3a\"],[0.8888888888888888,\"#fdca26\"],[1.0,\"#f0f921\"]],\"sequentialminus\":[[0.0,\"#0d0887\"],[0.1111111111111111,\"#46039f\"],[0.2222222222222222,\"#7201a8\"],[0.3333333333333333,\"#9c179e\"],[0.4444444444444444,\"#bd3786\"],[0.5555555555555556,\"#d8576b\"],[0.6666666666666666,\"#ed7953\"],[0.7777777777777778,\"#fb9f3a\"],[0.8888888888888888,\"#fdca26\"],[1.0,\"#f0f921\"]],\"diverging\":[[0,\"#8e0152\"],[0.1,\"#c51b7d\"],[0.2,\"#de77ae\"],[0.3,\"#f1b6da\"],[0.4,\"#fde0ef\"],[0.5,\"#f7f7f7\"],[0.6,\"#e6f5d0\"],[0.7,\"#b8e186\"],[0.8,\"#7fbc41\"],[0.9,\"#4d9221\"],[1,\"#276419\"]]},\"xaxis\":{\"gridcolor\":\"white\",\"linecolor\":\"white\",\"ticks\":\"\",\"title\":{\"standoff\":15},\"zerolinecolor\":\"white\",\"automargin\":true,\"zerolinewidth\":2},\"yaxis\":{\"gridcolor\":\"white\",\"linecolor\":\"white\",\"ticks\":\"\",\"title\":{\"standoff\":15},\"zerolinecolor\":\"white\",\"automargin\":true,\"zerolinewidth\":2},\"scene\":{\"xaxis\":{\"backgroundcolor\":\"#E5ECF6\",\"gridcolor\":\"white\",\"linecolor\":\"white\",\"showbackground\":true,\"ticks\":\"\",\"zerolinecolor\":\"white\",\"gridwidth\":2},\"yaxis\":{\"backgroundcolor\":\"#E5ECF6\",\"gridcolor\":\"white\",\"linecolor\":\"white\",\"showbackground\":true,\"ticks\":\"\",\"zerolinecolor\":\"white\",\"gridwidth\":2},\"zaxis\":{\"backgroundcolor\":\"#E5ECF6\",\"gridcolor\":\"white\",\"linecolor\":\"white\",\"showbackground\":true,\"ticks\":\"\",\"zerolinecolor\":\"white\",\"gridwidth\":2}},\"shapedefaults\":{\"line\":{\"color\":\"#2a3f5f\"}},\"annotationdefaults\":{\"arrowcolor\":\"#2a3f5f\",\"arrowhead\":0,\"arrowwidth\":1},\"geo\":{\"bgcolor\":\"white\",\"landcolor\":\"#E5ECF6\",\"subunitcolor\":\"white\",\"showland\":true,\"showlakes\":true,\"lakecolor\":\"white\"},\"title\":{\"x\":0.05},\"mapbox\":{\"style\":\"light\"}}},\"mapbox\":{\"center\":{\"lon\":10.166072552125135,\"lat\":54.35420127882529},\"style\":\"open-street-map\",\"zoom\":10}},                        {\"responsive\": true}                    ).then(function(){\n",
              "                            \n",
              "var gd = document.getElementById('eed734d5-be79-4495-84e6-1a1d26acbce6');\n",
              "var x = new MutationObserver(function (mutations, observer) {{\n",
              "        var display = window.getComputedStyle(gd).display;\n",
              "        if (!display || display === 'none') {{\n",
              "            console.log([gd, 'removed!']);\n",
              "            Plotly.purge(gd);\n",
              "            observer.disconnect();\n",
              "        }}\n",
              "}});\n",
              "\n",
              "// Listen for the removal of the full notebook cells\n",
              "var notebookContainer = gd.closest('#notebook-container');\n",
              "if (notebookContainer) {{\n",
              "    x.observe(notebookContainer, {childList: true});\n",
              "}}\n",
              "\n",
              "// Listen for the clearing of the current output cell\n",
              "var outputEl = gd.closest('.output');\n",
              "if (outputEl) {{\n",
              "    x.observe(outputEl, {childList: true});\n",
              "}}\n",
              "\n",
              "                        })                };                            </script>        </div>\n",
              "</body>\n",
              "</html>"
            ]
          },
          "metadata": {}
        }
      ]
    }
  ]
}