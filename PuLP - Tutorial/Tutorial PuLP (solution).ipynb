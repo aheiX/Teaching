{
  "nbformat": 4,
  "nbformat_minor": 0,
  "metadata": {
    "colab": {
      "provenance": [],
      "authorship_tag": "ABX9TyOKDZXhZLU/J+Iz6uoKn1iV",
      "include_colab_link": true
    },
    "kernelspec": {
      "name": "python3",
      "display_name": "Python 3"
    },
    "language_info": {
      "name": "python"
    }
  },
  "cells": [
    {
      "cell_type": "markdown",
      "metadata": {
        "id": "view-in-github",
        "colab_type": "text"
      },
      "source": [
        "<a href=\"https://colab.research.google.com/github/aheiX/Teaching/blob/main/PuLP%20-%20Tutorial/Tutorial%20PuLP%20(solution).ipynb\" target=\"_parent\"><img src=\"https://colab.research.google.com/assets/colab-badge.svg\" alt=\"Open In Colab\"/></a>"
      ]
    },
    {
      "cell_type": "markdown",
      "source": [
        "# Tutorial PuLP"
      ],
      "metadata": {
        "id": "mUb5Rt1F1Rtr"
      }
    },
    {
      "cell_type": "markdown",
      "source": [
        "This tutorial uses the well-known Traveling-Salesperson-Problem (TSP) to demonstrate the potential of Python's PuLP module. A thorough tutorial on the implementaion of the TSP in CPLEX can be found here: [TSP Tutorial on CPLEX](https://www.scm.bwl.uni-kiel.de/de/lehre/tutorial-on-cplex.pdf). There, the TSP and it's formulation is explained in more detail. \n",
        "\n"
      ],
      "metadata": {
        "id": "XDl9Y-Zq1NtE"
      }
    },
    {
      "cell_type": "markdown",
      "source": [
        "## Problem description"
      ],
      "metadata": {
        "id": "uhgtLzBU1-ps"
      }
    },
    {
      "cell_type": "markdown",
      "source": [
        "The TSP is one of the most famous combinatorial problems in the fields of mathematics, computer science, and operations research. The classical definition of the TSP is as follows: What is the shortest possible route for a traveling salesperson seeking to visit each city on a list exactly once and return to his city of origin? (Cook, William (2012): *In Pursuit of the Travelin Salesman*).\n",
        "\n",
        "While the problem is easy to understand and easy to formulate as a mathematical model, solving it to optimality through complete enumeration of all feasible solutions quickly becomes intractable as the number of potential solutions grows exponentially in the number of cities to visit.\n",
        "\n",
        "To date, there exists no algorithm that solves the TSP to optimality in polynomial time and it is widely believed that there is no such algorithm. However, heuristics are usually capable of finding very good solutions in a short computation time and small problems can be solved to optimality using solvers. The latter is this tutorial's objective. "
      ],
      "metadata": {
        "id": "bMLKGyAa7MdW"
      }
    },
    {
      "cell_type": "markdown",
      "source": [
        "## Mathematical formulation\n"
      ],
      "metadata": {
        "id": "E1dESavD4xa1"
      }
    },
    {
      "cell_type": "markdown",
      "source": [
        "This tutorial presents two graph-based formulations for the TSP. Both formulations yield to the same solution and use the following general notation:\n",
        "\n",
        "**General notation:**\n",
        "Let $N$ denote the number of nodes in the network, i.e., the number of cities. The distance for the salesperson to travel between any two nodes $i$ and $j$ is denoted with $c_{ij}$. Decision variable $x_{ij}$ is used to describe if the salesperson traverses from node $i$ to node $j$ ($x_{ij}=1$), or not ($x_{ij}=0$).\n",
        "\n",
        "A general introduction on mathematical models for the TSP can be found in: Langevin, André, Francois Soumis, and Jacques Desrosiers. 1990. Classification of travelling salesman problem formulations. *Operations Research Letters*."
      ],
      "metadata": {
        "id": "5hXKYCKY1Utd"
      }
    },
    {
      "cell_type": "markdown",
      "source": [
        "### Miller, Tucker and Zemlin (1960)"
      ],
      "metadata": {
        "id": "MYSNu4-8050W"
      }
    },
    {
      "cell_type": "markdown",
      "source": [
        "In the following, a formulation from Miller, Tucker, and Zemlin (1960), henceforth referred to as MTZ, is used. In addition to the general notation, the MTZ formulation requires one additional decision variable $u_i$ that describes the position of a node in the salesperson’s tour. Using this notation, the mathematical model for the TSP is as follows: \n",
        "<br><br>\n",
        "$\n",
        "\\begin{align}\n",
        "  \\begin{array}{lll}\n",
        "    &\\textbf{Objective} & \\\\\n",
        "    & \\min \\sum_{i=1,\\dots,N} \\sum_{j=1,\\dots,N} c_{ij} \\cdot x_{ij} &~~~ (1) \\\\\n",
        "    &&\\\\\n",
        "    &\\textbf{Constraints} & \\\\\n",
        "    & \\sum\\limits_{i=1}^{N} x_{ij} = 1,~ \\forall~ j = 1,\\dots,N  &~~~ (2) \\\\\n",
        "    & \\sum\\limits_{j=1}^{N} x_{ij} = 1,~ \\forall~ i = 1,\\dots,N  &~~~ (3) \\\\\n",
        "    & x_{ii} = 0,~ \\forall~ i = 1,\\dots,N  &~~~ (4) \\\\\n",
        "    & u_{i} - u_{j} + N \\cdot x_{ij} \\le N -1,~ \\forall~ i,j = 1,\\dots,N: j \\ne 1 ~\\text{and}~ i \\ne j  &~~~ (5) \\\\\n",
        "    & u_{i} \\in \\mathbb{Z}^{\\text{nonneg}},~ \\forall~ i = 1,\\dots,N  &~~~ (6) \\\\\n",
        "    & x_{ij} \\in \\{0,1\\},~ \\forall~ i,j = 1,\\dots,N  &~~~ (7) \\\\\n",
        "  \\end{array}\n",
        "\\end{align}\n",
        "$\n",
        "<br><br>\n",
        "Equation (1) states the objective (distance minimization) by summing up the distances of the selected arcs. Equations (2) to (4) ensure that the salesperson enters and exists each node exactly once (i.e., that each node is visited exactly once), respectively. Equations (5) restricts solutions with subtour using the MTZ formulation. In particular, this is done by stating that each customer is assigned to exactly one position, that each position is assigned to exactly one customer, and that the positions correspond to the actual tour of the salesperson (represented by $x_{ij}$). Finally, Equations (6) and (7) state the domains of the decision variables."
      ],
      "metadata": {
        "id": "WHmjA9XE7Q_M"
      }
    },
    {
      "cell_type": "markdown",
      "source": [
        "### Gavish and Graves (1976)"
      ],
      "metadata": {
        "id": "TnBoSozm07U9"
      }
    },
    {
      "cell_type": "markdown",
      "source": [
        "In the following, a formulation from Gavish and Graves (1976), henceforth referred to as GG, is used. It has a similar level of difficulty compared to the MTZ formulation. In particular, GG propose to use, in addition to the general notation, a two-dimensional integer decision variable $z_{ij}$ to track a travelled arc’s position in the salesperson’s tour. A very similar logic to the MTZ formulation, in which decision variable $u_i$ is used to track a city’s position in the salesperson’s tour. Using this notation, the mathematical model for the TSP is as follows: \n",
        "<br><br>\n",
        "$\n",
        "\\begin{align}\n",
        "  \\begin{array}{lll}\n",
        "    &\\textbf{Objective} & \\\\\n",
        "    & \\min \\sum_{i=1,\\dots,N} \\sum_{j=1,\\dots,N} c_{ij} \\cdot x_{ij} &~~~ (1) \\\\\n",
        "    &&\\\\\n",
        "    &\\textbf{Constraints} & \\\\\n",
        "    & \\sum\\limits_{i=1}^{N} x_{ij} = 1,~ \\forall~ j = 1,\\dots,N  &~~~ (2) \\\\\n",
        "    & \\sum\\limits_{j=1}^{N} x_{ij} = 1,~ \\forall~ i = 1,\\dots,N  &~~~ (3) \\\\\n",
        "    & x_{ii} = 0,~ \\forall~ i = 1,\\dots,N  &~~~ (4) \\\\\n",
        "    &  \\sum\\limits_{j=1}^{N} z_{ij} - \\sum\\limits_{j=2}^{N} z_{ji} = 1,~ \\forall~ i = 2,\\dots,N &~~~ (5) \\\\\n",
        "    & z_{ij} \\le x_{ij} \\cdot (N - 1),~ \\forall~ i = 2,\\dots,N, j = 1,\\dots,N &~~~ (6) \\\\\n",
        "    & z_{ij} \\in \\mathbb{Z}^{\\text{nonneg}},~ \\forall~ i,j = 1,\\dots,N  &~~~ (7) \\\\\n",
        "    & x_{ij} \\in \\{0,1\\},~ \\forall~ i,j = 1,\\dots,N  &~~~ (8) \\\\\n",
        "  \\end{array}\n",
        "\\end{align}\n",
        "$\n",
        "<br><br>\n",
        "Equation (1) states the objective (distance minimization) by summing up the distances of the selected arcs. Equations (2) to (4) ensure that the salesperson enters and exists each node exactly once (i.e., that each node is visited exactly once), respectively. Equations (5) and (6) restrict solutions with subtour using the GG formulation. In particular, Equation (5) states that the value of the $z_{ij}$-variable is set so that the arc leaving a city is exactly one index position higher than the arc entering a city. The sum is used here as Equations (2) and (3) ensure that exactly one arc is entering and leaving each city, respectively. With this, the formulation forces the model to consider a single full cycle involving all the cities. Equation (6) ensures that the $z_{ij}$-variable can only take value 1 if the corresponding arc is also used in the tour (e.g., if $x_{ij}=1$). Finally, Equations (7) and (8) state the domains of the decision variables."
      ],
      "metadata": {
        "id": "SPr8JbTj1Aed"
      }
    },
    {
      "cell_type": "markdown",
      "source": [
        "## Case study"
      ],
      "metadata": {
        "id": "IzOWtwskHB9y"
      }
    },
    {
      "cell_type": "markdown",
      "source": [
        "We use an artificial small-sized dataset throughout this tutorial. The example consists of nine locations in which the first location ('Bahnhof')  is the salesperson's city of origin (also referred to as depot). The following table shows the latitude and longitude information of the locations:\n",
        "<br><br>\n",
        "\\begin{array}{lll}\n",
        "         name  & latitude & longitude \\\\\n",
        "         \\hline\n",
        "      \\text{Bahnhof} & 54.315487 & 10.132285 \\\\\n",
        "\\text{Friedrichsort} & 54.393713 & 10.184142 \\\\\n",
        "     \\text{Holtenau} & 54.374804 & 10.148470 \\\\\n",
        "   \\text{University} & 54.348125 & 10.117918 \\\\\n",
        "        \\text{Mitte} & 54.324606 & 10.136630 \\\\\n",
        "       \\text{Garden} & 54.313102 & 10.150910 \\\\\n",
        "  \\text{Wellingdorf} & 54.328293 & 10.179582 \\\\\n",
        "   \\text{Heikendorf} & 54.379798 & 10.212037 \\\\\n",
        "        \\text{Laboe} & 54.409884 & 10.232679 \\\\\n",
        "\\end{array}"
      ],
      "metadata": {
        "id": "1Wz2VLWKHGaA"
      }
    },
    {
      "cell_type": "markdown",
      "source": [
        "## Python implementation"
      ],
      "metadata": {
        "id": "hD3gsdas7igF"
      }
    },
    {
      "cell_type": "markdown",
      "source": [
        "### Prepare input data"
      ],
      "metadata": {
        "id": "4LMKuNIn93H2"
      }
    },
    {
      "cell_type": "code",
      "source": [
        "# load the required modules\n",
        "!pip install pandas\n",
        "!pip install plotly.express\n",
        "\n",
        "import pandas as pd\n",
        "import plotly.express as px"
      ],
      "metadata": {
        "id": "U6S7UEXx94B1",
        "outputId": "80b278e3-b27b-4416-ca0e-b9b6f57502b6",
        "colab": {
          "base_uri": "https://localhost:8080/"
        }
      },
      "execution_count": 1,
      "outputs": [
        {
          "output_type": "stream",
          "name": "stdout",
          "text": [
            "Looking in indexes: https://pypi.org/simple, https://us-python.pkg.dev/colab-wheels/public/simple/\n",
            "Requirement already satisfied: pandas in /usr/local/lib/python3.10/dist-packages (1.5.3)\n",
            "Requirement already satisfied: python-dateutil>=2.8.1 in /usr/local/lib/python3.10/dist-packages (from pandas) (2.8.2)\n",
            "Requirement already satisfied: pytz>=2020.1 in /usr/local/lib/python3.10/dist-packages (from pandas) (2022.7.1)\n",
            "Requirement already satisfied: numpy>=1.21.0 in /usr/local/lib/python3.10/dist-packages (from pandas) (1.22.4)\n",
            "Requirement already satisfied: six>=1.5 in /usr/local/lib/python3.10/dist-packages (from python-dateutil>=2.8.1->pandas) (1.16.0)\n",
            "Looking in indexes: https://pypi.org/simple, https://us-python.pkg.dev/colab-wheels/public/simple/\n",
            "Collecting plotly.express\n",
            "  Downloading plotly_express-0.4.1-py2.py3-none-any.whl (2.9 kB)\n",
            "Requirement already satisfied: pandas>=0.20.0 in /usr/local/lib/python3.10/dist-packages (from plotly.express) (1.5.3)\n",
            "Requirement already satisfied: plotly>=4.1.0 in /usr/local/lib/python3.10/dist-packages (from plotly.express) (5.13.1)\n",
            "Requirement already satisfied: statsmodels>=0.9.0 in /usr/local/lib/python3.10/dist-packages (from plotly.express) (0.13.5)\n",
            "Requirement already satisfied: scipy>=0.18 in /usr/local/lib/python3.10/dist-packages (from plotly.express) (1.10.1)\n",
            "Requirement already satisfied: patsy>=0.5 in /usr/local/lib/python3.10/dist-packages (from plotly.express) (0.5.3)\n",
            "Requirement already satisfied: numpy>=1.11 in /usr/local/lib/python3.10/dist-packages (from plotly.express) (1.22.4)\n",
            "Requirement already satisfied: python-dateutil>=2.8.1 in /usr/local/lib/python3.10/dist-packages (from pandas>=0.20.0->plotly.express) (2.8.2)\n",
            "Requirement already satisfied: pytz>=2020.1 in /usr/local/lib/python3.10/dist-packages (from pandas>=0.20.0->plotly.express) (2022.7.1)\n",
            "Requirement already satisfied: six in /usr/local/lib/python3.10/dist-packages (from patsy>=0.5->plotly.express) (1.16.0)\n",
            "Requirement already satisfied: tenacity>=6.2.0 in /usr/local/lib/python3.10/dist-packages (from plotly>=4.1.0->plotly.express) (8.2.2)\n",
            "Requirement already satisfied: packaging>=21.3 in /usr/local/lib/python3.10/dist-packages (from statsmodels>=0.9.0->plotly.express) (23.1)\n",
            "Installing collected packages: plotly.express\n",
            "Successfully installed plotly.express-0.4.1\n"
          ]
        }
      ]
    },
    {
      "cell_type": "markdown",
      "source": [
        "#### Prepare dataframe"
      ],
      "metadata": {
        "id": "zDc5EfsuHu01"
      }
    },
    {
      "cell_type": "code",
      "source": [
        "# input data as matrix\n",
        "input_data = [\n",
        "     ['Bahnhof', 54.31548738087378, 10.132285213361302],\n",
        "     ['Friedrichsort', 54.39371269762963, 10.184142058855787], \n",
        "     ['Holtenau', 54.37480425366618, 10.148469747635753], \n",
        "     ['University', 54.348125164196105, 10.117918463246932],\n",
        "     ['Mitte', 54.32460566307153, 10.136629552088058],\n",
        "     ['Garden', 54.313101710271425, 10.15091017118389],\n",
        "     ['Wellingdorf', 54.32829259013629, 10.179582183151096],\n",
        "     ['Heikendorf', 54.37979792093858, 10.212036804008633],\n",
        "     ['Laboe', 54.409884128644144, 10.232678775594744]\n",
        "]\n",
        "\n",
        "\n",
        "# create dataframe from input data\n",
        "df = pd.DataFrame(input_data, columns=['name', 'latitude', 'longitude'])\n",
        "\n",
        "# ensure that longitude and latitude columns are numeric\n",
        "df['longitude'] = pd.to_numeric(df['longitude'])\n",
        "df['latitude'] = pd.to_numeric(df['latitude'])\n",
        "\n",
        "# print dataframe \n",
        "print(df)\n",
        "\n",
        "# illustrate input data via Plotly Express\n",
        "fig = px.scatter_mapbox(df, lat='latitude', lon='longitude', color='name', \n",
        "                        zoom=10, mapbox_style='open-street-map',\n",
        "                        color_discrete_map={'Bahnhof': '#000000'},\n",
        "                        width=800, height=800)\n",
        "fig.update_traces(marker={'size': 15})\n",
        "fig.show()\n"
      ],
      "metadata": {
        "colab": {
          "base_uri": "https://localhost:8080/",
          "height": 991
        },
        "id": "rev1hD8x98kV",
        "outputId": "e14bcc29-022b-4f85-a5a3-4d6c5bae1c16"
      },
      "execution_count": 2,
      "outputs": [
        {
          "output_type": "stream",
          "name": "stdout",
          "text": [
            "            name   latitude  longitude\n",
            "0        Bahnhof  54.315487  10.132285\n",
            "1  Friedrichsort  54.393713  10.184142\n",
            "2       Holtenau  54.374804  10.148470\n",
            "3     University  54.348125  10.117918\n",
            "4          Mitte  54.324606  10.136630\n",
            "5         Garden  54.313102  10.150910\n",
            "6    Wellingdorf  54.328293  10.179582\n",
            "7     Heikendorf  54.379798  10.212037\n",
            "8          Laboe  54.409884  10.232679\n"
          ]
        },
        {
          "output_type": "display_data",
          "data": {
            "text/html": [
              "<html>\n",
              "<head><meta charset=\"utf-8\" /></head>\n",
              "<body>\n",
              "    <div>            <script src=\"https://cdnjs.cloudflare.com/ajax/libs/mathjax/2.7.5/MathJax.js?config=TeX-AMS-MML_SVG\"></script><script type=\"text/javascript\">if (window.MathJax && window.MathJax.Hub && window.MathJax.Hub.Config) {window.MathJax.Hub.Config({SVG: {font: \"STIX-Web\"}});}</script>                <script type=\"text/javascript\">window.PlotlyConfig = {MathJaxConfig: 'local'};</script>\n",
              "        <script src=\"https://cdn.plot.ly/plotly-2.18.2.min.js\"></script>                <div id=\"d2da77ef-9b85-451a-a354-3702c047a5b9\" class=\"plotly-graph-div\" style=\"height:800px; width:800px;\"></div>            <script type=\"text/javascript\">                                    window.PLOTLYENV=window.PLOTLYENV || {};                                    if (document.getElementById(\"d2da77ef-9b85-451a-a354-3702c047a5b9\")) {                    Plotly.newPlot(                        \"d2da77ef-9b85-451a-a354-3702c047a5b9\",                        [{\"hovertemplate\":\"name=Bahnhof<br>latitude=%{lat}<br>longitude=%{lon}<extra></extra>\",\"lat\":[54.31548738087378],\"legendgroup\":\"Bahnhof\",\"lon\":[10.132285213361302],\"marker\":{\"color\":\"#000000\",\"size\":15},\"mode\":\"markers\",\"name\":\"Bahnhof\",\"showlegend\":true,\"subplot\":\"mapbox\",\"type\":\"scattermapbox\"},{\"hovertemplate\":\"name=Friedrichsort<br>latitude=%{lat}<br>longitude=%{lon}<extra></extra>\",\"lat\":[54.39371269762963],\"legendgroup\":\"Friedrichsort\",\"lon\":[10.184142058855787],\"marker\":{\"color\":\"#EF553B\",\"size\":15},\"mode\":\"markers\",\"name\":\"Friedrichsort\",\"showlegend\":true,\"subplot\":\"mapbox\",\"type\":\"scattermapbox\"},{\"hovertemplate\":\"name=Holtenau<br>latitude=%{lat}<br>longitude=%{lon}<extra></extra>\",\"lat\":[54.37480425366618],\"legendgroup\":\"Holtenau\",\"lon\":[10.148469747635753],\"marker\":{\"color\":\"#00cc96\",\"size\":15},\"mode\":\"markers\",\"name\":\"Holtenau\",\"showlegend\":true,\"subplot\":\"mapbox\",\"type\":\"scattermapbox\"},{\"hovertemplate\":\"name=University<br>latitude=%{lat}<br>longitude=%{lon}<extra></extra>\",\"lat\":[54.348125164196105],\"legendgroup\":\"University\",\"lon\":[10.117918463246932],\"marker\":{\"color\":\"#ab63fa\",\"size\":15},\"mode\":\"markers\",\"name\":\"University\",\"showlegend\":true,\"subplot\":\"mapbox\",\"type\":\"scattermapbox\"},{\"hovertemplate\":\"name=Mitte<br>latitude=%{lat}<br>longitude=%{lon}<extra></extra>\",\"lat\":[54.32460566307153],\"legendgroup\":\"Mitte\",\"lon\":[10.136629552088058],\"marker\":{\"color\":\"#FFA15A\",\"size\":15},\"mode\":\"markers\",\"name\":\"Mitte\",\"showlegend\":true,\"subplot\":\"mapbox\",\"type\":\"scattermapbox\"},{\"hovertemplate\":\"name=Garden<br>latitude=%{lat}<br>longitude=%{lon}<extra></extra>\",\"lat\":[54.313101710271425],\"legendgroup\":\"Garden\",\"lon\":[10.15091017118389],\"marker\":{\"color\":\"#19d3f3\",\"size\":15},\"mode\":\"markers\",\"name\":\"Garden\",\"showlegend\":true,\"subplot\":\"mapbox\",\"type\":\"scattermapbox\"},{\"hovertemplate\":\"name=Wellingdorf<br>latitude=%{lat}<br>longitude=%{lon}<extra></extra>\",\"lat\":[54.32829259013629],\"legendgroup\":\"Wellingdorf\",\"lon\":[10.179582183151096],\"marker\":{\"color\":\"#FF6692\",\"size\":15},\"mode\":\"markers\",\"name\":\"Wellingdorf\",\"showlegend\":true,\"subplot\":\"mapbox\",\"type\":\"scattermapbox\"},{\"hovertemplate\":\"name=Heikendorf<br>latitude=%{lat}<br>longitude=%{lon}<extra></extra>\",\"lat\":[54.37979792093858],\"legendgroup\":\"Heikendorf\",\"lon\":[10.212036804008633],\"marker\":{\"color\":\"#B6E880\",\"size\":15},\"mode\":\"markers\",\"name\":\"Heikendorf\",\"showlegend\":true,\"subplot\":\"mapbox\",\"type\":\"scattermapbox\"},{\"hovertemplate\":\"name=Laboe<br>latitude=%{lat}<br>longitude=%{lon}<extra></extra>\",\"lat\":[54.409884128644144],\"legendgroup\":\"Laboe\",\"lon\":[10.232678775594744],\"marker\":{\"color\":\"#FF97FF\",\"size\":15},\"mode\":\"markers\",\"name\":\"Laboe\",\"showlegend\":true,\"subplot\":\"mapbox\",\"type\":\"scattermapbox\"}],                        {\"template\":{\"data\":{\"histogram2dcontour\":[{\"type\":\"histogram2dcontour\",\"colorbar\":{\"outlinewidth\":0,\"ticks\":\"\"},\"colorscale\":[[0.0,\"#0d0887\"],[0.1111111111111111,\"#46039f\"],[0.2222222222222222,\"#7201a8\"],[0.3333333333333333,\"#9c179e\"],[0.4444444444444444,\"#bd3786\"],[0.5555555555555556,\"#d8576b\"],[0.6666666666666666,\"#ed7953\"],[0.7777777777777778,\"#fb9f3a\"],[0.8888888888888888,\"#fdca26\"],[1.0,\"#f0f921\"]]}],\"choropleth\":[{\"type\":\"choropleth\",\"colorbar\":{\"outlinewidth\":0,\"ticks\":\"\"}}],\"histogram2d\":[{\"type\":\"histogram2d\",\"colorbar\":{\"outlinewidth\":0,\"ticks\":\"\"},\"colorscale\":[[0.0,\"#0d0887\"],[0.1111111111111111,\"#46039f\"],[0.2222222222222222,\"#7201a8\"],[0.3333333333333333,\"#9c179e\"],[0.4444444444444444,\"#bd3786\"],[0.5555555555555556,\"#d8576b\"],[0.6666666666666666,\"#ed7953\"],[0.7777777777777778,\"#fb9f3a\"],[0.8888888888888888,\"#fdca26\"],[1.0,\"#f0f921\"]]}],\"heatmap\":[{\"type\":\"heatmap\",\"colorbar\":{\"outlinewidth\":0,\"ticks\":\"\"},\"colorscale\":[[0.0,\"#0d0887\"],[0.1111111111111111,\"#46039f\"],[0.2222222222222222,\"#7201a8\"],[0.3333333333333333,\"#9c179e\"],[0.4444444444444444,\"#bd3786\"],[0.5555555555555556,\"#d8576b\"],[0.6666666666666666,\"#ed7953\"],[0.7777777777777778,\"#fb9f3a\"],[0.8888888888888888,\"#fdca26\"],[1.0,\"#f0f921\"]]}],\"heatmapgl\":[{\"type\":\"heatmapgl\",\"colorbar\":{\"outlinewidth\":0,\"ticks\":\"\"},\"colorscale\":[[0.0,\"#0d0887\"],[0.1111111111111111,\"#46039f\"],[0.2222222222222222,\"#7201a8\"],[0.3333333333333333,\"#9c179e\"],[0.4444444444444444,\"#bd3786\"],[0.5555555555555556,\"#d8576b\"],[0.6666666666666666,\"#ed7953\"],[0.7777777777777778,\"#fb9f3a\"],[0.8888888888888888,\"#fdca26\"],[1.0,\"#f0f921\"]]}],\"contourcarpet\":[{\"type\":\"contourcarpet\",\"colorbar\":{\"outlinewidth\":0,\"ticks\":\"\"}}],\"contour\":[{\"type\":\"contour\",\"colorbar\":{\"outlinewidth\":0,\"ticks\":\"\"},\"colorscale\":[[0.0,\"#0d0887\"],[0.1111111111111111,\"#46039f\"],[0.2222222222222222,\"#7201a8\"],[0.3333333333333333,\"#9c179e\"],[0.4444444444444444,\"#bd3786\"],[0.5555555555555556,\"#d8576b\"],[0.6666666666666666,\"#ed7953\"],[0.7777777777777778,\"#fb9f3a\"],[0.8888888888888888,\"#fdca26\"],[1.0,\"#f0f921\"]]}],\"surface\":[{\"type\":\"surface\",\"colorbar\":{\"outlinewidth\":0,\"ticks\":\"\"},\"colorscale\":[[0.0,\"#0d0887\"],[0.1111111111111111,\"#46039f\"],[0.2222222222222222,\"#7201a8\"],[0.3333333333333333,\"#9c179e\"],[0.4444444444444444,\"#bd3786\"],[0.5555555555555556,\"#d8576b\"],[0.6666666666666666,\"#ed7953\"],[0.7777777777777778,\"#fb9f3a\"],[0.8888888888888888,\"#fdca26\"],[1.0,\"#f0f921\"]]}],\"mesh3d\":[{\"type\":\"mesh3d\",\"colorbar\":{\"outlinewidth\":0,\"ticks\":\"\"}}],\"scatter\":[{\"fillpattern\":{\"fillmode\":\"overlay\",\"size\":10,\"solidity\":0.2},\"type\":\"scatter\"}],\"parcoords\":[{\"type\":\"parcoords\",\"line\":{\"colorbar\":{\"outlinewidth\":0,\"ticks\":\"\"}}}],\"scatterpolargl\":[{\"type\":\"scatterpolargl\",\"marker\":{\"colorbar\":{\"outlinewidth\":0,\"ticks\":\"\"}}}],\"bar\":[{\"error_x\":{\"color\":\"#2a3f5f\"},\"error_y\":{\"color\":\"#2a3f5f\"},\"marker\":{\"line\":{\"color\":\"#E5ECF6\",\"width\":0.5},\"pattern\":{\"fillmode\":\"overlay\",\"size\":10,\"solidity\":0.2}},\"type\":\"bar\"}],\"scattergeo\":[{\"type\":\"scattergeo\",\"marker\":{\"colorbar\":{\"outlinewidth\":0,\"ticks\":\"\"}}}],\"scatterpolar\":[{\"type\":\"scatterpolar\",\"marker\":{\"colorbar\":{\"outlinewidth\":0,\"ticks\":\"\"}}}],\"histogram\":[{\"marker\":{\"pattern\":{\"fillmode\":\"overlay\",\"size\":10,\"solidity\":0.2}},\"type\":\"histogram\"}],\"scattergl\":[{\"type\":\"scattergl\",\"marker\":{\"colorbar\":{\"outlinewidth\":0,\"ticks\":\"\"}}}],\"scatter3d\":[{\"type\":\"scatter3d\",\"line\":{\"colorbar\":{\"outlinewidth\":0,\"ticks\":\"\"}},\"marker\":{\"colorbar\":{\"outlinewidth\":0,\"ticks\":\"\"}}}],\"scattermapbox\":[{\"type\":\"scattermapbox\",\"marker\":{\"colorbar\":{\"outlinewidth\":0,\"ticks\":\"\"}}}],\"scatterternary\":[{\"type\":\"scatterternary\",\"marker\":{\"colorbar\":{\"outlinewidth\":0,\"ticks\":\"\"}}}],\"scattercarpet\":[{\"type\":\"scattercarpet\",\"marker\":{\"colorbar\":{\"outlinewidth\":0,\"ticks\":\"\"}}}],\"carpet\":[{\"aaxis\":{\"endlinecolor\":\"#2a3f5f\",\"gridcolor\":\"white\",\"linecolor\":\"white\",\"minorgridcolor\":\"white\",\"startlinecolor\":\"#2a3f5f\"},\"baxis\":{\"endlinecolor\":\"#2a3f5f\",\"gridcolor\":\"white\",\"linecolor\":\"white\",\"minorgridcolor\":\"white\",\"startlinecolor\":\"#2a3f5f\"},\"type\":\"carpet\"}],\"table\":[{\"cells\":{\"fill\":{\"color\":\"#EBF0F8\"},\"line\":{\"color\":\"white\"}},\"header\":{\"fill\":{\"color\":\"#C8D4E3\"},\"line\":{\"color\":\"white\"}},\"type\":\"table\"}],\"barpolar\":[{\"marker\":{\"line\":{\"color\":\"#E5ECF6\",\"width\":0.5},\"pattern\":{\"fillmode\":\"overlay\",\"size\":10,\"solidity\":0.2}},\"type\":\"barpolar\"}],\"pie\":[{\"automargin\":true,\"type\":\"pie\"}]},\"layout\":{\"autotypenumbers\":\"strict\",\"colorway\":[\"#636efa\",\"#EF553B\",\"#00cc96\",\"#ab63fa\",\"#FFA15A\",\"#19d3f3\",\"#FF6692\",\"#B6E880\",\"#FF97FF\",\"#FECB52\"],\"font\":{\"color\":\"#2a3f5f\"},\"hovermode\":\"closest\",\"hoverlabel\":{\"align\":\"left\"},\"paper_bgcolor\":\"white\",\"plot_bgcolor\":\"#E5ECF6\",\"polar\":{\"bgcolor\":\"#E5ECF6\",\"angularaxis\":{\"gridcolor\":\"white\",\"linecolor\":\"white\",\"ticks\":\"\"},\"radialaxis\":{\"gridcolor\":\"white\",\"linecolor\":\"white\",\"ticks\":\"\"}},\"ternary\":{\"bgcolor\":\"#E5ECF6\",\"aaxis\":{\"gridcolor\":\"white\",\"linecolor\":\"white\",\"ticks\":\"\"},\"baxis\":{\"gridcolor\":\"white\",\"linecolor\":\"white\",\"ticks\":\"\"},\"caxis\":{\"gridcolor\":\"white\",\"linecolor\":\"white\",\"ticks\":\"\"}},\"coloraxis\":{\"colorbar\":{\"outlinewidth\":0,\"ticks\":\"\"}},\"colorscale\":{\"sequential\":[[0.0,\"#0d0887\"],[0.1111111111111111,\"#46039f\"],[0.2222222222222222,\"#7201a8\"],[0.3333333333333333,\"#9c179e\"],[0.4444444444444444,\"#bd3786\"],[0.5555555555555556,\"#d8576b\"],[0.6666666666666666,\"#ed7953\"],[0.7777777777777778,\"#fb9f3a\"],[0.8888888888888888,\"#fdca26\"],[1.0,\"#f0f921\"]],\"sequentialminus\":[[0.0,\"#0d0887\"],[0.1111111111111111,\"#46039f\"],[0.2222222222222222,\"#7201a8\"],[0.3333333333333333,\"#9c179e\"],[0.4444444444444444,\"#bd3786\"],[0.5555555555555556,\"#d8576b\"],[0.6666666666666666,\"#ed7953\"],[0.7777777777777778,\"#fb9f3a\"],[0.8888888888888888,\"#fdca26\"],[1.0,\"#f0f921\"]],\"diverging\":[[0,\"#8e0152\"],[0.1,\"#c51b7d\"],[0.2,\"#de77ae\"],[0.3,\"#f1b6da\"],[0.4,\"#fde0ef\"],[0.5,\"#f7f7f7\"],[0.6,\"#e6f5d0\"],[0.7,\"#b8e186\"],[0.8,\"#7fbc41\"],[0.9,\"#4d9221\"],[1,\"#276419\"]]},\"xaxis\":{\"gridcolor\":\"white\",\"linecolor\":\"white\",\"ticks\":\"\",\"title\":{\"standoff\":15},\"zerolinecolor\":\"white\",\"automargin\":true,\"zerolinewidth\":2},\"yaxis\":{\"gridcolor\":\"white\",\"linecolor\":\"white\",\"ticks\":\"\",\"title\":{\"standoff\":15},\"zerolinecolor\":\"white\",\"automargin\":true,\"zerolinewidth\":2},\"scene\":{\"xaxis\":{\"backgroundcolor\":\"#E5ECF6\",\"gridcolor\":\"white\",\"linecolor\":\"white\",\"showbackground\":true,\"ticks\":\"\",\"zerolinecolor\":\"white\",\"gridwidth\":2},\"yaxis\":{\"backgroundcolor\":\"#E5ECF6\",\"gridcolor\":\"white\",\"linecolor\":\"white\",\"showbackground\":true,\"ticks\":\"\",\"zerolinecolor\":\"white\",\"gridwidth\":2},\"zaxis\":{\"backgroundcolor\":\"#E5ECF6\",\"gridcolor\":\"white\",\"linecolor\":\"white\",\"showbackground\":true,\"ticks\":\"\",\"zerolinecolor\":\"white\",\"gridwidth\":2}},\"shapedefaults\":{\"line\":{\"color\":\"#2a3f5f\"}},\"annotationdefaults\":{\"arrowcolor\":\"#2a3f5f\",\"arrowhead\":0,\"arrowwidth\":1},\"geo\":{\"bgcolor\":\"white\",\"landcolor\":\"#E5ECF6\",\"subunitcolor\":\"white\",\"showland\":true,\"showlakes\":true,\"lakecolor\":\"white\"},\"title\":{\"x\":0.05},\"mapbox\":{\"style\":\"light\"}}},\"mapbox\":{\"domain\":{\"x\":[0.0,1.0],\"y\":[0.0,1.0]},\"center\":{\"lat\":54.35420127882529,\"lon\":10.166072552125135},\"zoom\":10,\"style\":\"open-street-map\"},\"legend\":{\"title\":{\"text\":\"name\"},\"tracegroupgap\":0},\"margin\":{\"t\":60},\"height\":800,\"width\":800},                        {\"responsive\": true}                    ).then(function(){\n",
              "                            \n",
              "var gd = document.getElementById('d2da77ef-9b85-451a-a354-3702c047a5b9');\n",
              "var x = new MutationObserver(function (mutations, observer) {{\n",
              "        var display = window.getComputedStyle(gd).display;\n",
              "        if (!display || display === 'none') {{\n",
              "            console.log([gd, 'removed!']);\n",
              "            Plotly.purge(gd);\n",
              "            observer.disconnect();\n",
              "        }}\n",
              "}});\n",
              "\n",
              "// Listen for the removal of the full notebook cells\n",
              "var notebookContainer = gd.closest('#notebook-container');\n",
              "if (notebookContainer) {{\n",
              "    x.observe(notebookContainer, {childList: true});\n",
              "}}\n",
              "\n",
              "// Listen for the clearing of the current output cell\n",
              "var outputEl = gd.closest('.output');\n",
              "if (outputEl) {{\n",
              "    x.observe(outputEl, {childList: true});\n",
              "}}\n",
              "\n",
              "                        })                };                            </script>        </div>\n",
              "</body>\n",
              "</html>"
            ]
          },
          "metadata": {}
        }
      ]
    },
    {
      "cell_type": "markdown",
      "source": [
        "#### Get data from dataframe"
      ],
      "metadata": {
        "id": "yIHcpmmgH1Kd"
      }
    },
    {
      "cell_type": "code",
      "source": [
        "!pip install haversine  # to measure the distance between two locations considering the Earth's surface\n",
        "import haversine"
      ],
      "metadata": {
        "colab": {
          "base_uri": "https://localhost:8080/"
        },
        "id": "WZANczRNI3HV",
        "outputId": "e0f68e62-ed36-4762-883f-4f051cfb0a1c"
      },
      "execution_count": 4,
      "outputs": [
        {
          "output_type": "stream",
          "name": "stdout",
          "text": [
            "Looking in indexes: https://pypi.org/simple, https://us-python.pkg.dev/colab-wheels/public/simple/\n",
            "Collecting haversine\n",
            "  Downloading haversine-2.8.0-py2.py3-none-any.whl (7.7 kB)\n",
            "Installing collected packages: haversine\n",
            "Successfully installed haversine-2.8.0\n"
          ]
        }
      ]
    },
    {
      "cell_type": "code",
      "source": [
        "nodes = df.name.tolist()\n",
        "c = {node1: {node2: round(haversine.haversine(\n",
        "            (df.loc[df['name'] == node1, 'latitude'].iloc[0], df.loc[df['name'] == node1, 'longitude'].iloc[0]),\n",
        "            (df.loc[df['name'] == node2, 'latitude'].iloc[0], df.loc[df['name'] == node2, 'longitude'].iloc[0])), 2)\n",
        "            for node2 in nodes} \n",
        "     for node1 in nodes}\n",
        "\n",
        "print(nodes)\n",
        "print(c)"
      ],
      "metadata": {
        "colab": {
          "base_uri": "https://localhost:8080/"
        },
        "id": "CEp4Ko4mH33V",
        "outputId": "7a6982d6-6401-4765-9cbd-6d4d68159673"
      },
      "execution_count": 11,
      "outputs": [
        {
          "output_type": "stream",
          "name": "stdout",
          "text": [
            "['Bahnhof', 'Friedrichsort', 'Holtenau', 'University', 'Mitte', 'Garden', 'Wellingdorf', 'Heikendorf', 'Laboe']\n",
            "{'Bahnhof': {'Bahnhof': 0.0, 'Friedrichsort': 9.32, 'Holtenau': 6.68, 'University': 3.75, 'Mitte': 1.05, 'Garden': 1.24, 'Wellingdorf': 3.38, 'Heikendorf': 8.82, 'Laboe': 12.35}, 'Friedrichsort': {'Bahnhof': 9.32, 'Friedrichsort': 0.0, 'Holtenau': 3.12, 'University': 6.64, 'Mitte': 8.28, 'Garden': 9.22, 'Wellingdorf': 7.28, 'Heikendorf': 2.38, 'Laboe': 3.62}, 'Holtenau': {'Bahnhof': 6.68, 'Friedrichsort': 3.12, 'Holtenau': 0.0, 'University': 3.57, 'Mitte': 5.63, 'Garden': 6.86, 'Wellingdorf': 5.55, 'Heikendorf': 4.15, 'Laboe': 6.7}, 'University': {'Bahnhof': 3.75, 'Friedrichsort': 6.64, 'Holtenau': 3.57, 'University': 0.0, 'Mitte': 2.88, 'Garden': 4.44, 'Wellingdorf': 4.57, 'Heikendorf': 7.04, 'Laboe': 10.12}, 'Mitte': {'Bahnhof': 1.05, 'Friedrichsort': 8.28, 'Holtenau': 5.63, 'University': 2.88, 'Mitte': 0.0, 'Garden': 1.58, 'Wellingdorf': 2.82, 'Heikendorf': 7.85, 'Laboe': 11.34}, 'Garden': {'Bahnhof': 1.24, 'Friedrichsort': 9.22, 'Holtenau': 6.86, 'University': 4.44, 'Mitte': 1.58, 'Garden': 0.0, 'Wellingdorf': 2.51, 'Heikendorf': 8.41, 'Laboe': 12.0}, 'Wellingdorf': {'Bahnhof': 3.38, 'Friedrichsort': 7.28, 'Holtenau': 5.55, 'University': 4.57, 'Mitte': 2.82, 'Garden': 2.51, 'Wellingdorf': 0.0, 'Heikendorf': 6.1, 'Laboe': 9.7}, 'Heikendorf': {'Bahnhof': 8.82, 'Friedrichsort': 2.38, 'Holtenau': 4.15, 'University': 7.04, 'Mitte': 7.85, 'Garden': 8.41, 'Wellingdorf': 6.1, 'Heikendorf': 0.0, 'Laboe': 3.6}, 'Laboe': {'Bahnhof': 12.35, 'Friedrichsort': 3.62, 'Holtenau': 6.7, 'University': 10.12, 'Mitte': 11.34, 'Garden': 12.0, 'Wellingdorf': 9.7, 'Heikendorf': 3.6, 'Laboe': 0.0}}\n"
          ]
        }
      ]
    },
    {
      "cell_type": "markdown",
      "source": [
        "### Create models with PuLP"
      ],
      "metadata": {
        "id": "F25hTbJDSmeA"
      }
    },
    {
      "cell_type": "markdown",
      "source": [
        "#### Load packages"
      ],
      "metadata": {
        "id": "yTu3_fJyS2Eo"
      }
    },
    {
      "cell_type": "code",
      "source": [
        "# load the required modules\n",
        "!pip install pulp\n",
        "import pulp"
      ],
      "metadata": {
        "id": "yP6Py9Dd--VP",
        "outputId": "01e58029-1962-4133-9639-d57c5148fe8c",
        "colab": {
          "base_uri": "https://localhost:8080/"
        }
      },
      "execution_count": 9,
      "outputs": [
        {
          "output_type": "stream",
          "name": "stdout",
          "text": [
            "Looking in indexes: https://pypi.org/simple, https://us-python.pkg.dev/colab-wheels/public/simple/\n",
            "Collecting pulp\n",
            "  Downloading PuLP-2.7.0-py3-none-any.whl (14.3 MB)\n",
            "\u001b[2K     \u001b[90m━━━━━━━━━━━━━━━━━━━━━━━━━━━━━━━━━━━━━━━━\u001b[0m \u001b[32m14.3/14.3 MB\u001b[0m \u001b[31m72.7 MB/s\u001b[0m eta \u001b[36m0:00:00\u001b[0m\n",
            "\u001b[?25hInstalling collected packages: pulp\n",
            "Successfully installed pulp-2.7.0\n"
          ]
        }
      ]
    },
    {
      "cell_type": "markdown",
      "source": [
        "#### Formulation of Miller, Tucker and Zemlin (1960)"
      ],
      "metadata": {
        "id": "YMO2R-JsHFTh"
      }
    },
    {
      "cell_type": "markdown",
      "source": [
        "$\n",
        "\\begin{align}\n",
        "  \\begin{array}{lll}\n",
        "    &\\textbf{Objective} & \\\\\n",
        "    & \\min \\sum_{i=1,\\dots,N} \\sum_{j=1,\\dots,N} c_{ij} \\cdot x_{ij} &~~~ (1) \\\\\n",
        "    &&\\\\\n",
        "    &\\textbf{Constraints} & \\\\\n",
        "    & \\sum\\limits_{i=1}^{N} x_{ij} = 1,~ \\forall~ j = 1,\\dots,N  &~~~ (2) \\\\\n",
        "    & \\sum\\limits_{j=1}^{N} x_{ij} = 1,~ \\forall~ i = 1,\\dots,N  &~~~ (3) \\\\\n",
        "    & x_{ii} = 0,~ \\forall~ i = 1,\\dots,N  &~~~ (4) \\\\\n",
        "    & u_{i} - u_{j} + N \\cdot x_{ij} \\le N -1,~ \\forall~ i,j = 1,\\dots,N: j \\ne 1 ~\\text{and}~ i \\ne j  &~~~ (5) \\\\\n",
        "    & u_{i} \\in \\mathbb{Z}^{\\text{nonneg}},~ \\forall~ i = 1,\\dots,N  &~~~ (6) \\\\\n",
        "    & x_{ij} \\in \\{0,1\\},~ \\forall~ i,j = 1,\\dots,N  &~~~ (7) \\\\\n",
        "  \\end{array}\n",
        "\\end{align}\n",
        "$"
      ],
      "metadata": {
        "id": "JXWXa4v0jaYV"
      }
    },
    {
      "cell_type": "code",
      "source": [
        "# build problem\n",
        "model = pulp.LpProblem(name='TSP_MTZ', sense=pulp.constants.LpMinimize)\n",
        "\n",
        "\n",
        "# decision variables\n",
        "x = pulp.LpVariable.dicts(name='x', indices=(nodes, nodes), cat='Binary')\n",
        "u = pulp.LpVariable.dicts(name='u', indices=nodes, \n",
        "                          lowBound=1, upBound=len(nodes), \n",
        "                          cat='Integer')\n",
        "\n",
        "# Objective (1)\n",
        "model += pulp.lpSum(c[i][j] * x[i][j] for i in nodes for j in nodes), \"(1):Objective\"\n",
        "\n",
        "# Constraints (2)\n",
        "for j in nodes:\n",
        "  model += pulp.lpSum(x[i][j] for i in nodes) == 1, '(2):' + j\n",
        "\n",
        "# Constraints (3)\n",
        "for i in nodes:\n",
        "  model += pulp.lpSum(x[i][j] for j in nodes) == 1, '(3):' + i\n",
        "\n",
        "# Constraints (4)\n",
        "for i in nodes:\n",
        "  model += x[i][i] == 0, '(4): ' + i\n",
        "\n",
        "# Constraints (5)\n",
        "for i in nodes:\n",
        "  for j in nodes[1:]:\n",
        "    if i != j:\n",
        "      model += u[i] - u[j] + len(nodes)*x[i][j] <= len(nodes) - 1, '(5):' + i + '>' + j\n",
        "\n",
        "# print model\n",
        "# print(model)"
      ],
      "metadata": {
        "id": "9bUDzLW2JAjQ"
      },
      "execution_count": 28,
      "outputs": []
    },
    {
      "cell_type": "markdown",
      "source": [
        "### Solve model"
      ],
      "metadata": {
        "id": "Zn7ku5hEJBCf"
      }
    },
    {
      "cell_type": "code",
      "source": [
        "# solve problem\n",
        "model.solve()\n",
        "\n",
        "# get status\n",
        "print(\"Status:\", pulp.LpStatus[model.status])\n",
        "\n",
        "# get objective value\n",
        "print('Objective value:', round(pulp.value(model.objective), 2))\n",
        "\n",
        "#print model variable\n",
        "# for v in model.variables():\n",
        "#     print(v.name,\"=\", v.varValue)\n",
        "\n",
        "print('Tour:')\n",
        "tour = [] \n",
        "i = nodes[0]\n",
        "tour_completed = False\n",
        "while not tour_completed:\n",
        "  for j in nodes:\n",
        "    if x[i][j].varValue > 0: \n",
        "      print(' ' + str(x[i][j]) + ': ' + str(x[i][j].varValue) + ', c_ij=' + str(c[i][j]))\n",
        "      tour.append(i)\n",
        "      i = j\n",
        "      if j == nodes[0]:\n",
        "        tour_completed = True\n",
        "      break\n",
        "print(' ' + str(tour))"
      ],
      "metadata": {
        "colab": {
          "base_uri": "https://localhost:8080/"
        },
        "id": "xs8GAbd3QhSz",
        "outputId": "b10e69d7-3c7a-4501-9f4c-f1066cf03da8"
      },
      "execution_count": 29,
      "outputs": [
        {
          "output_type": "stream",
          "name": "stdout",
          "text": [
            "Status: Optimal\n",
            "Objective value: 27.69\n",
            "Tour:\n",
            " x_Bahnhof_Mitte: 1.0, c_ij=1.05\n",
            " x_Mitte_University: 1.0, c_ij=2.88\n",
            " x_University_Holtenau: 1.0, c_ij=3.57\n",
            " x_Holtenau_Friedrichsort: 1.0, c_ij=3.12\n",
            " x_Friedrichsort_Laboe: 1.0, c_ij=3.62\n",
            " x_Laboe_Heikendorf: 1.0, c_ij=3.6\n",
            " x_Heikendorf_Wellingdorf: 1.0, c_ij=6.1\n",
            " x_Wellingdorf_Garden: 1.0, c_ij=2.51\n",
            " x_Garden_Bahnhof: 1.0, c_ij=1.24\n",
            " ['Bahnhof', 'Mitte', 'University', 'Holtenau', 'Friedrichsort', 'Laboe', 'Heikendorf', 'Wellingdorf', 'Garden']\n"
          ]
        }
      ]
    },
    {
      "cell_type": "markdown",
      "source": [
        "### Graphical visualization"
      ],
      "metadata": {
        "id": "_QHHqha-q_IK"
      }
    },
    {
      "cell_type": "code",
      "source": [
        "# create new dataframe with the nodes sorted in the direction of the tour\n",
        "current_node = nodes[0]\n",
        "df_tour = pd.DataFrame(columns=df.columns)\n",
        "df_tour = pd.concat([df_tour, df[df['name'] == current_node]])\n",
        "\n",
        "while len(df_tour.index) < len(nodes) + 1:\n",
        "  for j in nodes:\n",
        "    if x[current_node][j].varValue > 0:      \n",
        "      df_tour = pd.concat([df_tour, df[df['name'] == j]])\n",
        "      current_node = j\n",
        "      break;\n",
        "\n",
        "print(df_tour)\n",
        "\n",
        "fig = px.line_mapbox(df_tour, lat=\"latitude\", lon=\"longitude\", zoom=10, \n",
        "                    hover_name=\"name\", width=800, height=800)\n",
        "fig.update_layout(mapbox_style=\"open-street-map\")\n",
        "fig.show()"
      ],
      "metadata": {
        "id": "nWUo08feYqP0",
        "outputId": "19dbb577-4fd5-4101-bdde-7072ec29f674",
        "colab": {
          "base_uri": "https://localhost:8080/",
          "height": 1000
        }
      },
      "execution_count": 30,
      "outputs": [
        {
          "output_type": "stream",
          "name": "stdout",
          "text": [
            "            name   latitude  longitude\n",
            "0        Bahnhof  54.315487  10.132285\n",
            "4          Mitte  54.324606  10.136630\n",
            "3     University  54.348125  10.117918\n",
            "2       Holtenau  54.374804  10.148470\n",
            "1  Friedrichsort  54.393713  10.184142\n",
            "8          Laboe  54.409884  10.232679\n",
            "7     Heikendorf  54.379798  10.212037\n",
            "6    Wellingdorf  54.328293  10.179582\n",
            "5         Garden  54.313102  10.150910\n",
            "0        Bahnhof  54.315487  10.132285\n"
          ]
        },
        {
          "output_type": "display_data",
          "data": {
            "text/html": [
              "<html>\n",
              "<head><meta charset=\"utf-8\" /></head>\n",
              "<body>\n",
              "    <div>            <script src=\"https://cdnjs.cloudflare.com/ajax/libs/mathjax/2.7.5/MathJax.js?config=TeX-AMS-MML_SVG\"></script><script type=\"text/javascript\">if (window.MathJax && window.MathJax.Hub && window.MathJax.Hub.Config) {window.MathJax.Hub.Config({SVG: {font: \"STIX-Web\"}});}</script>                <script type=\"text/javascript\">window.PlotlyConfig = {MathJaxConfig: 'local'};</script>\n",
              "        <script src=\"https://cdn.plot.ly/plotly-2.18.2.min.js\"></script>                <div id=\"23179498-9e26-48fd-bdec-7959355bdbb6\" class=\"plotly-graph-div\" style=\"height:800px; width:800px;\"></div>            <script type=\"text/javascript\">                                    window.PLOTLYENV=window.PLOTLYENV || {};                                    if (document.getElementById(\"23179498-9e26-48fd-bdec-7959355bdbb6\")) {                    Plotly.newPlot(                        \"23179498-9e26-48fd-bdec-7959355bdbb6\",                        [{\"hovertemplate\":\"<b>%{hovertext}</b><br><br>latitude=%{lat}<br>longitude=%{lon}<extra></extra>\",\"hovertext\":[\"Bahnhof\",\"Mitte\",\"University\",\"Holtenau\",\"Friedrichsort\",\"Laboe\",\"Heikendorf\",\"Wellingdorf\",\"Garden\",\"Bahnhof\"],\"lat\":[54.31548738087378,54.32460566307153,54.348125164196105,54.37480425366618,54.39371269762963,54.409884128644144,54.37979792093858,54.32829259013629,54.313101710271425,54.31548738087378],\"legendgroup\":\"\",\"line\":{\"color\":\"#636efa\"},\"lon\":[10.132285213361302,10.136629552088058,10.117918463246932,10.148469747635753,10.184142058855787,10.232678775594744,10.212036804008633,10.179582183151096,10.15091017118389,10.132285213361302],\"mode\":\"lines\",\"name\":\"\",\"showlegend\":false,\"subplot\":\"mapbox\",\"type\":\"scattermapbox\"}],                        {\"template\":{\"data\":{\"histogram2dcontour\":[{\"type\":\"histogram2dcontour\",\"colorbar\":{\"outlinewidth\":0,\"ticks\":\"\"},\"colorscale\":[[0.0,\"#0d0887\"],[0.1111111111111111,\"#46039f\"],[0.2222222222222222,\"#7201a8\"],[0.3333333333333333,\"#9c179e\"],[0.4444444444444444,\"#bd3786\"],[0.5555555555555556,\"#d8576b\"],[0.6666666666666666,\"#ed7953\"],[0.7777777777777778,\"#fb9f3a\"],[0.8888888888888888,\"#fdca26\"],[1.0,\"#f0f921\"]]}],\"choropleth\":[{\"type\":\"choropleth\",\"colorbar\":{\"outlinewidth\":0,\"ticks\":\"\"}}],\"histogram2d\":[{\"type\":\"histogram2d\",\"colorbar\":{\"outlinewidth\":0,\"ticks\":\"\"},\"colorscale\":[[0.0,\"#0d0887\"],[0.1111111111111111,\"#46039f\"],[0.2222222222222222,\"#7201a8\"],[0.3333333333333333,\"#9c179e\"],[0.4444444444444444,\"#bd3786\"],[0.5555555555555556,\"#d8576b\"],[0.6666666666666666,\"#ed7953\"],[0.7777777777777778,\"#fb9f3a\"],[0.8888888888888888,\"#fdca26\"],[1.0,\"#f0f921\"]]}],\"heatmap\":[{\"type\":\"heatmap\",\"colorbar\":{\"outlinewidth\":0,\"ticks\":\"\"},\"colorscale\":[[0.0,\"#0d0887\"],[0.1111111111111111,\"#46039f\"],[0.2222222222222222,\"#7201a8\"],[0.3333333333333333,\"#9c179e\"],[0.4444444444444444,\"#bd3786\"],[0.5555555555555556,\"#d8576b\"],[0.6666666666666666,\"#ed7953\"],[0.7777777777777778,\"#fb9f3a\"],[0.8888888888888888,\"#fdca26\"],[1.0,\"#f0f921\"]]}],\"heatmapgl\":[{\"type\":\"heatmapgl\",\"colorbar\":{\"outlinewidth\":0,\"ticks\":\"\"},\"colorscale\":[[0.0,\"#0d0887\"],[0.1111111111111111,\"#46039f\"],[0.2222222222222222,\"#7201a8\"],[0.3333333333333333,\"#9c179e\"],[0.4444444444444444,\"#bd3786\"],[0.5555555555555556,\"#d8576b\"],[0.6666666666666666,\"#ed7953\"],[0.7777777777777778,\"#fb9f3a\"],[0.8888888888888888,\"#fdca26\"],[1.0,\"#f0f921\"]]}],\"contourcarpet\":[{\"type\":\"contourcarpet\",\"colorbar\":{\"outlinewidth\":0,\"ticks\":\"\"}}],\"contour\":[{\"type\":\"contour\",\"colorbar\":{\"outlinewidth\":0,\"ticks\":\"\"},\"colorscale\":[[0.0,\"#0d0887\"],[0.1111111111111111,\"#46039f\"],[0.2222222222222222,\"#7201a8\"],[0.3333333333333333,\"#9c179e\"],[0.4444444444444444,\"#bd3786\"],[0.5555555555555556,\"#d8576b\"],[0.6666666666666666,\"#ed7953\"],[0.7777777777777778,\"#fb9f3a\"],[0.8888888888888888,\"#fdca26\"],[1.0,\"#f0f921\"]]}],\"surface\":[{\"type\":\"surface\",\"colorbar\":{\"outlinewidth\":0,\"ticks\":\"\"},\"colorscale\":[[0.0,\"#0d0887\"],[0.1111111111111111,\"#46039f\"],[0.2222222222222222,\"#7201a8\"],[0.3333333333333333,\"#9c179e\"],[0.4444444444444444,\"#bd3786\"],[0.5555555555555556,\"#d8576b\"],[0.6666666666666666,\"#ed7953\"],[0.7777777777777778,\"#fb9f3a\"],[0.8888888888888888,\"#fdca26\"],[1.0,\"#f0f921\"]]}],\"mesh3d\":[{\"type\":\"mesh3d\",\"colorbar\":{\"outlinewidth\":0,\"ticks\":\"\"}}],\"scatter\":[{\"fillpattern\":{\"fillmode\":\"overlay\",\"size\":10,\"solidity\":0.2},\"type\":\"scatter\"}],\"parcoords\":[{\"type\":\"parcoords\",\"line\":{\"colorbar\":{\"outlinewidth\":0,\"ticks\":\"\"}}}],\"scatterpolargl\":[{\"type\":\"scatterpolargl\",\"marker\":{\"colorbar\":{\"outlinewidth\":0,\"ticks\":\"\"}}}],\"bar\":[{\"error_x\":{\"color\":\"#2a3f5f\"},\"error_y\":{\"color\":\"#2a3f5f\"},\"marker\":{\"line\":{\"color\":\"#E5ECF6\",\"width\":0.5},\"pattern\":{\"fillmode\":\"overlay\",\"size\":10,\"solidity\":0.2}},\"type\":\"bar\"}],\"scattergeo\":[{\"type\":\"scattergeo\",\"marker\":{\"colorbar\":{\"outlinewidth\":0,\"ticks\":\"\"}}}],\"scatterpolar\":[{\"type\":\"scatterpolar\",\"marker\":{\"colorbar\":{\"outlinewidth\":0,\"ticks\":\"\"}}}],\"histogram\":[{\"marker\":{\"pattern\":{\"fillmode\":\"overlay\",\"size\":10,\"solidity\":0.2}},\"type\":\"histogram\"}],\"scattergl\":[{\"type\":\"scattergl\",\"marker\":{\"colorbar\":{\"outlinewidth\":0,\"ticks\":\"\"}}}],\"scatter3d\":[{\"type\":\"scatter3d\",\"line\":{\"colorbar\":{\"outlinewidth\":0,\"ticks\":\"\"}},\"marker\":{\"colorbar\":{\"outlinewidth\":0,\"ticks\":\"\"}}}],\"scattermapbox\":[{\"type\":\"scattermapbox\",\"marker\":{\"colorbar\":{\"outlinewidth\":0,\"ticks\":\"\"}}}],\"scatterternary\":[{\"type\":\"scatterternary\",\"marker\":{\"colorbar\":{\"outlinewidth\":0,\"ticks\":\"\"}}}],\"scattercarpet\":[{\"type\":\"scattercarpet\",\"marker\":{\"colorbar\":{\"outlinewidth\":0,\"ticks\":\"\"}}}],\"carpet\":[{\"aaxis\":{\"endlinecolor\":\"#2a3f5f\",\"gridcolor\":\"white\",\"linecolor\":\"white\",\"minorgridcolor\":\"white\",\"startlinecolor\":\"#2a3f5f\"},\"baxis\":{\"endlinecolor\":\"#2a3f5f\",\"gridcolor\":\"white\",\"linecolor\":\"white\",\"minorgridcolor\":\"white\",\"startlinecolor\":\"#2a3f5f\"},\"type\":\"carpet\"}],\"table\":[{\"cells\":{\"fill\":{\"color\":\"#EBF0F8\"},\"line\":{\"color\":\"white\"}},\"header\":{\"fill\":{\"color\":\"#C8D4E3\"},\"line\":{\"color\":\"white\"}},\"type\":\"table\"}],\"barpolar\":[{\"marker\":{\"line\":{\"color\":\"#E5ECF6\",\"width\":0.5},\"pattern\":{\"fillmode\":\"overlay\",\"size\":10,\"solidity\":0.2}},\"type\":\"barpolar\"}],\"pie\":[{\"automargin\":true,\"type\":\"pie\"}]},\"layout\":{\"autotypenumbers\":\"strict\",\"colorway\":[\"#636efa\",\"#EF553B\",\"#00cc96\",\"#ab63fa\",\"#FFA15A\",\"#19d3f3\",\"#FF6692\",\"#B6E880\",\"#FF97FF\",\"#FECB52\"],\"font\":{\"color\":\"#2a3f5f\"},\"hovermode\":\"closest\",\"hoverlabel\":{\"align\":\"left\"},\"paper_bgcolor\":\"white\",\"plot_bgcolor\":\"#E5ECF6\",\"polar\":{\"bgcolor\":\"#E5ECF6\",\"angularaxis\":{\"gridcolor\":\"white\",\"linecolor\":\"white\",\"ticks\":\"\"},\"radialaxis\":{\"gridcolor\":\"white\",\"linecolor\":\"white\",\"ticks\":\"\"}},\"ternary\":{\"bgcolor\":\"#E5ECF6\",\"aaxis\":{\"gridcolor\":\"white\",\"linecolor\":\"white\",\"ticks\":\"\"},\"baxis\":{\"gridcolor\":\"white\",\"linecolor\":\"white\",\"ticks\":\"\"},\"caxis\":{\"gridcolor\":\"white\",\"linecolor\":\"white\",\"ticks\":\"\"}},\"coloraxis\":{\"colorbar\":{\"outlinewidth\":0,\"ticks\":\"\"}},\"colorscale\":{\"sequential\":[[0.0,\"#0d0887\"],[0.1111111111111111,\"#46039f\"],[0.2222222222222222,\"#7201a8\"],[0.3333333333333333,\"#9c179e\"],[0.4444444444444444,\"#bd3786\"],[0.5555555555555556,\"#d8576b\"],[0.6666666666666666,\"#ed7953\"],[0.7777777777777778,\"#fb9f3a\"],[0.8888888888888888,\"#fdca26\"],[1.0,\"#f0f921\"]],\"sequentialminus\":[[0.0,\"#0d0887\"],[0.1111111111111111,\"#46039f\"],[0.2222222222222222,\"#7201a8\"],[0.3333333333333333,\"#9c179e\"],[0.4444444444444444,\"#bd3786\"],[0.5555555555555556,\"#d8576b\"],[0.6666666666666666,\"#ed7953\"],[0.7777777777777778,\"#fb9f3a\"],[0.8888888888888888,\"#fdca26\"],[1.0,\"#f0f921\"]],\"diverging\":[[0,\"#8e0152\"],[0.1,\"#c51b7d\"],[0.2,\"#de77ae\"],[0.3,\"#f1b6da\"],[0.4,\"#fde0ef\"],[0.5,\"#f7f7f7\"],[0.6,\"#e6f5d0\"],[0.7,\"#b8e186\"],[0.8,\"#7fbc41\"],[0.9,\"#4d9221\"],[1,\"#276419\"]]},\"xaxis\":{\"gridcolor\":\"white\",\"linecolor\":\"white\",\"ticks\":\"\",\"title\":{\"standoff\":15},\"zerolinecolor\":\"white\",\"automargin\":true,\"zerolinewidth\":2},\"yaxis\":{\"gridcolor\":\"white\",\"linecolor\":\"white\",\"ticks\":\"\",\"title\":{\"standoff\":15},\"zerolinecolor\":\"white\",\"automargin\":true,\"zerolinewidth\":2},\"scene\":{\"xaxis\":{\"backgroundcolor\":\"#E5ECF6\",\"gridcolor\":\"white\",\"linecolor\":\"white\",\"showbackground\":true,\"ticks\":\"\",\"zerolinecolor\":\"white\",\"gridwidth\":2},\"yaxis\":{\"backgroundcolor\":\"#E5ECF6\",\"gridcolor\":\"white\",\"linecolor\":\"white\",\"showbackground\":true,\"ticks\":\"\",\"zerolinecolor\":\"white\",\"gridwidth\":2},\"zaxis\":{\"backgroundcolor\":\"#E5ECF6\",\"gridcolor\":\"white\",\"linecolor\":\"white\",\"showbackground\":true,\"ticks\":\"\",\"zerolinecolor\":\"white\",\"gridwidth\":2}},\"shapedefaults\":{\"line\":{\"color\":\"#2a3f5f\"}},\"annotationdefaults\":{\"arrowcolor\":\"#2a3f5f\",\"arrowhead\":0,\"arrowwidth\":1},\"geo\":{\"bgcolor\":\"white\",\"landcolor\":\"#E5ECF6\",\"subunitcolor\":\"white\",\"showland\":true,\"showlakes\":true,\"lakecolor\":\"white\"},\"title\":{\"x\":0.05},\"mapbox\":{\"style\":\"light\"}}},\"mapbox\":{\"domain\":{\"x\":[0.0,1.0],\"y\":[0.0,1.0]},\"center\":{\"lat\":54.35032988903015,\"lon\":10.162693818248751},\"zoom\":10,\"style\":\"open-street-map\"},\"legend\":{\"tracegroupgap\":0},\"margin\":{\"t\":60},\"height\":800,\"width\":800},                        {\"responsive\": true}                    ).then(function(){\n",
              "                            \n",
              "var gd = document.getElementById('23179498-9e26-48fd-bdec-7959355bdbb6');\n",
              "var x = new MutationObserver(function (mutations, observer) {{\n",
              "        var display = window.getComputedStyle(gd).display;\n",
              "        if (!display || display === 'none') {{\n",
              "            console.log([gd, 'removed!']);\n",
              "            Plotly.purge(gd);\n",
              "            observer.disconnect();\n",
              "        }}\n",
              "}});\n",
              "\n",
              "// Listen for the removal of the full notebook cells\n",
              "var notebookContainer = gd.closest('#notebook-container');\n",
              "if (notebookContainer) {{\n",
              "    x.observe(notebookContainer, {childList: true});\n",
              "}}\n",
              "\n",
              "// Listen for the clearing of the current output cell\n",
              "var outputEl = gd.closest('.output');\n",
              "if (outputEl) {{\n",
              "    x.observe(outputEl, {childList: true});\n",
              "}}\n",
              "\n",
              "                        })                };                            </script>        </div>\n",
              "</body>\n",
              "</html>"
            ]
          },
          "metadata": {}
        }
      ]
    },
    {
      "cell_type": "markdown",
      "source": [
        "## Assignments"
      ],
      "metadata": {
        "id": "bukRc6nhOhQz"
      }
    },
    {
      "cell_type": "markdown",
      "source": [
        "#### Formulation of Gavish and Graves (1976)"
      ],
      "metadata": {
        "id": "HuVbZCKmHyki"
      }
    },
    {
      "cell_type": "markdown",
      "source": [
        "$\n",
        "\\begin{align}\n",
        "  \\begin{array}{lll}\n",
        "    &\\textbf{Objective} & \\\\\n",
        "    & \\min \\sum_{i=1,\\dots,N} \\sum_{j=1,\\dots,N} c_{ij} \\cdot x_{ij} &~~~ (1) \\\\\n",
        "    &&\\\\\n",
        "    &\\textbf{Constraints} & \\\\\n",
        "    & \\sum\\limits_{i=1}^{N} x_{ij} = 1,~ \\forall~ j = 1,\\dots,N  &~~~ (2) \\\\\n",
        "    & \\sum\\limits_{j=1}^{N} x_{ij} = 1,~ \\forall~ i = 1,\\dots,N  &~~~ (3) \\\\\n",
        "    & x_{ii} = 0,~ \\forall~ i = 1,\\dots,N  &~~~ (4) \\\\\n",
        "    &  \\sum\\limits_{j=1}^{N} z_{ij} - \\sum\\limits_{j=2}^{N} z_{ji} = 1,~ \\forall~ i = 2,\\dots,N &~~~ (5) \\\\\n",
        "    & z_{ij} \\le x_{ij} \\cdot (N - 1),~ \\forall~ i = 2,\\dots,N, j = 1,\\dots,N &~~~ (6) \\\\\n",
        "    & z_{ij} \\in \\mathbb{Z}^{\\text{nonneg}},~ \\forall~ i,j = 1,\\dots,N  &~~~ (7) \\\\\n",
        "    & x_{ij} \\in \\{0,1\\},~ \\forall~ i,j = 1,\\dots,N  &~~~ (8) \\\\\n",
        "  \\end{array}\n",
        "\\end{align}\n",
        "$\n"
      ],
      "metadata": {
        "id": "6YgpPj3qH1YD"
      }
    },
    {
      "cell_type": "code",
      "source": [
        "# initialize sets\n",
        "nodes = df.name\n",
        "\n",
        "# decision variables\n",
        "x = pulp.LpVariable.dicts(name='x', indices=(nodes, nodes), cat='Binary')\n",
        "z = pulp.LpVariable.dicts(name='z', lowBound=0, indices=(nodes, nodes), cat='Integer')\n",
        "\n",
        "# build problem\n",
        "model = pulp.LpProblem(name='TSP_GG', sense=pulp.constants.LpMinimize)\n",
        "\n",
        "# Objective (1)\n",
        "model += pulp.lpSum(c[i][j] * x[i][j] for i in nodes for j in nodes), \"(1):Objective\"\n",
        "\n",
        "# Constraints (2)\n",
        "for j in nodes:\n",
        "  model += pulp.lpSum(x[i][j] for i in nodes) == 1, '(2):' + j\n",
        "\n",
        "# Constraints (3)\n",
        "for i in nodes:\n",
        "  model += pulp.lpSum(x[i][j] for j in nodes) == 1, '(3):' + i\n",
        "\n",
        "# Constraints (4)\n",
        "for i in nodes:\n",
        "  model += x[i][i] == 0, '(4): ' + i\n",
        "\n",
        "# Constraints (5)\n",
        "for i in nodes[1:]:\n",
        "    model += pulp.lpSum(z[i][j] for j in nodes) - pulp.lpSum(z[j][i] for j in nodes[1:]) == 1, '(5):' + i\n",
        "\n",
        "# Constraints (6)\n",
        "for i in nodes[1:]:\n",
        "    for j in nodes:\n",
        "      model += z[i][j] <= x[i][j] * (len(nodes) - 1), '(6):' + i + '>' + j\n",
        "\n",
        "# print model\n",
        "# print(model)"
      ],
      "metadata": {
        "id": "FRl6Ox4SHx66"
      },
      "execution_count": null,
      "outputs": []
    },
    {
      "cell_type": "markdown",
      "source": [
        "### Computational experiments"
      ],
      "metadata": {
        "id": "sOy3rXghRJ-n"
      }
    },
    {
      "cell_type": "code",
      "source": [
        "# define MTZ formulation as function\n",
        "def tsp_mtz(nodes, c):\n",
        "  # build problem\n",
        "  model = pulp.LpProblem(name='TSP_MTZ', sense=pulp.constants.LpMinimize)\n",
        "\n",
        "\n",
        "  # decision variables\n",
        "  x = pulp.LpVariable.dicts(name='x', indices=(nodes, nodes), cat='Binary')\n",
        "  u = pulp.LpVariable.dicts(name='u', indices=nodes, \n",
        "                            lowBound=1, upBound=len(nodes), \n",
        "                            cat='Integer')\n",
        "\n",
        "  # Objective (1)\n",
        "  model += pulp.lpSum(c[i][j] * x[i][j] for i in nodes for j in nodes), \"(1):Objective\"\n",
        "\n",
        "  # Constraints (2)\n",
        "  for j in nodes:\n",
        "    model += pulp.lpSum(x[i][j] for i in nodes) == 1, '(2):' + j\n",
        "\n",
        "  # Constraints (3)\n",
        "  for i in nodes:\n",
        "    model += pulp.lpSum(x[i][j] for j in nodes) == 1, '(3):' + i\n",
        "\n",
        "  # Constraints (4)\n",
        "  for i in nodes:\n",
        "    model += x[i][i] == 0, '(4): ' + i\n",
        "\n",
        "  # Constraints (5)\n",
        "  for i in nodes:\n",
        "    for j in nodes[1:]:\n",
        "      if i != j:\n",
        "        model += u[i] - u[j] + len(nodes)*x[i][j] <= len(nodes) - 1, '(5):' + i + '>' + j\n",
        "  \n",
        "  return model\n",
        "\n",
        "# define function to solve a model and returning the objective value\n",
        "def solve_tsp(model):\n",
        "  # solve problem\n",
        "  model.solve()\n",
        "\n",
        "  # get status\n",
        "  print(\"Status:\", pulp.LpStatus[model.status])\n",
        "\n",
        "  # get objective value\n",
        "  print('Objective value:', round(pulp.value(model.objective), 2))\n",
        "\n",
        "  return(round(pulp.value(model.objective), 2))\n",
        "\n"
      ],
      "metadata": {
        "id": "WK2XLbvERN6K"
      },
      "execution_count": 34,
      "outputs": []
    },
    {
      "cell_type": "markdown",
      "source": [
        "#### Experiment 1: Weight in the cost function"
      ],
      "metadata": {
        "id": "EcxWxWqzUHQS"
      }
    },
    {
      "cell_type": "code",
      "source": [
        "x_values = []\n",
        "y_values = []\n",
        "\n",
        "for p in [1, 2, 4, 5, 10]:\n",
        "  nodes = df.name.tolist()\n",
        "  c = {node1: {node2: p * round(haversine.haversine(\n",
        "              (df.loc[df['name'] == node1, 'latitude'].iloc[0], df.loc[df['name'] == node1, 'longitude'].iloc[0]),\n",
        "              (df.loc[df['name'] == node2, 'latitude'].iloc[0], df.loc[df['name'] == node2, 'longitude'].iloc[0])), 2)\n",
        "              for node2 in nodes} \n",
        "      for node1 in nodes}\n",
        "\n",
        "  model = tsp_mtz(nodes=nodes, c=c)\n",
        "  obj_value = solve_tsp(model=model)\n",
        "\n",
        "  x_values.append(p)\n",
        "  y_values.append(obj_value)\n",
        "\n",
        "fig = px.line(x=x_values, y=y_values, markers=True)\n",
        "fig.show()"
      ],
      "metadata": {
        "colab": {
          "base_uri": "https://localhost:8080/",
          "height": 716
        },
        "id": "oaDRk1mhRtbb",
        "outputId": "ee937390-54b3-4975-caae-ea403f66bbcd"
      },
      "execution_count": 42,
      "outputs": [
        {
          "output_type": "stream",
          "name": "stdout",
          "text": [
            "Status: Optimal\n",
            "Objective value: 27.69\n",
            "Status: Optimal\n",
            "Objective value: 55.38\n",
            "Status: Optimal\n",
            "Objective value: 110.76\n",
            "Status: Optimal\n",
            "Objective value: 138.45\n",
            "Status: Optimal\n",
            "Objective value: 276.9\n"
          ]
        },
        {
          "output_type": "display_data",
          "data": {
            "text/html": [
              "<html>\n",
              "<head><meta charset=\"utf-8\" /></head>\n",
              "<body>\n",
              "    <div>            <script src=\"https://cdnjs.cloudflare.com/ajax/libs/mathjax/2.7.5/MathJax.js?config=TeX-AMS-MML_SVG\"></script><script type=\"text/javascript\">if (window.MathJax && window.MathJax.Hub && window.MathJax.Hub.Config) {window.MathJax.Hub.Config({SVG: {font: \"STIX-Web\"}});}</script>                <script type=\"text/javascript\">window.PlotlyConfig = {MathJaxConfig: 'local'};</script>\n",
              "        <script src=\"https://cdn.plot.ly/plotly-2.18.2.min.js\"></script>                <div id=\"4a215ed6-82de-4330-8465-46086f69961b\" class=\"plotly-graph-div\" style=\"height:525px; width:100%;\"></div>            <script type=\"text/javascript\">                                    window.PLOTLYENV=window.PLOTLYENV || {};                                    if (document.getElementById(\"4a215ed6-82de-4330-8465-46086f69961b\")) {                    Plotly.newPlot(                        \"4a215ed6-82de-4330-8465-46086f69961b\",                        [{\"hovertemplate\":\"x=%{x}<br>y=%{y}<extra></extra>\",\"legendgroup\":\"\",\"line\":{\"color\":\"#636efa\",\"dash\":\"solid\"},\"marker\":{\"symbol\":\"circle\"},\"mode\":\"markers+lines\",\"name\":\"\",\"orientation\":\"v\",\"showlegend\":false,\"x\":[1,2,4,5,10],\"xaxis\":\"x\",\"y\":[27.69,55.38,110.76,138.45,276.9],\"yaxis\":\"y\",\"type\":\"scatter\"}],                        {\"template\":{\"data\":{\"histogram2dcontour\":[{\"type\":\"histogram2dcontour\",\"colorbar\":{\"outlinewidth\":0,\"ticks\":\"\"},\"colorscale\":[[0.0,\"#0d0887\"],[0.1111111111111111,\"#46039f\"],[0.2222222222222222,\"#7201a8\"],[0.3333333333333333,\"#9c179e\"],[0.4444444444444444,\"#bd3786\"],[0.5555555555555556,\"#d8576b\"],[0.6666666666666666,\"#ed7953\"],[0.7777777777777778,\"#fb9f3a\"],[0.8888888888888888,\"#fdca26\"],[1.0,\"#f0f921\"]]}],\"choropleth\":[{\"type\":\"choropleth\",\"colorbar\":{\"outlinewidth\":0,\"ticks\":\"\"}}],\"histogram2d\":[{\"type\":\"histogram2d\",\"colorbar\":{\"outlinewidth\":0,\"ticks\":\"\"},\"colorscale\":[[0.0,\"#0d0887\"],[0.1111111111111111,\"#46039f\"],[0.2222222222222222,\"#7201a8\"],[0.3333333333333333,\"#9c179e\"],[0.4444444444444444,\"#bd3786\"],[0.5555555555555556,\"#d8576b\"],[0.6666666666666666,\"#ed7953\"],[0.7777777777777778,\"#fb9f3a\"],[0.8888888888888888,\"#fdca26\"],[1.0,\"#f0f921\"]]}],\"heatmap\":[{\"type\":\"heatmap\",\"colorbar\":{\"outlinewidth\":0,\"ticks\":\"\"},\"colorscale\":[[0.0,\"#0d0887\"],[0.1111111111111111,\"#46039f\"],[0.2222222222222222,\"#7201a8\"],[0.3333333333333333,\"#9c179e\"],[0.4444444444444444,\"#bd3786\"],[0.5555555555555556,\"#d8576b\"],[0.6666666666666666,\"#ed7953\"],[0.7777777777777778,\"#fb9f3a\"],[0.8888888888888888,\"#fdca26\"],[1.0,\"#f0f921\"]]}],\"heatmapgl\":[{\"type\":\"heatmapgl\",\"colorbar\":{\"outlinewidth\":0,\"ticks\":\"\"},\"colorscale\":[[0.0,\"#0d0887\"],[0.1111111111111111,\"#46039f\"],[0.2222222222222222,\"#7201a8\"],[0.3333333333333333,\"#9c179e\"],[0.4444444444444444,\"#bd3786\"],[0.5555555555555556,\"#d8576b\"],[0.6666666666666666,\"#ed7953\"],[0.7777777777777778,\"#fb9f3a\"],[0.8888888888888888,\"#fdca26\"],[1.0,\"#f0f921\"]]}],\"contourcarpet\":[{\"type\":\"contourcarpet\",\"colorbar\":{\"outlinewidth\":0,\"ticks\":\"\"}}],\"contour\":[{\"type\":\"contour\",\"colorbar\":{\"outlinewidth\":0,\"ticks\":\"\"},\"colorscale\":[[0.0,\"#0d0887\"],[0.1111111111111111,\"#46039f\"],[0.2222222222222222,\"#7201a8\"],[0.3333333333333333,\"#9c179e\"],[0.4444444444444444,\"#bd3786\"],[0.5555555555555556,\"#d8576b\"],[0.6666666666666666,\"#ed7953\"],[0.7777777777777778,\"#fb9f3a\"],[0.8888888888888888,\"#fdca26\"],[1.0,\"#f0f921\"]]}],\"surface\":[{\"type\":\"surface\",\"colorbar\":{\"outlinewidth\":0,\"ticks\":\"\"},\"colorscale\":[[0.0,\"#0d0887\"],[0.1111111111111111,\"#46039f\"],[0.2222222222222222,\"#7201a8\"],[0.3333333333333333,\"#9c179e\"],[0.4444444444444444,\"#bd3786\"],[0.5555555555555556,\"#d8576b\"],[0.6666666666666666,\"#ed7953\"],[0.7777777777777778,\"#fb9f3a\"],[0.8888888888888888,\"#fdca26\"],[1.0,\"#f0f921\"]]}],\"mesh3d\":[{\"type\":\"mesh3d\",\"colorbar\":{\"outlinewidth\":0,\"ticks\":\"\"}}],\"scatter\":[{\"fillpattern\":{\"fillmode\":\"overlay\",\"size\":10,\"solidity\":0.2},\"type\":\"scatter\"}],\"parcoords\":[{\"type\":\"parcoords\",\"line\":{\"colorbar\":{\"outlinewidth\":0,\"ticks\":\"\"}}}],\"scatterpolargl\":[{\"type\":\"scatterpolargl\",\"marker\":{\"colorbar\":{\"outlinewidth\":0,\"ticks\":\"\"}}}],\"bar\":[{\"error_x\":{\"color\":\"#2a3f5f\"},\"error_y\":{\"color\":\"#2a3f5f\"},\"marker\":{\"line\":{\"color\":\"#E5ECF6\",\"width\":0.5},\"pattern\":{\"fillmode\":\"overlay\",\"size\":10,\"solidity\":0.2}},\"type\":\"bar\"}],\"scattergeo\":[{\"type\":\"scattergeo\",\"marker\":{\"colorbar\":{\"outlinewidth\":0,\"ticks\":\"\"}}}],\"scatterpolar\":[{\"type\":\"scatterpolar\",\"marker\":{\"colorbar\":{\"outlinewidth\":0,\"ticks\":\"\"}}}],\"histogram\":[{\"marker\":{\"pattern\":{\"fillmode\":\"overlay\",\"size\":10,\"solidity\":0.2}},\"type\":\"histogram\"}],\"scattergl\":[{\"type\":\"scattergl\",\"marker\":{\"colorbar\":{\"outlinewidth\":0,\"ticks\":\"\"}}}],\"scatter3d\":[{\"type\":\"scatter3d\",\"line\":{\"colorbar\":{\"outlinewidth\":0,\"ticks\":\"\"}},\"marker\":{\"colorbar\":{\"outlinewidth\":0,\"ticks\":\"\"}}}],\"scattermapbox\":[{\"type\":\"scattermapbox\",\"marker\":{\"colorbar\":{\"outlinewidth\":0,\"ticks\":\"\"}}}],\"scatterternary\":[{\"type\":\"scatterternary\",\"marker\":{\"colorbar\":{\"outlinewidth\":0,\"ticks\":\"\"}}}],\"scattercarpet\":[{\"type\":\"scattercarpet\",\"marker\":{\"colorbar\":{\"outlinewidth\":0,\"ticks\":\"\"}}}],\"carpet\":[{\"aaxis\":{\"endlinecolor\":\"#2a3f5f\",\"gridcolor\":\"white\",\"linecolor\":\"white\",\"minorgridcolor\":\"white\",\"startlinecolor\":\"#2a3f5f\"},\"baxis\":{\"endlinecolor\":\"#2a3f5f\",\"gridcolor\":\"white\",\"linecolor\":\"white\",\"minorgridcolor\":\"white\",\"startlinecolor\":\"#2a3f5f\"},\"type\":\"carpet\"}],\"table\":[{\"cells\":{\"fill\":{\"color\":\"#EBF0F8\"},\"line\":{\"color\":\"white\"}},\"header\":{\"fill\":{\"color\":\"#C8D4E3\"},\"line\":{\"color\":\"white\"}},\"type\":\"table\"}],\"barpolar\":[{\"marker\":{\"line\":{\"color\":\"#E5ECF6\",\"width\":0.5},\"pattern\":{\"fillmode\":\"overlay\",\"size\":10,\"solidity\":0.2}},\"type\":\"barpolar\"}],\"pie\":[{\"automargin\":true,\"type\":\"pie\"}]},\"layout\":{\"autotypenumbers\":\"strict\",\"colorway\":[\"#636efa\",\"#EF553B\",\"#00cc96\",\"#ab63fa\",\"#FFA15A\",\"#19d3f3\",\"#FF6692\",\"#B6E880\",\"#FF97FF\",\"#FECB52\"],\"font\":{\"color\":\"#2a3f5f\"},\"hovermode\":\"closest\",\"hoverlabel\":{\"align\":\"left\"},\"paper_bgcolor\":\"white\",\"plot_bgcolor\":\"#E5ECF6\",\"polar\":{\"bgcolor\":\"#E5ECF6\",\"angularaxis\":{\"gridcolor\":\"white\",\"linecolor\":\"white\",\"ticks\":\"\"},\"radialaxis\":{\"gridcolor\":\"white\",\"linecolor\":\"white\",\"ticks\":\"\"}},\"ternary\":{\"bgcolor\":\"#E5ECF6\",\"aaxis\":{\"gridcolor\":\"white\",\"linecolor\":\"white\",\"ticks\":\"\"},\"baxis\":{\"gridcolor\":\"white\",\"linecolor\":\"white\",\"ticks\":\"\"},\"caxis\":{\"gridcolor\":\"white\",\"linecolor\":\"white\",\"ticks\":\"\"}},\"coloraxis\":{\"colorbar\":{\"outlinewidth\":0,\"ticks\":\"\"}},\"colorscale\":{\"sequential\":[[0.0,\"#0d0887\"],[0.1111111111111111,\"#46039f\"],[0.2222222222222222,\"#7201a8\"],[0.3333333333333333,\"#9c179e\"],[0.4444444444444444,\"#bd3786\"],[0.5555555555555556,\"#d8576b\"],[0.6666666666666666,\"#ed7953\"],[0.7777777777777778,\"#fb9f3a\"],[0.8888888888888888,\"#fdca26\"],[1.0,\"#f0f921\"]],\"sequentialminus\":[[0.0,\"#0d0887\"],[0.1111111111111111,\"#46039f\"],[0.2222222222222222,\"#7201a8\"],[0.3333333333333333,\"#9c179e\"],[0.4444444444444444,\"#bd3786\"],[0.5555555555555556,\"#d8576b\"],[0.6666666666666666,\"#ed7953\"],[0.7777777777777778,\"#fb9f3a\"],[0.8888888888888888,\"#fdca26\"],[1.0,\"#f0f921\"]],\"diverging\":[[0,\"#8e0152\"],[0.1,\"#c51b7d\"],[0.2,\"#de77ae\"],[0.3,\"#f1b6da\"],[0.4,\"#fde0ef\"],[0.5,\"#f7f7f7\"],[0.6,\"#e6f5d0\"],[0.7,\"#b8e186\"],[0.8,\"#7fbc41\"],[0.9,\"#4d9221\"],[1,\"#276419\"]]},\"xaxis\":{\"gridcolor\":\"white\",\"linecolor\":\"white\",\"ticks\":\"\",\"title\":{\"standoff\":15},\"zerolinecolor\":\"white\",\"automargin\":true,\"zerolinewidth\":2},\"yaxis\":{\"gridcolor\":\"white\",\"linecolor\":\"white\",\"ticks\":\"\",\"title\":{\"standoff\":15},\"zerolinecolor\":\"white\",\"automargin\":true,\"zerolinewidth\":2},\"scene\":{\"xaxis\":{\"backgroundcolor\":\"#E5ECF6\",\"gridcolor\":\"white\",\"linecolor\":\"white\",\"showbackground\":true,\"ticks\":\"\",\"zerolinecolor\":\"white\",\"gridwidth\":2},\"yaxis\":{\"backgroundcolor\":\"#E5ECF6\",\"gridcolor\":\"white\",\"linecolor\":\"white\",\"showbackground\":true,\"ticks\":\"\",\"zerolinecolor\":\"white\",\"gridwidth\":2},\"zaxis\":{\"backgroundcolor\":\"#E5ECF6\",\"gridcolor\":\"white\",\"linecolor\":\"white\",\"showbackground\":true,\"ticks\":\"\",\"zerolinecolor\":\"white\",\"gridwidth\":2}},\"shapedefaults\":{\"line\":{\"color\":\"#2a3f5f\"}},\"annotationdefaults\":{\"arrowcolor\":\"#2a3f5f\",\"arrowhead\":0,\"arrowwidth\":1},\"geo\":{\"bgcolor\":\"white\",\"landcolor\":\"#E5ECF6\",\"subunitcolor\":\"white\",\"showland\":true,\"showlakes\":true,\"lakecolor\":\"white\"},\"title\":{\"x\":0.05},\"mapbox\":{\"style\":\"light\"}}},\"xaxis\":{\"anchor\":\"y\",\"domain\":[0.0,1.0],\"title\":{\"text\":\"x\"}},\"yaxis\":{\"anchor\":\"x\",\"domain\":[0.0,1.0],\"title\":{\"text\":\"y\"}},\"legend\":{\"tracegroupgap\":0},\"margin\":{\"t\":60}},                        {\"responsive\": true}                    ).then(function(){\n",
              "                            \n",
              "var gd = document.getElementById('4a215ed6-82de-4330-8465-46086f69961b');\n",
              "var x = new MutationObserver(function (mutations, observer) {{\n",
              "        var display = window.getComputedStyle(gd).display;\n",
              "        if (!display || display === 'none') {{\n",
              "            console.log([gd, 'removed!']);\n",
              "            Plotly.purge(gd);\n",
              "            observer.disconnect();\n",
              "        }}\n",
              "}});\n",
              "\n",
              "// Listen for the removal of the full notebook cells\n",
              "var notebookContainer = gd.closest('#notebook-container');\n",
              "if (notebookContainer) {{\n",
              "    x.observe(notebookContainer, {childList: true});\n",
              "}}\n",
              "\n",
              "// Listen for the clearing of the current output cell\n",
              "var outputEl = gd.closest('.output');\n",
              "if (outputEl) {{\n",
              "    x.observe(outputEl, {childList: true});\n",
              "}}\n",
              "\n",
              "                        })                };                            </script>        </div>\n",
              "</body>\n",
              "</html>"
            ]
          },
          "metadata": {}
        }
      ]
    },
    {
      "cell_type": "markdown",
      "source": [
        "#### Experiment 2: Distance calculation"
      ],
      "metadata": {
        "id": "JGkA3aVlUO0Z"
      }
    },
    {
      "cell_type": "code",
      "source": [
        "x_values = []\n",
        "y_values = []\n",
        "\n",
        "for p in ['haversine', 'manhattan']:\n",
        "  nodes = df.name.tolist()\n",
        "\n",
        "  if p == 'haversine':\n",
        "    c = {node1: {node2: round(haversine.haversine(\n",
        "                (df.loc[df['name'] == node1, 'latitude'].iloc[0], df.loc[df['name'] == node1, 'longitude'].iloc[0]),\n",
        "                (df.loc[df['name'] == node2, 'latitude'].iloc[0], df.loc[df['name'] == node2, 'longitude'].iloc[0])), 2)\n",
        "                for node2 in nodes} \n",
        "        for node1 in nodes}\n",
        "  elif p == 'manhattan':\n",
        "    c = {node1: {node2: round(\n",
        "        abs(df.loc[df['name'] == node1, 'latitude'].iloc[0] - df.loc[df['name'] == node2, 'latitude'].iloc[0]) + \n",
        "        abs(df.loc[df['name'] == node1, 'longitude'].iloc[0] - df.loc[df['name'] == node2, 'longitude'].iloc[0])        \n",
        "        , 2) for node2 in nodes} \n",
        "         for node1 in nodes}\n",
        "\n",
        "  model = tsp_mtz(nodes=nodes, c=c)\n",
        "  obj_value = solve_tsp(model=model)\n",
        "\n",
        "  x_values.append(p)\n",
        "  y_values.append(obj_value)\n",
        "\n",
        "fig = px.line(x=x_values, y=y_values, markers=True)\n",
        "fig.show()"
      ],
      "metadata": {
        "colab": {
          "base_uri": "https://localhost:8080/",
          "height": 611
        },
        "id": "4UKda_3DUVM6",
        "outputId": "077b2a6b-f7fa-4d46-b09a-817b3e984e1f"
      },
      "execution_count": 47,
      "outputs": [
        {
          "output_type": "stream",
          "name": "stdout",
          "text": [
            "Status: Optimal\n",
            "Objective value: 27.69\n",
            "Status: Optimal\n",
            "Objective value: 0.41\n"
          ]
        },
        {
          "output_type": "display_data",
          "data": {
            "text/html": [
              "<html>\n",
              "<head><meta charset=\"utf-8\" /></head>\n",
              "<body>\n",
              "    <div>            <script src=\"https://cdnjs.cloudflare.com/ajax/libs/mathjax/2.7.5/MathJax.js?config=TeX-AMS-MML_SVG\"></script><script type=\"text/javascript\">if (window.MathJax && window.MathJax.Hub && window.MathJax.Hub.Config) {window.MathJax.Hub.Config({SVG: {font: \"STIX-Web\"}});}</script>                <script type=\"text/javascript\">window.PlotlyConfig = {MathJaxConfig: 'local'};</script>\n",
              "        <script src=\"https://cdn.plot.ly/plotly-2.18.2.min.js\"></script>                <div id=\"c898534c-cf39-4385-9937-6fe47307ac35\" class=\"plotly-graph-div\" style=\"height:525px; width:100%;\"></div>            <script type=\"text/javascript\">                                    window.PLOTLYENV=window.PLOTLYENV || {};                                    if (document.getElementById(\"c898534c-cf39-4385-9937-6fe47307ac35\")) {                    Plotly.newPlot(                        \"c898534c-cf39-4385-9937-6fe47307ac35\",                        [{\"hovertemplate\":\"x=%{x}<br>y=%{y}<extra></extra>\",\"legendgroup\":\"\",\"line\":{\"color\":\"#636efa\",\"dash\":\"solid\"},\"marker\":{\"symbol\":\"circle\"},\"mode\":\"markers+lines\",\"name\":\"\",\"orientation\":\"v\",\"showlegend\":false,\"x\":[\"haversine\",\"manhattan\"],\"xaxis\":\"x\",\"y\":[27.69,0.41],\"yaxis\":\"y\",\"type\":\"scatter\"}],                        {\"template\":{\"data\":{\"histogram2dcontour\":[{\"type\":\"histogram2dcontour\",\"colorbar\":{\"outlinewidth\":0,\"ticks\":\"\"},\"colorscale\":[[0.0,\"#0d0887\"],[0.1111111111111111,\"#46039f\"],[0.2222222222222222,\"#7201a8\"],[0.3333333333333333,\"#9c179e\"],[0.4444444444444444,\"#bd3786\"],[0.5555555555555556,\"#d8576b\"],[0.6666666666666666,\"#ed7953\"],[0.7777777777777778,\"#fb9f3a\"],[0.8888888888888888,\"#fdca26\"],[1.0,\"#f0f921\"]]}],\"choropleth\":[{\"type\":\"choropleth\",\"colorbar\":{\"outlinewidth\":0,\"ticks\":\"\"}}],\"histogram2d\":[{\"type\":\"histogram2d\",\"colorbar\":{\"outlinewidth\":0,\"ticks\":\"\"},\"colorscale\":[[0.0,\"#0d0887\"],[0.1111111111111111,\"#46039f\"],[0.2222222222222222,\"#7201a8\"],[0.3333333333333333,\"#9c179e\"],[0.4444444444444444,\"#bd3786\"],[0.5555555555555556,\"#d8576b\"],[0.6666666666666666,\"#ed7953\"],[0.7777777777777778,\"#fb9f3a\"],[0.8888888888888888,\"#fdca26\"],[1.0,\"#f0f921\"]]}],\"heatmap\":[{\"type\":\"heatmap\",\"colorbar\":{\"outlinewidth\":0,\"ticks\":\"\"},\"colorscale\":[[0.0,\"#0d0887\"],[0.1111111111111111,\"#46039f\"],[0.2222222222222222,\"#7201a8\"],[0.3333333333333333,\"#9c179e\"],[0.4444444444444444,\"#bd3786\"],[0.5555555555555556,\"#d8576b\"],[0.6666666666666666,\"#ed7953\"],[0.7777777777777778,\"#fb9f3a\"],[0.8888888888888888,\"#fdca26\"],[1.0,\"#f0f921\"]]}],\"heatmapgl\":[{\"type\":\"heatmapgl\",\"colorbar\":{\"outlinewidth\":0,\"ticks\":\"\"},\"colorscale\":[[0.0,\"#0d0887\"],[0.1111111111111111,\"#46039f\"],[0.2222222222222222,\"#7201a8\"],[0.3333333333333333,\"#9c179e\"],[0.4444444444444444,\"#bd3786\"],[0.5555555555555556,\"#d8576b\"],[0.6666666666666666,\"#ed7953\"],[0.7777777777777778,\"#fb9f3a\"],[0.8888888888888888,\"#fdca26\"],[1.0,\"#f0f921\"]]}],\"contourcarpet\":[{\"type\":\"contourcarpet\",\"colorbar\":{\"outlinewidth\":0,\"ticks\":\"\"}}],\"contour\":[{\"type\":\"contour\",\"colorbar\":{\"outlinewidth\":0,\"ticks\":\"\"},\"colorscale\":[[0.0,\"#0d0887\"],[0.1111111111111111,\"#46039f\"],[0.2222222222222222,\"#7201a8\"],[0.3333333333333333,\"#9c179e\"],[0.4444444444444444,\"#bd3786\"],[0.5555555555555556,\"#d8576b\"],[0.6666666666666666,\"#ed7953\"],[0.7777777777777778,\"#fb9f3a\"],[0.8888888888888888,\"#fdca26\"],[1.0,\"#f0f921\"]]}],\"surface\":[{\"type\":\"surface\",\"colorbar\":{\"outlinewidth\":0,\"ticks\":\"\"},\"colorscale\":[[0.0,\"#0d0887\"],[0.1111111111111111,\"#46039f\"],[0.2222222222222222,\"#7201a8\"],[0.3333333333333333,\"#9c179e\"],[0.4444444444444444,\"#bd3786\"],[0.5555555555555556,\"#d8576b\"],[0.6666666666666666,\"#ed7953\"],[0.7777777777777778,\"#fb9f3a\"],[0.8888888888888888,\"#fdca26\"],[1.0,\"#f0f921\"]]}],\"mesh3d\":[{\"type\":\"mesh3d\",\"colorbar\":{\"outlinewidth\":0,\"ticks\":\"\"}}],\"scatter\":[{\"fillpattern\":{\"fillmode\":\"overlay\",\"size\":10,\"solidity\":0.2},\"type\":\"scatter\"}],\"parcoords\":[{\"type\":\"parcoords\",\"line\":{\"colorbar\":{\"outlinewidth\":0,\"ticks\":\"\"}}}],\"scatterpolargl\":[{\"type\":\"scatterpolargl\",\"marker\":{\"colorbar\":{\"outlinewidth\":0,\"ticks\":\"\"}}}],\"bar\":[{\"error_x\":{\"color\":\"#2a3f5f\"},\"error_y\":{\"color\":\"#2a3f5f\"},\"marker\":{\"line\":{\"color\":\"#E5ECF6\",\"width\":0.5},\"pattern\":{\"fillmode\":\"overlay\",\"size\":10,\"solidity\":0.2}},\"type\":\"bar\"}],\"scattergeo\":[{\"type\":\"scattergeo\",\"marker\":{\"colorbar\":{\"outlinewidth\":0,\"ticks\":\"\"}}}],\"scatterpolar\":[{\"type\":\"scatterpolar\",\"marker\":{\"colorbar\":{\"outlinewidth\":0,\"ticks\":\"\"}}}],\"histogram\":[{\"marker\":{\"pattern\":{\"fillmode\":\"overlay\",\"size\":10,\"solidity\":0.2}},\"type\":\"histogram\"}],\"scattergl\":[{\"type\":\"scattergl\",\"marker\":{\"colorbar\":{\"outlinewidth\":0,\"ticks\":\"\"}}}],\"scatter3d\":[{\"type\":\"scatter3d\",\"line\":{\"colorbar\":{\"outlinewidth\":0,\"ticks\":\"\"}},\"marker\":{\"colorbar\":{\"outlinewidth\":0,\"ticks\":\"\"}}}],\"scattermapbox\":[{\"type\":\"scattermapbox\",\"marker\":{\"colorbar\":{\"outlinewidth\":0,\"ticks\":\"\"}}}],\"scatterternary\":[{\"type\":\"scatterternary\",\"marker\":{\"colorbar\":{\"outlinewidth\":0,\"ticks\":\"\"}}}],\"scattercarpet\":[{\"type\":\"scattercarpet\",\"marker\":{\"colorbar\":{\"outlinewidth\":0,\"ticks\":\"\"}}}],\"carpet\":[{\"aaxis\":{\"endlinecolor\":\"#2a3f5f\",\"gridcolor\":\"white\",\"linecolor\":\"white\",\"minorgridcolor\":\"white\",\"startlinecolor\":\"#2a3f5f\"},\"baxis\":{\"endlinecolor\":\"#2a3f5f\",\"gridcolor\":\"white\",\"linecolor\":\"white\",\"minorgridcolor\":\"white\",\"startlinecolor\":\"#2a3f5f\"},\"type\":\"carpet\"}],\"table\":[{\"cells\":{\"fill\":{\"color\":\"#EBF0F8\"},\"line\":{\"color\":\"white\"}},\"header\":{\"fill\":{\"color\":\"#C8D4E3\"},\"line\":{\"color\":\"white\"}},\"type\":\"table\"}],\"barpolar\":[{\"marker\":{\"line\":{\"color\":\"#E5ECF6\",\"width\":0.5},\"pattern\":{\"fillmode\":\"overlay\",\"size\":10,\"solidity\":0.2}},\"type\":\"barpolar\"}],\"pie\":[{\"automargin\":true,\"type\":\"pie\"}]},\"layout\":{\"autotypenumbers\":\"strict\",\"colorway\":[\"#636efa\",\"#EF553B\",\"#00cc96\",\"#ab63fa\",\"#FFA15A\",\"#19d3f3\",\"#FF6692\",\"#B6E880\",\"#FF97FF\",\"#FECB52\"],\"font\":{\"color\":\"#2a3f5f\"},\"hovermode\":\"closest\",\"hoverlabel\":{\"align\":\"left\"},\"paper_bgcolor\":\"white\",\"plot_bgcolor\":\"#E5ECF6\",\"polar\":{\"bgcolor\":\"#E5ECF6\",\"angularaxis\":{\"gridcolor\":\"white\",\"linecolor\":\"white\",\"ticks\":\"\"},\"radialaxis\":{\"gridcolor\":\"white\",\"linecolor\":\"white\",\"ticks\":\"\"}},\"ternary\":{\"bgcolor\":\"#E5ECF6\",\"aaxis\":{\"gridcolor\":\"white\",\"linecolor\":\"white\",\"ticks\":\"\"},\"baxis\":{\"gridcolor\":\"white\",\"linecolor\":\"white\",\"ticks\":\"\"},\"caxis\":{\"gridcolor\":\"white\",\"linecolor\":\"white\",\"ticks\":\"\"}},\"coloraxis\":{\"colorbar\":{\"outlinewidth\":0,\"ticks\":\"\"}},\"colorscale\":{\"sequential\":[[0.0,\"#0d0887\"],[0.1111111111111111,\"#46039f\"],[0.2222222222222222,\"#7201a8\"],[0.3333333333333333,\"#9c179e\"],[0.4444444444444444,\"#bd3786\"],[0.5555555555555556,\"#d8576b\"],[0.6666666666666666,\"#ed7953\"],[0.7777777777777778,\"#fb9f3a\"],[0.8888888888888888,\"#fdca26\"],[1.0,\"#f0f921\"]],\"sequentialminus\":[[0.0,\"#0d0887\"],[0.1111111111111111,\"#46039f\"],[0.2222222222222222,\"#7201a8\"],[0.3333333333333333,\"#9c179e\"],[0.4444444444444444,\"#bd3786\"],[0.5555555555555556,\"#d8576b\"],[0.6666666666666666,\"#ed7953\"],[0.7777777777777778,\"#fb9f3a\"],[0.8888888888888888,\"#fdca26\"],[1.0,\"#f0f921\"]],\"diverging\":[[0,\"#8e0152\"],[0.1,\"#c51b7d\"],[0.2,\"#de77ae\"],[0.3,\"#f1b6da\"],[0.4,\"#fde0ef\"],[0.5,\"#f7f7f7\"],[0.6,\"#e6f5d0\"],[0.7,\"#b8e186\"],[0.8,\"#7fbc41\"],[0.9,\"#4d9221\"],[1,\"#276419\"]]},\"xaxis\":{\"gridcolor\":\"white\",\"linecolor\":\"white\",\"ticks\":\"\",\"title\":{\"standoff\":15},\"zerolinecolor\":\"white\",\"automargin\":true,\"zerolinewidth\":2},\"yaxis\":{\"gridcolor\":\"white\",\"linecolor\":\"white\",\"ticks\":\"\",\"title\":{\"standoff\":15},\"zerolinecolor\":\"white\",\"automargin\":true,\"zerolinewidth\":2},\"scene\":{\"xaxis\":{\"backgroundcolor\":\"#E5ECF6\",\"gridcolor\":\"white\",\"linecolor\":\"white\",\"showbackground\":true,\"ticks\":\"\",\"zerolinecolor\":\"white\",\"gridwidth\":2},\"yaxis\":{\"backgroundcolor\":\"#E5ECF6\",\"gridcolor\":\"white\",\"linecolor\":\"white\",\"showbackground\":true,\"ticks\":\"\",\"zerolinecolor\":\"white\",\"gridwidth\":2},\"zaxis\":{\"backgroundcolor\":\"#E5ECF6\",\"gridcolor\":\"white\",\"linecolor\":\"white\",\"showbackground\":true,\"ticks\":\"\",\"zerolinecolor\":\"white\",\"gridwidth\":2}},\"shapedefaults\":{\"line\":{\"color\":\"#2a3f5f\"}},\"annotationdefaults\":{\"arrowcolor\":\"#2a3f5f\",\"arrowhead\":0,\"arrowwidth\":1},\"geo\":{\"bgcolor\":\"white\",\"landcolor\":\"#E5ECF6\",\"subunitcolor\":\"white\",\"showland\":true,\"showlakes\":true,\"lakecolor\":\"white\"},\"title\":{\"x\":0.05},\"mapbox\":{\"style\":\"light\"}}},\"xaxis\":{\"anchor\":\"y\",\"domain\":[0.0,1.0],\"title\":{\"text\":\"x\"}},\"yaxis\":{\"anchor\":\"x\",\"domain\":[0.0,1.0],\"title\":{\"text\":\"y\"}},\"legend\":{\"tracegroupgap\":0},\"margin\":{\"t\":60}},                        {\"responsive\": true}                    ).then(function(){\n",
              "                            \n",
              "var gd = document.getElementById('c898534c-cf39-4385-9937-6fe47307ac35');\n",
              "var x = new MutationObserver(function (mutations, observer) {{\n",
              "        var display = window.getComputedStyle(gd).display;\n",
              "        if (!display || display === 'none') {{\n",
              "            console.log([gd, 'removed!']);\n",
              "            Plotly.purge(gd);\n",
              "            observer.disconnect();\n",
              "        }}\n",
              "}});\n",
              "\n",
              "// Listen for the removal of the full notebook cells\n",
              "var notebookContainer = gd.closest('#notebook-container');\n",
              "if (notebookContainer) {{\n",
              "    x.observe(notebookContainer, {childList: true});\n",
              "}}\n",
              "\n",
              "// Listen for the clearing of the current output cell\n",
              "var outputEl = gd.closest('.output');\n",
              "if (outputEl) {{\n",
              "    x.observe(outputEl, {childList: true});\n",
              "}}\n",
              "\n",
              "                        })                };                            </script>        </div>\n",
              "</body>\n",
              "</html>"
            ]
          },
          "metadata": {}
        }
      ]
    }
  ]
}