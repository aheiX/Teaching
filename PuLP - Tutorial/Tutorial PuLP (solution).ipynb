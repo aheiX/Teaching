{
  "nbformat": 4,
  "nbformat_minor": 0,
  "metadata": {
    "colab": {
      "provenance": [],
      "authorship_tag": "ABX9TyOUicAjCL2sdHNT3/fp6iHU",
      "include_colab_link": true
    },
    "kernelspec": {
      "name": "python3",
      "display_name": "Python 3"
    },
    "language_info": {
      "name": "python"
    }
  },
  "cells": [
    {
      "cell_type": "markdown",
      "metadata": {
        "id": "view-in-github",
        "colab_type": "text"
      },
      "source": [
        "<a href=\"https://colab.research.google.com/github/aheiX/Teaching/blob/main/PuLP%20-%20Tutorial/Tutorial%20PuLP%20(solution).ipynb\" target=\"_parent\"><img src=\"https://colab.research.google.com/assets/colab-badge.svg\" alt=\"Open In Colab\"/></a>"
      ]
    },
    {
      "cell_type": "markdown",
      "source": [
        "# Tutorial PuLP"
      ],
      "metadata": {
        "id": "mUb5Rt1F1Rtr"
      }
    },
    {
      "cell_type": "markdown",
      "source": [
        "This tutorial uses models and solves the well-known Traveling-Salesperson-Problem (TSP) using Python's module PuLP. A thorough tutorial on the implementaion of the TSP in CPLEX can be found here: [TSP Tutorial on CPLEX](https://www.scm.bwl.uni-kiel.de/de/lehre/tutorial-on-cplex.pdf). There, the TSP and it's formulation is explained in more detail. \n",
        "\n"
      ],
      "metadata": {
        "id": "XDl9Y-Zq1NtE"
      }
    },
    {
      "cell_type": "markdown",
      "source": [
        "## Problem description"
      ],
      "metadata": {
        "id": "uhgtLzBU1-ps"
      }
    },
    {
      "cell_type": "markdown",
      "source": [
        "The TSP is one of the most famous combinatorial problems in the fields of mathematics, computer science, and operations research. The classical definition of the TSP is as follows: What is the shortest possible route for a traveling salesperson seeking to visit each city on a list exactly once and return to his city of origin? (Cook, William (2012): *In Pursuit of the Travelin Salesman*).\n",
        "\n",
        "While the problem is easy to understand and easy to formulate as a mathematical model, solving it to optimality through complete enumeration of all feasible solutions quickly becomes intractable as the number of potential solutions grows exponentially in the number of cities to visit.\n",
        "\n",
        "To date, there exists no algorithm that solves the TSP to optimality in polynomial time and it is widely believed that there is no such algorithm. However, heuristics are usually capable of finding very good solutions in a short computation time. "
      ],
      "metadata": {
        "id": "bMLKGyAa7MdW"
      }
    },
    {
      "cell_type": "markdown",
      "source": [
        "## Mathematical formulation\n"
      ],
      "metadata": {
        "id": "E1dESavD4xa1"
      }
    },
    {
      "cell_type": "markdown",
      "source": [
        "Graph-based formulations are used based on the paper from Langevin, André, Francois Soumis, and Jacques Desrosiers (\"Classification of travelling salesman problem formulations\". In: Operations Research Letters. 1990). For the subtour breaking constraints, we present the two formulations: the formulation from Miller, Tucker and Zemlin (1960) and the formulation from Gavish and Graves (1976). Both formulations yield to the same solution.\n",
        "\n",
        "**General notation:**\n",
        "Let $N$ denote the number of nodes in the network, i.e., the number of cities. The distance for the salesperson to travel between any two nodes $i$ and $j$ is denoted with $c_{ij}$. Decision variable $x_{ij}$ is used to describe if the salesperson traverses from node $i$ to node $j$ ($x_{ij}=1$), or not ($x_{ij}=0$)."
      ],
      "metadata": {
        "id": "5hXKYCKY1Utd"
      }
    },
    {
      "cell_type": "markdown",
      "source": [
        "### Miller, Tucker and Zemlin (1960)"
      ],
      "metadata": {
        "id": "MYSNu4-8050W"
      }
    },
    {
      "cell_type": "markdown",
      "source": [
        "In the following, a formulation from Miller, Tucker, and Zemlin (1960), henceforth referred to as MTZ, is used. In addition to the general notation, the MTZ formulation requires one additional decision variable $u_i$ that describes the position of a node in the salesperson’s tour. Using this notation, the mathematical model for the TSP is as follows: \n",
        "<br><br>\n",
        "$\n",
        "\\begin{align}\n",
        "  \\begin{array}{lll}\n",
        "    &\\textbf{Objective} & \\\\\n",
        "    & \\min \\sum_{i=1,\\dots,N} \\sum_{j=1,\\dots,N} c_{ij} \\cdot x_{ij} &~~~ (1) \\\\\n",
        "    &&\\\\\n",
        "    &\\textbf{Constraints} & \\\\\n",
        "    & \\sum\\limits_{i=1}^{N} x_{ij} = 1,~ \\forall~ j = 1,\\dots,N  &~~~ (2) \\\\\n",
        "    & \\sum\\limits_{j=1}^{N} x_{ij} = 1,~ \\forall~ i = 1,\\dots,N  &~~~ (3) \\\\\n",
        "    & x_{ii} = 0,~ \\forall~ i = 1,\\dots,N  &~~~ (4) \\\\\n",
        "    & u_{i} - u_{j} + N \\cdot x_{ij} \\le N -1,~ \\forall~ i,j = 1,\\dots,N: j \\ne 1 ~\\text{and}~ i \\ne j  &~~~ (5) \\\\\n",
        "    & u_{i} \\in \\mathbb{Z}^{\\text{nonneg}},~ \\forall~ i = 1,\\dots,N  &~~~ (6) \\\\\n",
        "    & x_{ij} \\in \\{0,1\\},~ \\forall~ i,j = 1,\\dots,N  &~~~ (7) \\\\\n",
        "  \\end{array}\n",
        "\\end{align}\n",
        "$\n",
        "<br><br>\n",
        "Equation (1) states the objective (distance minimization) by summing up the distances of the selected arcs. Equations (2) to (4) ensure that the salesperson enters and exists each node exactly once (i.e., that each node is visited exactly once), respectively. Equations (5) restricts solutions with subtour using the MTZ formulation. In particular, this is done by stating that each customer is assigned to exactly one position, that each position is assigned to exactly one customer, and that the positions correspond to the actual tour of the salesperson (represented by $x_{ij}$). Finally, Equations (6) and (7) state the domains of the decision variables."
      ],
      "metadata": {
        "id": "WHmjA9XE7Q_M"
      }
    },
    {
      "cell_type": "markdown",
      "source": [
        "### Gavish and Graves (1976)"
      ],
      "metadata": {
        "id": "TnBoSozm07U9"
      }
    },
    {
      "cell_type": "markdown",
      "source": [
        "In the following, a formulation from Gavish and Graves (1976), henceforth referred to as GG, is used. It has a similar level of difficulty compared to the MTZ formulation. In particular, GG propose to use a two-dimensional integer decision variable $z_{ij}$ to track a travelled arc’s position in the salesperson’s tour. A very similar logic to the MTZ formulation, in which decision variable $u_i$ is used to track a city’s position in the salesperson’s tour. Using this notation, the mathematical model for the TSP is as follows: \n",
        "<br><br>\n",
        "$\n",
        "\\begin{align}\n",
        "  \\begin{array}{lll}\n",
        "    &\\textbf{Objective} & \\\\\n",
        "    & \\min \\sum_{i=1,\\dots,N} \\sum_{j=1,\\dots,N} c_{ij} \\cdot x_{ij} &~~~ (1) \\\\\n",
        "    &&\\\\\n",
        "    &\\textbf{Constraints} & \\\\\n",
        "    & \\sum\\limits_{i=1}^{N} x_{ij} = 1,~ \\forall~ j = 1,\\dots,N  &~~~ (2) \\\\\n",
        "    & \\sum\\limits_{j=1}^{N} x_{ij} = 1,~ \\forall~ i = 1,\\dots,N  &~~~ (3) \\\\\n",
        "    & x_{ii} = 0,~ \\forall~ i = 1,\\dots,N  &~~~ (4) \\\\\n",
        "    &  \\sum\\limits_{j=1}^{N} z_{ij} - \\sum\\limits_{j=2}^{N} z_{ji} = 1,~ \\forall~ i = 2,\\dots,N &~~~ (5) \\\\\n",
        "    & z_{ij} \\le x_{ij} \\cdot (N - 1),~ \\forall~ i = 2,\\dots,N, j = 1,\\dots,N &~~~ (6) \\\\\n",
        "    & z_{i} \\in \\mathbb{Z}^{\\text{nonneg}},~ \\forall~ i = 1,\\dots,N  &~~~ (7) \\\\\n",
        "    & x_{ij} \\in \\{0,1\\},~ \\forall~ i,j = 1,\\dots,N  &~~~ (8) \\\\\n",
        "  \\end{array}\n",
        "\\end{align}\n",
        "$\n",
        "<br><br>\n",
        "Equation (1) states the objective (distance minimization) by summing up the distances of the selected arcs. Equations (2) to (4) ensure that the salesperson enters and exists each node exactly once (i.e., that each node is visited exactly once), respectively. Equations (5) and (6) restrict solutions with subtour using the GG formulation. In particular, Equation (5) states that the value of the $z_{ij}$-variable is set so that the arc leaving a city is exactly one index position higher than the arc entering a city. The sum is used here as Equations (2) and (3) ensure that exactly one arc is entering and leaving each city, respectively. With this, the formulation forces the model to consider a single full cycle involving all the cities. Equation (6) ensures that the $z_{ij}$-variable can only take value 1 if the corresponding arc is also used in the tour (e.g., if $x_{ij}=1$). Finally, Equations (7) and (8) state the domains of the decision variables."
      ],
      "metadata": {
        "id": "SPr8JbTj1Aed"
      }
    },
    {
      "cell_type": "markdown",
      "source": [
        "## Case study"
      ],
      "metadata": {
        "id": "IzOWtwskHB9y"
      }
    },
    {
      "cell_type": "markdown",
      "source": [
        "We use an artificial small-sized data set that is used throughout this tutorial. The example consist of nine locations in which the first location ('Bahnhof')  is the salesperson's city of origin (also referred to as depot). The following table shows the latitude and longitude information of the locations:\n",
        "<br><br>\n",
        "\\begin{array}{lll}\n",
        "         name  & latitude & longitude \\\\\n",
        "         \\hline\n",
        "      \\text{Bahnhof} & 54.315487 & 10.132285 \\\\\n",
        "\\text{Friedrichsort} & 54.393713 & 10.184142 \\\\\n",
        "     \\text{Holtenau} & 54.374804 & 10.148470 \\\\\n",
        "   \\text{University} & 54.348125 & 10.117918 \\\\\n",
        "        \\text{Mitte} & 54.324606 & 10.136630 \\\\\n",
        "       \\text{Garden} & 54.313102 & 10.150910 \\\\\n",
        "  \\text{Wellingdorf} & 54.328293 & 10.179582 \\\\\n",
        "   \\text{Heikendorf} & 54.379798 & 10.212037 \\\\\n",
        "        \\text{Laboe} & 54.409884 & 10.232679 \\\\\n",
        "\\end{array}"
      ],
      "metadata": {
        "id": "1Wz2VLWKHGaA"
      }
    },
    {
      "cell_type": "code",
      "source": [
        "# input data as python matrix\n",
        "input_data = [\n",
        "     ['Bahnhof', 54.31548738087378, 10.132285213361302],\n",
        "     ['Friedrichsort', 54.39371269762963, 10.184142058855787], \n",
        "     ['Holtenau', 54.37480425366618, 10.148469747635753], \n",
        "     ['University', 54.348125164196105, 10.117918463246932],\n",
        "     ['Mitte', 54.32460566307153, 10.136629552088058],\n",
        "     ['Garden', 54.313101710271425, 10.15091017118389],\n",
        "     ['Wellingdorf', 54.32829259013629, 10.179582183151096],\n",
        "     ['Heikendorf', 54.37979792093858, 10.212036804008633],\n",
        "     ['Laboe', 54.409884128644144, 10.232678775594744]\n",
        "]"
      ],
      "metadata": {
        "id": "6sg-bNrX-PKX"
      },
      "execution_count": null,
      "outputs": []
    },
    {
      "cell_type": "markdown",
      "source": [
        "## Python implementation"
      ],
      "metadata": {
        "id": "hD3gsdas7igF"
      }
    },
    {
      "cell_type": "markdown",
      "source": [
        "### Load input data"
      ],
      "metadata": {
        "id": "4LMKuNIn93H2"
      }
    },
    {
      "cell_type": "code",
      "source": [
        "# load the required modules\n",
        "!pip install pandas\n",
        "!pip install plotly.express\n",
        "\n",
        "import pandas as pd\n",
        "import plotly.express as px"
      ],
      "metadata": {
        "id": "U6S7UEXx94B1",
        "outputId": "4ec063f3-c90b-4e67-bf6d-d2c316b31da3",
        "colab": {
          "base_uri": "https://localhost:8080/"
        }
      },
      "execution_count": null,
      "outputs": [
        {
          "output_type": "stream",
          "name": "stdout",
          "text": [
            "Looking in indexes: https://pypi.org/simple, https://us-python.pkg.dev/colab-wheels/public/simple/\n",
            "Requirement already satisfied: pandas in /usr/local/lib/python3.9/dist-packages (1.5.3)\n",
            "Requirement already satisfied: numpy>=1.20.3 in /usr/local/lib/python3.9/dist-packages (from pandas) (1.22.4)\n",
            "Requirement already satisfied: python-dateutil>=2.8.1 in /usr/local/lib/python3.9/dist-packages (from pandas) (2.8.2)\n",
            "Requirement already satisfied: pytz>=2020.1 in /usr/local/lib/python3.9/dist-packages (from pandas) (2022.7.1)\n",
            "Requirement already satisfied: six>=1.5 in /usr/local/lib/python3.9/dist-packages (from python-dateutil>=2.8.1->pandas) (1.16.0)\n",
            "Looking in indexes: https://pypi.org/simple, https://us-python.pkg.dev/colab-wheels/public/simple/\n",
            "Collecting plotly.express\n",
            "  Downloading plotly_express-0.4.1-py2.py3-none-any.whl (2.9 kB)\n",
            "Requirement already satisfied: scipy>=0.18 in /usr/local/lib/python3.9/dist-packages (from plotly.express) (1.10.1)\n",
            "Requirement already satisfied: statsmodels>=0.9.0 in /usr/local/lib/python3.9/dist-packages (from plotly.express) (0.13.5)\n",
            "Requirement already satisfied: numpy>=1.11 in /usr/local/lib/python3.9/dist-packages (from plotly.express) (1.22.4)\n",
            "Requirement already satisfied: pandas>=0.20.0 in /usr/local/lib/python3.9/dist-packages (from plotly.express) (1.5.3)\n",
            "Requirement already satisfied: patsy>=0.5 in /usr/local/lib/python3.9/dist-packages (from plotly.express) (0.5.3)\n",
            "Requirement already satisfied: plotly>=4.1.0 in /usr/local/lib/python3.9/dist-packages (from plotly.express) (5.13.1)\n",
            "Requirement already satisfied: pytz>=2020.1 in /usr/local/lib/python3.9/dist-packages (from pandas>=0.20.0->plotly.express) (2022.7.1)\n",
            "Requirement already satisfied: python-dateutil>=2.8.1 in /usr/local/lib/python3.9/dist-packages (from pandas>=0.20.0->plotly.express) (2.8.2)\n",
            "Requirement already satisfied: six in /usr/local/lib/python3.9/dist-packages (from patsy>=0.5->plotly.express) (1.16.0)\n",
            "Requirement already satisfied: tenacity>=6.2.0 in /usr/local/lib/python3.9/dist-packages (from plotly>=4.1.0->plotly.express) (8.2.2)\n",
            "Requirement already satisfied: packaging>=21.3 in /usr/local/lib/python3.9/dist-packages (from statsmodels>=0.9.0->plotly.express) (23.1)\n",
            "Installing collected packages: plotly.express\n",
            "Successfully installed plotly.express-0.4.1\n"
          ]
        }
      ]
    },
    {
      "cell_type": "code",
      "source": [
        "# input data as matrix\n",
        "input_data = [\n",
        "     ['Bahnhof', 54.31548738087378, 10.132285213361302],\n",
        "     ['Friedrichsort', 54.39371269762963, 10.184142058855787], \n",
        "     ['Holtenau', 54.37480425366618, 10.148469747635753], \n",
        "     ['University', 54.348125164196105, 10.117918463246932],\n",
        "     ['Mitte', 54.32460566307153, 10.136629552088058],\n",
        "     ['Garden', 54.313101710271425, 10.15091017118389],\n",
        "     ['Wellingdorf', 54.32829259013629, 10.179582183151096],\n",
        "     ['Heikendorf', 54.37979792093858, 10.212036804008633],\n",
        "     ['Laboe', 54.409884128644144, 10.232678775594744]\n",
        "]\n",
        "\n",
        "\n",
        "# create dataframe from input data\n",
        "df = pd.DataFrame(input_data, columns=['name', 'latitude', 'longitude'])\n",
        "\n",
        "# ensure that longitude and latitude columns are numeric\n",
        "df['longitude'] = pd.to_numeric(df['longitude'])\n",
        "df['latitude'] = pd.to_numeric(df['latitude'])\n",
        "\n",
        "# print dataframe \n",
        "print(df)\n",
        "\n",
        "# illustrate input data via Plotly Express\n",
        "fig = px.scatter_mapbox(df, lat='latitude', lon='longitude', color='name', \n",
        "                        zoom=10, mapbox_style='open-street-map',\n",
        "                        width=800, height=800)\n",
        "fig.update_traces(marker={'size': 15})\n",
        "fig.show()\n"
      ],
      "metadata": {
        "colab": {
          "base_uri": "https://localhost:8080/",
          "height": 998
        },
        "id": "rev1hD8x98kV",
        "outputId": "ab9375ec-b856-4980-dae1-e14d8b5d2077"
      },
      "execution_count": null,
      "outputs": [
        {
          "output_type": "stream",
          "name": "stdout",
          "text": [
            "            name   latitude  longitude\n",
            "0        Bahnhof  54.315487  10.132285\n",
            "1  Friedrichsort  54.393713  10.184142\n",
            "2       Holtenau  54.374804  10.148470\n",
            "3     University  54.348125  10.117918\n",
            "4          Mitte  54.324606  10.136630\n",
            "5         Garden  54.313102  10.150910\n",
            "6    Wellingdorf  54.328293  10.179582\n",
            "7     Heikendorf  54.379798  10.212037\n",
            "8          Laboe  54.409884  10.232679\n"
          ]
        },
        {
          "output_type": "display_data",
          "data": {
            "text/html": [
              "<html>\n",
              "<head><meta charset=\"utf-8\" /></head>\n",
              "<body>\n",
              "    <div>            <script src=\"https://cdnjs.cloudflare.com/ajax/libs/mathjax/2.7.5/MathJax.js?config=TeX-AMS-MML_SVG\"></script><script type=\"text/javascript\">if (window.MathJax && window.MathJax.Hub && window.MathJax.Hub.Config) {window.MathJax.Hub.Config({SVG: {font: \"STIX-Web\"}});}</script>                <script type=\"text/javascript\">window.PlotlyConfig = {MathJaxConfig: 'local'};</script>\n",
              "        <script src=\"https://cdn.plot.ly/plotly-2.18.2.min.js\"></script>                <div id=\"89a6d66d-0069-4cea-93f5-0a0f4d8c23f8\" class=\"plotly-graph-div\" style=\"height:800px; width:800px;\"></div>            <script type=\"text/javascript\">                                    window.PLOTLYENV=window.PLOTLYENV || {};                                    if (document.getElementById(\"89a6d66d-0069-4cea-93f5-0a0f4d8c23f8\")) {                    Plotly.newPlot(                        \"89a6d66d-0069-4cea-93f5-0a0f4d8c23f8\",                        [{\"hovertemplate\":\"name=Bahnhof<br>latitude=%{lat}<br>longitude=%{lon}<extra></extra>\",\"lat\":[54.31548738087378],\"legendgroup\":\"Bahnhof\",\"lon\":[10.132285213361302],\"marker\":{\"color\":\"#636efa\",\"size\":15},\"mode\":\"markers\",\"name\":\"Bahnhof\",\"showlegend\":true,\"subplot\":\"mapbox\",\"type\":\"scattermapbox\"},{\"hovertemplate\":\"name=Friedrichsort<br>latitude=%{lat}<br>longitude=%{lon}<extra></extra>\",\"lat\":[54.39371269762963],\"legendgroup\":\"Friedrichsort\",\"lon\":[10.184142058855787],\"marker\":{\"color\":\"#EF553B\",\"size\":15},\"mode\":\"markers\",\"name\":\"Friedrichsort\",\"showlegend\":true,\"subplot\":\"mapbox\",\"type\":\"scattermapbox\"},{\"hovertemplate\":\"name=Holtenau<br>latitude=%{lat}<br>longitude=%{lon}<extra></extra>\",\"lat\":[54.37480425366618],\"legendgroup\":\"Holtenau\",\"lon\":[10.148469747635753],\"marker\":{\"color\":\"#00cc96\",\"size\":15},\"mode\":\"markers\",\"name\":\"Holtenau\",\"showlegend\":true,\"subplot\":\"mapbox\",\"type\":\"scattermapbox\"},{\"hovertemplate\":\"name=University<br>latitude=%{lat}<br>longitude=%{lon}<extra></extra>\",\"lat\":[54.348125164196105],\"legendgroup\":\"University\",\"lon\":[10.117918463246932],\"marker\":{\"color\":\"#ab63fa\",\"size\":15},\"mode\":\"markers\",\"name\":\"University\",\"showlegend\":true,\"subplot\":\"mapbox\",\"type\":\"scattermapbox\"},{\"hovertemplate\":\"name=Mitte<br>latitude=%{lat}<br>longitude=%{lon}<extra></extra>\",\"lat\":[54.32460566307153],\"legendgroup\":\"Mitte\",\"lon\":[10.136629552088058],\"marker\":{\"color\":\"#FFA15A\",\"size\":15},\"mode\":\"markers\",\"name\":\"Mitte\",\"showlegend\":true,\"subplot\":\"mapbox\",\"type\":\"scattermapbox\"},{\"hovertemplate\":\"name=Garden<br>latitude=%{lat}<br>longitude=%{lon}<extra></extra>\",\"lat\":[54.313101710271425],\"legendgroup\":\"Garden\",\"lon\":[10.15091017118389],\"marker\":{\"color\":\"#19d3f3\",\"size\":15},\"mode\":\"markers\",\"name\":\"Garden\",\"showlegend\":true,\"subplot\":\"mapbox\",\"type\":\"scattermapbox\"},{\"hovertemplate\":\"name=Wellingdorf<br>latitude=%{lat}<br>longitude=%{lon}<extra></extra>\",\"lat\":[54.32829259013629],\"legendgroup\":\"Wellingdorf\",\"lon\":[10.179582183151096],\"marker\":{\"color\":\"#FF6692\",\"size\":15},\"mode\":\"markers\",\"name\":\"Wellingdorf\",\"showlegend\":true,\"subplot\":\"mapbox\",\"type\":\"scattermapbox\"},{\"hovertemplate\":\"name=Heikendorf<br>latitude=%{lat}<br>longitude=%{lon}<extra></extra>\",\"lat\":[54.37979792093858],\"legendgroup\":\"Heikendorf\",\"lon\":[10.212036804008633],\"marker\":{\"color\":\"#B6E880\",\"size\":15},\"mode\":\"markers\",\"name\":\"Heikendorf\",\"showlegend\":true,\"subplot\":\"mapbox\",\"type\":\"scattermapbox\"},{\"hovertemplate\":\"name=Laboe<br>latitude=%{lat}<br>longitude=%{lon}<extra></extra>\",\"lat\":[54.409884128644144],\"legendgroup\":\"Laboe\",\"lon\":[10.232678775594744],\"marker\":{\"color\":\"#FF97FF\",\"size\":15},\"mode\":\"markers\",\"name\":\"Laboe\",\"showlegend\":true,\"subplot\":\"mapbox\",\"type\":\"scattermapbox\"}],                        {\"template\":{\"data\":{\"histogram2dcontour\":[{\"type\":\"histogram2dcontour\",\"colorbar\":{\"outlinewidth\":0,\"ticks\":\"\"},\"colorscale\":[[0.0,\"#0d0887\"],[0.1111111111111111,\"#46039f\"],[0.2222222222222222,\"#7201a8\"],[0.3333333333333333,\"#9c179e\"],[0.4444444444444444,\"#bd3786\"],[0.5555555555555556,\"#d8576b\"],[0.6666666666666666,\"#ed7953\"],[0.7777777777777778,\"#fb9f3a\"],[0.8888888888888888,\"#fdca26\"],[1.0,\"#f0f921\"]]}],\"choropleth\":[{\"type\":\"choropleth\",\"colorbar\":{\"outlinewidth\":0,\"ticks\":\"\"}}],\"histogram2d\":[{\"type\":\"histogram2d\",\"colorbar\":{\"outlinewidth\":0,\"ticks\":\"\"},\"colorscale\":[[0.0,\"#0d0887\"],[0.1111111111111111,\"#46039f\"],[0.2222222222222222,\"#7201a8\"],[0.3333333333333333,\"#9c179e\"],[0.4444444444444444,\"#bd3786\"],[0.5555555555555556,\"#d8576b\"],[0.6666666666666666,\"#ed7953\"],[0.7777777777777778,\"#fb9f3a\"],[0.8888888888888888,\"#fdca26\"],[1.0,\"#f0f921\"]]}],\"heatmap\":[{\"type\":\"heatmap\",\"colorbar\":{\"outlinewidth\":0,\"ticks\":\"\"},\"colorscale\":[[0.0,\"#0d0887\"],[0.1111111111111111,\"#46039f\"],[0.2222222222222222,\"#7201a8\"],[0.3333333333333333,\"#9c179e\"],[0.4444444444444444,\"#bd3786\"],[0.5555555555555556,\"#d8576b\"],[0.6666666666666666,\"#ed7953\"],[0.7777777777777778,\"#fb9f3a\"],[0.8888888888888888,\"#fdca26\"],[1.0,\"#f0f921\"]]}],\"heatmapgl\":[{\"type\":\"heatmapgl\",\"colorbar\":{\"outlinewidth\":0,\"ticks\":\"\"},\"colorscale\":[[0.0,\"#0d0887\"],[0.1111111111111111,\"#46039f\"],[0.2222222222222222,\"#7201a8\"],[0.3333333333333333,\"#9c179e\"],[0.4444444444444444,\"#bd3786\"],[0.5555555555555556,\"#d8576b\"],[0.6666666666666666,\"#ed7953\"],[0.7777777777777778,\"#fb9f3a\"],[0.8888888888888888,\"#fdca26\"],[1.0,\"#f0f921\"]]}],\"contourcarpet\":[{\"type\":\"contourcarpet\",\"colorbar\":{\"outlinewidth\":0,\"ticks\":\"\"}}],\"contour\":[{\"type\":\"contour\",\"colorbar\":{\"outlinewidth\":0,\"ticks\":\"\"},\"colorscale\":[[0.0,\"#0d0887\"],[0.1111111111111111,\"#46039f\"],[0.2222222222222222,\"#7201a8\"],[0.3333333333333333,\"#9c179e\"],[0.4444444444444444,\"#bd3786\"],[0.5555555555555556,\"#d8576b\"],[0.6666666666666666,\"#ed7953\"],[0.7777777777777778,\"#fb9f3a\"],[0.8888888888888888,\"#fdca26\"],[1.0,\"#f0f921\"]]}],\"surface\":[{\"type\":\"surface\",\"colorbar\":{\"outlinewidth\":0,\"ticks\":\"\"},\"colorscale\":[[0.0,\"#0d0887\"],[0.1111111111111111,\"#46039f\"],[0.2222222222222222,\"#7201a8\"],[0.3333333333333333,\"#9c179e\"],[0.4444444444444444,\"#bd3786\"],[0.5555555555555556,\"#d8576b\"],[0.6666666666666666,\"#ed7953\"],[0.7777777777777778,\"#fb9f3a\"],[0.8888888888888888,\"#fdca26\"],[1.0,\"#f0f921\"]]}],\"mesh3d\":[{\"type\":\"mesh3d\",\"colorbar\":{\"outlinewidth\":0,\"ticks\":\"\"}}],\"scatter\":[{\"fillpattern\":{\"fillmode\":\"overlay\",\"size\":10,\"solidity\":0.2},\"type\":\"scatter\"}],\"parcoords\":[{\"type\":\"parcoords\",\"line\":{\"colorbar\":{\"outlinewidth\":0,\"ticks\":\"\"}}}],\"scatterpolargl\":[{\"type\":\"scatterpolargl\",\"marker\":{\"colorbar\":{\"outlinewidth\":0,\"ticks\":\"\"}}}],\"bar\":[{\"error_x\":{\"color\":\"#2a3f5f\"},\"error_y\":{\"color\":\"#2a3f5f\"},\"marker\":{\"line\":{\"color\":\"#E5ECF6\",\"width\":0.5},\"pattern\":{\"fillmode\":\"overlay\",\"size\":10,\"solidity\":0.2}},\"type\":\"bar\"}],\"scattergeo\":[{\"type\":\"scattergeo\",\"marker\":{\"colorbar\":{\"outlinewidth\":0,\"ticks\":\"\"}}}],\"scatterpolar\":[{\"type\":\"scatterpolar\",\"marker\":{\"colorbar\":{\"outlinewidth\":0,\"ticks\":\"\"}}}],\"histogram\":[{\"marker\":{\"pattern\":{\"fillmode\":\"overlay\",\"size\":10,\"solidity\":0.2}},\"type\":\"histogram\"}],\"scattergl\":[{\"type\":\"scattergl\",\"marker\":{\"colorbar\":{\"outlinewidth\":0,\"ticks\":\"\"}}}],\"scatter3d\":[{\"type\":\"scatter3d\",\"line\":{\"colorbar\":{\"outlinewidth\":0,\"ticks\":\"\"}},\"marker\":{\"colorbar\":{\"outlinewidth\":0,\"ticks\":\"\"}}}],\"scattermapbox\":[{\"type\":\"scattermapbox\",\"marker\":{\"colorbar\":{\"outlinewidth\":0,\"ticks\":\"\"}}}],\"scatterternary\":[{\"type\":\"scatterternary\",\"marker\":{\"colorbar\":{\"outlinewidth\":0,\"ticks\":\"\"}}}],\"scattercarpet\":[{\"type\":\"scattercarpet\",\"marker\":{\"colorbar\":{\"outlinewidth\":0,\"ticks\":\"\"}}}],\"carpet\":[{\"aaxis\":{\"endlinecolor\":\"#2a3f5f\",\"gridcolor\":\"white\",\"linecolor\":\"white\",\"minorgridcolor\":\"white\",\"startlinecolor\":\"#2a3f5f\"},\"baxis\":{\"endlinecolor\":\"#2a3f5f\",\"gridcolor\":\"white\",\"linecolor\":\"white\",\"minorgridcolor\":\"white\",\"startlinecolor\":\"#2a3f5f\"},\"type\":\"carpet\"}],\"table\":[{\"cells\":{\"fill\":{\"color\":\"#EBF0F8\"},\"line\":{\"color\":\"white\"}},\"header\":{\"fill\":{\"color\":\"#C8D4E3\"},\"line\":{\"color\":\"white\"}},\"type\":\"table\"}],\"barpolar\":[{\"marker\":{\"line\":{\"color\":\"#E5ECF6\",\"width\":0.5},\"pattern\":{\"fillmode\":\"overlay\",\"size\":10,\"solidity\":0.2}},\"type\":\"barpolar\"}],\"pie\":[{\"automargin\":true,\"type\":\"pie\"}]},\"layout\":{\"autotypenumbers\":\"strict\",\"colorway\":[\"#636efa\",\"#EF553B\",\"#00cc96\",\"#ab63fa\",\"#FFA15A\",\"#19d3f3\",\"#FF6692\",\"#B6E880\",\"#FF97FF\",\"#FECB52\"],\"font\":{\"color\":\"#2a3f5f\"},\"hovermode\":\"closest\",\"hoverlabel\":{\"align\":\"left\"},\"paper_bgcolor\":\"white\",\"plot_bgcolor\":\"#E5ECF6\",\"polar\":{\"bgcolor\":\"#E5ECF6\",\"angularaxis\":{\"gridcolor\":\"white\",\"linecolor\":\"white\",\"ticks\":\"\"},\"radialaxis\":{\"gridcolor\":\"white\",\"linecolor\":\"white\",\"ticks\":\"\"}},\"ternary\":{\"bgcolor\":\"#E5ECF6\",\"aaxis\":{\"gridcolor\":\"white\",\"linecolor\":\"white\",\"ticks\":\"\"},\"baxis\":{\"gridcolor\":\"white\",\"linecolor\":\"white\",\"ticks\":\"\"},\"caxis\":{\"gridcolor\":\"white\",\"linecolor\":\"white\",\"ticks\":\"\"}},\"coloraxis\":{\"colorbar\":{\"outlinewidth\":0,\"ticks\":\"\"}},\"colorscale\":{\"sequential\":[[0.0,\"#0d0887\"],[0.1111111111111111,\"#46039f\"],[0.2222222222222222,\"#7201a8\"],[0.3333333333333333,\"#9c179e\"],[0.4444444444444444,\"#bd3786\"],[0.5555555555555556,\"#d8576b\"],[0.6666666666666666,\"#ed7953\"],[0.7777777777777778,\"#fb9f3a\"],[0.8888888888888888,\"#fdca26\"],[1.0,\"#f0f921\"]],\"sequentialminus\":[[0.0,\"#0d0887\"],[0.1111111111111111,\"#46039f\"],[0.2222222222222222,\"#7201a8\"],[0.3333333333333333,\"#9c179e\"],[0.4444444444444444,\"#bd3786\"],[0.5555555555555556,\"#d8576b\"],[0.6666666666666666,\"#ed7953\"],[0.7777777777777778,\"#fb9f3a\"],[0.8888888888888888,\"#fdca26\"],[1.0,\"#f0f921\"]],\"diverging\":[[0,\"#8e0152\"],[0.1,\"#c51b7d\"],[0.2,\"#de77ae\"],[0.3,\"#f1b6da\"],[0.4,\"#fde0ef\"],[0.5,\"#f7f7f7\"],[0.6,\"#e6f5d0\"],[0.7,\"#b8e186\"],[0.8,\"#7fbc41\"],[0.9,\"#4d9221\"],[1,\"#276419\"]]},\"xaxis\":{\"gridcolor\":\"white\",\"linecolor\":\"white\",\"ticks\":\"\",\"title\":{\"standoff\":15},\"zerolinecolor\":\"white\",\"automargin\":true,\"zerolinewidth\":2},\"yaxis\":{\"gridcolor\":\"white\",\"linecolor\":\"white\",\"ticks\":\"\",\"title\":{\"standoff\":15},\"zerolinecolor\":\"white\",\"automargin\":true,\"zerolinewidth\":2},\"scene\":{\"xaxis\":{\"backgroundcolor\":\"#E5ECF6\",\"gridcolor\":\"white\",\"linecolor\":\"white\",\"showbackground\":true,\"ticks\":\"\",\"zerolinecolor\":\"white\",\"gridwidth\":2},\"yaxis\":{\"backgroundcolor\":\"#E5ECF6\",\"gridcolor\":\"white\",\"linecolor\":\"white\",\"showbackground\":true,\"ticks\":\"\",\"zerolinecolor\":\"white\",\"gridwidth\":2},\"zaxis\":{\"backgroundcolor\":\"#E5ECF6\",\"gridcolor\":\"white\",\"linecolor\":\"white\",\"showbackground\":true,\"ticks\":\"\",\"zerolinecolor\":\"white\",\"gridwidth\":2}},\"shapedefaults\":{\"line\":{\"color\":\"#2a3f5f\"}},\"annotationdefaults\":{\"arrowcolor\":\"#2a3f5f\",\"arrowhead\":0,\"arrowwidth\":1},\"geo\":{\"bgcolor\":\"white\",\"landcolor\":\"#E5ECF6\",\"subunitcolor\":\"white\",\"showland\":true,\"showlakes\":true,\"lakecolor\":\"white\"},\"title\":{\"x\":0.05},\"mapbox\":{\"style\":\"light\"}}},\"mapbox\":{\"domain\":{\"x\":[0.0,1.0],\"y\":[0.0,1.0]},\"center\":{\"lat\":54.35420127882529,\"lon\":10.166072552125135},\"zoom\":10,\"style\":\"open-street-map\"},\"legend\":{\"title\":{\"text\":\"name\"},\"tracegroupgap\":0},\"margin\":{\"t\":60},\"height\":800,\"width\":800},                        {\"responsive\": true}                    ).then(function(){\n",
              "                            \n",
              "var gd = document.getElementById('89a6d66d-0069-4cea-93f5-0a0f4d8c23f8');\n",
              "var x = new MutationObserver(function (mutations, observer) {{\n",
              "        var display = window.getComputedStyle(gd).display;\n",
              "        if (!display || display === 'none') {{\n",
              "            console.log([gd, 'removed!']);\n",
              "            Plotly.purge(gd);\n",
              "            observer.disconnect();\n",
              "        }}\n",
              "}});\n",
              "\n",
              "// Listen for the removal of the full notebook cells\n",
              "var notebookContainer = gd.closest('#notebook-container');\n",
              "if (notebookContainer) {{\n",
              "    x.observe(notebookContainer, {childList: true});\n",
              "}}\n",
              "\n",
              "// Listen for the clearing of the current output cell\n",
              "var outputEl = gd.closest('.output');\n",
              "if (outputEl) {{\n",
              "    x.observe(outputEl, {childList: true});\n",
              "}}\n",
              "\n",
              "                        })                };                            </script>        </div>\n",
              "</body>\n",
              "</html>"
            ]
          },
          "metadata": {}
        }
      ]
    },
    {
      "cell_type": "markdown",
      "source": [
        "### Create models with PuLP"
      ],
      "metadata": {
        "id": "F25hTbJDSmeA"
      }
    },
    {
      "cell_type": "markdown",
      "source": [
        "#### Load packages"
      ],
      "metadata": {
        "id": "yTu3_fJyS2Eo"
      }
    },
    {
      "cell_type": "code",
      "source": [
        "# load the required modules\n",
        "!pip install haversine  # to measure the distance between two locations considering the Earth's surface\n",
        "!pip install pulp\n",
        "\n",
        "import haversine\n",
        "import pulp"
      ],
      "metadata": {
        "id": "yP6Py9Dd--VP",
        "outputId": "85a9a5a7-67af-45db-cdb9-b00fa5683969",
        "colab": {
          "base_uri": "https://localhost:8080/"
        }
      },
      "execution_count": null,
      "outputs": [
        {
          "output_type": "stream",
          "name": "stdout",
          "text": [
            "Looking in indexes: https://pypi.org/simple, https://us-python.pkg.dev/colab-wheels/public/simple/\n",
            "Collecting haversine\n",
            "  Downloading haversine-2.8.0-py2.py3-none-any.whl (7.7 kB)\n",
            "Installing collected packages: haversine\n",
            "Successfully installed haversine-2.8.0\n",
            "Looking in indexes: https://pypi.org/simple, https://us-python.pkg.dev/colab-wheels/public/simple/\n",
            "Collecting pulp\n",
            "  Downloading PuLP-2.7.0-py3-none-any.whl (14.3 MB)\n",
            "\u001b[2K     \u001b[90m━━━━━━━━━━━━━━━━━━━━━━━━━━━━━━━━━━━━━━━━\u001b[0m \u001b[32m14.3/14.3 MB\u001b[0m \u001b[31m76.6 MB/s\u001b[0m eta \u001b[36m0:00:00\u001b[0m\n",
            "\u001b[?25hInstalling collected packages: pulp\n",
            "Successfully installed pulp-2.7.0\n"
          ]
        }
      ]
    },
    {
      "cell_type": "markdown",
      "source": [
        "#### Formulation of Miller, Tucker and Zemlin (1960)"
      ],
      "metadata": {
        "id": "YMO2R-JsHFTh"
      }
    },
    {
      "cell_type": "markdown",
      "source": [
        "$\n",
        "\\begin{align}\n",
        "  \\begin{array}{lll}\n",
        "    &\\textbf{Objective} & \\\\\n",
        "    & \\min \\sum_{i=1,\\dots,N} \\sum_{j=1,\\dots,N} c_{ij} \\cdot x_{ij} &~~~ (1) \\\\\n",
        "    &&\\\\\n",
        "    &\\textbf{Constraints} & \\\\\n",
        "    & \\sum\\limits_{i=1}^{N} x_{ij} = 1,~ \\forall~ j = 1,\\dots,N  &~~~ (2) \\\\\n",
        "    & \\sum\\limits_{j=1}^{N} x_{ij} = 1,~ \\forall~ i = 1,\\dots,N  &~~~ (3) \\\\\n",
        "    & x_{ii} = 0,~ \\forall~ i = 1,\\dots,N  &~~~ (4) \\\\\n",
        "    & u_{i} - u_{j} + N \\cdot x_{ij} \\le N -1,~ \\forall~ i,j = 1,\\dots,N: j \\ne 1 ~\\text{and}~ i \\ne j  &~~~ (5) \\\\\n",
        "    & u_{i} \\in \\mathbb{Z}^{\\text{nonneg}},~ \\forall~ i = 1,\\dots,N  &~~~ (6) \\\\\n",
        "    & x_{ij} \\in \\{0,1\\},~ \\forall~ i,j = 1,\\dots,N  &~~~ (7) \\\\\n",
        "  \\end{array}\n",
        "\\end{align}\n",
        "$"
      ],
      "metadata": {
        "id": "JXWXa4v0jaYV"
      }
    },
    {
      "cell_type": "code",
      "source": [
        "# build problem\n",
        "model = pulp.LpProblem(name='TSP', sense=pulp.constants.LpMinimize)\n",
        "\n",
        "# initialize sets\n",
        "nodes = df.name\n",
        "\n",
        "# decision variables\n",
        "x = pulp.LpVariable.dicts(name='x', indices=(nodes, nodes), \n",
        "                          lowBound=0, upBound=1, cat='Binary')\n",
        "u = pulp.LpVariable.dicts(name='u', indices=nodes, \n",
        "                          lowBound=1, upBound=len(nodes), cat='Integer')\n",
        "\n",
        "# Objective (1)\n",
        "model += pulp.lpSum(haversine.haversine(\n",
        "        (df.loc[df['name'] == i, 'latitude'].iloc[0], df.loc[df['name'] == i, 'longitude'].iloc[0]),\n",
        "        (df.loc[df['name'] == j, 'latitude'].iloc[0], df.loc[df['name'] == j, 'longitude'].iloc[0])\n",
        "        # (df.loc[df['name'] == i]['latitude'].values[0], df.loc[df['name'] == i]['longitude'].values[0]),\n",
        "        # (df.loc[df['name'] == j]['latitude'].values[0], df.loc[df['name'] == j]['longitude'].values[0])\n",
        "        ) * x[i][j]\n",
        "        for i in nodes for j in nodes), \"(1):Objective\"\n",
        "\n",
        "# Constraints (2)\n",
        "for j in nodes:\n",
        "  model += pulp.lpSum(x[i][j] for i in nodes) == 1, '(2):' + j\n",
        "\n",
        "# Constraints (3)\n",
        "for i in nodes:\n",
        "  model += pulp.lpSum(x[i][j] for j in nodes) == 1, '(3):' + i\n",
        "\n",
        "# Constraints (4)\n",
        "for i in nodes:\n",
        "  model += x[i][i] == 0, '(4): ' + i\n",
        "\n",
        "# Constraints (5)\n",
        "for i in nodes:\n",
        "  for j in nodes:\n",
        "    if j != nodes[0] and i != j:\n",
        "      model += u[i] - u[j] + len(nodes)*x[i][j] <= len(nodes) - 1, '(5):' + i + '>' + j\n",
        "\n",
        "# print model\n",
        "# print(model)"
      ],
      "metadata": {
        "id": "9bUDzLW2JAjQ"
      },
      "execution_count": null,
      "outputs": []
    },
    {
      "cell_type": "markdown",
      "source": [
        "#### Formulation of Gavish and Graves (1976)"
      ],
      "metadata": {
        "id": "HuVbZCKmHyki"
      }
    },
    {
      "cell_type": "markdown",
      "source": [
        "$\n",
        "\\begin{align}\n",
        "  \\begin{array}{lll}\n",
        "    &\\textbf{Objective} & \\\\\n",
        "    & \\min \\sum_{i=1,\\dots,N} \\sum_{j=1,\\dots,N} c_{ij} \\cdot x_{ij} &~~~ (1) \\\\\n",
        "    &&\\\\\n",
        "    &\\textbf{Constraints} & \\\\\n",
        "    & \\sum\\limits_{i=1}^{N} x_{ij} = 1,~ \\forall~ j = 1,\\dots,N  &~~~ (2) \\\\\n",
        "    & \\sum\\limits_{j=1}^{N} x_{ij} = 1,~ \\forall~ i = 1,\\dots,N  &~~~ (3) \\\\\n",
        "    & x_{ii} = 0,~ \\forall~ i = 1,\\dots,N  &~~~ (4) \\\\\n",
        "    &  \\sum\\limits_{j=1}^{N} z_{ij} - \\sum\\limits_{j=2}^{N} z_{ji} = 1,~ \\forall~ i = 2,\\dots,N &~~~ (5) \\\\\n",
        "    & z_{ij} \\le x_{ij} \\cdot (N - 1),~ \\forall~ i = 2,\\dots,N, j = 1,\\dots,N &~~~ (6) \\\\\n",
        "    & z_{i} \\in \\mathbb{Z}^{\\text{nonneg}},~ \\forall~ i = 1,\\dots,N  &~~~ (7) \\\\\n",
        "    & x_{ij} \\in \\{0,1\\},~ \\forall~ i,j = 1,\\dots,N  &~~~ (8) \\\\\n",
        "  \\end{array}\n",
        "\\end{align}\n",
        "$\n"
      ],
      "metadata": {
        "id": "6YgpPj3qH1YD"
      }
    },
    {
      "cell_type": "code",
      "source": [
        "# initialize sets\n",
        "nodes = df.name\n",
        "\n",
        "# decision variables\n",
        "x = pulp.LpVariable.dicts(name='x', indices=(nodes, nodes), \n",
        "                          lowBound=0, upBound=1, cat='Binary')\n",
        "z = pulp.LpVariable.dicts(name='z', lowBound=0, indices=(nodes, nodes), cat='Integer')\n",
        "\n",
        "# build problem\n",
        "model = pulp.LpProblem(name='TSP_GG', sense=pulp.constants.LpMinimize)\n",
        "\n",
        "# Objective (1)\n",
        "model += pulp.lpSum(haversine.haversine(\n",
        "        (df.loc[df['name'] == i, 'latitude'].iloc[0], df.loc[df['name'] == i, 'longitude'].iloc[0]),\n",
        "        (df.loc[df['name'] == j, 'latitude'].iloc[0], df.loc[df['name'] == j, 'longitude'].iloc[0])\n",
        "        # (df.loc[df['name'] == i]['latitude'].values[0], df.loc[df['name'] == i]['longitude'].values[0]),\n",
        "        # (df.loc[df['name'] == j]['latitude'].values[0], df.loc[df['name'] == j]['longitude'].values[0])\n",
        "        ) * x[i][j]\n",
        "        for i in nodes for j in nodes), \"(1):Objective\"\n",
        "\n",
        "# Constraints (2)\n",
        "for j in nodes:\n",
        "  model += pulp.lpSum(x[i][j] for i in nodes) == 1, '(2):' + j\n",
        "\n",
        "# Constraints (3)\n",
        "for i in nodes:\n",
        "  model += pulp.lpSum(x[i][j] for j in nodes) == 1, '(3):' + i\n",
        "\n",
        "# Constraints (4)\n",
        "for i in nodes:\n",
        "  model += x[i][i] == 0, '(4): ' + i\n",
        "\n",
        "# Constraints (5)\n",
        "for i in nodes:\n",
        "  if i != nodes[0]:\n",
        "    model += pulp.lpSum(z[i][j] for j in nodes) - pulp.lpSum(z[j][i] for j in nodes if j != nodes[0]) == 1, '(5):' + i\n",
        "\n",
        "# Constraints (6)\n",
        "for i in nodes:\n",
        "  if i != nodes[0]:\n",
        "    for j in nodes:\n",
        "      model += z[i][j] <= x[i][j] * (len(nodes) - 1), '(6):' + i + '>' + j\n",
        "\n",
        "# print model\n",
        "# print(model)"
      ],
      "metadata": {
        "id": "FRl6Ox4SHx66"
      },
      "execution_count": null,
      "outputs": []
    },
    {
      "cell_type": "markdown",
      "source": [
        "### Solve model"
      ],
      "metadata": {
        "id": "Zn7ku5hEJBCf"
      }
    },
    {
      "cell_type": "code",
      "source": [
        "# solve problem\n",
        "model.solve()\n",
        "\n",
        "# get status\n",
        "print(\"Status:\", pulp.LpStatus[model.status])\n",
        "\n",
        "# get objective value\n",
        "print('Objective value:', round(pulp.value(model.objective), 2))\n",
        "\n",
        "# print model variable\n",
        "# for v in model.variables():\n",
        "#     print(v.name,\"=\", v.varValue)\n",
        "\n",
        "# for i in nodes:\n",
        "#   for j in nodes:\n",
        "#     print('z[',i,'][',j,'] = ',z[i][j].varValue)"
      ],
      "metadata": {
        "colab": {
          "base_uri": "https://localhost:8080/"
        },
        "id": "0Ngi6FOKJE_n",
        "outputId": "8d9c459b-5c36-4379-8ad5-571d2aff0db3"
      },
      "execution_count": null,
      "outputs": [
        {
          "output_type": "stream",
          "name": "stdout",
          "text": [
            "Status: Optimal\n",
            "Objective value: 27.7\n"
          ]
        }
      ]
    },
    {
      "cell_type": "markdown",
      "source": [
        "### Graphical visualization"
      ],
      "metadata": {
        "id": "_QHHqha-q_IK"
      }
    },
    {
      "cell_type": "code",
      "source": [
        "# create new dataframe with the nodes sorted in the direction of the tour\n",
        "current_node = nodes[0]\n",
        "df_tour = pd.DataFrame(columns=df.columns)\n",
        "df_tour = pd.concat([df_tour, df[df['name'] == current_node]])\n",
        "\n",
        "while len(df_tour.index) < len(nodes) + 1:\n",
        "  for j in nodes:\n",
        "    if x[current_node][j].varValue > 0:      \n",
        "      df_tour = pd.concat([df_tour, df[df['name'] == j]])\n",
        "      current_node = j\n",
        "      break;\n",
        "\n",
        "print(df_tour)\n",
        "\n",
        "fig = px.line_mapbox(df_tour, lat=\"latitude\", lon=\"longitude\", zoom=10, \n",
        "                     hover_name=\"name\", width=800, height=800)\n",
        "fig.update_layout(mapbox_style=\"open-street-map\")\n",
        "fig.show()"
      ],
      "metadata": {
        "id": "nWUo08feYqP0",
        "outputId": "27432b9f-5c12-42c9-c7ce-9ca6b68ca576",
        "colab": {
          "base_uri": "https://localhost:8080/",
          "height": 1000
        }
      },
      "execution_count": null,
      "outputs": [
        {
          "output_type": "stream",
          "name": "stdout",
          "text": [
            "            name   latitude  longitude\n",
            "0        Bahnhof  54.315487  10.132285\n",
            "5         Garden  54.313102  10.150910\n",
            "6    Wellingdorf  54.328293  10.179582\n",
            "7     Heikendorf  54.379798  10.212037\n",
            "8          Laboe  54.409884  10.232679\n",
            "1  Friedrichsort  54.393713  10.184142\n",
            "2       Holtenau  54.374804  10.148470\n",
            "3     University  54.348125  10.117918\n",
            "4          Mitte  54.324606  10.136630\n",
            "0        Bahnhof  54.315487  10.132285\n"
          ]
        },
        {
          "output_type": "display_data",
          "data": {
            "text/html": [
              "<html>\n",
              "<head><meta charset=\"utf-8\" /></head>\n",
              "<body>\n",
              "    <div>            <script src=\"https://cdnjs.cloudflare.com/ajax/libs/mathjax/2.7.5/MathJax.js?config=TeX-AMS-MML_SVG\"></script><script type=\"text/javascript\">if (window.MathJax && window.MathJax.Hub && window.MathJax.Hub.Config) {window.MathJax.Hub.Config({SVG: {font: \"STIX-Web\"}});}</script>                <script type=\"text/javascript\">window.PlotlyConfig = {MathJaxConfig: 'local'};</script>\n",
              "        <script src=\"https://cdn.plot.ly/plotly-2.18.2.min.js\"></script>                <div id=\"652b67cf-3d9b-44a1-9cee-e521c1eddc6d\" class=\"plotly-graph-div\" style=\"height:800px; width:800px;\"></div>            <script type=\"text/javascript\">                                    window.PLOTLYENV=window.PLOTLYENV || {};                                    if (document.getElementById(\"652b67cf-3d9b-44a1-9cee-e521c1eddc6d\")) {                    Plotly.newPlot(                        \"652b67cf-3d9b-44a1-9cee-e521c1eddc6d\",                        [{\"hovertemplate\":\"<b>%{hovertext}</b><br><br>latitude=%{lat}<br>longitude=%{lon}<extra></extra>\",\"hovertext\":[\"Bahnhof\",\"Garden\",\"Wellingdorf\",\"Heikendorf\",\"Laboe\",\"Friedrichsort\",\"Holtenau\",\"University\",\"Mitte\",\"Bahnhof\"],\"lat\":[54.31548738087378,54.313101710271425,54.32829259013629,54.37979792093858,54.409884128644144,54.39371269762963,54.37480425366618,54.348125164196105,54.32460566307153,54.31548738087378],\"legendgroup\":\"\",\"line\":{\"color\":\"#636efa\"},\"lon\":[10.132285213361302,10.15091017118389,10.179582183151096,10.212036804008633,10.232678775594744,10.184142058855787,10.148469747635753,10.117918463246932,10.136629552088058,10.132285213361302],\"mode\":\"lines\",\"name\":\"\",\"showlegend\":false,\"subplot\":\"mapbox\",\"type\":\"scattermapbox\"}],                        {\"template\":{\"data\":{\"histogram2dcontour\":[{\"type\":\"histogram2dcontour\",\"colorbar\":{\"outlinewidth\":0,\"ticks\":\"\"},\"colorscale\":[[0.0,\"#0d0887\"],[0.1111111111111111,\"#46039f\"],[0.2222222222222222,\"#7201a8\"],[0.3333333333333333,\"#9c179e\"],[0.4444444444444444,\"#bd3786\"],[0.5555555555555556,\"#d8576b\"],[0.6666666666666666,\"#ed7953\"],[0.7777777777777778,\"#fb9f3a\"],[0.8888888888888888,\"#fdca26\"],[1.0,\"#f0f921\"]]}],\"choropleth\":[{\"type\":\"choropleth\",\"colorbar\":{\"outlinewidth\":0,\"ticks\":\"\"}}],\"histogram2d\":[{\"type\":\"histogram2d\",\"colorbar\":{\"outlinewidth\":0,\"ticks\":\"\"},\"colorscale\":[[0.0,\"#0d0887\"],[0.1111111111111111,\"#46039f\"],[0.2222222222222222,\"#7201a8\"],[0.3333333333333333,\"#9c179e\"],[0.4444444444444444,\"#bd3786\"],[0.5555555555555556,\"#d8576b\"],[0.6666666666666666,\"#ed7953\"],[0.7777777777777778,\"#fb9f3a\"],[0.8888888888888888,\"#fdca26\"],[1.0,\"#f0f921\"]]}],\"heatmap\":[{\"type\":\"heatmap\",\"colorbar\":{\"outlinewidth\":0,\"ticks\":\"\"},\"colorscale\":[[0.0,\"#0d0887\"],[0.1111111111111111,\"#46039f\"],[0.2222222222222222,\"#7201a8\"],[0.3333333333333333,\"#9c179e\"],[0.4444444444444444,\"#bd3786\"],[0.5555555555555556,\"#d8576b\"],[0.6666666666666666,\"#ed7953\"],[0.7777777777777778,\"#fb9f3a\"],[0.8888888888888888,\"#fdca26\"],[1.0,\"#f0f921\"]]}],\"heatmapgl\":[{\"type\":\"heatmapgl\",\"colorbar\":{\"outlinewidth\":0,\"ticks\":\"\"},\"colorscale\":[[0.0,\"#0d0887\"],[0.1111111111111111,\"#46039f\"],[0.2222222222222222,\"#7201a8\"],[0.3333333333333333,\"#9c179e\"],[0.4444444444444444,\"#bd3786\"],[0.5555555555555556,\"#d8576b\"],[0.6666666666666666,\"#ed7953\"],[0.7777777777777778,\"#fb9f3a\"],[0.8888888888888888,\"#fdca26\"],[1.0,\"#f0f921\"]]}],\"contourcarpet\":[{\"type\":\"contourcarpet\",\"colorbar\":{\"outlinewidth\":0,\"ticks\":\"\"}}],\"contour\":[{\"type\":\"contour\",\"colorbar\":{\"outlinewidth\":0,\"ticks\":\"\"},\"colorscale\":[[0.0,\"#0d0887\"],[0.1111111111111111,\"#46039f\"],[0.2222222222222222,\"#7201a8\"],[0.3333333333333333,\"#9c179e\"],[0.4444444444444444,\"#bd3786\"],[0.5555555555555556,\"#d8576b\"],[0.6666666666666666,\"#ed7953\"],[0.7777777777777778,\"#fb9f3a\"],[0.8888888888888888,\"#fdca26\"],[1.0,\"#f0f921\"]]}],\"surface\":[{\"type\":\"surface\",\"colorbar\":{\"outlinewidth\":0,\"ticks\":\"\"},\"colorscale\":[[0.0,\"#0d0887\"],[0.1111111111111111,\"#46039f\"],[0.2222222222222222,\"#7201a8\"],[0.3333333333333333,\"#9c179e\"],[0.4444444444444444,\"#bd3786\"],[0.5555555555555556,\"#d8576b\"],[0.6666666666666666,\"#ed7953\"],[0.7777777777777778,\"#fb9f3a\"],[0.8888888888888888,\"#fdca26\"],[1.0,\"#f0f921\"]]}],\"mesh3d\":[{\"type\":\"mesh3d\",\"colorbar\":{\"outlinewidth\":0,\"ticks\":\"\"}}],\"scatter\":[{\"fillpattern\":{\"fillmode\":\"overlay\",\"size\":10,\"solidity\":0.2},\"type\":\"scatter\"}],\"parcoords\":[{\"type\":\"parcoords\",\"line\":{\"colorbar\":{\"outlinewidth\":0,\"ticks\":\"\"}}}],\"scatterpolargl\":[{\"type\":\"scatterpolargl\",\"marker\":{\"colorbar\":{\"outlinewidth\":0,\"ticks\":\"\"}}}],\"bar\":[{\"error_x\":{\"color\":\"#2a3f5f\"},\"error_y\":{\"color\":\"#2a3f5f\"},\"marker\":{\"line\":{\"color\":\"#E5ECF6\",\"width\":0.5},\"pattern\":{\"fillmode\":\"overlay\",\"size\":10,\"solidity\":0.2}},\"type\":\"bar\"}],\"scattergeo\":[{\"type\":\"scattergeo\",\"marker\":{\"colorbar\":{\"outlinewidth\":0,\"ticks\":\"\"}}}],\"scatterpolar\":[{\"type\":\"scatterpolar\",\"marker\":{\"colorbar\":{\"outlinewidth\":0,\"ticks\":\"\"}}}],\"histogram\":[{\"marker\":{\"pattern\":{\"fillmode\":\"overlay\",\"size\":10,\"solidity\":0.2}},\"type\":\"histogram\"}],\"scattergl\":[{\"type\":\"scattergl\",\"marker\":{\"colorbar\":{\"outlinewidth\":0,\"ticks\":\"\"}}}],\"scatter3d\":[{\"type\":\"scatter3d\",\"line\":{\"colorbar\":{\"outlinewidth\":0,\"ticks\":\"\"}},\"marker\":{\"colorbar\":{\"outlinewidth\":0,\"ticks\":\"\"}}}],\"scattermapbox\":[{\"type\":\"scattermapbox\",\"marker\":{\"colorbar\":{\"outlinewidth\":0,\"ticks\":\"\"}}}],\"scatterternary\":[{\"type\":\"scatterternary\",\"marker\":{\"colorbar\":{\"outlinewidth\":0,\"ticks\":\"\"}}}],\"scattercarpet\":[{\"type\":\"scattercarpet\",\"marker\":{\"colorbar\":{\"outlinewidth\":0,\"ticks\":\"\"}}}],\"carpet\":[{\"aaxis\":{\"endlinecolor\":\"#2a3f5f\",\"gridcolor\":\"white\",\"linecolor\":\"white\",\"minorgridcolor\":\"white\",\"startlinecolor\":\"#2a3f5f\"},\"baxis\":{\"endlinecolor\":\"#2a3f5f\",\"gridcolor\":\"white\",\"linecolor\":\"white\",\"minorgridcolor\":\"white\",\"startlinecolor\":\"#2a3f5f\"},\"type\":\"carpet\"}],\"table\":[{\"cells\":{\"fill\":{\"color\":\"#EBF0F8\"},\"line\":{\"color\":\"white\"}},\"header\":{\"fill\":{\"color\":\"#C8D4E3\"},\"line\":{\"color\":\"white\"}},\"type\":\"table\"}],\"barpolar\":[{\"marker\":{\"line\":{\"color\":\"#E5ECF6\",\"width\":0.5},\"pattern\":{\"fillmode\":\"overlay\",\"size\":10,\"solidity\":0.2}},\"type\":\"barpolar\"}],\"pie\":[{\"automargin\":true,\"type\":\"pie\"}]},\"layout\":{\"autotypenumbers\":\"strict\",\"colorway\":[\"#636efa\",\"#EF553B\",\"#00cc96\",\"#ab63fa\",\"#FFA15A\",\"#19d3f3\",\"#FF6692\",\"#B6E880\",\"#FF97FF\",\"#FECB52\"],\"font\":{\"color\":\"#2a3f5f\"},\"hovermode\":\"closest\",\"hoverlabel\":{\"align\":\"left\"},\"paper_bgcolor\":\"white\",\"plot_bgcolor\":\"#E5ECF6\",\"polar\":{\"bgcolor\":\"#E5ECF6\",\"angularaxis\":{\"gridcolor\":\"white\",\"linecolor\":\"white\",\"ticks\":\"\"},\"radialaxis\":{\"gridcolor\":\"white\",\"linecolor\":\"white\",\"ticks\":\"\"}},\"ternary\":{\"bgcolor\":\"#E5ECF6\",\"aaxis\":{\"gridcolor\":\"white\",\"linecolor\":\"white\",\"ticks\":\"\"},\"baxis\":{\"gridcolor\":\"white\",\"linecolor\":\"white\",\"ticks\":\"\"},\"caxis\":{\"gridcolor\":\"white\",\"linecolor\":\"white\",\"ticks\":\"\"}},\"coloraxis\":{\"colorbar\":{\"outlinewidth\":0,\"ticks\":\"\"}},\"colorscale\":{\"sequential\":[[0.0,\"#0d0887\"],[0.1111111111111111,\"#46039f\"],[0.2222222222222222,\"#7201a8\"],[0.3333333333333333,\"#9c179e\"],[0.4444444444444444,\"#bd3786\"],[0.5555555555555556,\"#d8576b\"],[0.6666666666666666,\"#ed7953\"],[0.7777777777777778,\"#fb9f3a\"],[0.8888888888888888,\"#fdca26\"],[1.0,\"#f0f921\"]],\"sequentialminus\":[[0.0,\"#0d0887\"],[0.1111111111111111,\"#46039f\"],[0.2222222222222222,\"#7201a8\"],[0.3333333333333333,\"#9c179e\"],[0.4444444444444444,\"#bd3786\"],[0.5555555555555556,\"#d8576b\"],[0.6666666666666666,\"#ed7953\"],[0.7777777777777778,\"#fb9f3a\"],[0.8888888888888888,\"#fdca26\"],[1.0,\"#f0f921\"]],\"diverging\":[[0,\"#8e0152\"],[0.1,\"#c51b7d\"],[0.2,\"#de77ae\"],[0.3,\"#f1b6da\"],[0.4,\"#fde0ef\"],[0.5,\"#f7f7f7\"],[0.6,\"#e6f5d0\"],[0.7,\"#b8e186\"],[0.8,\"#7fbc41\"],[0.9,\"#4d9221\"],[1,\"#276419\"]]},\"xaxis\":{\"gridcolor\":\"white\",\"linecolor\":\"white\",\"ticks\":\"\",\"title\":{\"standoff\":15},\"zerolinecolor\":\"white\",\"automargin\":true,\"zerolinewidth\":2},\"yaxis\":{\"gridcolor\":\"white\",\"linecolor\":\"white\",\"ticks\":\"\",\"title\":{\"standoff\":15},\"zerolinecolor\":\"white\",\"automargin\":true,\"zerolinewidth\":2},\"scene\":{\"xaxis\":{\"backgroundcolor\":\"#E5ECF6\",\"gridcolor\":\"white\",\"linecolor\":\"white\",\"showbackground\":true,\"ticks\":\"\",\"zerolinecolor\":\"white\",\"gridwidth\":2},\"yaxis\":{\"backgroundcolor\":\"#E5ECF6\",\"gridcolor\":\"white\",\"linecolor\":\"white\",\"showbackground\":true,\"ticks\":\"\",\"zerolinecolor\":\"white\",\"gridwidth\":2},\"zaxis\":{\"backgroundcolor\":\"#E5ECF6\",\"gridcolor\":\"white\",\"linecolor\":\"white\",\"showbackground\":true,\"ticks\":\"\",\"zerolinecolor\":\"white\",\"gridwidth\":2}},\"shapedefaults\":{\"line\":{\"color\":\"#2a3f5f\"}},\"annotationdefaults\":{\"arrowcolor\":\"#2a3f5f\",\"arrowhead\":0,\"arrowwidth\":1},\"geo\":{\"bgcolor\":\"white\",\"landcolor\":\"#E5ECF6\",\"subunitcolor\":\"white\",\"showland\":true,\"showlakes\":true,\"lakecolor\":\"white\"},\"title\":{\"x\":0.05},\"mapbox\":{\"style\":\"light\"}}},\"mapbox\":{\"domain\":{\"x\":[0.0,1.0],\"y\":[0.0,1.0]},\"center\":{\"lat\":54.35032988903015,\"lon\":10.16269381824875},\"zoom\":10,\"style\":\"open-street-map\"},\"legend\":{\"tracegroupgap\":0},\"margin\":{\"t\":60},\"height\":800,\"width\":800},                        {\"responsive\": true}                    ).then(function(){\n",
              "                            \n",
              "var gd = document.getElementById('652b67cf-3d9b-44a1-9cee-e521c1eddc6d');\n",
              "var x = new MutationObserver(function (mutations, observer) {{\n",
              "        var display = window.getComputedStyle(gd).display;\n",
              "        if (!display || display === 'none') {{\n",
              "            console.log([gd, 'removed!']);\n",
              "            Plotly.purge(gd);\n",
              "            observer.disconnect();\n",
              "        }}\n",
              "}});\n",
              "\n",
              "// Listen for the removal of the full notebook cells\n",
              "var notebookContainer = gd.closest('#notebook-container');\n",
              "if (notebookContainer) {{\n",
              "    x.observe(notebookContainer, {childList: true});\n",
              "}}\n",
              "\n",
              "// Listen for the clearing of the current output cell\n",
              "var outputEl = gd.closest('.output');\n",
              "if (outputEl) {{\n",
              "    x.observe(outputEl, {childList: true});\n",
              "}}\n",
              "\n",
              "                        })                };                            </script>        </div>\n",
              "</body>\n",
              "</html>"
            ]
          },
          "metadata": {}
        }
      ]
    },
    {
      "cell_type": "code",
      "source": [],
      "metadata": {
        "id": "NaRsBgULEYzm"
      },
      "execution_count": null,
      "outputs": []
    }
  ]
}