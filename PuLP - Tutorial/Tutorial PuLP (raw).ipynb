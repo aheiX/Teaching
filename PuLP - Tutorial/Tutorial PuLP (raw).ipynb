{
  "nbformat": 4,
  "nbformat_minor": 0,
  "metadata": {
    "colab": {
      "provenance": [],
      "authorship_tag": "ABX9TyNJeV+2ecxpDbacBTMIi3nV",
      "include_colab_link": true
    },
    "kernelspec": {
      "name": "python3",
      "display_name": "Python 3"
    },
    "language_info": {
      "name": "python"
    }
  },
  "cells": [
    {
      "cell_type": "markdown",
      "metadata": {
        "id": "view-in-github",
        "colab_type": "text"
      },
      "source": [
        "<a href=\"https://colab.research.google.com/github/aheiX/Teaching/blob/main/PuLP%20-%20Tutorial/Tutorial%20PuLP%20(raw).ipynb\" target=\"_parent\"><img src=\"https://colab.research.google.com/assets/colab-badge.svg\" alt=\"Open In Colab\"/></a>"
      ]
    },
    {
      "cell_type": "markdown",
      "source": [
        "# Tutorial PuLP"
      ],
      "metadata": {
        "id": "mUb5Rt1F1Rtr"
      }
    },
    {
      "cell_type": "markdown",
      "source": [
        "This tutorial uses models and solves the well-known Traveling-Salesperson-Problem (TSP) using Python's module PuLP. A thorough tutorial on the implementaion of the TSP in CPLEX can be found here: [TSP Tutorial on CPLEX](https://www.scm.bwl.uni-kiel.de/de/lehre/tutorial-on-cplex.pdf). There, the TSP and it's formulation is explained in more detail. \n",
        "\n"
      ],
      "metadata": {
        "id": "XDl9Y-Zq1NtE"
      }
    },
    {
      "cell_type": "markdown",
      "source": [
        "## Problem description"
      ],
      "metadata": {
        "id": "uhgtLzBU1-ps"
      }
    },
    {
      "cell_type": "markdown",
      "source": [
        "The TSP is one of the most famous combinatorial problems in the fields of mathematics, computer science, and operations research. The classical definition of the TSP is as follows: What is the shortest possible route for a traveling salesperson seeking to visit each city on a list exactly once and return to his city of origin? (Cook, William (2012): *In Pursuit of the Travelin Salesman*).\n",
        "\n",
        "While the problem is easy to understand and easy to formulate as a mathematical model, solving it to optimality through complete enumeration of all feasible solutions quickly becomes intractable as the number of potential solutions grows exponentially in the number of cities to visit.\n",
        "\n",
        "To date, there exists no algorithm that solves the TSP to optimality in polynomial time and it is widely believed that there is no such algorithm. However, heuristics are usually capable of finding very good solutions in a short computation time. "
      ],
      "metadata": {
        "id": "bMLKGyAa7MdW"
      }
    },
    {
      "cell_type": "markdown",
      "source": [
        "## Mathematical formulation\n"
      ],
      "metadata": {
        "id": "E1dESavD4xa1"
      }
    },
    {
      "cell_type": "markdown",
      "source": [
        "Graph-based formulations are used based on the paper from Langevin, André, Francois Soumis, and Jacques Desrosiers (\"Classification of travelling salesman problem formulations\". In: Operations Research Letters. 1990). For the subtour breaking constraints, we present the two formulations: the formulation from Miller, Tucker and Zemlin (1960) and the formulation from Gavish and Graves (1976). Both formulations yield to the same solution.\n",
        "\n",
        "**General notation:**\n",
        "Let $N$ denote the number of nodes in the network, i.e., the number of cities. The distance for the salesperson to travel between any two nodes $i$ and $j$ is denoted with $c_{ij}$. Decision variable $x_{ij}$ is used to describe if the salesperson traverses from node $i$ to node $j$ ($x_{ij}=1$), or not ($x_{ij}=0$)."
      ],
      "metadata": {
        "id": "PQY-9VWX4Yx_"
      }
    },
    {
      "cell_type": "markdown",
      "source": [
        "### Miller, Tucker and Zemlin (1960)"
      ],
      "metadata": {
        "id": "Lf48LEm20knl"
      }
    },
    {
      "cell_type": "markdown",
      "source": [
        "In the following, a formulation from Miller, Tucker, and Zemlin (1960), henceforth referred to as MTZ, is used. In addition to the general notation, the MTZ formulation requires one additional decision variable $u_i$ that describes the position of a node in the salesperson’s tour. Using this notation, the mathematical model for the TSP is as follows: \n",
        "<br><br>\n",
        "$\n",
        "\\begin{align}\n",
        "  \\begin{array}{lll}\n",
        "    &\\textbf{Objective} & \\\\\n",
        "    & \\min \\sum_{i=1,\\dots,N} \\sum_{j=1,\\dots,N} c_{ij} \\cdot x_{ij} &~~~ (1) \\\\\n",
        "    &&\\\\\n",
        "    &\\textbf{Constraints} & \\\\\n",
        "    & \\sum\\limits_{i=1}^{N} x_{ij} = 1,~ \\forall~ j = 1,\\dots,N  &~~~ (2) \\\\\n",
        "    & \\sum\\limits_{j=1}^{N} x_{ij} = 1,~ \\forall~ i = 1,\\dots,N  &~~~ (3) \\\\\n",
        "    & x_{ii} = 0,~ \\forall~ i = 1,\\dots,N  &~~~ (4) \\\\\n",
        "    & u_{i} - u_{j} + N \\cdot x_{ij} \\le N -1,~ \\forall~ i,j = 1,\\dots,N: j \\ne 1 ~\\text{and}~ i \\ne j  &~~~ (5) \\\\\n",
        "    & u_{i} \\in \\mathbb{Z}^{\\text{nonneg}},~ \\forall~ i = 1,\\dots,N  &~~~ (6) \\\\\n",
        "    & x_{ij} \\in \\{0,1\\},~ \\forall~ i,j = 1,\\dots,N  &~~~ (7) \\\\\n",
        "  \\end{array}\n",
        "\\end{align}\n",
        "$\n",
        "<br><br>\n",
        "Equation (1) states the objective (distance minimization) by summing up the distances of the selected arcs. Equations (2) to (4) ensure that the salesperson enters and exists each node exactly once (i.e., that each node is visited exactly once), respectively. Equations (5) restricts solutions with subtour using the MTZ formulation. In particular, this is done by stating that each customer is assigned to exactly one position, that each position is assigned to exactly one customer, and that the positions correspond to the actual tour of the salesperson (represented by $x_{ij}$). Finally, Equations (6) and (7) state the domains of the decision variables."
      ],
      "metadata": {
        "id": "WHmjA9XE7Q_M"
      }
    },
    {
      "cell_type": "markdown",
      "source": [
        "### Gavish and Graves (1976)"
      ],
      "metadata": {
        "id": "Dyc04EbU0xON"
      }
    },
    {
      "cell_type": "markdown",
      "source": [
        "In the following, a formulation from Gavish and Graves (1976), henceforth referred to as GG, is used. It has a similar level of difficulty compared to the MTZ formulation. In particular, GG propose to use a two-dimensional integer decision variable $z_{ij}$ to track a travelled arc’s position in the salesperson’s tour. A very similar logic to the MTZ formulation, in which decision variable $u_i$ is used to track a city’s position in the salesperson’s tour. Using this notation, the mathematical model for the TSP is as follows: \n",
        "<br><br>\n",
        "$\n",
        "\\begin{align}\n",
        "  \\begin{array}{lll}\n",
        "    &\\textbf{Objective} & \\\\\n",
        "    & \\min \\sum_{i=1,\\dots,N} \\sum_{j=1,\\dots,N} c_{ij} \\cdot x_{ij} &~~~ (1) \\\\\n",
        "    &&\\\\\n",
        "    &\\textbf{Constraints} & \\\\\n",
        "    & \\sum\\limits_{i=1}^{N} x_{ij} = 1,~ \\forall~ j = 1,\\dots,N  &~~~ (2) \\\\\n",
        "    & \\sum\\limits_{j=1}^{N} x_{ij} = 1,~ \\forall~ i = 1,\\dots,N  &~~~ (3) \\\\\n",
        "    & x_{ii} = 0,~ \\forall~ i = 1,\\dots,N  &~~~ (4) \\\\\n",
        "    &  \\sum\\limits_{j=1}^{N} z_{ij} - \\sum\\limits_{j=2}^{N} z_{ji} = 1,~ \\forall~ i = 2,\\dots,N &~~~ (5) \\\\\n",
        "    & z_{ij} \\le x_{ij} \\cdot (N - 1),~ \\forall~ i = 2,\\dots,N, j = 1,\\dots,N &~~~ (6) \\\\\n",
        "    & z_{i} \\in \\mathbb{Z}^{\\text{nonneg}},~ \\forall~ i = 1,\\dots,N  &~~~ (7) \\\\\n",
        "    & x_{ij} \\in \\{0,1\\},~ \\forall~ i,j = 1,\\dots,N  &~~~ (8) \\\\\n",
        "  \\end{array}\n",
        "\\end{align}\n",
        "$\n",
        "<br><br>\n",
        "Equation (1) states the objective (distance minimization) by summing up the distances of the selected arcs. Equations (2) to (4) ensure that the salesperson enters and exists each node exactly once (i.e., that each node is visited exactly once), respectively. Equations (5) and (6) restrict solutions with subtour using the GG formulation. In particular, Equation (5) states that the value of the $z_{ij}$-variable is set so that the arc leaving a city is exactly one index position higher than the arc entering a city. The sum is used here as Equations (2) and (3) ensure that exactly one arc is entering and leaving each city, respectively. With this, the formulation forces the model to consider a single full cycle involving all the cities. Equation (9) ensures that the $z_{ij}$-variable can only take value 1 if the corresponding arc is also used in the tour (e.g., if $x_{ij}=1$). Finally, Equations (7) and (8) state the domains of the decision variables."
      ],
      "metadata": {
        "id": "ao2R9nj64cqW"
      }
    },
    {
      "cell_type": "markdown",
      "source": [
        "## Case study"
      ],
      "metadata": {
        "id": "IzOWtwskHB9y"
      }
    },
    {
      "cell_type": "markdown",
      "source": [
        "We use an artificial small-sized data set that is used throughout this tutorial. The example consist of nine locations in which the first location ('Bahnhof')  is the salesperson's city of origin (also referred to as depot). The following table shows the latitude and longitude information of the locations:\n",
        "<br><br>\n",
        "\\begin{array}{lll}\n",
        "         name  & latitude & longitude \\\\\n",
        "         \\hline\n",
        "      \\text{Bahnhof} & 54.315487 & 10.132285 \\\\\n",
        "\\text{Friedrichsort} & 54.393713 & 10.184142 \\\\\n",
        "     \\text{Holtenau} & 54.374804 & 10.148470 \\\\\n",
        "   \\text{University} & 54.348125 & 10.117918 \\\\\n",
        "        \\text{Mitte} & 54.324606 & 10.136630 \\\\\n",
        "       \\text{Garden} & 54.313102 & 10.150910 \\\\\n",
        "  \\text{Wellingdorf} & 54.328293 & 10.179582 \\\\\n",
        "   \\text{Heikendorf} & 54.379798 & 10.212037 \\\\\n",
        "        \\text{Laboe} & 54.409884 & 10.232679 \\\\\n",
        "\\end{array}"
      ],
      "metadata": {
        "id": "1Wz2VLWKHGaA"
      }
    },
    {
      "cell_type": "code",
      "source": [
        "# input data as python matrix\n",
        "input_data = [\n",
        "     ['Bahnhof', 54.31548738087378, 10.132285213361302],\n",
        "     ['Friedrichsort', 54.39371269762963, 10.184142058855787], \n",
        "     ['Holtenau', 54.37480425366618, 10.148469747635753], \n",
        "     ['University', 54.348125164196105, 10.117918463246932],\n",
        "     ['Mitte', 54.32460566307153, 10.136629552088058],\n",
        "     ['Garden', 54.313101710271425, 10.15091017118389],\n",
        "     ['Wellingdorf', 54.32829259013629, 10.179582183151096],\n",
        "     ['Heikendorf', 54.37979792093858, 10.212036804008633],\n",
        "     ['Laboe', 54.409884128644144, 10.232678775594744]\n",
        "]"
      ],
      "metadata": {
        "id": "6sg-bNrX-PKX"
      },
      "execution_count": null,
      "outputs": []
    }
  ]
}