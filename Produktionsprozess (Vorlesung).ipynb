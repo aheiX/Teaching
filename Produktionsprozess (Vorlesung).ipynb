{
  "nbformat": 4,
  "nbformat_minor": 0,
  "metadata": {
    "colab": {
      "provenance": [],
      "authorship_tag": "ABX9TyPOz4UMC1f1cP7QhMTlW82h",
      "include_colab_link": true
    },
    "kernelspec": {
      "name": "python3",
      "display_name": "Python 3"
    },
    "language_info": {
      "name": "python"
    }
  },
  "cells": [
    {
      "cell_type": "markdown",
      "metadata": {
        "id": "view-in-github",
        "colab_type": "text"
      },
      "source": [
        "<a href=\"https://colab.research.google.com/github/aheiX/Teaching/blob/main/Produktionsprozess%20(Vorlesung).ipynb\" target=\"_parent\"><img src=\"https://colab.research.google.com/assets/colab-badge.svg\" alt=\"Open In Colab\"/></a>"
      ]
    },
    {
      "cell_type": "markdown",
      "source": [
        "# Produktionsprozess"
      ],
      "metadata": {
        "id": "VybFMEsK1CS4"
      }
    },
    {
      "cell_type": "markdown",
      "source": [
        "## Aufgabenstellung"
      ],
      "metadata": {
        "id": "3hCgIh3cE1ve"
      }
    },
    {
      "cell_type": "markdown",
      "source": [
        "Wir betrachten einen Produktionsprozess für zwei Produkte. Produkt 1 erzielt einen Gewinn von 3 €/Stück und Produkt 2 einen Gewinn von 5 €/Stück. Insgesamt stehen drei Maschinen für die Produktion zur Verfügung. Die Reihenfolge der Maschinen spielt in diesem Beispiel keine Rolle. Jedes Produkt unterschiedliche lange auf den Maschinen und jede Maschine hat eine maximale Kapazität (siehe Tabelle). Beispiel: Produkt 1 benötigt 1 Stunde auf der Maschine 1 und 3 Stunden auf der Maschine 3 und braucht die Maschine 2 nicht. Das Ziel ist die Maximierung des Gewinns.\n",
        "\n",
        "| Maschine | Produkt 1 | Produkt 2 | Kapazität |\n",
        "| --- | --- | --- | --- |\n",
        "| 1 | 1 | - | 4 |\n",
        "| 2 | - | 2 | 12 |\n",
        "| 3 | 3 | 2 | 18 |"
      ],
      "metadata": {
        "id": "0AuoxcHh1EqW"
      }
    },
    {
      "cell_type": "markdown",
      "source": [
        "## Mathematisches Programm"
      ],
      "metadata": {
        "id": "YXRu7s98NgHe"
      }
    },
    {
      "cell_type": "markdown",
      "source": [
        "**Entscheidungsvariablen**<br>\n",
        "$\n",
        "\\begin{array}{ll}\n",
        "x_1 & \\text{Anzahl zu produzierender P1} \\\\\n",
        "x_2 & \\text{Anzahl zu produzierender P2} \\\\\n",
        "\\end{array}\n",
        "$\n",
        "<br><br>\n",
        "\n",
        "**Zielfunktion**<br>\n",
        "$\\max 3 x_1 + 5 x_2$\n",
        "<br><br>\n",
        "\n",
        "**Nebenbedingungen**<br>\n",
        "$\n",
        "\\begin{array}{llcrcrcll}\n",
        "\\text{Maschine 1} & 1x_1 + 0x_2 & \\le & 4 &  &  & &\\hspace{1.5cm}(1)\\\\\n",
        "\\text{Maschine 2} & 0x_1 + 2x_2 & \\le & 12 &  &  & &\\hspace{1.5cm}(2)\\\\\n",
        "\\text{Maschine 2} & 3x_1 + 2x_2 & \\le & 18 &  &  & &\\hspace{1.5cm}(3)\\\\\n",
        "\\text{Nichtnegativität} & x_1, x_2 & \\ge & 0 &  &  & &\\hspace{1.5cm}(4)\\\\\n",
        "\\end{array}\n",
        "$"
      ],
      "metadata": {
        "id": "FIYbRFEvN930"
      }
    }
  ]
}