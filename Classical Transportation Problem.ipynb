{
  "nbformat": 4,
  "nbformat_minor": 0,
  "metadata": {
    "colab": {
      "provenance": [],
      "authorship_tag": "ABX9TyNXjlF+TXMuN40/NHt9PCe3",
      "include_colab_link": true
    },
    "kernelspec": {
      "name": "python3",
      "display_name": "Python 3"
    },
    "language_info": {
      "name": "python"
    }
  },
  "cells": [
    {
      "cell_type": "markdown",
      "metadata": {
        "id": "view-in-github",
        "colab_type": "text"
      },
      "source": [
        "<a href=\"https://colab.research.google.com/github/aheiX/Teaching/blob/main/Classical%20Transportation%20Problem.ipynb\" target=\"_parent\"><img src=\"https://colab.research.google.com/assets/colab-badge.svg\" alt=\"Open In Colab\"/></a>"
      ]
    },
    {
      "cell_type": "markdown",
      "source": [
        "# Classical Transportation Problem"
      ],
      "metadata": {
        "id": "GbgpSw586Kk1"
      }
    },
    {
      "cell_type": "markdown",
      "source": [
        "## Problem Description"
      ],
      "metadata": {
        "id": "YkMykIDYMaJf"
      }
    },
    {
      "cell_type": "markdown",
      "source": [
        "The classic(al) transportation problem concerns minimizing the cost of transporting a product from sources/supplies to destinations/demands. The three inputs of the model are total units produced at each source, total units needed at each destination, and the cost to transport one unit from each source to each destination. And the objective is to minimize the total cost of transporting all units produced at sources to meet the demands at destinations. (Source: https://gistbok.ucgis.org/bok-topics/classic-transportation-problem)\n",
        "\n",
        "\n",
        "**Example:** <br>\n",
        "Container need to be transported from sources (Kiel, Magdeburg, Dortmund) to destinations (Hamburg, Berlin, Cologne, Munich). The available containers (supply) in Kiel, Magdeburg, and Dortmund are 45, 120, and 9, respectively. The demands in Hamburg, Berlin, Cologne, Munich are 80, 78, 47, and 55, respectively The transportation costs in tsd. Euro per container are shown in the following table:\n",
        "\n",
        "<br>\n",
        "$\n",
        "\\begin{array}{lrrrrrrr}\n",
        "    \\hline\n",
        "    \\text{} & \\text{Hamburg} & \\text{Berlin} & \\text{Cologne} & \\text{Munich} \\\\ \\hline\n",
        "     \\text{Kiel} & 20 & 40 & 50 & 120 \\\\\n",
        "     \\text{Magdeburg} & 30 & 10 & 40 & 60 \\\\\n",
        "     \\text{Dortmund} & 45 & 40 & 10 & 50 \\\\\n",
        "     \\hline\n",
        "\\end{array}\n",
        "$\n",
        "<br><br>\n",
        "\n",
        "How to minimize the total cost of transporting all units produced at sources to meet the demands at destinations?\n",
        "\n"
      ],
      "metadata": {
        "id": "RXKMtRvhMe54"
      }
    },
    {
      "cell_type": "markdown",
      "source": [
        "## Mathematical Program"
      ],
      "metadata": {
        "id": "GMXKGXV36Pmk"
      }
    },
    {
      "cell_type": "markdown",
      "source": [
        "**Notation:**\n",
        "\\begin{array}{ll}\n",
        "S & \\text{Set of source/supply nodes}\\\\\n",
        "D & \\text{Set of destination/demand nodes}\\\\\n",
        "s_i & \\text{Supply at node } i \\in S\\\\\n",
        "d_i & \\text{Demand at node } j \\in D\\\\\n",
        "c_{ij}  & \\text{Transportation costs between supply node $i \\in S$ and demand node $j \\in D$}\\\\\n",
        "\\end{array}\n",
        "<br>\n",
        "\n",
        "**Decision variables:**\n",
        "\\begin{array}{ll}\n",
        "x_{ij} & \\text{Quantity transported between supply node $i \\in S$ and demand node $j \\in D$}\\\\\n",
        "\\end{array}\n",
        "<br>\n",
        "\n",
        "**Objective:** <br>\n",
        "$\n",
        "\\begin{align}\n",
        "  \\begin{array}{llll}\n",
        "    & \\min \\sum\\limits_{i \\in S, j \\in D} c_{ij} \\cdot x_{ij} & &~~~  (1) \\\\\n",
        "  \\end{array}\n",
        "\\end{align}\n",
        "$\n",
        "<br>\n",
        "\n",
        "**Constraints:**<br>\n",
        "$\n",
        "\\begin{align}\n",
        "  \\begin{array}{llll}\n",
        "    & s_i = \\sum\\limits_{j \\in D} x_{ij} &,~ \\forall~ i \\in S &~~~ (2) \\\\\n",
        "    & d_j = \\sum\\limits_{i \\in S} x_{ij} &,~ \\forall~ j \\in D &~~~ (3) \\\\\n",
        "    & x_{ij} \\ge 0 &,~ \\forall~ i \\in S, j \\in D &~~~ (4) \\\\\n",
        "  \\end{array}\n",
        "\\end{align}\n",
        "$"
      ],
      "metadata": {
        "id": "q10x0kvV6U7o"
      }
    },
    {
      "cell_type": "markdown",
      "source": [
        "## Implementation"
      ],
      "metadata": {
        "id": "hRO_cR8W6-0R"
      }
    },
    {
      "cell_type": "markdown",
      "source": [
        "### Data"
      ],
      "metadata": {
        "id": "h-8gkj38cnzD"
      }
    },
    {
      "cell_type": "code",
      "source": [
        "# Supply nodes\n",
        "S = ['Kiel', 'Magdeburg', 'Dortmund']\n",
        "\n",
        "# Supply quantity (number of containers)\n",
        "s = {'Kiel': 45, 'Magdeburg': 120, 'Dortmund': 95}\n",
        "\n",
        "# Demand nodes\n",
        "D = ['Hamburg', 'Berlin', 'Cologne', 'Munich']\n",
        "\n",
        "# Demand quantity (number of containers)\n",
        "d = {'Hamburg': 80, 'Berlin': 78, 'Cologne': 47, 'Munich': 55}\n",
        "\n",
        "# Costs (tsd. Euro per container)\n",
        "c = {\n",
        "    'Kiel': {'Hamburg': 20, 'Berlin': 40, 'Cologne': 50, 'Munich': 120},\n",
        "    'Magdeburg': {'Hamburg': 30, 'Berlin': 10, 'Cologne': 40, 'Munich': 60},\n",
        "    'Dortmund': {'Hamburg': 45, 'Berlin': 40, 'Cologne': 10, 'Munich': 50},\n",
        "}"
      ],
      "metadata": {
        "id": "W15eoB798twU"
      },
      "execution_count": null,
      "outputs": []
    },
    {
      "cell_type": "markdown",
      "source": [
        "### PuLP model"
      ],
      "metadata": {
        "id": "DLTrVOr-63Wo"
      }
    },
    {
      "cell_type": "code",
      "source": [
        "!pip install pulp\n",
        "import pulp"
      ],
      "metadata": {
        "id": "yNo_6sfG601B",
        "outputId": "de2210f6-29df-4cf7-be9a-d3dc8fa2e326",
        "colab": {
          "base_uri": "https://localhost:8080/"
        }
      },
      "execution_count": null,
      "outputs": [
        {
          "output_type": "stream",
          "name": "stdout",
          "text": [
            "Collecting pulp\n",
            "  Downloading PuLP-2.7.0-py3-none-any.whl (14.3 MB)\n",
            "\u001b[2K     \u001b[90m━━━━━━━━━━━━━━━━━━━━━━━━━━━━━━━━━━━━━━━━\u001b[0m \u001b[32m14.3/14.3 MB\u001b[0m \u001b[31m61.2 MB/s\u001b[0m eta \u001b[36m0:00:00\u001b[0m\n",
            "\u001b[?25hInstalling collected packages: pulp\n",
            "Successfully installed pulp-2.7.0\n"
          ]
        }
      ]
    },
    {
      "cell_type": "code",
      "source": [
        "# Model\n",
        "model = pulp.LpProblem(name='Classical_Transportation_Problem',\n",
        "                       sense=pulp.constants.LpMinimize)\n",
        "\n",
        "# Decision variables\n",
        "x = pulp.LpVariable.dicts(name='x', indices=(S, D), lowBound=0)\n",
        "\n",
        "# (1) Objective\n",
        "model += pulp.lpSum(c[i][j] * x[i][j] for i in S for j in D), '(1)'\n",
        "\n",
        "# (2)\n",
        "for i in A:\n",
        "  model += a[i] == pulp.lpSum(x[i][j] for j in D), '(2)_' + str(i)\n",
        "\n",
        "# (2)\n",
        "for j in N:\n",
        "  model += b[j] == pulp.lpSum(x[i][j] for i in S), '(3)_' + str(j)"
      ],
      "metadata": {
        "id": "5sx3GUW-OSoI"
      },
      "execution_count": null,
      "outputs": []
    },
    {
      "cell_type": "markdown",
      "source": [
        "### Solution"
      ],
      "metadata": {
        "id": "ZBP9o2G267xA"
      }
    },
    {
      "cell_type": "markdown",
      "source": [
        "#### Print transport flows"
      ],
      "metadata": {
        "id": "8deQFK5ATKwh"
      }
    },
    {
      "cell_type": "code",
      "source": [
        "# solve problem\n",
        "model.solve()\n",
        "\n",
        "# get status\n",
        "print(\"Status:\", pulp.LpStatus[model.status])\n",
        "\n",
        "# get objective value\n",
        "print('Objective value:', round(pulp.value(model.objective), 2), 'tsd. Euro')\n",
        "\n",
        "# get value of decision variable\n",
        "for i in S:\n",
        "  for j in D:\n",
        "    if x[i][j].varValue > 0:\n",
        "      print('From ' + str(i) + ' to ' + str(j) + ': ' + str(x[i][j].varValue) + ' container')"
      ],
      "metadata": {
        "colab": {
          "base_uri": "https://localhost:8080/"
        },
        "id": "Qw7Os3H4BelC",
        "outputId": "f6c1db8a-957a-4d9a-84e9-b29131a5531c"
      },
      "execution_count": null,
      "outputs": [
        {
          "output_type": "stream",
          "name": "stdout",
          "text": [
            "Status: Optimal\n",
            "Objective value: 6020.0 tsd. Euro\n",
            "From Kiel to Hamburg: 45.0 Container\n",
            "From Magdeburg to Hamburg: 35.0 Container\n",
            "From Magdeburg to Berlin: 78.0 Container\n",
            "From Magdeburg to Munich: 7.0 Container\n",
            "From Dortmund to Cologne: 47.0 Container\n",
            "From Dortmund to Munich: 48.0 Container\n"
          ]
        }
      ]
    },
    {
      "cell_type": "markdown",
      "source": [
        "#### Transport flows as heatmap"
      ],
      "metadata": {
        "id": "q6LScIELTPZw"
      }
    },
    {
      "cell_type": "code",
      "source": [
        "import plotly.express as px"
      ],
      "metadata": {
        "id": "SjFHD4YySRkI"
      },
      "execution_count": null,
      "outputs": []
    },
    {
      "cell_type": "code",
      "source": [
        "flow_matrix = [[x[i][j].varValue for j in N] for i in A]\n",
        "\n",
        "fig = px.imshow(flow_matrix,\n",
        "                labels=dict(x=\"Destination\", y=\"Source\", color=\"Flow\"),\n",
        "                x=N,\n",
        "                y=A,\n",
        "                text_auto=True,\n",
        "                color_continuous_scale='Reds'\n",
        "               )\n",
        "fig.show()"
      ],
      "metadata": {
        "id": "2SiP-N-EdZE7",
        "colab": {
          "base_uri": "https://localhost:8080/",
          "height": 542
        },
        "outputId": "729411be-f3eb-4abc-d588-3dfeedc9d143"
      },
      "execution_count": null,
      "outputs": [
        {
          "output_type": "display_data",
          "data": {
            "text/html": [
              "<html>\n",
              "<head><meta charset=\"utf-8\" /></head>\n",
              "<body>\n",
              "    <div>            <script src=\"https://cdnjs.cloudflare.com/ajax/libs/mathjax/2.7.5/MathJax.js?config=TeX-AMS-MML_SVG\"></script><script type=\"text/javascript\">if (window.MathJax && window.MathJax.Hub && window.MathJax.Hub.Config) {window.MathJax.Hub.Config({SVG: {font: \"STIX-Web\"}});}</script>                <script type=\"text/javascript\">window.PlotlyConfig = {MathJaxConfig: 'local'};</script>\n",
              "        <script charset=\"utf-8\" src=\"https://cdn.plot.ly/plotly-2.24.1.min.js\"></script>                <div id=\"296c6dd4-bd3d-4c1e-9903-fdbe6f325e66\" class=\"plotly-graph-div\" style=\"height:525px; width:100%;\"></div>            <script type=\"text/javascript\">                                    window.PLOTLYENV=window.PLOTLYENV || {};                                    if (document.getElementById(\"296c6dd4-bd3d-4c1e-9903-fdbe6f325e66\")) {                    Plotly.newPlot(                        \"296c6dd4-bd3d-4c1e-9903-fdbe6f325e66\",                        [{\"coloraxis\":\"coloraxis\",\"name\":\"0\",\"texttemplate\":\"%{z}\",\"x\":[\"Hamburg\",\"Berlin\",\"Cologne\",\"Munich\"],\"y\":[\"Kiel\",\"Magdeburg\",\"Dortmund\"],\"z\":[[45.0,0.0,0.0,0.0],[35.0,78.0,0.0,7.0],[0.0,0.0,47.0,48.0]],\"type\":\"heatmap\",\"xaxis\":\"x\",\"yaxis\":\"y\",\"hovertemplate\":\"Destination: %{x}\\u003cbr\\u003eSource: %{y}\\u003cbr\\u003eFlow: %{z}\\u003cextra\\u003e\\u003c\\u002fextra\\u003e\"}],                        {\"template\":{\"data\":{\"histogram2dcontour\":[{\"type\":\"histogram2dcontour\",\"colorbar\":{\"outlinewidth\":0,\"ticks\":\"\"},\"colorscale\":[[0.0,\"#0d0887\"],[0.1111111111111111,\"#46039f\"],[0.2222222222222222,\"#7201a8\"],[0.3333333333333333,\"#9c179e\"],[0.4444444444444444,\"#bd3786\"],[0.5555555555555556,\"#d8576b\"],[0.6666666666666666,\"#ed7953\"],[0.7777777777777778,\"#fb9f3a\"],[0.8888888888888888,\"#fdca26\"],[1.0,\"#f0f921\"]]}],\"choropleth\":[{\"type\":\"choropleth\",\"colorbar\":{\"outlinewidth\":0,\"ticks\":\"\"}}],\"histogram2d\":[{\"type\":\"histogram2d\",\"colorbar\":{\"outlinewidth\":0,\"ticks\":\"\"},\"colorscale\":[[0.0,\"#0d0887\"],[0.1111111111111111,\"#46039f\"],[0.2222222222222222,\"#7201a8\"],[0.3333333333333333,\"#9c179e\"],[0.4444444444444444,\"#bd3786\"],[0.5555555555555556,\"#d8576b\"],[0.6666666666666666,\"#ed7953\"],[0.7777777777777778,\"#fb9f3a\"],[0.8888888888888888,\"#fdca26\"],[1.0,\"#f0f921\"]]}],\"heatmap\":[{\"type\":\"heatmap\",\"colorbar\":{\"outlinewidth\":0,\"ticks\":\"\"},\"colorscale\":[[0.0,\"#0d0887\"],[0.1111111111111111,\"#46039f\"],[0.2222222222222222,\"#7201a8\"],[0.3333333333333333,\"#9c179e\"],[0.4444444444444444,\"#bd3786\"],[0.5555555555555556,\"#d8576b\"],[0.6666666666666666,\"#ed7953\"],[0.7777777777777778,\"#fb9f3a\"],[0.8888888888888888,\"#fdca26\"],[1.0,\"#f0f921\"]]}],\"heatmapgl\":[{\"type\":\"heatmapgl\",\"colorbar\":{\"outlinewidth\":0,\"ticks\":\"\"},\"colorscale\":[[0.0,\"#0d0887\"],[0.1111111111111111,\"#46039f\"],[0.2222222222222222,\"#7201a8\"],[0.3333333333333333,\"#9c179e\"],[0.4444444444444444,\"#bd3786\"],[0.5555555555555556,\"#d8576b\"],[0.6666666666666666,\"#ed7953\"],[0.7777777777777778,\"#fb9f3a\"],[0.8888888888888888,\"#fdca26\"],[1.0,\"#f0f921\"]]}],\"contourcarpet\":[{\"type\":\"contourcarpet\",\"colorbar\":{\"outlinewidth\":0,\"ticks\":\"\"}}],\"contour\":[{\"type\":\"contour\",\"colorbar\":{\"outlinewidth\":0,\"ticks\":\"\"},\"colorscale\":[[0.0,\"#0d0887\"],[0.1111111111111111,\"#46039f\"],[0.2222222222222222,\"#7201a8\"],[0.3333333333333333,\"#9c179e\"],[0.4444444444444444,\"#bd3786\"],[0.5555555555555556,\"#d8576b\"],[0.6666666666666666,\"#ed7953\"],[0.7777777777777778,\"#fb9f3a\"],[0.8888888888888888,\"#fdca26\"],[1.0,\"#f0f921\"]]}],\"surface\":[{\"type\":\"surface\",\"colorbar\":{\"outlinewidth\":0,\"ticks\":\"\"},\"colorscale\":[[0.0,\"#0d0887\"],[0.1111111111111111,\"#46039f\"],[0.2222222222222222,\"#7201a8\"],[0.3333333333333333,\"#9c179e\"],[0.4444444444444444,\"#bd3786\"],[0.5555555555555556,\"#d8576b\"],[0.6666666666666666,\"#ed7953\"],[0.7777777777777778,\"#fb9f3a\"],[0.8888888888888888,\"#fdca26\"],[1.0,\"#f0f921\"]]}],\"mesh3d\":[{\"type\":\"mesh3d\",\"colorbar\":{\"outlinewidth\":0,\"ticks\":\"\"}}],\"scatter\":[{\"fillpattern\":{\"fillmode\":\"overlay\",\"size\":10,\"solidity\":0.2},\"type\":\"scatter\"}],\"parcoords\":[{\"type\":\"parcoords\",\"line\":{\"colorbar\":{\"outlinewidth\":0,\"ticks\":\"\"}}}],\"scatterpolargl\":[{\"type\":\"scatterpolargl\",\"marker\":{\"colorbar\":{\"outlinewidth\":0,\"ticks\":\"\"}}}],\"bar\":[{\"error_x\":{\"color\":\"#2a3f5f\"},\"error_y\":{\"color\":\"#2a3f5f\"},\"marker\":{\"line\":{\"color\":\"#E5ECF6\",\"width\":0.5},\"pattern\":{\"fillmode\":\"overlay\",\"size\":10,\"solidity\":0.2}},\"type\":\"bar\"}],\"scattergeo\":[{\"type\":\"scattergeo\",\"marker\":{\"colorbar\":{\"outlinewidth\":0,\"ticks\":\"\"}}}],\"scatterpolar\":[{\"type\":\"scatterpolar\",\"marker\":{\"colorbar\":{\"outlinewidth\":0,\"ticks\":\"\"}}}],\"histogram\":[{\"marker\":{\"pattern\":{\"fillmode\":\"overlay\",\"size\":10,\"solidity\":0.2}},\"type\":\"histogram\"}],\"scattergl\":[{\"type\":\"scattergl\",\"marker\":{\"colorbar\":{\"outlinewidth\":0,\"ticks\":\"\"}}}],\"scatter3d\":[{\"type\":\"scatter3d\",\"line\":{\"colorbar\":{\"outlinewidth\":0,\"ticks\":\"\"}},\"marker\":{\"colorbar\":{\"outlinewidth\":0,\"ticks\":\"\"}}}],\"scattermapbox\":[{\"type\":\"scattermapbox\",\"marker\":{\"colorbar\":{\"outlinewidth\":0,\"ticks\":\"\"}}}],\"scatterternary\":[{\"type\":\"scatterternary\",\"marker\":{\"colorbar\":{\"outlinewidth\":0,\"ticks\":\"\"}}}],\"scattercarpet\":[{\"type\":\"scattercarpet\",\"marker\":{\"colorbar\":{\"outlinewidth\":0,\"ticks\":\"\"}}}],\"carpet\":[{\"aaxis\":{\"endlinecolor\":\"#2a3f5f\",\"gridcolor\":\"white\",\"linecolor\":\"white\",\"minorgridcolor\":\"white\",\"startlinecolor\":\"#2a3f5f\"},\"baxis\":{\"endlinecolor\":\"#2a3f5f\",\"gridcolor\":\"white\",\"linecolor\":\"white\",\"minorgridcolor\":\"white\",\"startlinecolor\":\"#2a3f5f\"},\"type\":\"carpet\"}],\"table\":[{\"cells\":{\"fill\":{\"color\":\"#EBF0F8\"},\"line\":{\"color\":\"white\"}},\"header\":{\"fill\":{\"color\":\"#C8D4E3\"},\"line\":{\"color\":\"white\"}},\"type\":\"table\"}],\"barpolar\":[{\"marker\":{\"line\":{\"color\":\"#E5ECF6\",\"width\":0.5},\"pattern\":{\"fillmode\":\"overlay\",\"size\":10,\"solidity\":0.2}},\"type\":\"barpolar\"}],\"pie\":[{\"automargin\":true,\"type\":\"pie\"}]},\"layout\":{\"autotypenumbers\":\"strict\",\"colorway\":[\"#636efa\",\"#EF553B\",\"#00cc96\",\"#ab63fa\",\"#FFA15A\",\"#19d3f3\",\"#FF6692\",\"#B6E880\",\"#FF97FF\",\"#FECB52\"],\"font\":{\"color\":\"#2a3f5f\"},\"hovermode\":\"closest\",\"hoverlabel\":{\"align\":\"left\"},\"paper_bgcolor\":\"white\",\"plot_bgcolor\":\"#E5ECF6\",\"polar\":{\"bgcolor\":\"#E5ECF6\",\"angularaxis\":{\"gridcolor\":\"white\",\"linecolor\":\"white\",\"ticks\":\"\"},\"radialaxis\":{\"gridcolor\":\"white\",\"linecolor\":\"white\",\"ticks\":\"\"}},\"ternary\":{\"bgcolor\":\"#E5ECF6\",\"aaxis\":{\"gridcolor\":\"white\",\"linecolor\":\"white\",\"ticks\":\"\"},\"baxis\":{\"gridcolor\":\"white\",\"linecolor\":\"white\",\"ticks\":\"\"},\"caxis\":{\"gridcolor\":\"white\",\"linecolor\":\"white\",\"ticks\":\"\"}},\"coloraxis\":{\"colorbar\":{\"outlinewidth\":0,\"ticks\":\"\"}},\"colorscale\":{\"sequential\":[[0.0,\"#0d0887\"],[0.1111111111111111,\"#46039f\"],[0.2222222222222222,\"#7201a8\"],[0.3333333333333333,\"#9c179e\"],[0.4444444444444444,\"#bd3786\"],[0.5555555555555556,\"#d8576b\"],[0.6666666666666666,\"#ed7953\"],[0.7777777777777778,\"#fb9f3a\"],[0.8888888888888888,\"#fdca26\"],[1.0,\"#f0f921\"]],\"sequentialminus\":[[0.0,\"#0d0887\"],[0.1111111111111111,\"#46039f\"],[0.2222222222222222,\"#7201a8\"],[0.3333333333333333,\"#9c179e\"],[0.4444444444444444,\"#bd3786\"],[0.5555555555555556,\"#d8576b\"],[0.6666666666666666,\"#ed7953\"],[0.7777777777777778,\"#fb9f3a\"],[0.8888888888888888,\"#fdca26\"],[1.0,\"#f0f921\"]],\"diverging\":[[0,\"#8e0152\"],[0.1,\"#c51b7d\"],[0.2,\"#de77ae\"],[0.3,\"#f1b6da\"],[0.4,\"#fde0ef\"],[0.5,\"#f7f7f7\"],[0.6,\"#e6f5d0\"],[0.7,\"#b8e186\"],[0.8,\"#7fbc41\"],[0.9,\"#4d9221\"],[1,\"#276419\"]]},\"xaxis\":{\"gridcolor\":\"white\",\"linecolor\":\"white\",\"ticks\":\"\",\"title\":{\"standoff\":15},\"zerolinecolor\":\"white\",\"automargin\":true,\"zerolinewidth\":2},\"yaxis\":{\"gridcolor\":\"white\",\"linecolor\":\"white\",\"ticks\":\"\",\"title\":{\"standoff\":15},\"zerolinecolor\":\"white\",\"automargin\":true,\"zerolinewidth\":2},\"scene\":{\"xaxis\":{\"backgroundcolor\":\"#E5ECF6\",\"gridcolor\":\"white\",\"linecolor\":\"white\",\"showbackground\":true,\"ticks\":\"\",\"zerolinecolor\":\"white\",\"gridwidth\":2},\"yaxis\":{\"backgroundcolor\":\"#E5ECF6\",\"gridcolor\":\"white\",\"linecolor\":\"white\",\"showbackground\":true,\"ticks\":\"\",\"zerolinecolor\":\"white\",\"gridwidth\":2},\"zaxis\":{\"backgroundcolor\":\"#E5ECF6\",\"gridcolor\":\"white\",\"linecolor\":\"white\",\"showbackground\":true,\"ticks\":\"\",\"zerolinecolor\":\"white\",\"gridwidth\":2}},\"shapedefaults\":{\"line\":{\"color\":\"#2a3f5f\"}},\"annotationdefaults\":{\"arrowcolor\":\"#2a3f5f\",\"arrowhead\":0,\"arrowwidth\":1},\"geo\":{\"bgcolor\":\"white\",\"landcolor\":\"#E5ECF6\",\"subunitcolor\":\"white\",\"showland\":true,\"showlakes\":true,\"lakecolor\":\"white\"},\"title\":{\"x\":0.05},\"mapbox\":{\"style\":\"light\"}}},\"xaxis\":{\"anchor\":\"y\",\"domain\":[0.0,1.0],\"scaleanchor\":\"y\",\"constrain\":\"domain\",\"title\":{\"text\":\"Destination\"}},\"yaxis\":{\"anchor\":\"x\",\"domain\":[0.0,1.0],\"autorange\":\"reversed\",\"constrain\":\"domain\",\"title\":{\"text\":\"Source\"}},\"coloraxis\":{\"colorbar\":{\"title\":{\"text\":\"Flow\"}},\"colorscale\":[[0.0,\"rgb(255,245,240)\"],[0.125,\"rgb(254,224,210)\"],[0.25,\"rgb(252,187,161)\"],[0.375,\"rgb(252,146,114)\"],[0.5,\"rgb(251,106,74)\"],[0.625,\"rgb(239,59,44)\"],[0.75,\"rgb(203,24,29)\"],[0.875,\"rgb(165,15,21)\"],[1.0,\"rgb(103,0,13)\"]]},\"margin\":{\"t\":60}},                        {\"responsive\": true}                    ).then(function(){\n",
              "                            \n",
              "var gd = document.getElementById('296c6dd4-bd3d-4c1e-9903-fdbe6f325e66');\n",
              "var x = new MutationObserver(function (mutations, observer) {{\n",
              "        var display = window.getComputedStyle(gd).display;\n",
              "        if (!display || display === 'none') {{\n",
              "            console.log([gd, 'removed!']);\n",
              "            Plotly.purge(gd);\n",
              "            observer.disconnect();\n",
              "        }}\n",
              "}});\n",
              "\n",
              "// Listen for the removal of the full notebook cells\n",
              "var notebookContainer = gd.closest('#notebook-container');\n",
              "if (notebookContainer) {{\n",
              "    x.observe(notebookContainer, {childList: true});\n",
              "}}\n",
              "\n",
              "// Listen for the clearing of the current output cell\n",
              "var outputEl = gd.closest('.output');\n",
              "if (outputEl) {{\n",
              "    x.observe(outputEl, {childList: true});\n",
              "}}\n",
              "\n",
              "                        })                };                            </script>        </div>\n",
              "</body>\n",
              "</html>"
            ]
          },
          "metadata": {}
        }
      ]
    }
  ]
}