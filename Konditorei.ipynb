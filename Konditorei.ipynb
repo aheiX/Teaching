{
  "nbformat": 4,
  "nbformat_minor": 0,
  "metadata": {
    "colab": {
      "provenance": [],
      "authorship_tag": "ABX9TyM15+30vGZYNXD44FXVb4G5",
      "include_colab_link": true
    },
    "kernelspec": {
      "name": "python3",
      "display_name": "Python 3"
    },
    "language_info": {
      "name": "python"
    }
  },
  "cells": [
    {
      "cell_type": "markdown",
      "metadata": {
        "id": "view-in-github",
        "colab_type": "text"
      },
      "source": [
        "<a href=\"https://colab.research.google.com/github/aheiX/Teaching/blob/main/Konditorei.ipynb\" target=\"_parent\"><img src=\"https://colab.research.google.com/assets/colab-badge.svg\" alt=\"Open In Colab\"/></a>"
      ]
    },
    {
      "cell_type": "markdown",
      "source": [
        "# Konditorei"
      ],
      "metadata": {
        "id": "VybFMEsK1CS4"
      }
    },
    {
      "cell_type": "markdown",
      "source": [
        "## Aufgabenstellung"
      ],
      "metadata": {
        "id": "3hCgIh3cE1ve"
      }
    },
    {
      "cell_type": "markdown",
      "source": [
        "In einer Konditorei werden 4 verschiedene Teilchensorten hergestellt Mandelschnitten, Marmorschnecken, Sandtörtchen und Linzertaler. Zur Herstellung der Teilchen werden Mehl, Zucker, Butter, Nüsse, Kakao und Eier benötigt. Der folgenden Tabelle können Sie entnehmen, wieviel Gramm der einzelnen Zutaten für die jeweiligen Teilchen benötigt werden, welche Mengen der Zutaten jeweils zur Verfügung steht und welche Preise die Teilchen erzielen:\n",
        "\n",
        "<br>\n",
        "$\n",
        "\\begin{array}{lrrrrrrr}\n",
        "    \\hline\n",
        "    \\text{Gramm pro Teilchen} & \\text{Mehl} & \\text{Zucker} & \\text{Butter} & \\text{Mandeln} & \\text{Kakao} & \\text{Eier} & \\text{Verkaufspreis}  \\\\ \\hline\n",
        "     \\text{Mandelschnitten} & 100 & 40 & 40 & 120 & - & 0,5 & 2,00 \\\\ \n",
        "     \\text{Marmorschnecken} & 140 & 32 & 40 & - & 16 & 0,5 & 1,50 \\\\ \n",
        "     \\text{Sandtörtchen} & 160 & 40 & 60 & - & - & 0,5 & 1,20 \\\\ \n",
        "     \\text{Linzertaler} & 160 & 60 & - & 100 & 10 & 1,5 & 6,00 \\\\ \\hline\n",
        "     \\text{Verfügbare Mengen} & 4.000 & 2.000 & 2.400 & 2.000 & 400 & 50 &  \\\\ \n",
        "     \\hline\n",
        "\\end{array}\n",
        "$\n",
        "<br><br>\n",
        "\n",
        "Bei der Herstellung eines Linzerthalers bleibt genau 0,5 Eiweiß übrig das zusammen mit 20 Gramm Mehl, 20 Gramm Zucker und 10 Gramm Mandeln zu einem Mandelcracker verarbeitet werden kann, dessen Erlös 0,12 € beträgt. Anderweitig werden keine Mandelcracker hergestellt. Außerdem ist zu beachten, dass genau die doppelte Anzahl Mandelschnitten wie Sandtörtchen hergestellt werden soll und die Anzahl an Marmorschnecken mindestens ein Viertel der gesamten Menge der produzierten Backwaren betragen soll. Das Ziel der Konditorei ist es, ihren Umsatz zu maximieren."
      ],
      "metadata": {
        "id": "0AuoxcHh1EqW"
      }
    },
    {
      "cell_type": "markdown",
      "source": [
        "## Mathematisches Modell"
      ],
      "metadata": {
        "id": "YXRu7s98NgHe"
      }
    },
    {
      "cell_type": "markdown",
      "source": [
        "**Entscheidungsvariablen**<br>\n",
        "$\n",
        "\\begin{array}{ll}\n",
        "x_1 & \\text{Anzahl Mandelschnitten} \\\\\n",
        "x_2 & \\text{Anzahl Marmorschnecken} \\\\\n",
        "x_3 & \\text{Anzahl Sandtörtchen} \\\\\n",
        "x_4 & \\text{Anzahl Linzertaler} \\\\\n",
        "x_5 & \\text{Anzahl Mandelcracker} \\\\\n",
        "\\end{array}\n",
        "$\n",
        "<br><br>\n",
        "\n",
        "**Zielfunktion**<br>\n",
        "$\\max 2 x_1 + 1,5 x_2 + 1,2 x_3 + 6 x_4 + 0,12 x_5$\n",
        "<br><br>\n",
        "\n",
        "**Nebenbedingungen**<br>\n",
        "$\n",
        "\\begin{array}{lrclcrcll}\n",
        "\\text{Mehl} & 100 x_1 + 140 x_2 + 160 x_3 + 160 x_4 + 20 x_5 & \\le & 4.000 &  &  & &\\hspace{1.5cm}(1)\\\\\n",
        "\\text{Zucker} & 40 x_1 + 32 x_2 + 40 x_3 + 60 x_4 + 12 x_5 & \\le & 2.000 &  &  & &\\hspace{1.5cm}(2)\\\\\n",
        "\\text{Butter} & 40 x_1 + 40 x_2 + 60 x_3 + 0 x_4 + 0 x_5 & \\le & 2.400 &  &  & &\\hspace{1.5cm}(3)\\\\\n",
        "\\text{Mandeln} & 120 x_1 + 0 x_2 + 0 x_3 + 100 x_4 + 10 x_5 & \\le & 2.000 &  &  & &\\hspace{1.5cm}(4)\\\\\n",
        "\\text{Kakao} & 0 x_1 + 16 x_2 + 0 x_3 + 10 x_4 + 0 x_5 & \\le & 400 &  &  & &\\hspace{1.5cm}(5)\\\\\n",
        "\\text{Eier} & 0,5 x_1 + 0,5 x_2 + 0,5 x_3 + 1,5 x_4 + 0 x_5 & \\le & 50 &  &  & &\\hspace{1.5cm}(6)\\\\\n",
        "\\text{Eiweis} & x_4 & = & x_5 &  &  & &\\hspace{1.5cm}(7)\\\\\n",
        "\\text{Mandelschnitten=Sandtörtchen} & x_1 & = & x_3 &  &  & &\\hspace{1.5cm}(8)\\\\\n",
        "\\text{mind. 1/4 Marmorschnetten} & x_2 & \\ge & 0,25(x_1 + x_2 + x_3 + x_4 + x_5) &  &  & &\\hspace{1.5cm}(9)\\\\\n",
        "%\n",
        "\\text{Nichtnegativität} & x_1, x_2, x_3, x_4, x_5 & \\ge & 0 &  &  & &\\hspace{1.5cm}(10)\\\\\n",
        "\\end{array}\n",
        "$"
      ],
      "metadata": {
        "id": "FIYbRFEvN930"
      }
    },
    {
      "cell_type": "markdown",
      "source": [
        "## Implementierung"
      ],
      "metadata": {
        "id": "wWtwxGEcEzi8"
      }
    },
    {
      "cell_type": "code",
      "execution_count": null,
      "metadata": {
        "colab": {
          "base_uri": "https://localhost:8080/"
        },
        "id": "SedRzsCc02Q2",
        "outputId": "9a86f23d-155d-43b8-f8e4-670b52bd8202"
      },
      "outputs": [
        {
          "output_type": "stream",
          "name": "stdout",
          "text": [
            "Looking in indexes: https://pypi.org/simple, https://us-python.pkg.dev/colab-wheels/public/simple/\n",
            "Requirement already satisfied: pulp in /usr/local/lib/python3.9/dist-packages (2.7.0)\n",
            "Status: Optimal\n",
            "Zielwert: 1173333.3260000001\n",
            "x1 = 0.0\n",
            "x2 = 5333.3333\n",
            "x3 = 0.0\n",
            "x4 = 0.0\n"
          ]
        }
      ],
      "source": [
        "# PuLP installieren\n",
        "!pip install pulp\n",
        "import pulp\n",
        "\n",
        "# Modell erstellen\n",
        "model = pulp.LpProblem(name='Produktionsprozess', sense=pulp.constants.LpMaximize)\n",
        "\n",
        "# Entscheidungsvariablen\n",
        "x1 = pulp.LpVariable(name='x1', lowBound=0)\n",
        "x2 = pulp.LpVariable(name='x2', lowBound=0)\n",
        "x3 = pulp.LpVariable(name='x3', lowBound=0)\n",
        "x4 = pulp.LpVariable(name='x4', lowBound=0)\n",
        "x5 = pulp.LpVariable(name='x5', lowBound=0)\n",
        "\n",
        "# Zielfunktion\n",
        "model += 280*x1 + 220*x2 + 140*x3 + 120*x4\n",
        "\n",
        "# Nebenbedingung 1\n",
        "model += 25*(x1 + x3) + 15*(x2 + x4) <= 80000\n",
        "\n",
        "# Nebenbedingung 2 (nicht relevant, weil kein Engpass)\n",
        "\n",
        "# Nebenbedingung 3\n",
        "model += 4*x1 +2*x2 <= 12000\n",
        "\n",
        "# Modell lösen\n",
        "model.solve()\n",
        "\n",
        "# Statistik\n",
        "print('Status:', pulp.LpStatus[model.status])\n",
        "print('Zielwert:', pulp.value(model.objective))\n",
        "for v in model.variables():\n",
        "  print(v.name, '=', v.varValue)"
      ]
    }
  ]
}