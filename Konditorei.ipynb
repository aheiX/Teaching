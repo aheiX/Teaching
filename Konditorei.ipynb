{
  "nbformat": 4,
  "nbformat_minor": 0,
  "metadata": {
    "colab": {
      "provenance": [],
      "authorship_tag": "ABX9TyN9DWVMDICYrNgWK/PKD2Tp",
      "include_colab_link": true
    },
    "kernelspec": {
      "name": "python3",
      "display_name": "Python 3"
    },
    "language_info": {
      "name": "python"
    }
  },
  "cells": [
    {
      "cell_type": "markdown",
      "metadata": {
        "id": "view-in-github",
        "colab_type": "text"
      },
      "source": [
        "<a href=\"https://colab.research.google.com/github/aheiX/Teaching/blob/main/Konditorei.ipynb\" target=\"_parent\"><img src=\"https://colab.research.google.com/assets/colab-badge.svg\" alt=\"Open In Colab\"/></a>"
      ]
    },
    {
      "cell_type": "markdown",
      "source": [
        "# Konditorei"
      ],
      "metadata": {
        "id": "VybFMEsK1CS4"
      }
    },
    {
      "cell_type": "markdown",
      "source": [
        "## Aufgabenstellung"
      ],
      "metadata": {
        "id": "3hCgIh3cE1ve"
      }
    },
    {
      "cell_type": "markdown",
      "source": [
        "In einer Konditorei werden 4 verschiedene Teilchensorten hergestellt Mandelschnitten, Marmorschnecken, Sandtörtchen und Linzertaler. Zur Herstellung der Teilchen werden Mehl, Zucker, Butter, Nüsse, Kakao und Eier benötigt. Der folgenden Tabelle können Sie entnehmen, wieviel Gramm der einzelnen Zutaten für die jeweiligen Teilchen benötigt werden, welche Mengen der Zutaten jeweils zur Verfügung steht und welche Preise die Teilchen erzielen:\n",
        "\n",
        "<br>\n",
        "$\n",
        "\\begin{array}{lrrrrrrr}\n",
        "    \\hline\n",
        "    \\text{Gramm pro Teilchen} & \\text{Mehl} & \\text{Zucker} & \\text{Butter} & \\text{Mandeln} & \\text{Kakao} & \\text{Eier} & \\text{Verkaufspreis}  \\\\ \\hline\n",
        "     \\text{Mandelschnitten} & 100 & 40 & 40 & 120 & - & 0,5 & 2,00 \\\\\n",
        "     \\text{Marmorschnecken} & 140 & 32 & 40 & - & 16 & 0,5 & 1,50 \\\\\n",
        "     \\text{Sandtörtchen} & 160 & 40 & 60 & - & - & 0,5 & 1,20 \\\\\n",
        "     \\text{Linzertaler} & 160 & 60 & - & 100 & 10 & 1,5 & 6,00 \\\\ \\hline\n",
        "     \\text{Verfügbare Mengen} & 4.000 & 2.000 & 2.400 & 2.000 & 400 & 50 &  \\\\\n",
        "     \\hline\n",
        "\\end{array}\n",
        "$\n",
        "<br><br>\n",
        "\n",
        "Bei der Herstellung eines Linzerthalers bleibt genau 0,5 Eiweiß übrig das zusammen mit 20 Gramm Mehl, 20 Gramm Zucker und 10 Gramm Mandeln zu einem Mandelcracker verarbeitet werden kann, dessen Erlös 0,12 € beträgt. Anderweitig werden keine Mandelcracker hergestellt. Außerdem ist zu beachten, dass genau die doppelte Anzahl Mandelschnitten wie Sandtörtchen hergestellt werden soll und die Anzahl an Marmorschnecken mindestens ein Viertel der gesamten Menge der produzierten Backwaren betragen soll. Das Ziel der Konditorei ist es, ihren Umsatz zu maximieren."
      ],
      "metadata": {
        "id": "0AuoxcHh1EqW"
      }
    },
    {
      "cell_type": "markdown",
      "source": [
        "## Mathematisches Modell"
      ],
      "metadata": {
        "id": "YXRu7s98NgHe"
      }
    },
    {
      "cell_type": "markdown",
      "source": [
        "**Entscheidungsvariablen**<br>\n",
        "$\n",
        "\\begin{array}{ll}\n",
        "x_1 & \\text{Anzahl Mandelschnitten} \\\\\n",
        "x_2 & \\text{Anzahl Marmorschnecken} \\\\\n",
        "x_3 & \\text{Anzahl Sandtörtchen} \\\\\n",
        "x_4 & \\text{Anzahl Linzertaler} \\\\\n",
        "x_5 & \\text{Anzahl Mandelcracker} \\\\\n",
        "\\end{array}\n",
        "$\n",
        "<br><br>\n",
        "\n",
        "**Zielfunktion**<br>\n",
        "$\\max 2 x_1 + 1,5 x_2 + 1,2 x_3 + 6 x_4 + 0,12 x_5$\n",
        "<br><br>\n",
        "\n",
        "**Nebenbedingungen**<br>\n",
        "$\n",
        "\\begin{array}{lrclcrcll}\n",
        "\\text{Mehl} & 100 x_1 + 140 x_2 + 160 x_3 + 160 x_4 + 20 x_5 & \\le & 4.000 &  &  & &\\hspace{1.5cm}(1)\\\\\n",
        "\\text{Zucker} & 40 x_1 + 32 x_2 + 40 x_3 + 60 x_4 + 20 x_5 & \\le & 2.000 &  &  & &\\hspace{1.5cm}(2)\\\\\n",
        "\\text{Butter} & 40 x_1 + 40 x_2 + 60 x_3 + 0 x_4 + 0 x_5 & \\le & 2.400 &  &  & &\\hspace{1.5cm}(3)\\\\\n",
        "\\text{Mandeln} & 120 x_1 + 0 x_2 + 0 x_3 + 100 x_4 + 10 x_5 & \\le & 2.000 &  &  & &\\hspace{1.5cm}(4)\\\\\n",
        "\\text{Kakao} & 0 x_1 + 16 x_2 + 0 x_3 + 10 x_4 + 0 x_5 & \\le & 400 &  &  & &\\hspace{1.5cm}(5)\\\\\n",
        "\\text{Eier} & 0,5 x_1 + 0,5 x_2 + 0,5 x_3 + 1,5 x_4 + 0 x_5 & \\le & 50 &  &  & &\\hspace{1.5cm}(6)\\\\\n",
        "\\text{Eiweis} & x_4 & = & x_5 &  &  & &\\hspace{1.5cm}(7)\\\\\n",
        "\\text{Mandelschnitten=2*Sandtörtchen} & x_1 & = & 2x_3 &  &  & &\\hspace{1.5cm}(8)\\\\\n",
        "\\text{mind. 1/4 Marmorschnetten} & x_2 & \\ge & 0,25(x_1 + x_2 + x_3 + x_4 + x_5) &  &  & &\\hspace{1.5cm}(9)\\\\\n",
        "%\n",
        "\\text{Nichtnegativität} & x_1, x_2, x_3, x_4, x_5 & \\ge & 0 &  &  & &\\hspace{1.5cm}(10)\\\\\n",
        "\\end{array}\n",
        "$"
      ],
      "metadata": {
        "id": "FIYbRFEvN930"
      }
    },
    {
      "cell_type": "markdown",
      "source": [
        "## Implementierung"
      ],
      "metadata": {
        "id": "wWtwxGEcEzi8"
      }
    },
    {
      "cell_type": "code",
      "execution_count": 2,
      "metadata": {
        "colab": {
          "base_uri": "https://localhost:8080/"
        },
        "id": "SedRzsCc02Q2",
        "outputId": "0bafb516-6e33-4b75-ff56-076a482a938f"
      },
      "outputs": [
        {
          "output_type": "stream",
          "name": "stdout",
          "text": [
            "Requirement already satisfied: pulp in /usr/local/lib/python3.10/dist-packages (2.7.0)\n",
            "Status: Optimal\n",
            "Zielwert: 104.19511992\n",
            "x1_Mandelschnitten = 0.0\n",
            "x2_Marmorschnecken = 9.7560976\n",
            "x3_Sandtoertchen = 0.0\n",
            "x4_Linzertaler = 14.634146\n",
            "x5_Mandelcracker = 14.634146\n"
          ]
        }
      ],
      "source": [
        "# PuLP installieren\n",
        "!pip install pulp\n",
        "import pulp\n",
        "\n",
        "# Modell erstellen\n",
        "model = pulp.LpProblem(name='Produktionsprozess', sense=pulp.constants.LpMaximize)\n",
        "\n",
        "# Entscheidungsvariablen\n",
        "x1 = pulp.LpVariable(name='x1_Mandelschnitten', lowBound=0)\n",
        "x2 = pulp.LpVariable(name='x2_Marmorschnecken', lowBound=0)\n",
        "x3 = pulp.LpVariable(name='x3_Sandtoertchen', lowBound=0)\n",
        "x4 = pulp.LpVariable(name='x4_Linzertaler', lowBound=0)\n",
        "x5 = pulp.LpVariable(name='x5_Mandelcracker', lowBound=0)\n",
        "\n",
        "# Zielfunktion\n",
        "model += 2*x1 + 1.5*x2 + 1.2*x3 + 6*x4 + 0.12*x5\n",
        "\n",
        "# Nebenbedingung 1\n",
        "model += 100*x1 + 140*x2 + 160*x3 + 160*x4 + 20*x5 <= 4000\n",
        "\n",
        "# Nebenbedingung 2\n",
        "model += 40*x1 + 32*x2 + 40*x3 + 60*x4 + 20*x5 <= 2000\n",
        "\n",
        "# Nebenbedingung 3\n",
        "model += 40*x1 + 40*x2 + 60*x3 + 0*x4 + 0*x5 <= 2400\n",
        "\n",
        "# Nebenbedingung 4\n",
        "model += 120*x1 + 0*x2 + 0*x3 + 100*x4 + 10*x5 <= 2000\n",
        "\n",
        "# Nebenbedingung 5\n",
        "model += 0*x1 + 16*x2 + 0*x3 + 10*x4 + 0*x5 <= 400\n",
        "\n",
        "# Nebenbedingung 6\n",
        "model += 0.5*x1 + 0.5*x2 + 0.5*x3 + 1.5*x4 + 0*x5 <= 50\n",
        "\n",
        "# Nebenbedingung 7\n",
        "model +=  x4 == x5\n",
        "\n",
        "# Nebenbedingung 8\n",
        "model += x1 == 2*x3\n",
        "\n",
        "# Nebenbedingung 9\n",
        "model += x2 >= 0.25*(x1 + x2 + x3 + x4 + x5)\n",
        "\n",
        "\n",
        "# Modell lösen\n",
        "model.solve()\n",
        "\n",
        "# Statistik\n",
        "print('Status:', pulp.LpStatus[model.status])\n",
        "print('Zielwert:', pulp.value(model.objective))\n",
        "for v in model.variables():\n",
        "  print(v.name, '=', v.varValue)"
      ]
    }
  ]
}