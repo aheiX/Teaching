{
  "nbformat": 4,
  "nbformat_minor": 0,
  "metadata": {
    "colab": {
      "provenance": [],
      "authorship_tag": "ABX9TyOPN6pkUy4ZdB3KmvILPuXp",
      "include_colab_link": true
    },
    "kernelspec": {
      "name": "python3",
      "display_name": "Python 3"
    },
    "language_info": {
      "name": "python"
    }
  },
  "cells": [
    {
      "cell_type": "markdown",
      "metadata": {
        "id": "view-in-github",
        "colab_type": "text"
      },
      "source": [
        "<a href=\"https://colab.research.google.com/github/aheiX/Teaching/blob/main/Konditorei.ipynb\" target=\"_parent\"><img src=\"https://colab.research.google.com/assets/colab-badge.svg\" alt=\"Open In Colab\"/></a>"
      ]
    },
    {
      "cell_type": "markdown",
      "source": [
        "# Konditorei"
      ],
      "metadata": {
        "id": "VybFMEsK1CS4"
      }
    },
    {
      "cell_type": "markdown",
      "source": [
        "## Aufgabenstellung"
      ],
      "metadata": {
        "id": "3hCgIh3cE1ve"
      }
    },
    {
      "cell_type": "markdown",
      "source": [
        "In einer Konditorei werden 4 verschiedene Teilchensorten hergestellt Mandelschnitten, Marmorschnecken, Sandtörtchen und Linzertaler. Zur Herstellung der Teilchen werden Mehl, Zucker, Butter, Nüsse, Kakao und Eier benötigt. Der folgenden Tabelle können Sie entnehmen, wieviel Gramm der einzelnen Zutaten für die jeweiligen Teilchen benötigt werden, welche Mengen der Zutaten jeweils zur Verfügung steht und welche Preise die Teilchen erzielen:\n",
        "\n",
        "Bei der Herstellung eines Linzer Thalers bleibt genau 0,5 Eiweiß übrig das zusammen mit 20 Gramm Mehl, 20 Gramm Zucker und 10 Gramm Mandeln zu einem Mandelcracker verarbeitet werden kann, dessen Erlös 0,12 € beträgt. Anderweitig werden keine Mandelcracker hergestellt.\n",
        "Außerdem ist zu beachten, dass genau die doppelte Anzahl Mandelschnitten wie Sandtörtchen hergestellt werden soll und die Anzahl an Marmorschnecken mindestens ein Viertel der gesamten Menge der produzierten Backwaren betragen soll. \n",
        "Das Ziel der Konditorei ist es Komma ihren Umsatz zu maximieren.\n"
      ],
      "metadata": {
        "id": "0AuoxcHh1EqW"
      }
    },
    {
      "cell_type": "markdown",
      "source": [
        "## Mathematisches Modell"
      ],
      "metadata": {
        "id": "YXRu7s98NgHe"
      }
    },
    {
      "cell_type": "markdown",
      "source": [
        "**Entscheidungsvariablen**<br>\n",
        "$\n",
        "\\begin{array}{ll}\n",
        "x_1 & \\text{Anzahl fertiger Kleiderschränke} \\\\\n",
        "x_2 & \\text{Anzahl fertiger Kommoden} \\\\\n",
        "x_2 & \\text{Anzahl halbfertiger Kleiderschränke} \\\\\n",
        "x_2 & \\text{Anzahl halbfertiger Kommoden} \\\\\n",
        "\\end{array}\n",
        "$\n",
        "<br><br>\n",
        "\n",
        "**Zielfunktion**<br>\n",
        "$\\max 280 x_1 + 220 x_2 + 140 x_3 + 120 x_4$\n",
        "<br><br>\n",
        "\n",
        "**Nebenbedingungen**<br>\n",
        "$\n",
        "\\begin{array}{llcrcrcll}\n",
        "\\text{Standardbrett} & 25 \\cdot (x_1 + x_3) + 15 \\cdot (x_2 + x_4) & \\le & 80.000 &  &  & &\\hspace{1.5cm}(1)\\\\\n",
        "\\text{Prozessschritt 1} & 2 \\cdot (x_1 + x_2 + x_3 +x_4) & \\le & M &  &  & &\\hspace{1.5cm}(2)\\\\\n",
        "\\text{Prozessschritt 2} & 4x_1 + 2x_2 & \\le & 12.000 &  &  & &\\hspace{1.5cm}(3)\\\\\n",
        "\\text{Nichtnegativität} & x_1, x_2, x_3, x_4 & \\ge & 0 &  &  & &\\hspace{1.5cm}(5)\\\\\n",
        "\\end{array}\n",
        "$"
      ],
      "metadata": {
        "id": "FIYbRFEvN930"
      }
    },
    {
      "cell_type": "markdown",
      "source": [
        "## Implementierung"
      ],
      "metadata": {
        "id": "wWtwxGEcEzi8"
      }
    },
    {
      "cell_type": "code",
      "execution_count": null,
      "metadata": {
        "colab": {
          "base_uri": "https://localhost:8080/"
        },
        "id": "SedRzsCc02Q2",
        "outputId": "9a86f23d-155d-43b8-f8e4-670b52bd8202"
      },
      "outputs": [
        {
          "output_type": "stream",
          "name": "stdout",
          "text": [
            "Looking in indexes: https://pypi.org/simple, https://us-python.pkg.dev/colab-wheels/public/simple/\n",
            "Requirement already satisfied: pulp in /usr/local/lib/python3.9/dist-packages (2.7.0)\n",
            "Status: Optimal\n",
            "Zielwert: 1173333.3260000001\n",
            "x1 = 0.0\n",
            "x2 = 5333.3333\n",
            "x3 = 0.0\n",
            "x4 = 0.0\n"
          ]
        }
      ],
      "source": [
        "# PuLP installieren\n",
        "!pip install pulp\n",
        "import pulp\n",
        "\n",
        "# Modell erstellen\n",
        "model = pulp.LpProblem(name='Produktionsprozess', sense=pulp.constants.LpMaximize)\n",
        "\n",
        "# Entscheidungsvariablen\n",
        "x1 = pulp.LpVariable(name='x1', lowBound=0)\n",
        "x2 = pulp.LpVariable(name='x2', lowBound=0)\n",
        "x3 = pulp.LpVariable(name='x3', lowBound=0)\n",
        "x4 = pulp.LpVariable(name='x4', lowBound=0)\n",
        "# x1 = pulp.LpVariable(name='x1', lowBound=0, cat='Integer')\n",
        "# x2 = pulp.LpVariable(name='x2', lowBound=0, cat='Integer')\n",
        "# x3 = pulp.LpVariable(name='x3', lowBound=0, cat='Integer')\n",
        "# x4 = pulp.LpVariable(name='x4', lowBound=0, cat='Integer')\n",
        "\n",
        "# Zielfunktion\n",
        "model += 280*x1 + 220*x2 + 140*x3 + 120*x4\n",
        "\n",
        "# Nebenbedingung 1\n",
        "model += 25*(x1 + x3) + 15*(x2 + x4) <= 80000\n",
        "\n",
        "# Nebenbedingung 2 (nicht relevant, weil kein Engpass)\n",
        "\n",
        "# Nebenbedingung 3\n",
        "model += 4*x1 +2*x2 <= 12000\n",
        "\n",
        "# Modell lösen\n",
        "model.solve()\n",
        "\n",
        "# Statistik\n",
        "print('Status:', pulp.LpStatus[model.status])\n",
        "print('Zielwert:', pulp.value(model.objective))\n",
        "for v in model.variables():\n",
        "  print(v.name, '=', v.varValue)"
      ]
    }
  ]
}