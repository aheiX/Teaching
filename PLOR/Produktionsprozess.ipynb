{
  "nbformat": 4,
  "nbformat_minor": 0,
  "metadata": {
    "colab": {
      "provenance": [],
      "authorship_tag": "ABX9TyNSjimUfVkoFJZFMD/GKbf5",
      "include_colab_link": true
    },
    "kernelspec": {
      "name": "python3",
      "display_name": "Python 3"
    },
    "language_info": {
      "name": "python"
    }
  },
  "cells": [
    {
      "cell_type": "markdown",
      "metadata": {
        "id": "view-in-github",
        "colab_type": "text"
      },
      "source": [
        "<a href=\"https://colab.research.google.com/github/aheiX/Teaching/PLOR/blob/main/Produktionsprozess.ipynb\" target=\"_parent\"><img src=\"https://colab.research.google.com/assets/colab-badge.svg\" alt=\"Open In Colab\"/></a>"
      ]
    },
    {
      "cell_type": "markdown",
      "source": [
        "# Produktionsprozess"
      ],
      "metadata": {
        "id": "IGxQ1IO48Tvx"
      }
    },
    {
      "cell_type": "markdown",
      "source": [
        "Wir betrachten einen Produktionsprozess für zwei Produkte. Produkt 1 erzielt einen Gewinn von 3 €/Stück und Produkt 2 einen Gewinn von 5 €/Stück. \n",
        "Insgesamt stehen drei Maschinen für die Produktion zur Verfügung. Die Reihenfolge der Maschinen spielt in diesem Beispiel keine Rolle. Jedes Produkt unterschiedliche lange auf den Maschinen und jede Maschine hat eine maximale Kapazität (siehe Tabelle). Beispiel: Produkt 1 benötigt 1 Stunde auf der Maschine 1 und 3 Stunden auf der Maschine 3 und braucht die Maschine 2 nicht. \n",
        "Das Ziel ist die Maximierung des Gewinns.\n",
        "\n",
        "| Maschine | Produkt 1 | Produkt 2 | Kapazität |\n",
        "| --- | --- | --- | --- |\n",
        "| 1 | 1 | - | 4 |\n",
        "| 2 | - | 2 | 12 |\n",
        "| 3 | 3 | 2 | 18 |\n"
      ],
      "metadata": {
        "id": "v3ck2m3o8XC1"
      }
    },
    {
      "cell_type": "code",
      "execution_count": 2,
      "metadata": {
        "colab": {
          "base_uri": "https://localhost:8080/"
        },
        "id": "7ICSpS7M8TLO",
        "outputId": "6c3f240b-5a30-4737-b05f-0e495a5671b6"
      },
      "outputs": [
        {
          "output_type": "stream",
          "name": "stdout",
          "text": [
            "Looking in indexes: https://pypi.org/simple, https://us-python.pkg.dev/colab-wheels/public/simple/\n",
            "Requirement already satisfied: pulp in /usr/local/lib/python3.9/dist-packages (2.7.0)\n",
            "Status: Optimal\n",
            "Zielwert: 36.0\n",
            "x1 = 2.0\n",
            "x2 = 6.0\n"
          ]
        }
      ],
      "source": [
        "!pip install pulp\n",
        "import pulp\n",
        "\n",
        "model = pulp.LpProblem(name='Produktionsprozess', sense=pulp.constants.LpMaximize)\n",
        "\n",
        "x1 = pulp.LpVariable(name='x1', lowBound=0)\n",
        "x2 = pulp.LpVariable(name='x2', lowBound=0)\n",
        "\n",
        "# Zielfunktion\n",
        "model += 3*x1 + 5*x2\n",
        "\n",
        "# Nebenbedingung 1\n",
        "model += x1 <= 4\n",
        "\n",
        "# Nebenbedingung 2\n",
        "model += 2*x2 <= 12\n",
        "\n",
        "# Nebenbedingung 3\n",
        "model += 3*x1 + 2*x2 <= 18\n",
        "\n",
        "# solve model\n",
        "model.solve()\n",
        "\n",
        "# print statistics\n",
        "print('Status:', pulp.LpStatus[model.status])\n",
        "print('Zielwert:', pulp.value(model.objective))\n",
        "for v in model.variables():\n",
        "  print(v.name, '=', v.varValue)"
      ]
    }
  ]
}
