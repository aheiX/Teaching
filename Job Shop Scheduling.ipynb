{
  "nbformat": 4,
  "nbformat_minor": 0,
  "metadata": {
    "colab": {
      "provenance": [],
      "authorship_tag": "ABX9TyOjP+XRsnvqaXBmZLrwZ8FV",
      "include_colab_link": true
    },
    "kernelspec": {
      "name": "python3",
      "display_name": "Python 3"
    },
    "language_info": {
      "name": "python"
    }
  },
  "cells": [
    {
      "cell_type": "markdown",
      "metadata": {
        "id": "view-in-github",
        "colab_type": "text"
      },
      "source": [
        "<a href=\"https://colab.research.google.com/github/aheiX/Teaching/blob/main/Job%20Shop%20Scheduling.ipynb\" target=\"_parent\"><img src=\"https://colab.research.google.com/assets/colab-badge.svg\" alt=\"Open In Colab\"/></a>"
      ]
    },
    {
      "cell_type": "markdown",
      "source": [
        "# Job Shop Scheduling Problem"
      ],
      "metadata": {
        "id": "GbgpSw586Kk1"
      }
    },
    {
      "cell_type": "markdown",
      "source": [
        "Matematical model from: Bülbül, K., & Kaminsky, P. (2013). A linear programming-based method for job shop scheduling. *Journal of Scheduling*, 16, 161-183."
      ],
      "metadata": {
        "id": "wPlXHREntpH0"
      }
    },
    {
      "cell_type": "markdown",
      "source": [
        "## Notation"
      ],
      "metadata": {
        "id": "mekxBKlCr3ZH"
      }
    },
    {
      "cell_type": "markdown",
      "source": [
        "\\begin{array}{ll}\n",
        "m & \\text{Number of machines}\\\\\n",
        "n & \\text{Number of jobs}\\\\\n",
        "M_j  & \\text{Ordered sequence of machines for job } j\\\\\n",
        "J_i  & \\text{Set of operations to be processed on machine } i\\\\\n",
        "p_{ij} & \\text{Processing time for job $i$ on machine $i$} \\\\\n",
        "r_{j} & \\text{Ready time for job } j\\\\\n",
        "h_{ij} & \\text{Holding cost per unit time for job $j$ while it is waiting in the queue before machine } i\\\\\n",
        "w_{ij} & \\text{Decision variable (integer) denoting the time job $j$ spends in the queue before machine $i$}\\\\\n",
        "C_{ij} & \\text{Decision variable (integer) denoting the time at which job $j$ finishes processing on machine $i$}\\\\\n",
        "\\end{array}\n",
        "<br>"
      ],
      "metadata": {
        "id": "H1pr6j-Mr7Ab"
      }
    },
    {
      "cell_type": "markdown",
      "source": [
        "## Mathematical Model"
      ],
      "metadata": {
        "id": "GMXKGXV36Pmk"
      }
    },
    {
      "cell_type": "markdown",
      "source": [
        "$\n",
        "\\begin{align}\n",
        "  \\begin{array}{llll}\n",
        "    &\\textbf{Objective} & \\\\\n",
        "    & \\min \\sum\\limits_{j=1}^{n} \\sum\\limits_{i=1}^{m_j} h_{ij} \\cdot w_{ij} & &~~~  (1) \\\\\n",
        "    &&\\\\\n",
        "    &\\textbf{Constraints} & \\\\\n",
        "    & C_{1j} - w_{1j} = r_j + p_{1j}&,~ \\forall~ j=1,...,n  &~~~ (2) \\\\\n",
        "    & C_{i-1,j} - C_{ij} + w_{ij} = -p_{ij}&,~ \\forall~ j=1,...,n, i=2,...,m_j &~~~ (3) \\\\\n",
        "    & C_{ik} - C_{ij} \\ge p_{ik}&,~ \\forall~ i=1,...,n, i,k \\in J_i &~~~ (4a) \\\\\n",
        "    & C_{ij} - C_{ik} \\ge p_{ij}&,~ \\forall~ i=1,...,n, i,k \\in J_i &~~~ (4b) \\\\\n",
        "    & C_{ij}, w_{ij} \\ge 0 &,~ \\forall~ j=1,...,n, i=2,...,m_j &~~~ (5) \\\\\n",
        "  \\end{array}\n",
        "\\end{align}\n",
        "$\n",
        "<br><br>\n",
        "**Important:** Either (4a) OR (4b) not both!"
      ],
      "metadata": {
        "id": "q10x0kvV6U7o"
      }
    },
    {
      "cell_type": "markdown",
      "source": [
        "## Python implementation"
      ],
      "metadata": {
        "id": "rnIwfsGy6vXp"
      }
    },
    {
      "cell_type": "markdown",
      "source": [
        "### Exemplary data"
      ],
      "metadata": {
        "id": "hRO_cR8W6-0R"
      }
    },
    {
      "cell_type": "code",
      "source": [
        "# number of machines\n",
        "m = [1, 2, 3, 4]\n",
        "\n",
        "# number of jobs\n",
        "n = [1, 2]\n",
        "\n",
        "# [machine] Ordered sequence of machines for a job\n",
        "M = {1: [1, 3, 4],\n",
        "     2: [1, 4, 2]}\n",
        "\n",
        "# [machine][job] Set of jobs on a machine\n",
        "J = {1: [1, 2],\n",
        "     2: [2],\n",
        "     3: [1],\n",
        "     4: [1, 2]}\n",
        "\n",
        "# [machine][job] Processing times\n",
        "p = {1: {1: 6, 2: 2},\n",
        "     2: {1: 0, 2: 3},\n",
        "     3: {1: 4, 2: 0},\n",
        "     4: {1: 1, 2: 9}}\n",
        "\n",
        "\n",
        "# [job] ready times equals zero for jobs\n",
        "r = {j: 0 for j in n}\n",
        "\n",
        "# [machine][job] waiting costs equal one for all machines\n",
        "h = {i: {j: 1 for j in n} for i in m}"
      ],
      "metadata": {
        "id": "W15eoB798twU"
      },
      "execution_count": 24,
      "outputs": []
    },
    {
      "cell_type": "markdown",
      "source": [
        "### Packages"
      ],
      "metadata": {
        "id": "DLTrVOr-63Wo"
      }
    },
    {
      "cell_type": "code",
      "source": [
        "!pip install pulp\n",
        "import pulp"
      ],
      "metadata": {
        "id": "yNo_6sfG601B",
        "outputId": "9c0978ae-4241-405c-8d61-36b9d59dc037",
        "colab": {
          "base_uri": "https://localhost:8080/"
        }
      },
      "execution_count": 4,
      "outputs": [
        {
          "output_type": "stream",
          "name": "stdout",
          "text": [
            "Looking in indexes: https://pypi.org/simple, https://us-python.pkg.dev/colab-wheels/public/simple/\n",
            "Collecting pulp\n",
            "  Downloading PuLP-2.7.0-py3-none-any.whl (14.3 MB)\n",
            "\u001b[2K     \u001b[90m━━━━━━━━━━━━━━━━━━━━━━━━━━━━━━━━━━━━━━━━\u001b[0m \u001b[32m14.3/14.3 MB\u001b[0m \u001b[31m69.7 MB/s\u001b[0m eta \u001b[36m0:00:00\u001b[0m\n",
            "\u001b[?25hInstalling collected packages: pulp\n",
            "Successfully installed pulp-2.7.0\n"
          ]
        }
      ]
    },
    {
      "cell_type": "markdown",
      "source": [
        "### Model"
      ],
      "metadata": {
        "id": "IIg8KbQg653A"
      }
    },
    {
      "cell_type": "code",
      "source": [
        "# Model\n",
        "model = pulp.LpProblem(name='Job_Shop_Scheduling', sense=pulp.constants.LpMaximize)\n",
        "\n",
        "# Decision variables\n",
        "w = pulp.LpVariable.dicts(name='w', indices=(m, n), lowBound=0, cat='Integer')\n",
        "C = pulp.LpVariable.dicts(name='C', indices=(m, n), lowBound=0, cat='Integer')\n",
        "\n",
        "# (1) Objective\n",
        "model += pulp.lpSum(h[i][j]*w[i][j] for j in n for i in M[j]), '(1)'\n",
        "\n",
        "# (2)\n",
        "for j in n:\n",
        "   model += C[1][j] - w[1][j] == r[j] + p[1][j], '(2)_' + str(j)\n",
        "\n",
        "# (3)\n",
        "for j in n:\n",
        "  for i in M[j]:\n",
        "    if i != 1:\n",
        "      model += C[i-1][j] - C[i][j] + w[i][j] == - p[i][j], '(3)_' + str(j) + str(i)\n",
        "\n",
        "# (4)\n",
        "for i in m:\n",
        "  for j in J[i]:\n",
        "    for k in J[i]:\n",
        "      # (4a)\n",
        "      model += C[i][k] - C[i][j] >= p[i][k], '(4a)_' + str(i) + str(j) + str(k)\n",
        "      # (4b)\n",
        "      # model += C[i][j] - C[i][k] >= p[i][j], '(4b)_' + str(i) + str(j) + str(k)\n",
        "\n"
      ],
      "metadata": {
        "id": "69h6c8KS-8Sm"
      },
      "execution_count": 26,
      "outputs": []
    },
    {
      "cell_type": "markdown",
      "source": [
        "### Solution"
      ],
      "metadata": {
        "id": "ZBP9o2G267xA"
      }
    },
    {
      "cell_type": "code",
      "source": [
        "# solve problem\n",
        "model.solve()\n",
        "\n",
        "# get status\n",
        "print(\"Status:\", pulp.LpStatus[model.status])\n",
        "\n",
        "# get objective value\n",
        "print('Objective value:', round(pulp.value(model.objective), 2))\n",
        "\n",
        "# get value of decision variable u (position in tour of the nodes that are part of the tour)\n",
        "for j in n:\n",
        "  print('Job ' + str(j))\n",
        "  for i in m:\n",
        "    if C[i][j].varValue > 0:\n",
        "      print(' finished at machine ' + str(i) + ' at ' + str(C[i][j]))"
      ],
      "metadata": {
        "id": "lioJiRmnC4s7",
        "outputId": "85411768-97dd-47c8-b14e-7b55954606bc",
        "colab": {
          "base_uri": "https://localhost:8080/"
        }
      },
      "execution_count": null,
      "outputs": [
        {
          "output_type": "stream",
          "name": "stdout",
          "text": [
            "Status: Optimal\n",
            "Objective value: 96.0\n",
            "Tour: \n",
            " x_node_0_node_2: 1.0, t_ij=17, S_j=73\n",
            " x_node_2_node_1: 1.0, t_ij=29, S_j=13\n",
            " x_node_1_node_3: 1.0, t_ij=21, S_j=10\n",
            " x_node_3_node_5: 1.0, t_ij=14, S_j=6\n",
            " total time: 81\n",
            "\n",
            "u-variable: \n",
            " u_node_1: 3.0\n",
            " u_node_2: 2.0\n",
            " u_node_3: 4.0\n",
            " u_node_4: 2.0\n",
            " u_node_5: 6.0\n"
          ]
        }
      ]
    }
  ]
}