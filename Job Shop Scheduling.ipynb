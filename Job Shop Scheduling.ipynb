{
  "nbformat": 4,
  "nbformat_minor": 0,
  "metadata": {
    "colab": {
      "provenance": [],
      "authorship_tag": "ABX9TyOQEu67B85tRyqib8lVX4QJ",
      "include_colab_link": true
    },
    "kernelspec": {
      "name": "python3",
      "display_name": "Python 3"
    },
    "language_info": {
      "name": "python"
    }
  },
  "cells": [
    {
      "cell_type": "markdown",
      "metadata": {
        "id": "view-in-github",
        "colab_type": "text"
      },
      "source": [
        "<a href=\"https://colab.research.google.com/github/aheiX/Teaching/blob/main/Job%20Shop%20Scheduling.ipynb\" target=\"_parent\"><img src=\"https://colab.research.google.com/assets/colab-badge.svg\" alt=\"Open In Colab\"/></a>"
      ]
    },
    {
      "cell_type": "markdown",
      "source": [
        "# The Orienteering Problem"
      ],
      "metadata": {
        "id": "GbgpSw586Kk1"
      }
    },
    {
      "cell_type": "markdown",
      "source": [
        "## Mathematical Model"
      ],
      "metadata": {
        "id": "GMXKGXV36Pmk"
      }
    },
    {
      "cell_type": "markdown",
      "source": [
        "$\n",
        "\\begin{align}\n",
        "  \\begin{array}{lll}\n",
        "    &\\textbf{Objective} & \\\\\n",
        "    & \\max \\sum\\limits_{i=2}^{N-1} \\sum\\limits_{j=2}^{N} S_{i} \\cdot x_{ij} &~~~ (0) \\\\\n",
        "    &&\\\\\n",
        "    &\\textbf{Constraints} & \\\\\n",
        "    & \\sum\\limits_{j=2}^{N} x_{1j} = 1  &~~~ (1a) \\\\\n",
        "    & \\sum\\limits_{i=1}^{N-1} x_{iN} = 1  &~~~ (1b) \\\\\n",
        "    & \\sum\\limits_{i=1}^{N-1} x_{ik} \\le 1,~ \\forall~ k = 2,\\dots,N-1  &~~~ (2a) \\\\\n",
        "    & \\sum\\limits_{i=1}^{N-1} x_{ik} = \\sum\\limits_{j=2}^{N} x_{kj},~ \\forall~ k = 2,\\dots,N-1  &~~~ (2b) \\\\\n",
        "    & \\sum\\limits_{i=1}^{N-1} \\sum\\limits_{j=2}^{N} t_{ij} \\cdot x_{ij} \\le T_{max} &~~~ (3) \\\\\n",
        "    & u_{i} \\in \\{2, 3, ... N \\},~ \\forall~ i = 2,\\dots,N   &~~~ (4) \\\\\n",
        "    & u_{i} - u_{j} + 1 \\le (N -1) \\cdot (1-x_{ij}),~ \\forall~ i,j = 2,\\dots,N  &~~~ (5) \\\\\n",
        "    & x_{ij} \\in \\{0,1\\},~ \\forall~ i,j = 1,\\dots,N  &~~~ (6) \\\\\n",
        "  \\end{array}\n",
        "\\end{align}\n",
        "$\n",
        "<br><br>\n",
        "Based on: Vansteenwegen, P., Souffriau, W., & Van Oudheusden, D. (2011). The orienteering problem: A survey. *European Journal of Operational Research*, 209(1), 1-10."
      ],
      "metadata": {
        "id": "q10x0kvV6U7o"
      }
    },
    {
      "cell_type": "markdown",
      "source": [
        "## Python implementation"
      ],
      "metadata": {
        "id": "rnIwfsGy6vXp"
      }
    },
    {
      "cell_type": "markdown",
      "source": [
        "### Artificial data"
      ],
      "metadata": {
        "id": "hRO_cR8W6-0R"
      }
    },
    {
      "cell_type": "code",
      "source": [
        "import numpy as np\n",
        "\n",
        "# USER INPUT\n",
        "seed = 1\n",
        "number_of_nodes = 6\n",
        "T_max = int(25 * (number_of_nodes - 2)) # On avarage, half of the nodes can be visited\n",
        "\n",
        "#################\n",
        "\n",
        "# set seed\n",
        "np.random.seed(seed)\n",
        "\n",
        "# nodes: a python list\n",
        "nodes = ['node ' + str(i) for i in range(number_of_nodes)]\n",
        "\n",
        "# score: a python dict with each node having an entry\n",
        "S = {node: np.random.randint(1,100) for node in nodes}\n",
        "\n",
        "# times: a python dict with each node-node combination having an entry\n",
        "t = {n1: {n2: np.random.randint(1,100) for n2 in nodes}\n",
        "     for n1 in nodes}\n",
        "\n",
        "# print data\n",
        "print(S)\n",
        "print(t)\n",
        "print(T_max)"
      ],
      "metadata": {
        "id": "W15eoB798twU",
        "outputId": "3f28cf70-d5c0-46fc-b348-7c1789143212",
        "colab": {
          "base_uri": "https://localhost:8080/"
        }
      },
      "execution_count": null,
      "outputs": [
        {
          "output_type": "stream",
          "name": "stdout",
          "text": [
            "{'node 0': 38, 'node 1': 13, 'node 2': 73, 'node 3': 10, 'node 4': 76, 'node 5': 6}\n",
            "{'node 0': {'node 0': 80, 'node 1': 65, 'node 2': 17, 'node 3': 2, 'node 4': 77, 'node 5': 72}, 'node 1': {'node 0': 7, 'node 1': 26, 'node 2': 51, 'node 3': 21, 'node 4': 19, 'node 5': 85}, 'node 2': {'node 0': 12, 'node 1': 29, 'node 2': 30, 'node 3': 15, 'node 4': 51, 'node 5': 69}, 'node 3': {'node 0': 88, 'node 1': 88, 'node 2': 95, 'node 3': 97, 'node 4': 87, 'node 5': 14}, 'node 4': {'node 0': 10, 'node 1': 8, 'node 2': 64, 'node 3': 62, 'node 4': 23, 'node 5': 58}, 'node 5': {'node 0': 2, 'node 1': 1, 'node 2': 61, 'node 3': 82, 'node 4': 9, 'node 5': 89}}\n",
            "100\n"
          ]
        }
      ]
    },
    {
      "cell_type": "code",
      "source": [
        "# demonstration of how to access nodes\n",
        "print(nodes)          # all nodes\n",
        "print(nodes[1:])      # all but first node\n",
        "print(nodes[:-1])     # all but last node\n",
        "print(nodes[1:-1])    # all but first and last node"
      ],
      "metadata": {
        "id": "H9l1asBpAFz8",
        "outputId": "9521e0c1-dd15-45a7-aaf3-cd0fbd7abcf9",
        "colab": {
          "base_uri": "https://localhost:8080/"
        }
      },
      "execution_count": null,
      "outputs": [
        {
          "output_type": "stream",
          "name": "stdout",
          "text": [
            "['node 0', 'node 1', 'node 2', 'node 3', 'node 4', 'node 5']\n",
            "['node 1', 'node 2', 'node 3', 'node 4', 'node 5']\n",
            "['node 0', 'node 1', 'node 2', 'node 3', 'node 4']\n",
            "['node 1', 'node 2', 'node 3', 'node 4']\n"
          ]
        }
      ]
    },
    {
      "cell_type": "markdown",
      "source": [
        "### Packages"
      ],
      "metadata": {
        "id": "DLTrVOr-63Wo"
      }
    },
    {
      "cell_type": "code",
      "source": [
        "!pip install pulp\n",
        "import pulp"
      ],
      "metadata": {
        "id": "yNo_6sfG601B",
        "outputId": "9a6ab91b-ec12-4382-dfbf-0a2fb6ec6f9f",
        "colab": {
          "base_uri": "https://localhost:8080/"
        }
      },
      "execution_count": null,
      "outputs": [
        {
          "output_type": "stream",
          "name": "stdout",
          "text": [
            "Looking in indexes: https://pypi.org/simple, https://us-python.pkg.dev/colab-wheels/public/simple/\n",
            "Requirement already satisfied: pulp in /usr/local/lib/python3.10/dist-packages (2.7.0)\n"
          ]
        }
      ]
    },
    {
      "cell_type": "markdown",
      "source": [
        "### Model"
      ],
      "metadata": {
        "id": "IIg8KbQg653A"
      }
    },
    {
      "cell_type": "code",
      "source": [
        "# model\n",
        "model = pulp.LpProblem(name='Orienteering_Problem', sense=pulp.constants.LpMaximize)\n",
        "\n",
        "# decision variables\n",
        "x = pulp.LpVariable.dicts(name='x', indices=(nodes, nodes), cat='Binary')\n",
        "u = pulp.LpVariable.dicts(name='u', indices=nodes[1:],\n",
        "                          lowBound=2, upBound=len(nodes),\n",
        "                          cat='Integer')\n",
        "\n",
        "# objective\n",
        "model += pulp.lpSum(S[i]*x[i][j] for i in nodes[1:-1] for j in nodes[1:]), '(0)'\n",
        "\n",
        "# (1a)\n",
        "model += pulp.lpSum(x[nodes[0]][j] for j in nodes[1:]) == 1, '(1a)'\n",
        "\n",
        "# (1b)\n",
        "model += pulp.lpSum(x[i][nodes[-1]] for i in nodes[:-1]) == 1, '(1b)'\n",
        "\n",
        "for k in nodes[1:-1]:\n",
        "  # (2a)\n",
        "  model += pulp.lpSum(x[i][k] for i in nodes[:-1]) <= 1, '(2a):' + k\n",
        "  # (2b)\n",
        "  model += pulp.lpSum(x[i][k] for i in nodes[:-1]) <= pulp.lpSum(x[k][j] for j in nodes[1:]), '(2b):' + k\n",
        "\n",
        "# (3)\n",
        "model += pulp.lpSum(t[i][j] * x[i][j] for i in nodes[:-1] for j in nodes[1:]) <= T_max, '(3)'\n",
        "\n",
        "# (4) -> see initialization of decision variable u\n",
        "\n",
        "# (5)\n",
        "for i in nodes[1:]:\n",
        "  for j in nodes[1:]:\n",
        "    model += u[i] - u[j] + 1 <= (len(nodes) - 1) * (1 - x[i][j]), '(5):' + i + j\n",
        "\n",
        "# (6) -> see initialization of decision variable x\n",
        "\n"
      ],
      "metadata": {
        "id": "69h6c8KS-8Sm"
      },
      "execution_count": null,
      "outputs": []
    },
    {
      "cell_type": "markdown",
      "source": [
        "### Solution"
      ],
      "metadata": {
        "id": "ZBP9o2G267xA"
      }
    },
    {
      "cell_type": "code",
      "source": [
        "# solve problem\n",
        "model.solve()\n",
        "\n",
        "# get status\n",
        "print(\"Status:\", pulp.LpStatus[model.status])\n",
        "\n",
        "# get objective value\n",
        "print('Objective value:', round(pulp.value(model.objective), 2))\n",
        "\n",
        "# get tour\n",
        "print('Tour: ')\n",
        "t_sum = 0\n",
        "i = nodes[0]\n",
        "while i != nodes[-1]:\n",
        "  for j in nodes:\n",
        "    try:\n",
        "      if x[i][j].varValue > 0:\n",
        "        print(' ' + str(x[i][j]) + ': ' + str(x[i][j].varValue) + ', t_ij=' + str(t[i][j]) + ', S_j=' + str(S[j]))\n",
        "        t_sum += t[i][j]\n",
        "        i = j\n",
        "        break\n",
        "    except:\n",
        "      pass\n",
        "print(' total time: ' + str(t_sum))\n",
        "\n",
        "# get value of decision variable u (position in tour of the nodes that are part of the tour)\n",
        "print('')\n",
        "print('u-variable: ')\n",
        "for i in nodes[1:]:\n",
        "  print(' ' + str(u[i]) + ': ' + str(u[i].varValue))"
      ],
      "metadata": {
        "id": "lioJiRmnC4s7",
        "outputId": "85411768-97dd-47c8-b14e-7b55954606bc",
        "colab": {
          "base_uri": "https://localhost:8080/"
        }
      },
      "execution_count": null,
      "outputs": [
        {
          "output_type": "stream",
          "name": "stdout",
          "text": [
            "Status: Optimal\n",
            "Objective value: 96.0\n",
            "Tour: \n",
            " x_node_0_node_2: 1.0, t_ij=17, S_j=73\n",
            " x_node_2_node_1: 1.0, t_ij=29, S_j=13\n",
            " x_node_1_node_3: 1.0, t_ij=21, S_j=10\n",
            " x_node_3_node_5: 1.0, t_ij=14, S_j=6\n",
            " total time: 81\n",
            "\n",
            "u-variable: \n",
            " u_node_1: 3.0\n",
            " u_node_2: 2.0\n",
            " u_node_3: 4.0\n",
            " u_node_4: 2.0\n",
            " u_node_5: 6.0\n"
          ]
        }
      ]
    }
  ]
}