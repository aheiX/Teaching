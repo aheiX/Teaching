{
  "nbformat": 4,
  "nbformat_minor": 0,
  "metadata": {
    "colab": {
      "provenance": [],
      "authorship_tag": "ABX9TyM7K2PUKxx5nsUMIwwiUyG7",
      "include_colab_link": true
    },
    "kernelspec": {
      "name": "python3",
      "display_name": "Python 3"
    },
    "language_info": {
      "name": "python"
    }
  },
  "cells": [
    {
      "cell_type": "markdown",
      "metadata": {
        "id": "view-in-github",
        "colab_type": "text"
      },
      "source": [
        "<a href=\"https://colab.research.google.com/github/aheiX/Teaching/blob/main/Job%20Shop%20Scheduling.ipynb\" target=\"_parent\"><img src=\"https://colab.research.google.com/assets/colab-badge.svg\" alt=\"Open In Colab\"/></a>"
      ]
    },
    {
      "cell_type": "markdown",
      "source": [
        "# Job Shop Scheduling Problem"
      ],
      "metadata": {
        "id": "GbgpSw586Kk1"
      }
    },
    {
      "cell_type": "markdown",
      "source": [
        "Matematical model from: [Bruno Scalia C. F. Leite (2023)](https://towardsdatascience.com/the-job-shop-scheduling-problem-mixed-integer-programming-models-4bbee83d16ab)"
      ],
      "metadata": {
        "id": "wPlXHREntpH0"
      }
    },
    {
      "cell_type": "markdown",
      "source": [
        "## Notation"
      ],
      "metadata": {
        "id": "mekxBKlCr3ZH"
      }
    },
    {
      "cell_type": "markdown",
      "source": [
        "\\begin{array}{ll}\n",
        "M & \\text{Set of machines}\\\\\n",
        "J & \\text{Set of jobs}\\\\\n",
        "o^j  & \\text{Processing order of job } j \\text{ with } o^j = (o^j_1,o^j_2,o^j_3,...,o^j_{|M|}) \\\\\n",
        "p_{ij} & \\text{Processing time for job $i$ on machine $i$} \\\\\n",
        "C & \\text{Decision variable (integer) denoting the makespan (= objective)}\\\\\n",
        "x_{mj} & \\text{Decision variable (integer) denoting the time job $j$ starts on machine $m$}\\\\\n",
        "z_{mij} & \\text{Decision variable (binary): =1 if job $i$ is done before job $j$ on machine $m$, =0, else}\\\\\n",
        "\\end{array}"
      ],
      "metadata": {
        "id": "H1pr6j-Mr7Ab"
      }
    },
    {
      "cell_type": "markdown",
      "source": [
        "## Mathematical Model"
      ],
      "metadata": {
        "id": "GMXKGXV36Pmk"
      }
    },
    {
      "cell_type": "markdown",
      "source": [
        "$\n",
        "\\begin{align}\n",
        "  \\begin{array}{llll}\n",
        "    &\\textbf{Objective} & \\\\\n",
        "    & \\min C & &~~~  (1) \\\\\n",
        "    &&\\\\\n",
        "    &\\textbf{Constraints} & \\\\\n",
        "    & x_{o^j_{h-1}, j} + p_{o^j_{h-1}, j} \\le x_{o^j_{h}, j} &,~ \\forall~ j \\in J, h \\in (2,...,|M|) &~~~ (2) \\\\\n",
        "    & x_{m, j} +  p_{m, j} \\le  x_{m, k} + bigM \\cdot (1 - z_{m,j,k}) &,~ \\forall~ j,k \\in J, m \\in M: i \\ne k &~~~ (3) \\\\\n",
        "    & z_{m,j,k} + z_{m,k,j} = 1 &,~ \\forall~ j,k \\in J, m \\in M: i \\ne k &~~~ (4) \\\\\n",
        "    &  x_{o^j_{|M|}, j} + p_{o^j_{|M|}, j} =\\le C &,~ \\forall~ j \\in J &~~~ (5) \\\\\n",
        "    &  x_{m,j} \\ge 0 &,~ \\forall~ j \\in J, m \\in M &~~~ (6) \\\\\n",
        "    &  z_{m,j,k} \\in \\mathbb{B} &,~ \\forall~ j,k \\in J, m \\in M &~~~ (7) \\\\\n",
        "  \\end{array}\n",
        "\\end{align}\n",
        "$"
      ],
      "metadata": {
        "id": "q10x0kvV6U7o"
      }
    },
    {
      "cell_type": "markdown",
      "source": [
        "## Python implementation"
      ],
      "metadata": {
        "id": "rnIwfsGy6vXp"
      }
    },
    {
      "cell_type": "markdown",
      "source": [
        "### Exemplary data"
      ],
      "metadata": {
        "id": "hRO_cR8W6-0R"
      }
    },
    {
      "cell_type": "code",
      "source": [
        "# set of machines\n",
        "M = [1, 2, 3, 4]\n",
        "\n",
        "# Set of jobs\n",
        "J = [1, 2]\n",
        "\n",
        "# [job] Ordered sequence of machines for a job\n",
        "# IMPORTANT: add machines that are not used at the end of the sequence and set the corresponding processing time to zero\n",
        "O = {1: [1, 3, 4] + [2],\n",
        "     2: [1, 4, 2] + [3]}\n",
        "\n",
        "# [machine][job] Processing times\n",
        "p = {1: {1: 6, 2: 2},\n",
        "     2: {1: 0, 2: 3},\n",
        "     3: {1: 4, 2: 0},\n",
        "     4: {1: 1, 2: 9}}\n",
        "\n",
        "print('O: ' + str(O))\n",
        "print('p: ' + str(p))\n"
      ],
      "metadata": {
        "id": "W15eoB798twU",
        "outputId": "8a276a1b-8ce2-40c6-a00a-c5306f49db6d",
        "colab": {
          "base_uri": "https://localhost:8080/"
        }
      },
      "execution_count": 91,
      "outputs": [
        {
          "output_type": "stream",
          "name": "stdout",
          "text": [
            "O: {1: [1, 3, 4, 2], 2: [1, 4, 2, 3]}\n",
            "p: {1: {1: 6, 2: 2}, 2: {1: 0, 2: 3}, 3: {1: 4, 2: 0}, 4: {1: 1, 2: 9}}\n"
          ]
        }
      ]
    },
    {
      "cell_type": "markdown",
      "source": [
        "### Packages"
      ],
      "metadata": {
        "id": "DLTrVOr-63Wo"
      }
    },
    {
      "cell_type": "code",
      "source": [
        "!pip install pulp\n",
        "import pulp"
      ],
      "metadata": {
        "id": "yNo_6sfG601B",
        "outputId": "70a2dbe6-504d-4b8f-93ea-45927f2d6c8b",
        "colab": {
          "base_uri": "https://localhost:8080/"
        }
      },
      "execution_count": 92,
      "outputs": [
        {
          "output_type": "stream",
          "name": "stdout",
          "text": [
            "Looking in indexes: https://pypi.org/simple, https://us-python.pkg.dev/colab-wheels/public/simple/\n",
            "Requirement already satisfied: pulp in /usr/local/lib/python3.10/dist-packages (2.7.0)\n"
          ]
        }
      ]
    },
    {
      "cell_type": "markdown",
      "source": [
        "### Model"
      ],
      "metadata": {
        "id": "IIg8KbQg653A"
      }
    },
    {
      "cell_type": "code",
      "source": [
        "# Model\n",
        "model = pulp.LpProblem(name='Job_Shop_Scheduling_Disjunct',\n",
        "                       sense=pulp.constants.LpMinimize)\n",
        "\n",
        "# Decision variables\n",
        "C = pulp.LpVariable(name='C', lowBound=0, cat='Integer')\n",
        "x = pulp.LpVariable.dicts(name='x', indices=(M, J), lowBound=1, cat='Integer')\n",
        "z = pulp.LpVariable.dicts(name='z', indices=(M, J, J), cat='Binary')\n",
        "\n",
        "# (1) Objective\n",
        "model += C, '(1)'\n",
        "\n",
        "# (2)\n",
        "for j in J:\n",
        "  for i in M:\n",
        "    if i > 1:\n",
        "      h = i-1 # list-index\n",
        "      model += x[O[j][h-1]][j] + p[O[j][h-1]][j] <= x[O[j][h]][j], '(2)_' + str(j) + str(h)\n",
        "\n",
        "# (3) und (4)\n",
        "for j in J:\n",
        "  for k in J:\n",
        "    if j != k:\n",
        "      for m in M:\n",
        "        # (3)\n",
        "        model += x[m][j] + p[m][j] <= x[m][k] + 9999 * (1 - z[m][j][k]), '(3)_' + str(m) + str(j) + str(k)\n",
        "\n",
        "        # (4)\n",
        "        model +=  z[m][j][k] +  z[m][k][j] == 1, '(4)_' + str(m) + str(j) + str(k)\n",
        "\n",
        "# (5)\n",
        "for j in J:\n",
        "  model += x[O[j][-1]][j] + p[O[j][-1]][j] <= C, '(5)_' + str(j)\n",
        "\n",
        "# print(model)"
      ],
      "metadata": {
        "id": "5sx3GUW-OSoI"
      },
      "execution_count": 93,
      "outputs": []
    },
    {
      "cell_type": "markdown",
      "source": [
        "### Solution"
      ],
      "metadata": {
        "id": "ZBP9o2G267xA"
      }
    },
    {
      "cell_type": "code",
      "source": [
        "# solve problem\n",
        "model.solve()\n",
        "\n",
        "# get status\n",
        "print(\"Status:\", pulp.LpStatus[model.status])\n",
        "\n",
        "# get objective value\n",
        "print('Objective value:', round(pulp.value(model.objective), 2))\n",
        "\n",
        "# get value of decision variable u (position in tour of the nodes that are part of the tour)\n",
        "for j in J:\n",
        "  print('Job ' + str(j))\n",
        "  for i in M:\n",
        "    # if x[i][j].varValue > 0:\n",
        "    print(' starts at machine ' + str(i) + ' at ' + str(x[i][j].varValue))"
      ],
      "metadata": {
        "colab": {
          "base_uri": "https://localhost:8080/"
        },
        "id": "Qw7Os3H4BelC",
        "outputId": "a6c1a6c6-e228-4ff8-afcd-a8d6606b59df"
      },
      "execution_count": 94,
      "outputs": [
        {
          "output_type": "stream",
          "name": "stdout",
          "text": [
            "Status: Optimal\n",
            "Objective value: 15.0\n",
            "Job 1\n",
            " starts at machine 1 at 3.0\n",
            " starts at machine 2 at 15.0\n",
            " starts at machine 3 at 9.0\n",
            " starts at machine 4 at 13.0\n",
            "Job 2\n",
            " starts at machine 1 at 1.0\n",
            " starts at machine 2 at 12.0\n",
            " starts at machine 3 at 15.0\n",
            " starts at machine 4 at 3.0\n"
          ]
        }
      ]
    }
  ]
}