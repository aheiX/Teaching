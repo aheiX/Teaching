{
  "nbformat": 4,
  "nbformat_minor": 0,
  "metadata": {
    "colab": {
      "provenance": [],
      "authorship_tag": "ABX9TyNSVRDf+z1TskrtjmVz1e5u",
      "include_colab_link": true
    },
    "kernelspec": {
      "name": "python3",
      "display_name": "Python 3"
    },
    "language_info": {
      "name": "python"
    }
  },
  "cells": [
    {
      "cell_type": "markdown",
      "metadata": {
        "id": "view-in-github",
        "colab_type": "text"
      },
      "source": [
        "<a href=\"https://colab.research.google.com/github/aheiX/Teaching/blob/main/Job%20Shop%20Scheduling.ipynb\" target=\"_parent\"><img src=\"https://colab.research.google.com/assets/colab-badge.svg\" alt=\"Open In Colab\"/></a>"
      ]
    },
    {
      "cell_type": "markdown",
      "source": [
        "# Job Shop Scheduling Problem"
      ],
      "metadata": {
        "id": "GbgpSw586Kk1"
      }
    },
    {
      "cell_type": "markdown",
      "source": [
        "Matematical model from: Bülbül, K., & Kaminsky, P. (2013). A linear programming-based method for job shop scheduling. *Journal of Scheduling*, 16, 161-183."
      ],
      "metadata": {
        "id": "wPlXHREntpH0"
      }
    },
    {
      "cell_type": "markdown",
      "source": [
        "## Notation"
      ],
      "metadata": {
        "id": "mekxBKlCr3ZH"
      }
    },
    {
      "cell_type": "markdown",
      "source": [
        "\\begin{array}{ll}\n",
        "m & \\text{Number of machines}\\\\\n",
        "n & \\text{Number of jobs}\\\\\n",
        "M_j  & \\text{Ordered sequence of machines for job } j\\\\\n",
        "J_i  & \\text{Set of operations to be processed on machine } i\\\\\n",
        "p_{ij} & \\text{Processing time for job $i$ on machine $i$} \\\\\n",
        "r_{j} & \\text{Ready time for job } j\\\\\n",
        "h_{ij} & \\text{Holding cost per unit time for job $j$ while it is waiting in the queue before machine } i\\\\\n",
        "w_{ij} & \\text{Decision variable (integer) denoting the time job $j$ spends in the queue before machine $i$}\\\\\n",
        "C_{ij} & \\text{Decision variable (integer) denoting the time at which job $j$ finishes processing on machine $i$}\\\\\n",
        "\\end{array}\n",
        "<br>"
      ],
      "metadata": {
        "id": "H1pr6j-Mr7Ab"
      }
    },
    {
      "cell_type": "markdown",
      "source": [
        "## Mathematical Model"
      ],
      "metadata": {
        "id": "GMXKGXV36Pmk"
      }
    },
    {
      "cell_type": "markdown",
      "source": [
        "$\n",
        "\\begin{align}\n",
        "  \\begin{array}{llll}\n",
        "    &\\textbf{Objective} & \\\\\n",
        "    & \\min \\sum\\limits_{j=1}^{n} \\sum\\limits_{i=1}^{m_j} h_{ij} \\cdot w_{ij} & &~~~  (1) \\\\\n",
        "    &&\\\\\n",
        "    &\\textbf{Constraints} & \\\\\n",
        "    & C_{1j} - w_{1j} = r_j + p_{1j}&,~ \\forall~ j=1,...,n  &~~~ (2) \\\\\n",
        "    & C_{i-1,j} - C_{ij} + w_{ij} = -p_{ij}&,~ \\forall~ j=1,...,n, i=2,...,m_j &~~~ (3) \\\\\n",
        "    & C_{ik} - C_{ij} \\ge p_{ik}&,~ \\forall~ i=1,...,n, i,k \\in J_i &~~~ (4a) \\\\\n",
        "    & C_{ij} - C_{ik} \\ge p_{ij}&,~ \\forall~ i=1,...,n, i,k \\in J_i &~~~ (4b) \\\\\n",
        "    & C_{ij}, w_{ij} \\ge 0 &,~ \\forall~ j=1,...,n, i=2,...,m_j &~~~ (5) \\\\\n",
        "  \\end{array}\n",
        "\\end{align}\n",
        "$\n",
        "<br><br>\n",
        "**Important:** Either (4a) OR (4b) not both!"
      ],
      "metadata": {
        "id": "q10x0kvV6U7o"
      }
    },
    {
      "cell_type": "markdown",
      "source": [
        "## Python implementation"
      ],
      "metadata": {
        "id": "rnIwfsGy6vXp"
      }
    },
    {
      "cell_type": "markdown",
      "source": [
        "### Exemplary data"
      ],
      "metadata": {
        "id": "hRO_cR8W6-0R"
      }
    },
    {
      "cell_type": "code",
      "source": [
        "# number of machines\n",
        "m = 4\n",
        "\n",
        "# number of jobs\n",
        "n = 2\n",
        "\n",
        "# Ordered sequence of machines for a job\n",
        "M = {1: [1, 3, 4],\n",
        "     2: [1, 4, 2]}\n",
        "\n",
        "# Set of operations on a machine\n",
        "J = {1: [1, 2],\n",
        "     2: [2],\n",
        "     3: [1],\n",
        "     4: [1, 2]}\n",
        "\n",
        "# processing times\n",
        "p = {1: {1: 6, 3: 4, 4: 1},\n",
        "     2: {1: 2, 2: 3, 4: 9}}\n",
        "\n",
        "# ready times equals zero for jobs\n",
        "r = {1: 0, 2: 0}\n",
        "r = {j+1: 0 for j in range(n)}\n",
        "\n",
        "# waiting costs equal one for all machines\n",
        "h = {i+1: {j+1: 1 for j in range(m)} for i in range(n)}"
      ],
      "metadata": {
        "id": "W15eoB798twU",
        "outputId": "2d450e00-a18b-49ef-df2a-542e05cc50d7",
        "colab": {
          "base_uri": "https://localhost:8080/"
        }
      },
      "execution_count": 3,
      "outputs": [
        {
          "output_type": "stream",
          "name": "stdout",
          "text": [
            "{1: {1: 1, 2: 1, 3: 1, 4: 1}, 2: {1: 1, 2: 1, 3: 1, 4: 1}}\n",
            "{1: {1: 1, 2: 1, 3: 1, 4: 1}, 2: {1: 1, 2: 1, 3: 1, 4: 1}}\n"
          ]
        }
      ]
    },
    {
      "cell_type": "markdown",
      "source": [
        "### Packages"
      ],
      "metadata": {
        "id": "DLTrVOr-63Wo"
      }
    },
    {
      "cell_type": "code",
      "source": [
        "!pip install pulp\n",
        "import pulp"
      ],
      "metadata": {
        "id": "yNo_6sfG601B",
        "outputId": "9a6ab91b-ec12-4382-dfbf-0a2fb6ec6f9f",
        "colab": {
          "base_uri": "https://localhost:8080/"
        }
      },
      "execution_count": null,
      "outputs": [
        {
          "output_type": "stream",
          "name": "stdout",
          "text": [
            "Looking in indexes: https://pypi.org/simple, https://us-python.pkg.dev/colab-wheels/public/simple/\n",
            "Requirement already satisfied: pulp in /usr/local/lib/python3.10/dist-packages (2.7.0)\n"
          ]
        }
      ]
    },
    {
      "cell_type": "markdown",
      "source": [
        "### Model"
      ],
      "metadata": {
        "id": "IIg8KbQg653A"
      }
    },
    {
      "cell_type": "code",
      "source": [
        "# model\n",
        "model = pulp.LpProblem(name='Orienteering_Problem', sense=pulp.constants.LpMaximize)\n",
        "\n",
        "# decision variables\n",
        "x = pulp.LpVariable.dicts(name='x', indices=(nodes, nodes), cat='Binary')\n",
        "u = pulp.LpVariable.dicts(name='u', indices=nodes[1:],\n",
        "                          lowBound=2, upBound=len(nodes),\n",
        "                          cat='Integer')\n",
        "\n",
        "# objective\n",
        "model += pulp.lpSum(S[i]*x[i][j] for i in nodes[1:-1] for j in nodes[1:]), '(0)'\n",
        "\n",
        "# (1a)\n",
        "model += pulp.lpSum(x[nodes[0]][j] for j in nodes[1:]) == 1, '(1a)'\n",
        "\n",
        "# (1b)\n",
        "model += pulp.lpSum(x[i][nodes[-1]] for i in nodes[:-1]) == 1, '(1b)'\n",
        "\n",
        "for k in nodes[1:-1]:\n",
        "  # (2a)\n",
        "  model += pulp.lpSum(x[i][k] for i in nodes[:-1]) <= 1, '(2a):' + k\n",
        "  # (2b)\n",
        "  model += pulp.lpSum(x[i][k] for i in nodes[:-1]) <= pulp.lpSum(x[k][j] for j in nodes[1:]), '(2b):' + k\n",
        "\n",
        "# (3)\n",
        "model += pulp.lpSum(t[i][j] * x[i][j] for i in nodes[:-1] for j in nodes[1:]) <= T_max, '(3)'\n",
        "\n",
        "# (4) -> see initialization of decision variable u\n",
        "\n",
        "# (5)\n",
        "for i in nodes[1:]:\n",
        "  for j in nodes[1:]:\n",
        "    model += u[i] - u[j] + 1 <= (len(nodes) - 1) * (1 - x[i][j]), '(5):' + i + j\n",
        "\n",
        "# (6) -> see initialization of decision variable x\n",
        "\n"
      ],
      "metadata": {
        "id": "69h6c8KS-8Sm"
      },
      "execution_count": null,
      "outputs": []
    },
    {
      "cell_type": "markdown",
      "source": [
        "### Solution"
      ],
      "metadata": {
        "id": "ZBP9o2G267xA"
      }
    },
    {
      "cell_type": "code",
      "source": [
        "# solve problem\n",
        "model.solve()\n",
        "\n",
        "# get status\n",
        "print(\"Status:\", pulp.LpStatus[model.status])\n",
        "\n",
        "# get objective value\n",
        "print('Objective value:', round(pulp.value(model.objective), 2))\n",
        "\n",
        "# get tour\n",
        "print('Tour: ')\n",
        "t_sum = 0\n",
        "i = nodes[0]\n",
        "while i != nodes[-1]:\n",
        "  for j in nodes:\n",
        "    try:\n",
        "      if x[i][j].varValue > 0:\n",
        "        print(' ' + str(x[i][j]) + ': ' + str(x[i][j].varValue) + ', t_ij=' + str(t[i][j]) + ', S_j=' + str(S[j]))\n",
        "        t_sum += t[i][j]\n",
        "        i = j\n",
        "        break\n",
        "    except:\n",
        "      pass\n",
        "print(' total time: ' + str(t_sum))\n",
        "\n",
        "# get value of decision variable u (position in tour of the nodes that are part of the tour)\n",
        "print('')\n",
        "print('u-variable: ')\n",
        "for i in nodes[1:]:\n",
        "  print(' ' + str(u[i]) + ': ' + str(u[i].varValue))"
      ],
      "metadata": {
        "id": "lioJiRmnC4s7",
        "outputId": "85411768-97dd-47c8-b14e-7b55954606bc",
        "colab": {
          "base_uri": "https://localhost:8080/"
        }
      },
      "execution_count": null,
      "outputs": [
        {
          "output_type": "stream",
          "name": "stdout",
          "text": [
            "Status: Optimal\n",
            "Objective value: 96.0\n",
            "Tour: \n",
            " x_node_0_node_2: 1.0, t_ij=17, S_j=73\n",
            " x_node_2_node_1: 1.0, t_ij=29, S_j=13\n",
            " x_node_1_node_3: 1.0, t_ij=21, S_j=10\n",
            " x_node_3_node_5: 1.0, t_ij=14, S_j=6\n",
            " total time: 81\n",
            "\n",
            "u-variable: \n",
            " u_node_1: 3.0\n",
            " u_node_2: 2.0\n",
            " u_node_3: 4.0\n",
            " u_node_4: 2.0\n",
            " u_node_5: 6.0\n"
          ]
        }
      ]
    }
  ]
}