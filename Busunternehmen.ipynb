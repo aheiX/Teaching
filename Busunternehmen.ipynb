{
  "nbformat": 4,
  "nbformat_minor": 0,
  "metadata": {
    "colab": {
      "provenance": [],
      "authorship_tag": "ABX9TyMwIZx3TUiXUVf8umpauILB",
      "include_colab_link": true
    },
    "kernelspec": {
      "name": "python3",
      "display_name": "Python 3"
    },
    "language_info": {
      "name": "python"
    }
  },
  "cells": [
    {
      "cell_type": "markdown",
      "metadata": {
        "id": "view-in-github",
        "colab_type": "text"
      },
      "source": [
        "<a href=\"https://colab.research.google.com/github/aheiX/Teaching/blob/main/Busunternehmen.ipynb\" target=\"_parent\"><img src=\"https://colab.research.google.com/assets/colab-badge.svg\" alt=\"Open In Colab\"/></a>"
      ]
    },
    {
      "cell_type": "markdown",
      "source": [
        "# Busunternehmen"
      ],
      "metadata": {
        "id": "VybFMEsK1CS4"
      }
    },
    {
      "cell_type": "markdown",
      "source": [
        "## Problembeschreibung"
      ],
      "metadata": {
        "id": "ytjCrU0v3oN5"
      }
    },
    {
      "cell_type": "markdown",
      "source": [
        "Der Bedarf an busführenden Personen für Fernbusse wird für die nächsten 5 Jahre wie folgt geschätzt: (60, 70, 50, 65, 75). Dieser Bedarf wird als $b_i$ bezeichnet, mit $i \\in 1..5$. Zu Beginn eines jeden Jahres muss entschieden werden, wie viele Personen für das Fahren von Fernbussen bereitgestellt werden. Es kostet 4.000 Euro eine **neue** Person für das Fahren von Fernbussen zu qualifizieren. Soll eine Person nicht mehr für Fernbusse eingesetzt werden, so entstehen Kosten von 2.000 Euro. Die Personalkosten je busführender Person werden mit 40.000 Euro pro Jahr kalkuliert. Zu Beginn des ersten Jahres sind bereits 50 Personen für das Fahren von Fernbussen qualifiziert. Die Kosten für das Buspersonal sollen minimiert werden."
      ],
      "metadata": {
        "id": "Ca_3b6if3rN4"
      }
    },
    {
      "cell_type": "markdown",
      "source": [
        "## Mathematisches Programm"
      ],
      "metadata": {
        "id": "YXRu7s98NgHe"
      }
    },
    {
      "cell_type": "markdown",
      "source": [
        "**Zielfunktion**<br>\n",
        "$\\min ~ \\sum\\limits^{5}_{i=1}(40.000x_i +4.000n_i +2.000a_i)$\n",
        "<br><br>\n",
        "\n",
        "**Nebenbedingungen** <br>\n",
        "$\n",
        "\\begin{array}{llll}\n",
        "x_i & \\geq & b_i \\qquad \\forall i=1,\\dots,5 & (1) \\\\\n",
        "x_{i-1} + n_i - a_i & = & x_{i} \\qquad \\forall i=1,\\dots,5 & (2) \\\\\n",
        "x_0 & = &50 & (3) \\\\\n",
        "n_i , a_i  & \\ge & 0 \\text{ and integer}\t\\qquad \\forall i=1,\\dots,5 & (4) \\\\\n",
        "x_i  & \\ge &  0 \\text{ and integer} \\qquad \\forall i=0,\\dots,5 & (5)\t\\\\\n",
        "\\end{array}\n",
        "$"
      ],
      "metadata": {
        "id": "FIYbRFEvN930"
      }
    },
    {
      "cell_type": "markdown",
      "source": [
        "## Implementierung"
      ],
      "metadata": {
        "id": "wWtwxGEcEzi8"
      }
    },
    {
      "cell_type": "code",
      "execution_count": 19,
      "metadata": {
        "colab": {
          "base_uri": "https://localhost:8080/"
        },
        "id": "SedRzsCc02Q2",
        "outputId": "2c6baed2-25db-4d8b-d6fd-c449bcf795c4"
      },
      "outputs": [
        {
          "output_type": "stream",
          "name": "stdout",
          "text": [
            "Status: Optimal\n",
            "Zielwert: 12800000.0\n",
            "a_1 = 0.0\n",
            "a_2 = 0.0\n",
            "a_3 = 20.0\n",
            "a_4 = 0.0\n",
            "a_5 = 0.0\n",
            "n_1 = 10.0\n",
            "n_2 = 10.0\n",
            "n_3 = 0.0\n",
            "n_4 = 15.0\n",
            "n_5 = 10.0\n",
            "x_0 = 50.0\n",
            "x_1 = 60.0\n",
            "x_2 = 70.0\n",
            "x_3 = 50.0\n",
            "x_4 = 65.0\n",
            "x_5 = 75.0\n"
          ]
        }
      ],
      "source": [
        "# PuLP installieren\n",
        "!pip install pulp\n",
        "import pulp\n",
        "\n",
        "# Bedarf an busfahrenden Personen\n",
        "b = [0, 60, 70, 50, 65, 75]\n",
        "\n",
        "# Modell erstellen\n",
        "model = pulp.LpProblem(name='Busunternehmen', sense=pulp.constants.LpMinimize)\n",
        "\n",
        "# Entscheidungsvariablen\n",
        "a = pulp.LpVariable.dicts(name='a', indices=[1, 2, 3, 4, 5], lowBound=0, cat='Integer')\n",
        "n = pulp.LpVariable.dicts(name='n', indices=[1, 2, 3, 4, 5], lowBound=0, cat='Integer')\n",
        "x = pulp.LpVariable.dicts(name='x', indices=[0, 1, 2, 3, 4, 5], lowBound=0, cat='Integer')\n",
        "\n",
        "     \n",
        "# Zielfunktion\n",
        "model += sum(40000*x[i] for i in range(1,6))\n",
        "\n",
        "# Nebenbedingung 1\n",
        "for i in [1, 2, 3, 4, 5]:\n",
        "  model += x[i] >= b[i]\n",
        "\n",
        "# Nebenbedingung 2\n",
        "for i in [1, 2, 3, 4, 5]:\n",
        "  model += x[i-1] + n[i] - a[i] == x[i]\n",
        "\n",
        "# Nebenbedingung 3\n",
        "model += x[0] == 50\n",
        "\n",
        "\n",
        "# Modell lösen\n",
        "model.solve()\n",
        "\n",
        "# Statistik\n",
        "print('Status:', pulp.LpStatus[model.status])\n",
        "print('Zielwert:', pulp.value(model.objective))\n",
        "for v in model.variables():\n",
        "  print(v.name, '=', v.varValue)"
      ]
    },
    {
      "cell_type": "markdown",
      "source": [
        "## Visualisierung"
      ],
      "metadata": {
        "id": "YgeppJ06EurV"
      }
    }
  ]
}