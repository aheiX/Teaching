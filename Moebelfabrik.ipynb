{
  "nbformat": 4,
  "nbformat_minor": 0,
  "metadata": {
    "colab": {
      "provenance": [],
      "authorship_tag": "ABX9TyN7gBkKfneREgIT6lMDA+sr",
      "include_colab_link": true
    },
    "kernelspec": {
      "name": "python3",
      "display_name": "Python 3"
    },
    "language_info": {
      "name": "python"
    }
  },
  "cells": [
    {
      "cell_type": "markdown",
      "metadata": {
        "id": "view-in-github",
        "colab_type": "text"
      },
      "source": [
        "<a href=\"https://colab.research.google.com/github/aheiX/Teaching/blob/main/Moebelfabrik.ipynb\" target=\"_parent\"><img src=\"https://colab.research.google.com/assets/colab-badge.svg\" alt=\"Open In Colab\"/></a>"
      ]
    },
    {
      "cell_type": "markdown",
      "source": [
        "# Möbelfrabrik"
      ],
      "metadata": {
        "id": "VybFMEsK1CS4"
      }
    },
    {
      "cell_type": "markdown",
      "source": [
        "## Aufgabenstellung"
      ],
      "metadata": {
        "id": "3hCgIh3cE1ve"
      }
    },
    {
      "cell_type": "markdown",
      "source": [
        "In einer Möbelfabrik werden Kleiderschränke und Kommoden hergestellt. Ein Kleiderschrank wird aus 20 Metern Standardbrett, eine Kommode aus 15 Meter Standardbrett hergestellt. 1 Meter Standardbrett kostet 2 Euro und 80.000 Meter davon sind laut der Einkaufsleiterin auf dem Markt verfügbar. Man braucht 2 Stunden Arbeitszeit, um den ersten groben Produktionsschritt bei beiden PRodukten durchzuführen. Hierfür können angelernte Arbeitskräfte genutzt werdne. In weiteren 3 Stunden Arbeitszeit für den Kleiderschrank und 2 Stunden Arbeitszeit für die Kommode werden die halbfertigen Produkte dann zu Endprodukten weiterverarbeitet. Hierfür sind allerdings Facharbeitskräfte nötig. Insgesamt haben stehen 12.000 Facharbeitskräftestunden zur Verfügung. Die fertigen Kleiderschränke lassen sich zu einem Preis von 280 Euro und die fertigen Kommoden zu einem Preis von 220 Euro an Endverbraucher verkaufen. Die halbfertigen Kleiderschränke kann man zu einem Preis von 140 Euro und die halbfertigen Kommoden zu einem Preis von 120 Euro an die weiterverarbetende Industrie verkaufen. Die Möbelfabrik möchte wissen, wie viele fertige beziehungsweise halbfertige Kleiderschränke und Kommoden produziert werden sollen, um den Gewinn zu maximieren."
      ],
      "metadata": {
        "id": "0AuoxcHh1EqW"
      }
    },
    {
      "cell_type": "markdown",
      "source": [
        "## Mathematisches Modell"
      ],
      "metadata": {
        "id": "YXRu7s98NgHe"
      }
    },
    {
      "cell_type": "markdown",
      "source": [
        "**Entscheidungsvariablen**<br>\n",
        "$\n",
        "\\begin{array}{ll}\n",
        "x_1 & \\text{Anzahl fertiger Kleiderschränke} \\\\\n",
        "x_2 & \\text{Anzahl fertiger Kommoden} \\\\\n",
        "x_2 & \\text{Anzahl halbfertiger Kleiderschränke} \\\\\n",
        "x_2 & \\text{Anzahl halbfertiger Kommoden} \\\\\n",
        "\\end{array}\n",
        "$\n",
        "<br><br>\n",
        "\n",
        "**Zielfunktion**<br>\n",
        "$\\max 280 x_1 + 220 x_2 + 140 x_3 + 120 x_4$\n",
        "<br><br>\n",
        "\n",
        "**Nebenbedingungen**<br>\n",
        "$\n",
        "\\begin{array}{llcrcrcll}\n",
        "\\text{Standardbrett} & 20 \\cdot (x_1 + x_3) + 15 \\cdot (x_2 + x_4) & \\le & 80.000 &  &  & &\\hspace{1.5cm}(1)\\\\\n",
        "\\text{Prozessschritt 1} & 3 \\cdot (x_1 + x_2 + x_3 +x_4) & \\le & M &  &  & &\\hspace{1.5cm}(2)\\\\\n",
        "\\text{Prozessschritt 2} & 3x_1 + 1x_2 & \\le & 12.000 &  &  & &\\hspace{1.5cm}(3)\\\\\n",
        "\\text{Nichtnegativität} & x_1, x_2, x_3, x_4 & \\ge & 0 &  &  & &\\hspace{1.5cm}(5)\\\\\n",
        "\\end{array}\n",
        "$"
      ],
      "metadata": {
        "id": "FIYbRFEvN930"
      }
    },
    {
      "cell_type": "markdown",
      "source": [
        "## Implementierung"
      ],
      "metadata": {
        "id": "wWtwxGEcEzi8"
      }
    },
    {
      "cell_type": "code",
      "execution_count": 13,
      "metadata": {
        "colab": {
          "base_uri": "https://localhost:8080/"
        },
        "id": "SedRzsCc02Q2",
        "outputId": "417c2cbb-0855-4bd8-c869-5a22e63e6573"
      },
      "outputs": [
        {
          "output_type": "stream",
          "name": "stdout",
          "text": [
            "Looking in indexes: https://pypi.org/simple, https://us-python.pkg.dev/colab-wheels/public/simple/\n",
            "Requirement already satisfied: pulp in /usr/local/lib/python3.9/dist-packages (2.7.0)\n",
            "Status: Optimal\n",
            "Zielwert: 1173260.0\n",
            "x1 = 0.0\n",
            "x2 = 5333.0\n",
            "x3 = 0.0\n",
            "x4 = 0.0\n"
          ]
        }
      ],
      "source": [
        "# PuLP installieren\n",
        "!pip install pulp\n",
        "import pulp\n",
        "\n",
        "# Modell erstellen\n",
        "model = pulp.LpProblem(name='Produktionsprozess', sense=pulp.constants.LpMaximize)\n",
        "\n",
        "# Entscheidungsvariablen\n",
        "x1 = pulp.LpVariable(name='x1', lowBound=0, cat='Integer')\n",
        "x2 = pulp.LpVariable(name='x2', lowBound=0, cat='Integer')\n",
        "x3 = pulp.LpVariable(name='x3', lowBound=0, cat='Integer')\n",
        "x4 = pulp.LpVariable(name='x4', lowBound=0, cat='Integer')\n",
        "\n",
        "# Zielfunktion\n",
        "model += 280*x1 + 220*x2 + 140*x3 + 120*x4\n",
        "\n",
        "# Nebenbedingung 1\n",
        "model += 25*(x1 + x3) + 15*(x2 + x4) <= 80000\n",
        "\n",
        "# Nebenbedingung 2 (nicht relevant, weil kein Engpass)\n",
        "\n",
        "# Nebenbedingung 3\n",
        "model += 4*x1 +1*x2 <= 12000\n",
        "\n",
        "# Modell lösen\n",
        "model.solve()\n",
        "\n",
        "# Statistik\n",
        "print('Status:', pulp.LpStatus[model.status])\n",
        "print('Zielwert:', pulp.value(model.objective))\n",
        "for v in model.variables():\n",
        "  print(v.name, '=', v.varValue)"
      ]
    }
  ]
}